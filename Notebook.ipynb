{
 "cells": [
  {
   "cell_type": "markdown",
   "metadata": {
    "ein.tags": "worksheet-0",
    "slideshow": {
     "slide_type": "-"
    }
   },
   "source": [
    "${\\huge\\text{Jupyter notebook}}$"
   ]
  },
  {
   "cell_type": "code",
   "execution_count": 1,
   "metadata": {
    "autoscroll": false,
    "collapsed": false,
    "ein.hycell": false,
    "ein.tags": "worksheet-0",
    "slideshow": {
     "slide_type": "-"
    }
   },
   "outputs": [],
   "source": [
    "from notacion import *"
   ]
  },
  {
   "cell_type": "code",
   "execution_count": 2,
   "metadata": {
    "collapsed": false
   },
   "outputs": [
    {
     "name": "stdout",
     "output_type": "stream",
     "text": [
      "Matrix([Vector([1, 0]); Vector([0, 2])])\n"
     ]
    }
   ],
   "source": [
    "print(Matrix([Vector([1,0]), Vector([0,2]), Vector([3,0])]) | (1,2))"
   ]
  },
  {
   "cell_type": "code",
   "execution_count": 3,
   "metadata": {
    "collapsed": false
   },
   "outputs": [],
   "source": [
    "A = Matrix( [ [1,2,1], [7,-3,0], [6,4,2] ] )\n",
    "B = I(3)\n",
    "C = A**-1\n",
    "Q=Sistema([A,B,C])\n",
    "TT=T({1,2})&T((-1,1,2))&T((10,1))\n",
    "ss=Sistema(A.sis)\n",
    "www=ss&TT"
   ]
  },
  {
   "cell_type": "code",
   "execution_count": 4,
   "metadata": {
    "collapsed": false
   },
   "outputs": [
    {
     "data": {
      "text/html": [
       "<p style=\"text-align:center;\">$\\begin{bmatrix}20&-1&1\\\\-30&10&0\\\\40&2&2\\end{bmatrix}$</p>"
      ],
      "text/plain": [
       "Matrix([Vector([20, -30, 40]); Vector([-1, 10, 2]); Vector([1, 0, 2])])"
      ]
     },
     "execution_count": 4,
     "metadata": {},
     "output_type": "execute_result"
    }
   ],
   "source": [
    "V=A&TT\n",
    "A"
   ]
  },
  {
   "cell_type": "code",
   "execution_count": 5,
   "metadata": {
    "collapsed": false
   },
   "outputs": [
    {
     "data": {
      "text/html": [
       "<p style=\"text-align:center;\">$\\begin{bmatrix}1&2&1\\\\7&-3&0\\\\6&4&2\\end{bmatrix}$</p>"
      ],
      "text/plain": [
       "Matrix([Vector([Fraction(1, 1), Fraction(7, 1), Fraction(6, 1)]); Vector([Fraction(2, 1), Fraction(-3, 1), Fraction(4, 1)]); Vector([1, 0, 2])])"
      ]
     },
     "execution_count": 5,
     "metadata": {},
     "output_type": "execute_result"
    }
   ],
   "source": [
    "V&(TT**-1)\n",
    "V"
   ]
  },
  {
   "cell_type": "code",
   "execution_count": 6,
   "metadata": {
    "collapsed": false
   },
   "outputs": [
    {
     "data": {
      "text/html": [
       "<p style=\"text-align:center;\">$\\begin{bmatrix}1&2&1\\\\7&-3&0\\\\6&4&2\\end{bmatrix}$</p>"
      ],
      "text/plain": [
       "Matrix([Vector([Fraction(1, 1), Fraction(7, 1), Fraction(6, 1)]); Vector([Fraction(2, 1), Fraction(-3, 1), Fraction(4, 1)]); Vector([1, 0, 2])])"
      ]
     },
     "execution_count": 6,
     "metadata": {},
     "output_type": "execute_result"
    }
   ],
   "source": [
    "A"
   ]
  },
  {
   "cell_type": "code",
   "execution_count": 7,
   "metadata": {
    "collapsed": false
   },
   "outputs": [
    {
     "data": {
      "text/plain": [
       "[Vector([1, 2, 3]), Vector([2, 3, 4])]"
      ]
     },
     "execution_count": 7,
     "metadata": {},
     "output_type": "execute_result"
    }
   ],
   "source": [
    "Matrix((Vector([1,2,3]),Vector([2,3,4]))).sis.lista"
   ]
  },
  {
   "cell_type": "code",
   "execution_count": 8,
   "metadata": {
    "collapsed": false
   },
   "outputs": [
    {
     "data": {
      "text/html": [
       "<p style=\"text-align:center;\">$\\begin{bmatrix}1&2&3\\\\2&3&4\\end{bmatrix}$</p>"
      ],
      "text/plain": [
       "Matrix([Vector([1, 2]); Vector([2, 3]); Vector([3, 4])])"
      ]
     },
     "execution_count": 8,
     "metadata": {},
     "output_type": "execute_result"
    }
   ],
   "source": [
    "Matrix(Sistema([[1,2,3],[2,3,4]]))"
   ]
  },
  {
   "cell_type": "code",
   "execution_count": 9,
   "metadata": {
    "collapsed": false
   },
   "outputs": [
    {
     "data": {
      "text/html": [
       "<p style=\"text-align:center;\">$\\begin{bmatrix}1&2&1\\\\7&-3&0\\\\6&4&2\\end{bmatrix}$</p>"
      ],
      "text/plain": [
       "Matrix([Vector([1, 7, 6]); Vector([2, -3, 4]); Vector([1, 0, 2])])"
      ]
     },
     "execution_count": 9,
     "metadata": {},
     "output_type": "execute_result"
    }
   ],
   "source": [
    "A = Matrix( [ [1,2,1], [7,-3,0], [6,4,2] ] )\n",
    "A"
   ]
  },
  {
   "cell_type": "code",
   "execution_count": 10,
   "metadata": {
    "collapsed": false
   },
   "outputs": [
    {
     "data": {
      "text/html": [
       "<p style=\"text-align:center;\">$\\begin{bmatrix}1&2&1\\\\7&-3&0\\\\6&4&2\\end{bmatrix}$</p>"
      ],
      "text/plain": [
       "Matrix([Vector([1, 7, 6]); Vector([2, -3, 4]); Vector([1, 0, 2])])"
      ]
     },
     "execution_count": 10,
     "metadata": {},
     "output_type": "execute_result"
    }
   ],
   "source": [
    "Matrix({1}|A|{2})"
   ]
  },
  {
   "cell_type": "code",
   "execution_count": 11,
   "metadata": {
    "autoscroll": false,
    "collapsed": false,
    "ein.hycell": false,
    "ein.tags": "worksheet-0",
    "slideshow": {
     "slide_type": "-"
    }
   },
   "outputs": [
    {
     "data": {
      "text/html": [
       "<p style=\"text-align:center;\">$\\begin{bmatrix}1&5\\\\2&6\\\\3&7\\\\4&8\\end{bmatrix}$</p>"
      ],
      "text/plain": [
       "Matrix([Vector([1, 2, 3, 4]); Vector([5, 6, 7, 8])])"
      ]
     },
     "execution_count": 11,
     "metadata": {},
     "output_type": "execute_result"
    }
   ],
   "source": [
    "Matrix([Vector([1,2,3,4]),Vector([5,6,7,8])])"
   ]
  },
  {
   "cell_type": "code",
   "execution_count": 12,
   "metadata": {
    "collapsed": false
   },
   "outputs": [
    {
     "data": {
      "text/plain": [
       "True"
      ]
     },
     "execution_count": 12,
     "metadata": {},
     "output_type": "execute_result"
    }
   ],
   "source": [
    "A = Sistema( [1,2,3] )\n",
    "B=Sistema( Sistema( [1,2,3] ) )\n",
    "A==B"
   ]
  },
  {
   "cell_type": "code",
   "execution_count": 13,
   "metadata": {
    "autoscroll": false,
    "collapsed": false,
    "ein.hycell": false,
    "ein.tags": "worksheet-0",
    "slideshow": {
     "slide_type": "-"
    }
   },
   "outputs": [
    {
     "data": {
      "text/latex": [
       "$$\\left[\\begin{array}{cccc}1&-1&1&-1\\\\1&-1&1&-1\\\\1&-1&1&-1\\\\ \\hline 1&0&0&0\\\\0&1&0&0\\\\0&0&1&0\\\\0&0&0&1\\\\\\end{array}\\right]\\xrightarrow{\\underset{\\begin{subarray}{c} \\left[\\left(1\\right)\\mathbf{1}+\\mathbf{2} \\right]\\\\\\left[\\left(-1\\right)\\mathbf{1}+\\mathbf{3} \\right]\\\\\\left[\\left(1\\right)\\mathbf{1}+\\mathbf{4} \\right]\\end{subarray}}{\\mathbf{\\tau}}}\\left[\\begin{array}{cccc}1&0&0&0\\\\1&0&0&0\\\\1&0&0&0\\\\ \\hline 1&1&-1&1\\\\0&1&0&0\\\\0&0&1&0\\\\0&0&0&1\\\\\\end{array}\\right]$$"
      ],
      "text/plain": [
       "<IPython.core.display.Math object>"
      ]
     },
     "metadata": {},
     "output_type": "display_data"
    },
    {
     "data": {
      "text/html": [
       "<p style=\"text-align:center;\">$\\text{Conjunto de combinaciones lineales de }\\begin{pmatrix}1\\\\1\\\\0\\\\0\\end{pmatrix},\\;\\begin{pmatrix}-1\\\\0\\\\1\\\\0\\end{pmatrix},\\;\\begin{pmatrix}1\\\\0\\\\0\\\\1\\end{pmatrix}$</p>"
      ],
      "text/plain": [
       "Combinaciones lineales de ([Vector([1, 1, 0, 0]); Vector([-1, 0, 1, 0]); Vector([1, 0, 0, 1])])"
      ]
     },
     "execution_count": 13,
     "metadata": {},
     "output_type": "execute_result"
    }
   ],
   "source": [
    "A=Matrix([[1,1,0],[1,0,0],[1,1,1]])\n",
    "a=Vector([1,1,1])\n",
    "A=Matrix([a,-a,a,-a])\n",
    "#A=Matrix([[1,2,-4],[-1,1,3],[1,5,-5]])\n",
    "Homogenea(A,1)"
   ]
  },
  {
   "cell_type": "code",
   "execution_count": 14,
   "metadata": {
    "autoscroll": false,
    "collapsed": false,
    "ein.hycell": false,
    "ein.tags": "worksheet-0",
    "slideshow": {
     "slide_type": "-"
    }
   },
   "outputs": [
    {
     "data": {
      "text/html": [
       "<p style=\"text-align:center;\">$\\underset{\\begin{subarray}{c} \\left[\\mathbf{1}\\rightleftharpoons\\mathbf{2}\\right]\\\\\\left[\\left(\\frac{1}{2}\\right)\\mathbf{3}\\right]\\\\\\left[\\left(-1\\right)\\mathbf{2}+\\mathbf{3} \\right]\\end{subarray}}{\\mathbf{\\tau}}$</p>"
      ],
      "text/plain": [
       "T([{1, 2}, (Fraction(1, 2), 3), (-1, 2, 3)])"
      ]
     },
     "execution_count": 14,
     "metadata": {},
     "output_type": "execute_result"
    }
   ],
   "source": [
    "t= T([(1,2,3),(2,3),{1,2}])\n",
    "t**-1"
   ]
  },
  {
   "cell_type": "code",
   "execution_count": 15,
   "metadata": {
    "autoscroll": false,
    "collapsed": false,
    "ein.hycell": false,
    "ein.tags": "worksheet-0",
    "slideshow": {
     "slide_type": "-"
    }
   },
   "outputs": [
    {
     "name": "stdout",
     "output_type": "stream",
     "text": [
      "T([{1}, (Fraction(-2, 1), 1, 2), (Fraction(-1, 1), 1, 3), {2}, (Fraction(-7, 17), 2, 3), {3}, (Fraction(-17, 12), 3), {3}, (Fraction(8, 1), 3, 2), (-6, 3, 1), (Fraction(-1, 17), 2), {2}, (Fraction(-7, 1), 2, 1), (Fraction(1, 1), 1), {1}])\n"
     ]
    },
    {
     "data": {
      "text/html": [
       "<p style=\"text-align:center;\">$\\begin{bmatrix}\\frac{-1}{2}&0&\\frac{1}{4}\\\\\\frac{-7}{6}&\\frac{-1}{3}&\\frac{7}{12}\\\\\\frac{23}{6}&\\frac{2}{3}&\\frac{-17}{12}\\end{bmatrix}$</p>"
      ],
      "text/plain": [
       "Matrix([Vector([Fraction(-1, 2), Fraction(-7, 6), Fraction(23, 6)]); Vector([Fraction(0, 1), Fraction(-1, 3), Fraction(2, 3)]); Vector([Fraction(1, 4), Fraction(7, 12), Fraction(-17, 12)])])"
      ]
     },
     "execution_count": 15,
     "metadata": {},
     "output_type": "execute_result"
    }
   ],
   "source": [
    "A = Matrix( [ [1,2,1], [7,-3,0], [6,4,2] ] )\n",
    "p = ECUN(ECL(A)).pasos\n",
    "print(T(p[1]))                   # secuencia de las transformaciones aplicadas a las colunas    \n",
    "I(A.n) & T(p[1])              # es la inversa de A\n",
    "#A * ( I(A.n) & T(p[1]) )    # descomente el principio de esta linea para comprobarlo"
   ]
  },
  {
   "cell_type": "code",
   "execution_count": 16,
   "metadata": {
    "autoscroll": false,
    "collapsed": false,
    "ein.hycell": false,
    "ein.tags": "worksheet-0",
    "slideshow": {
     "slide_type": "-"
    }
   },
   "outputs": [
    {
     "data": {
      "text/html": [
       "<p style=\"text-align:center;\">$\\underset{\\begin{subarray}{c} \\left[\\left(\\frac{1}{7}\\right)\\mathbf{2}\\right]\\\\\\left[\\mathbf{2}\\rightleftharpoons\\mathbf{2}\\right]\\\\\\left[\\left(-2\\right)\\mathbf{1}+\\mathbf{2} \\right]\\\\\\left[\\left(7\\right)\\mathbf{1}\\right]\\\\\\left[\\mathbf{1}\\rightleftharpoons\\mathbf{1}\\right]\\\\\\left[\\mathbf{1}\\rightleftharpoons\\mathbf{1}\\right]\\\\\\left[\\left(\\frac{-3}{7}\\right)\\mathbf{2}+\\mathbf{1} \\right]\\\\\\left[\\mathbf{2}\\rightleftharpoons\\mathbf{2}\\right]\\end{subarray}}{\\mathbf{\\tau}}$</p>"
      ],
      "text/plain": [
       "T([(Fraction(1, 7), 2), {2}, (-2, 1, 2), (Fraction(7, 1), 1), {1}, {1}, (Fraction(-3, 7), 2, 1), {2}])"
      ]
     },
     "execution_count": 16,
     "metadata": {},
     "output_type": "execute_result"
    }
   ],
   "source": [
    "T(InvMatF(Matrix([[1,3],[2,7]])).pasos[0])"
   ]
  },
  {
   "cell_type": "code",
   "execution_count": 17,
   "metadata": {
    "autoscroll": false,
    "collapsed": false,
    "ein.hycell": false,
    "ein.tags": "worksheet-0",
    "slideshow": {
     "slide_type": "-"
    }
   },
   "outputs": [
    {
     "data": {
      "text/html": [
       "<p style=\"text-align:center;\">$\\begin{bmatrix}\\frac{29}{24}&\\frac{1}{6}&\\frac{-23}{48}\\\\\\frac{77}{24}&\\frac{1}{2}&\\frac{-21}{16}\\\\\\frac{-65}{8}&\\frac{-7}{6}&\\frac{161}{48}\\end{bmatrix}$</p>"
      ],
      "text/plain": [
       "Matrix([Vector([Fraction(29, 24), Fraction(77, 24), Fraction(-65, 8)]); Vector([Fraction(1, 6), Fraction(1, 2), Fraction(-7, 6)]); Vector([Fraction(-23, 48), Fraction(-21, 16), Fraction(161, 48)])])"
      ]
     },
     "execution_count": 17,
     "metadata": {},
     "output_type": "execute_result"
    }
   ],
   "source": [
    "A**(-2)"
   ]
  },
  {
   "cell_type": "code",
   "execution_count": 18,
   "metadata": {
    "autoscroll": false,
    "collapsed": false,
    "ein.hycell": false,
    "ein.tags": "worksheet-0",
    "slideshow": {
     "slide_type": "-"
    }
   },
   "outputs": [
    {
     "data": {
      "text/html": [
       "<p style=\"text-align:center;\">$\\begin{bmatrix}\\frac{29}{24}&\\frac{1}{6}&\\frac{-23}{48}\\\\\\frac{77}{24}&\\frac{1}{2}&\\frac{-21}{16}\\\\\\frac{-65}{8}&\\frac{-7}{6}&\\frac{161}{48}\\end{bmatrix}$</p>"
      ],
      "text/plain": [
       "Matrix([Vector([Fraction(29, 24), Fraction(77, 24), Fraction(-65, 8)]); Vector([Fraction(1, 6), Fraction(1, 2), Fraction(-7, 6)]); Vector([Fraction(-23, 48), Fraction(-21, 16), Fraction(161, 48)])])"
      ]
     },
     "execution_count": 18,
     "metadata": {},
     "output_type": "execute_result"
    }
   ],
   "source": [
    "(A**(2))**-1"
   ]
  },
  {
   "cell_type": "code",
   "execution_count": 19,
   "metadata": {
    "autoscroll": false,
    "collapsed": false,
    "ein.hycell": false,
    "ein.tags": "worksheet-0",
    "slideshow": {
     "slide_type": "-"
    }
   },
   "outputs": [
    {
     "data": {
      "text/html": [
       "<p style=\"text-align:center;\">$\\begin{bmatrix}21&0&3\\\\-14&23&7\\\\46&8&10\\end{bmatrix}$</p>"
      ],
      "text/plain": [
       "Matrix([Vector([Fraction(21, 1), Fraction(-14, 1), Fraction(46, 1)]); Vector([Fraction(0, 1), Fraction(23, 1), Fraction(8, 1)]); Vector([Fraction(3, 1), Fraction(7, 1), Fraction(10, 1)])])"
      ]
     },
     "execution_count": 19,
     "metadata": {},
     "output_type": "execute_result"
    }
   ],
   "source": [
    "(A**(-1))**-2"
   ]
  },
  {
   "cell_type": "code",
   "execution_count": 20,
   "metadata": {
    "autoscroll": false,
    "collapsed": false,
    "ein.hycell": false,
    "ein.tags": "worksheet-0",
    "slideshow": {
     "slide_type": "-"
    }
   },
   "outputs": [
    {
     "data": {
      "text/html": [
       "<p style=\"text-align:center;\">$\\begin{bmatrix}21&0&3\\\\-14&23&7\\\\46&8&10\\end{bmatrix}$</p>"
      ],
      "text/plain": [
       "Matrix([Vector([21, -14, 46]); Vector([0, 23, 8]); Vector([3, 7, 10])])"
      ]
     },
     "execution_count": 20,
     "metadata": {},
     "output_type": "execute_result"
    }
   ],
   "source": [
    "A**2"
   ]
  },
  {
   "cell_type": "code",
   "execution_count": 21,
   "metadata": {
    "autoscroll": false,
    "collapsed": false,
    "ein.hycell": false,
    "ein.tags": "worksheet-0",
    "slideshow": {
     "slide_type": "-"
    }
   },
   "outputs": [
    {
     "data": {
      "text/html": [
       "<p style=\"text-align:center;\">$\\left[\\begin{pmatrix}1\\\\0\\end{pmatrix};\\;\\begin{pmatrix}2\\\\1\\end{pmatrix};\\;\\begin{pmatrix}3\\\\0\\end{pmatrix}\\right]$</p>"
      ],
      "text/plain": [
       "[Vector([1, 0]); Vector([2, 1]); Vector([3, 0])]"
      ]
     },
     "execution_count": 21,
     "metadata": {},
     "output_type": "execute_result"
    }
   ],
   "source": [
    "a = Vector( [1, 0] )\n",
    "b = Vector( [2, 1] )\n",
    "c = Vector( [3, 0] )\n",
    "B = Matrix( [a, b, c] )\n",
    "S = Sistema( [a, b, c] )\n",
    "S"
   ]
  },
  {
   "cell_type": "code",
   "execution_count": 22,
   "metadata": {
    "autoscroll": false,
    "collapsed": false,
    "ein.hycell": false,
    "ein.tags": "worksheet-0",
    "slideshow": {
     "slide_type": "-"
    }
   },
   "outputs": [
    {
     "data": {
      "text/html": [
       "<p style=\"text-align:center;\">$\\left[\\left[\\begin{bmatrix}1&2\\end{bmatrix};\\;\\begin{bmatrix}3\\end{bmatrix}\\right];\\;\\left[\\begin{bmatrix}0&1\\end{bmatrix};\\;\\begin{bmatrix}0\\end{bmatrix}\\right]\\right]$</p>"
      ],
      "text/plain": [
       "[[Matrix([Vector([1]); Vector([2])]); Matrix([Vector([3])])]; [Matrix([Vector([0]); Vector([1])]); Matrix([Vector([0])])]]"
      ]
     },
     "execution_count": 22,
     "metadata": {},
     "output_type": "execute_result"
    }
   ],
   "source": [
    "({1}|Matrix( S)|{2}).sis[0]\n",
    "BlockMatrix(Sistema(({1}|Matrix( S)|{2}).sis)).sis"
   ]
  },
  {
   "cell_type": "code",
   "execution_count": 23,
   "metadata": {
    "autoscroll": false,
    "collapsed": false,
    "ein.hycell": false,
    "ein.tags": "worksheet-0",
    "slideshow": {
     "slide_type": "-"
    }
   },
   "outputs": [
    {
     "data": {
      "text/latex": [
       "$$\\begin{bmatrix}1&2&1\\\\7&-3&0\\\\6&4&2\\end{bmatrix}\\xrightarrow{\\underset{\\begin{subarray}{c} \\left[\\left(\\frac{1}{2}\\right)\\mathbf{3}\\right]\\end{subarray}}{\\mathbf{\\tau}}}\\begin{bmatrix}1&2&\\frac{1}{2}\\\\7&-3&0\\\\6&4&1\\end{bmatrix}\\xrightarrow{\\underset{\\begin{subarray}{c} \\left[\\left(-4\\right)\\mathbf{3}+\\mathbf{2} \\right]\\\\\\left[\\left(-6\\right)\\mathbf{3}+\\mathbf{1} \\right]\\end{subarray}}{\\mathbf{\\tau}}}\\begin{bmatrix}-2&0&\\frac{1}{2}\\\\7&-3&0\\\\0&0&1\\end{bmatrix}\\xrightarrow{\\underset{\\begin{subarray}{c} \\left[\\left(\\frac{-1}{3}\\right)\\mathbf{2}\\right]\\end{subarray}}{\\mathbf{\\tau}}}\\begin{bmatrix}-2&0&\\frac{1}{2}\\\\7&1&0\\\\0&0&1\\end{bmatrix}\\xrightarrow{\\underset{\\begin{subarray}{c} \\left[\\left(-7\\right)\\mathbf{2}+\\mathbf{1} \\right]\\end{subarray}}{\\mathbf{\\tau}}}\\begin{bmatrix}-2&0&\\frac{1}{2}\\\\0&1&0\\\\0&0&1\\end{bmatrix}\\xrightarrow{\\underset{\\begin{subarray}{c} \\left[\\left(\\frac{-1}{2}\\right)\\mathbf{1}\\right]\\end{subarray}}{\\mathbf{\\tau}}}\\begin{bmatrix}1&0&\\frac{1}{2}\\\\0&1&0\\\\0&0&1\\end{bmatrix}$$"
      ],
      "text/plain": [
       "<IPython.core.display.Math object>"
      ]
     },
     "metadata": {},
     "output_type": "display_data"
    }
   ],
   "source": [
    "#A = Matrix( [[5,0,0], [2,-2,0], [6,9,3]] )\n",
    "D = ECUN(A,1)"
   ]
  },
  {
   "cell_type": "code",
   "execution_count": 24,
   "metadata": {
    "autoscroll": false,
    "collapsed": false,
    "ein.hycell": false,
    "ein.tags": "worksheet-0",
    "slideshow": {
     "slide_type": "-"
    }
   },
   "outputs": [],
   "source": [
    "AA=SubEspacio(S)\n",
    "BB=SubEspacio(A|(1,))\n",
    "#BB.cartesianas\n",
    "AA.cart\n",
    "CC=SubEspacio(Matrix([[0, 1],[1,3]]))"
   ]
  },
  {
   "cell_type": "code",
   "execution_count": 25,
   "metadata": {
    "autoscroll": false,
    "collapsed": false,
    "ein.hycell": false,
    "ein.tags": "worksheet-0",
    "slideshow": {
     "slide_type": "-"
    }
   },
   "outputs": [
    {
     "data": {
      "text/html": [
       "<p style=\"text-align:center;\">$\\left[\\begin{pmatrix}1\\\\7\\\\6\\end{pmatrix};\\;\\begin{pmatrix}2\\\\-3\\\\4\\end{pmatrix};\\;\\begin{pmatrix}1\\\\0\\\\2\\end{pmatrix}\\right]$</p>"
      ],
      "text/plain": [
       "[Vector([1, 7, 6]); Vector([2, -3, 4]); Vector([1, 0, 2])]"
      ]
     },
     "execution_count": 25,
     "metadata": {},
     "output_type": "execute_result"
    }
   ],
   "source": [
    "#Sistema([Matrix(A.sis),A.sis])\n",
    "A.sis"
   ]
  },
  {
   "cell_type": "code",
   "execution_count": 26,
   "metadata": {
    "autoscroll": false,
    "collapsed": false,
    "ein.hycell": false,
    "ein.tags": "worksheet-0",
    "slideshow": {
     "slide_type": "-"
    }
   },
   "outputs": [
    {
     "data": {
      "text/plain": [
       "False"
      ]
     },
     "execution_count": 26,
     "metadata": {},
     "output_type": "execute_result"
    }
   ],
   "source": [
    "(AA.Rn,CC.Rn)\n",
    "AA.contenidoEn(CC)\n",
    "#(AA & CC).cart\n",
    "#(~AA + AA).sgen\n",
    "a in CC"
   ]
  },
  {
   "cell_type": "code",
   "execution_count": 27,
   "metadata": {
    "autoscroll": false,
    "collapsed": false,
    "ein.hycell": false,
    "ein.tags": "worksheet-0",
    "slideshow": {
     "slide_type": "-"
    }
   },
   "outputs": [
    {
     "data": {
      "text/html": [
       "<p style=\"text-align:center;\">$\\begin{bmatrix}-3&0&2\\end{bmatrix}$</p>"
      ],
      "text/plain": [
       "Matrix([Vector([-3]); Vector([0]); Vector([2])])"
      ]
     },
     "execution_count": 27,
     "metadata": {},
     "output_type": "execute_result"
    }
   ],
   "source": [
    "D=Sistema([Vector([0,1,0]),Vector([2,1,3])])\n",
    "SubEspacio(Matrix([[-3,0,2],[6,0,-4]])).cart"
   ]
  },
  {
   "cell_type": "code",
   "execution_count": 28,
   "metadata": {
    "collapsed": false
   },
   "outputs": [
    {
     "data": {
      "text/html": [
       "<p style=\"text-align:center;\">$\\left[\\begin{array}{cc|cc}0&2&0&2\\\\1&1&1&1\\\\0&3&0&3\\\\\\end{array}\\right]$</p>"
      ],
      "text/plain": [
       "BlockMatrix([[Matrix([Vector([0, 1, 0]); Vector([2, 1, 3])]); Matrix([Vector([0, 1, 0]); Vector([2, 1, 3])])]])"
      ]
     },
     "execution_count": 28,
     "metadata": {},
     "output_type": "execute_result"
    }
   ],
   "source": [
    "BlockMatrix([[Matrix(D),Matrix(D)]])"
   ]
  },
  {
   "cell_type": "code",
   "execution_count": 29,
   "metadata": {
    "autoscroll": false,
    "collapsed": false,
    "ein.hycell": false,
    "ein.tags": "worksheet-0",
    "slideshow": {
     "slide_type": "-"
    }
   },
   "outputs": [
    {
     "data": {
      "text/html": [
       "<p style=\"text-align:center;\">$\\left[\\begin{pmatrix}2\\\\1\\\\3\\end{pmatrix};\\;\\begin{pmatrix}0\\\\1\\\\0\\end{pmatrix}\\right]$</p>"
      ],
      "text/plain": [
       "[Vector([2, 1, 3]); Vector([0, 1, 0])]"
      ]
     },
     "execution_count": 29,
     "metadata": {},
     "output_type": "execute_result"
    }
   ],
   "source": [
    "SubEspacio(Sistema([Vector([0,1,0]),Vector([2,1,3]),Vector([2,-2,3])])).base"
   ]
  },
  {
   "cell_type": "code",
   "execution_count": 30,
   "metadata": {
    "autoscroll": false,
    "collapsed": false,
    "ein.hycell": false,
    "ein.tags": "worksheet-0",
    "slideshow": {
     "slide_type": "-"
    }
   },
   "outputs": [
    {
     "data": {
      "text/html": [
       "<p style=\"text-align:center;\">$\\left[\\begin{pmatrix}0\\\\0\\end{pmatrix}\\right]$</p>"
      ],
      "text/plain": [
       "[Vector([0, 0])]"
      ]
     },
     "execution_count": 30,
     "metadata": {},
     "output_type": "execute_result"
    }
   ],
   "source": [
    "Sistema([Vector([0,0])])"
   ]
  },
  {
   "cell_type": "code",
   "execution_count": 31,
   "metadata": {
    "autoscroll": false,
    "collapsed": false,
    "ein.hycell": false,
    "ein.tags": "worksheet-0",
    "slideshow": {
     "slide_type": "-"
    }
   },
   "outputs": [
    {
     "data": {
      "text/html": [
       "<p style=\"text-align:center;\">$\\left[\\begin{pmatrix}0,&0,&0\\end{pmatrix};\\;\\begin{bmatrix}1&2&1\\\\7&-3&0\\\\6&4&2\\end{bmatrix};\\;\\left[\\begin{pmatrix}1\\\\0\\end{pmatrix};\\;\\begin{pmatrix}0\\\\1\\end{pmatrix}\\right];\\;\\begin{pmatrix}1\\\\0\\end{pmatrix};\\;\\underset{\\begin{subarray}{c} \\left[\\left(2\\right)\\mathbf{3}\\right]\\\\\\left[\\mathbf{2}\\rightleftharpoons\\mathbf{4}\\right]\\\\\\left[\\left(1\\right)\\mathbf{2}+\\mathbf{3} \\right]\\end{subarray}}{\\mathbf{\\tau}};\\;\\frac{1}{3};\\;40\\right]$</p>"
      ],
      "text/plain": [
       "[Vector([0, 0, 0]); Matrix([Vector([1, 7, 6]); Vector([2, -3, 4]); Vector([1, 0, 2])]); [Vector([1, 0]); Vector([0, 1])]; Vector([1, 0]); T([(2, 3), {2, 4}, (1, 2, 3)]); Fraction(1, 3); 40]"
      ]
     },
     "execution_count": 31,
     "metadata": {},
     "output_type": "execute_result"
    }
   ],
   "source": [
    "zz=Sistema([V0(3, rpr='fila'),A,AA.base,a,T([(2,3),{2,4},(1,2,3)]),Fraction(1,3),40])\n",
    "zzz=Sistema((1,2,3))\n",
    "#[A,B,AA.base,a,T((2,3))]\n",
    "#{A,B,AA.base,a,T((2,3))}\n",
    "#[T((5,4)),T((2,3)),T({1,2})]\n",
    "#zzz=Sistema((1,2,3,4))+k\n",
    "#zzz.lista\n",
    "#k\n",
    "Sistema(zz)+zzz+zz\n",
    "xx=zz.copy()\n",
    "yy=Sistema(zz)\n",
    "zz.lista[0]=0\n",
    "xx\n",
    "yy"
   ]
  },
  {
   "cell_type": "code",
   "execution_count": 32,
   "metadata": {
    "autoscroll": false,
    "collapsed": false,
    "ein.hycell": false,
    "ein.tags": "worksheet-0",
    "slideshow": {
     "slide_type": "-"
    }
   },
   "outputs": [
    {
     "data": {
      "text/html": [
       "<p style=\"text-align:center;\">$\\left[40;\\;\\frac{1}{3};\\;\\underset{\\begin{subarray}{c} \\left[\\left(2\\right)\\mathbf{3}\\right]\\\\\\left[\\mathbf{2}\\rightleftharpoons\\mathbf{4}\\right]\\\\\\left[\\left(1\\right)\\mathbf{2}+\\mathbf{3} \\right]\\end{subarray}}{\\mathbf{\\tau}};\\;\\begin{pmatrix}1\\\\0\\end{pmatrix};\\;\\left[\\begin{pmatrix}1\\\\0\\end{pmatrix};\\;\\begin{pmatrix}0\\\\1\\end{pmatrix}\\right];\\;\\begin{bmatrix}1&2&1\\\\7&-3&0\\\\6&4&2\\end{bmatrix};\\;0\\right]$</p>"
      ],
      "text/plain": [
       "[40; Fraction(1, 3); T([(2, 3), {2, 4}, (1, 2, 3)]); Vector([1, 0]); [Vector([1, 0]); Vector([0, 1])]; Matrix([Vector([1, 7, 6]); Vector([2, -3, 4]); Vector([1, 0, 2])]); 0]"
      ]
     },
     "execution_count": 32,
     "metadata": {},
     "output_type": "execute_result"
    }
   ],
   "source": [
    "Sistema(zz[::-1])"
   ]
  },
  {
   "cell_type": "code",
   "execution_count": 33,
   "metadata": {
    "autoscroll": false,
    "collapsed": false,
    "ein.hycell": false,
    "ein.tags": "worksheet-0",
    "slideshow": {
     "slide_type": "-"
    }
   },
   "outputs": [
    {
     "data": {
      "text/html": [
       "<p style=\"text-align:center;\">$\\begin{pmatrix}0\\\\0\\\\0\\end{pmatrix}$</p>"
      ],
      "text/plain": [
       "Vector([0, 0, 0])"
      ]
     },
     "execution_count": 33,
     "metadata": {},
     "output_type": "execute_result"
    }
   ],
   "source": [
    "sum([],V0(3))"
   ]
  },
  {
   "cell_type": "code",
   "execution_count": 34,
   "metadata": {
    "autoscroll": false,
    "collapsed": false,
    "ein.hycell": false,
    "ein.tags": "worksheet-0",
    "slideshow": {
     "slide_type": "-"
    }
   },
   "outputs": [
    {
     "data": {
      "text/html": [
       "<p style=\"text-align:center;\">$\\begin{pmatrix}0\\\\0\\\\0\\end{pmatrix}$</p>"
      ],
      "text/plain": [
       "Vector([0, 0, 0])"
      ]
     },
     "execution_count": 34,
     "metadata": {},
     "output_type": "execute_result"
    }
   ],
   "source": [
    "sum([],V0(3))"
   ]
  },
  {
   "cell_type": "code",
   "execution_count": 35,
   "metadata": {
    "autoscroll": false,
    "collapsed": false,
    "ein.hycell": false,
    "ein.tags": "worksheet-0",
    "slideshow": {
     "slide_type": "-"
    }
   },
   "outputs": [
    {
     "name": "stdout",
     "output_type": "stream",
     "text": [
      "[2; -3; 4]\n"
     ]
    }
   ],
   "source": [
    "print((A|2).sis)"
   ]
  },
  {
   "cell_type": "code",
   "execution_count": 36,
   "metadata": {
    "autoscroll": false,
    "collapsed": false,
    "ein.hycell": false,
    "ein.tags": "worksheet-0",
    "slideshow": {
     "slide_type": "-"
    }
   },
   "outputs": [
    {
     "data": {
      "text/html": [
       "<p style=\"text-align:center;\">$\\left\\{ \\boldsymbol{v}\\in\\mathbb{R}^3\\ \\left|\\ \\exists\\boldsymbol{p}\\in\\mathbb{R}^1\\ \\text{tal que}\\ \\boldsymbol{v}= \\begin{bmatrix}0\\\\0\\\\0\\end{bmatrix}\\boldsymbol{p}\\right. \\right\\}\\; = \\;\\left\\{ \\boldsymbol{v}\\in\\mathbb{R}^3\\ \\left|\\ \\begin{bmatrix}1&0&0\\\\0&1&0\\\\0&0&1\\end{bmatrix}\\boldsymbol{v}=\\boldsymbol{0}\\right.\\right\\}$</p>"
      ],
      "text/plain": [
       "<notacion.SubEspacio at 0x7f288846dda0>"
      ]
     },
     "execution_count": 36,
     "metadata": {},
     "output_type": "execute_result"
    }
   ],
   "source": [
    "SubEspacio(A)"
   ]
  },
  {
   "cell_type": "code",
   "execution_count": 37,
   "metadata": {
    "collapsed": false
   },
   "outputs": [
    {
     "data": {
      "text/plain": [
       "False"
      ]
     },
     "execution_count": 37,
     "metadata": {},
     "output_type": "execute_result"
    }
   ],
   "source": [
    "EAfin(B,Vector([0,0,0]))==SubEspacio((2,1)|B)\n",
    "EAfin(B, (1|B))==SubEspacio((2,1)|B)"
   ]
  },
  {
   "cell_type": "code",
   "execution_count": 38,
   "metadata": {
    "collapsed": false
   },
   "outputs": [
    {
     "data": {
      "text/html": [
       "<p style=\"text-align:center;\">$\\begin{bmatrix}-3&0&2\\end{bmatrix}$</p>"
      ],
      "text/plain": [
       "Matrix([Vector([-3]); Vector([0]); Vector([2])])"
      ]
     },
     "execution_count": 38,
     "metadata": {},
     "output_type": "execute_result"
    }
   ],
   "source": [
    "S=Sistema([Vector([0,1,0]), Vector([2,1,3]), Vector([2,10,3])])\n",
    "SubEspacio(S).cart"
   ]
  },
  {
   "cell_type": "code",
   "execution_count": 39,
   "metadata": {
    "collapsed": false
   },
   "outputs": [
    {
     "data": {
      "text/html": [
       "<p style=\"text-align:center;\">$\\text{Conjunto de vectores: }\\left\\{ \\boldsymbol{x}\\in\\mathbb{R}^4\\ \\left|\\ \\exists\\boldsymbol{a}\\in\\mathbb{R}^1\\ \\text{tal que}\\ \\boldsymbol{x}= \\begin{pmatrix}1\\\\1\\\\0\\\\1\\end{pmatrix}+\\begin{bmatrix}0\\\\-1\\\\1\\\\0\\end{bmatrix}\\boldsymbol{a}\\right. \\right\\}$</p>"
      ],
      "text/plain": [
       "<notacion.SEL at 0x7f288846d208>"
      ]
     },
     "execution_count": 39,
     "metadata": {},
     "output_type": "execute_result"
    }
   ],
   "source": [
    "b=Vector([4,4,12])\n",
    "AA=A|(1,3,3,2)\n",
    "#SEL(A|(1,2,3,1),b,1).intermedio\n",
    "Z=SEL(AA,b)\n",
    "Z"
   ]
  },
  {
   "cell_type": "code",
   "execution_count": 40,
   "metadata": {
    "collapsed": false
   },
   "outputs": [
    {
     "data": {
      "text/latex": [
       "$$\\left[\\begin{array}{ccc|c}1&2&1&-4\\\\7&-3&0&-4\\\\6&4&2&-12\\\\ \\hline 1&0&0&0\\\\0&1&0&0\\\\0&0&1&0\\\\ \\hline 0&0&0&1\\\\\\end{array}\\right]\\xrightarrow{\\underset{\\begin{subarray}{c} \\left[\\left(-2\\right)\\mathbf{1}+\\mathbf{2} \\right]\\\\\\left[\\left(-1\\right)\\mathbf{1}+\\mathbf{3} \\right]\\end{subarray}}{\\mathbf{\\tau}}}\\left[\\begin{array}{ccc|c}1&0&0&-4\\\\7&-17&-7&-4\\\\6&-8&-4&-12\\\\ \\hline 1&-2&-1&0\\\\0&1&0&0\\\\0&0&1&0\\\\ \\hline 0&0&0&1\\\\\\end{array}\\right]\\xrightarrow{\\underset{\\begin{subarray}{c} \\left[\\left(17\\right)\\mathbf{3}\\right]\\\\\\left[\\left(-7\\right)\\mathbf{2}+\\mathbf{3} \\right]\\end{subarray}}{\\mathbf{\\tau}}}\\left[\\begin{array}{ccc|c}1&0&0&-4\\\\7&-17&0&-4\\\\6&-8&-12&-12\\\\ \\hline 1&-2&-3&0\\\\0&1&-7&0\\\\0&0&17&0\\\\ \\hline 0&0&0&1\\\\\\end{array}\\right]\\xrightarrow{\\underset{\\begin{subarray}{c} \\left[\\left(4\\right)\\mathbf{1}+\\mathbf{4} \\right]\\end{subarray}}{\\mathbf{\\tau}}}\\left[\\begin{array}{ccc|c}1&0&0&0\\\\7&-17&0&24\\\\6&-8&-12&12\\\\ \\hline 1&-2&-3&4\\\\0&1&-7&0\\\\0&0&17&0\\\\ \\hline 0&0&0&1\\\\\\end{array}\\right]\\xrightarrow{\\underset{\\begin{subarray}{c} \\left[\\left(17\\right)\\mathbf{4}\\right]\\\\\\left[\\left(24\\right)\\mathbf{2}+\\mathbf{4} \\right]\\end{subarray}}{\\mathbf{\\tau}}}\\left[\\begin{array}{ccc|c}1&0&0&0\\\\7&-17&0&0\\\\6&-8&-12&12\\\\ \\hline 1&-2&-3&20\\\\0&1&-7&24\\\\0&0&17&0\\\\ \\hline 0&0&0&17\\\\\\end{array}\\right]\\xrightarrow{\\underset{\\begin{subarray}{c} \\left[\\left(1\\right)\\mathbf{3}+\\mathbf{4} \\right]\\end{subarray}}{\\mathbf{\\tau}}}\\left[\\begin{array}{ccc|c}1&0&0&0\\\\7&-17&0&0\\\\6&-8&-12&0\\\\ \\hline 1&-2&-3&17\\\\0&1&-7&17\\\\0&0&17&17\\\\ \\hline 0&0&0&17\\\\\\end{array}\\right]\\xrightarrow{\\underset{\\begin{subarray}{c} \\left[\\left(\\frac{1}{17}\\right)\\mathbf{4}\\right]\\end{subarray}}{\\mathbf{\\tau}}}\\left[\\begin{array}{ccc|c}1&0&0&0\\\\7&-17&0&0\\\\6&-8&-12&0\\\\ \\hline 1&-2&-3&1\\\\0&1&-7&1\\\\0&0&17&1\\\\ \\hline 0&0&0&1\\\\\\end{array}\\right]$$"
      ],
      "text/plain": [
       "<IPython.core.display.Math object>"
      ]
     },
     "metadata": {},
     "output_type": "display_data"
    },
    {
     "data": {
      "text/html": [
       "<p style=\"text-align:center;\">$\\text{Tiene solución única:  }\\boldsymbol{x}=\\begin{pmatrix}1\\\\1\\\\1\\end{pmatrix}$</p>"
      ],
      "text/plain": [
       "<notacion.SEL at 0x7f288846d7f0>"
      ]
     },
     "execution_count": 40,
     "metadata": {},
     "output_type": "execute_result"
    }
   ],
   "source": [
    "VV=SEL(A,b,1)\n",
    "VV"
   ]
  },
  {
   "cell_type": "code",
   "execution_count": 41,
   "metadata": {
    "collapsed": false
   },
   "outputs": [
    {
     "data": {
      "text/latex": [
       "$$\\begin{bmatrix}1&2&1\\\\7&-3&0\\\\6&4&2\\end{bmatrix}\\xrightarrow{\\underset{\\begin{subarray}{c} \\left[\\left(-2\\right)\\mathbf{1}+\\mathbf{2} \\right]\\\\\\left[\\left(-1\\right)\\mathbf{1}+\\mathbf{3} \\right]\\end{subarray}}{\\mathbf{\\tau}}}\\begin{bmatrix}1&0&0\\\\7&-17&-7\\\\6&-8&-4\\end{bmatrix}\\xrightarrow{\\underset{\\begin{subarray}{c} \\left[\\left(17\\right)\\mathbf{3}\\right]\\\\\\left[\\left(-7\\right)\\mathbf{2}+\\mathbf{3} \\right]\\end{subarray}}{\\mathbf{\\tau}}}\\begin{bmatrix}1&0&0\\\\7&-17&0\\\\6&-8&-12\\end{bmatrix}$$"
      ],
      "text/plain": [
       "<IPython.core.display.Math object>"
      ]
     },
     "metadata": {},
     "output_type": "display_data"
    },
    {
     "data": {
      "text/html": [
       "<p style=\"text-align:center;\">$\\begin{bmatrix}1&0&0\\\\7&-17&0\\\\6&-8&-12\\end{bmatrix}$</p>"
      ],
      "text/plain": [
       "Matrix([Vector([1, 7, 6]); Vector([0, -17, -8]); Vector([0, 0, -12])])"
      ]
     },
     "execution_count": 41,
     "metadata": {},
     "output_type": "execute_result"
    }
   ],
   "source": [
    "EAfin(VV.eafin.S.sgen,VV.eafin.v)== EAfin(VV.eafin.S.sgen, VV.solP )\n",
    "ECdchasd(A,1)"
   ]
  },
  {
   "cell_type": "code",
   "execution_count": 42,
   "metadata": {
    "collapsed": false
   },
   "outputs": [
    {
     "data": {
      "text/html": [
       "<p style=\"text-align:center;\">$\\begin{bmatrix}0&1&1\\\\7&-3&0\\\\6&4&2\\end{bmatrix}$</p>"
      ],
      "text/plain": [
       "Matrix([Vector([0, 7, 6]); Vector([1, -3, 4]); Vector([1, 0, 2])])"
      ]
     },
     "execution_count": 42,
     "metadata": {},
     "output_type": "execute_result"
    }
   ],
   "source": [
    "A = Matrix( [ [0,1,1], [7,-3,0], [6,4,2] ] ); A"
   ]
  },
  {
   "cell_type": "code",
   "execution_count": 43,
   "metadata": {
    "collapsed": false
   },
   "outputs": [
    {
     "data": {
      "text/latex": [
       "$$\\begin{bmatrix}0&1&1\\\\7&-3&0\\\\6&4&2\\end{bmatrix}$$"
      ],
      "text/plain": [
       "<IPython.core.display.Math object>"
      ]
     },
     "metadata": {},
     "output_type": "display_data"
    },
    {
     "data": {
      "text/html": [
       "<p style=\"text-align:center;\">$\\begin{bmatrix}0&1&1\\\\7&-3&0\\\\6&4&2\\end{bmatrix}$</p>"
      ],
      "text/plain": [
       "Matrix([Vector([0, 7, 6]); Vector([1, -3, 4]); Vector([1, 0, 2])])"
      ]
     },
     "execution_count": 43,
     "metadata": {},
     "output_type": "execute_result"
    }
   ],
   "source": [
    "ECdcha(A,1)"
   ]
  },
  {
   "cell_type": "code",
   "execution_count": 44,
   "metadata": {
    "collapsed": false
   },
   "outputs": [
    {
     "data": {
      "text/plain": [
       "True"
      ]
     },
     "execution_count": 44,
     "metadata": {},
     "output_type": "execute_result"
    }
   ],
   "source": [
    "Vector([-3,0,1]) in EAfin(B,Vector([-3,0,1]))\n",
    "#Vector([0,0,0]) in SubEspacio(A)"
   ]
  },
  {
   "cell_type": "code",
   "execution_count": 45,
   "metadata": {
    "collapsed": false
   },
   "outputs": [
    {
     "data": {
      "text/latex": [
       "$$\\begin{bmatrix}0&1&1\\\\7&-3&0\\\\6&4&2\\end{bmatrix}\\xrightarrow{\\underset{\\begin{subarray}{c} \\left[\\mathbf{1}\\rightleftharpoons\\mathbf{2}\\right]\\end{subarray}}{\\mathbf{\\tau}}}\\begin{bmatrix}1&0&1\\\\-3&7&0\\\\4&6&2\\end{bmatrix}\\xrightarrow{\\underset{\\begin{subarray}{c} \\left[\\left(-1\\right)\\mathbf{1}+\\mathbf{3} \\right]\\end{subarray}}{\\mathbf{\\tau}}}\\begin{bmatrix}1&0&0\\\\-3&7&3\\\\4&6&-2\\end{bmatrix}\\xrightarrow{\\underset{\\begin{subarray}{c} \\left[\\left(\\frac{1}{7}\\right)\\mathbf{2}\\right]\\end{subarray}}{\\mathbf{\\tau}}}\\begin{bmatrix}1&0&0\\\\-3&1&3\\\\4&\\frac{6}{7}&-2\\end{bmatrix}\\xrightarrow{\\underset{\\begin{subarray}{c} \\left[\\left(-3\\right)\\mathbf{2}+\\mathbf{3} \\right]\\end{subarray}}{\\mathbf{\\tau}}}\\begin{bmatrix}1&0&0\\\\-3&1&0\\\\4&\\frac{6}{7}&\\frac{-32}{7}\\end{bmatrix}\\xrightarrow{\\underset{\\begin{subarray}{c} \\left[\\left(\\frac{-7}{32}\\right)\\mathbf{3}\\right]\\end{subarray}}{\\mathbf{\\tau}}}\\begin{bmatrix}1&0&0\\\\-3&1&0\\\\4&\\frac{6}{7}&1\\end{bmatrix}$$"
      ],
      "text/plain": [
       "<IPython.core.display.Math object>"
      ]
     },
     "metadata": {},
     "output_type": "display_data"
    },
    {
     "data": {
      "text/html": [
       "<p style=\"text-align:center;\">$\\begin{bmatrix}1&0&0\\\\-3&1&0\\\\4&\\frac{6}{7}&1\\end{bmatrix}$</p>"
      ],
      "text/plain": [
       "Matrix([Vector([Fraction(1, 1), Fraction(-3, 1), Fraction(4, 1)]); Vector([Fraction(0, 1), Fraction(1, 1), Fraction(6, 7)]); Vector([Fraction(0, 1), Fraction(0, 1), Fraction(1, 1)])])"
      ]
     },
     "execution_count": 45,
     "metadata": {},
     "output_type": "execute_result"
    }
   ],
   "source": [
    "ECLN(A,1)"
   ]
  },
  {
   "cell_type": "code",
   "execution_count": null,
   "metadata": {
    "collapsed": true
   },
   "outputs": [],
   "source": []
  }
 ],
 "metadata": {
  "kernelspec": {
   "display_name": "Python 3",
   "language": "python",
   "name": "python3"
  },
  "language_info": {
   "codemirror_mode": {
    "name": "ipython",
    "version": 3
   },
   "file_extension": ".py",
   "mimetype": "text/x-python",
   "name": "python",
   "nbconvert_exporter": "python",
   "pygments_lexer": "ipython3",
   "version": "3.5.3"
  },
  "name": "Notebook.ipynb"
 },
 "nbformat": 4,
 "nbformat_minor": 2
}
