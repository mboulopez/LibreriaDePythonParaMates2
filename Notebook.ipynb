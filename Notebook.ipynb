{
 "cells": [
  {
   "cell_type": "markdown",
   "metadata": {
    "ein.tags": "worksheet-0",
    "slideshow": {
     "slide_type": "-"
    }
   },
   "source": [
    "${\\huge\\text{Jupyter notebook}}$"
   ]
  },
  {
   "cell_type": "markdown",
   "metadata": {},
   "source": [
    "Para usar la librería, siempre debe ejecutar al comienzo de la sesión el código de la siguiente celda"
   ]
  },
  {
   "cell_type": "code",
   "execution_count": 1,
   "metadata": {
    "autoscroll": false,
    "collapsed": true,
    "ein.hycell": false,
    "ein.tags": "worksheet-0",
    "slideshow": {
     "slide_type": "-"
    }
   },
   "outputs": [],
   "source": [
    "from notacion import *"
   ]
  },
  {
   "cell_type": "markdown",
   "metadata": {},
   "source": [
    "Puede hacer pruebas en las celdas de código, como ésta de aquí abajo. O copiar código en la celda y ejecutarlo (recuerde que debe haber ejecutado la celda anterior)."
   ]
  },
  {
   "cell_type": "code",
   "execution_count": null,
   "metadata": {
    "collapsed": true
   },
   "outputs": [],
   "source": []
  },
  {
   "cell_type": "markdown",
   "metadata": {},
   "source": [
    "Ejemplos de uso indicados en las notas de clase\n",
    "\n",
    "### Lección 1"
   ]
  },
  {
   "cell_type": "code",
   "execution_count": 2,
   "metadata": {},
   "outputs": [
    {
     "data": {
      "text/html": [
       "<p style=\"text-align:center;\">$\\begin{pmatrix}0\\\\4\\\\6\\end{pmatrix}$</p>"
      ],
      "text/plain": [
       "Vector([0, 4, 6])"
      ]
     },
     "execution_count": 2,
     "metadata": {},
     "output_type": "execute_result"
    }
   ],
   "source": [
    "b = Vector( [0, 4, 6] )   # Vector cuya lista de componentes es 0, 4 y 6\n",
    "b"
   ]
  },
  {
   "cell_type": "code",
   "execution_count": 3,
   "metadata": {},
   "outputs": [
    {
     "data": {
      "text/plain": [
       "6"
      ]
     },
     "execution_count": 3,
     "metadata": {},
     "output_type": "execute_result"
    }
   ],
   "source": [
    "b|3                       # tercera componente de b"
   ]
  },
  {
   "cell_type": "code",
   "execution_count": 4,
   "metadata": {},
   "outputs": [
    {
     "data": {
      "text/html": [
       "<p style=\"text-align:center;\">$\\begin{pmatrix}0\\\\0\\\\0\\end{pmatrix}$</p>"
      ],
      "text/plain": [
       "Vector([0, 0, 0])"
      ]
     },
     "execution_count": 4,
     "metadata": {},
     "output_type": "execute_result"
    }
   ],
   "source": [
    "V0( 3 )                   # es el vector nulo de tres componentes"
   ]
  },
  {
   "cell_type": "code",
   "execution_count": 5,
   "metadata": {},
   "outputs": [
    {
     "data": {
      "text/html": [
       "<p style=\"text-align:center;\">$\\begin{pmatrix}1\\\\5\\\\7\\end{pmatrix}$</p>"
      ],
      "text/plain": [
       "Vector([1, 5, 7])"
      ]
     },
     "execution_count": 5,
     "metadata": {},
     "output_type": "execute_result"
    }
   ],
   "source": [
    "a = Vector( [1, 1, 1] )\n",
    "a + b                     # suma de vectores"
   ]
  },
  {
   "cell_type": "code",
   "execution_count": 6,
   "metadata": {},
   "outputs": [
    {
     "data": {
      "text/html": [
       "<p style=\"text-align:center;\">$\\begin{pmatrix}0\\\\28\\\\42\\end{pmatrix}$</p>"
      ],
      "text/plain": [
       "Vector([0, 28, 42])"
      ]
     },
     "execution_count": 6,
     "metadata": {},
     "output_type": "execute_result"
    }
   ],
   "source": [
    "7 * b                     # producto de un vector por un escalar"
   ]
  },
  {
   "cell_type": "code",
   "execution_count": 7,
   "metadata": {},
   "outputs": [
    {
     "data": {
      "text/html": [
       "<p style=\"text-align:center;\">$\\begin{bmatrix}1&2&3\\\\0&-1&1\\end{bmatrix}$</p>"
      ],
      "text/plain": [
       "Matrix([Vector([1, 0]); Vector([2, -1]); Vector([3, 1])])"
      ]
     },
     "execution_count": 7,
     "metadata": {},
     "output_type": "execute_result"
    }
   ],
   "source": [
    "a = Vector( [1, 0] )\n",
    "b = Vector( [2,-1] )\n",
    "c = Vector( [3, 1] )\n",
    "B = Matrix( [a, b, c] )   # Matrix cuya lista de vectores es a, b, c\n",
    "B"
   ]
  },
  {
   "cell_type": "code",
   "execution_count": 8,
   "metadata": {},
   "outputs": [
    {
     "data": {
      "text/plain": [
       "-1"
      ]
     },
     "execution_count": 8,
     "metadata": {},
     "output_type": "execute_result"
    }
   ],
   "source": [
    "2|B|2                     # elemento de B situado en la segunda fila, segunda columna"
   ]
  },
  {
   "cell_type": "code",
   "execution_count": 9,
   "metadata": {},
   "outputs": [
    {
     "data": {
      "text/html": [
       "<p style=\"text-align:center;\">$\\begin{pmatrix}1,&2,&3\\end{pmatrix}$</p>"
      ],
      "text/plain": [
       "Vector([1, 2, 3])"
      ]
     },
     "execution_count": 9,
     "metadata": {},
     "output_type": "execute_result"
    }
   ],
   "source": [
    "1|B                       # primera fila de B"
   ]
  },
  {
   "cell_type": "code",
   "execution_count": 10,
   "metadata": {},
   "outputs": [
    {
     "data": {
      "text/html": [
       "<p style=\"text-align:center;\">$\\begin{pmatrix}2\\\\-1\\end{pmatrix}$</p>"
      ],
      "text/plain": [
       "Vector([2, -1])"
      ]
     },
     "execution_count": 10,
     "metadata": {},
     "output_type": "execute_result"
    }
   ],
   "source": [
    "B|2                       # segunda columna de B"
   ]
  },
  {
   "cell_type": "code",
   "execution_count": 11,
   "metadata": {},
   "outputs": [
    {
     "data": {
      "text/html": [
       "<p style=\"text-align:center;\">$\\begin{bmatrix}2\\\\-1\\end{bmatrix}$</p>"
      ],
      "text/plain": [
       "Matrix([Vector([2, -1])])"
      ]
     },
     "execution_count": 11,
     "metadata": {},
     "output_type": "execute_result"
    }
   ],
   "source": [
    "Matrix( [ B|2 ] )         # Matriz cuya única columna es la segunda columna de B"
   ]
  },
  {
   "cell_type": "code",
   "execution_count": 12,
   "metadata": {},
   "outputs": [
    {
     "data": {
      "text/html": [
       "<p style=\"text-align:center;\">$\\begin{bmatrix}1&0\\\\2&-1\\\\3&1\\end{bmatrix}$</p>"
      ],
      "text/plain": [
       "Matrix([Vector([1, 2, 3]); Vector([0, -1, 1])])"
      ]
     },
     "execution_count": 12,
     "metadata": {},
     "output_type": "execute_result"
    }
   ],
   "source": [
    "~B                        # Transpuesta de la matriz B"
   ]
  },
  {
   "cell_type": "code",
   "execution_count": 13,
   "metadata": {},
   "outputs": [
    {
     "data": {
      "text/html": [
       "<p style=\"text-align:center;\">$\\begin{bmatrix}1&2&3\\end{bmatrix}$</p>"
      ],
      "text/plain": [
       "Matrix([Vector([1]); Vector([2]); Vector([3])])"
      ]
     },
     "execution_count": 13,
     "metadata": {},
     "output_type": "execute_result"
    }
   ],
   "source": [
    "~Matrix( [1|B] )          # Matriz cuya única fila es la primera fila de B"
   ]
  },
  {
   "cell_type": "code",
   "execution_count": 14,
   "metadata": {},
   "outputs": [
    {
     "data": {
      "text/html": [
       "<p style=\"text-align:center;\">$\\begin{bmatrix}3&1\\end{bmatrix}$</p>"
      ],
      "text/plain": [
       "Matrix([Vector([3]); Vector([1])])"
      ]
     },
     "execution_count": 14,
     "metadata": {},
     "output_type": "execute_result"
    }
   ],
   "source": [
    "~Matrix( [B|3] )          # Matriz cuya única fila es la tercera columna de B"
   ]
  },
  {
   "cell_type": "code",
   "execution_count": 15,
   "metadata": {},
   "outputs": [
    {
     "data": {
      "text/html": [
       "<p style=\"text-align:center;\">$\\begin{bmatrix}0&0&0\\\\0&0&0\\\\0&0&0\\\\0&0&0\\end{bmatrix}$</p>"
      ],
      "text/plain": [
       "Matrix([Vector([0, 0, 0, 0]); Vector([0, 0, 0, 0]); Vector([0, 0, 0, 0])])"
      ]
     },
     "execution_count": 15,
     "metadata": {},
     "output_type": "execute_result"
    }
   ],
   "source": [
    "M0(4,3)                   # matriz nula de orden 4 por 3"
   ]
  },
  {
   "cell_type": "code",
   "execution_count": 16,
   "metadata": {},
   "outputs": [
    {
     "data": {
      "text/html": [
       "<p style=\"text-align:center;\">$\\begin{bmatrix}1&0&0&0\\\\0&1&0&0\\\\0&0&1&0\\\\0&0&0&1\\end{bmatrix}$</p>"
      ],
      "text/plain": [
       "Matrix([Vector([1, 0, 0, 0]); Vector([0, 1, 0, 0]); Vector([0, 0, 1, 0]); Vector([0, 0, 0, 1])])"
      ]
     },
     "execution_count": 16,
     "metadata": {},
     "output_type": "execute_result"
    }
   ],
   "source": [
    "I(4)                      # matriz identidad de orden 4"
   ]
  },
  {
   "cell_type": "markdown",
   "metadata": {},
   "source": [
    "### Lección 2"
   ]
  },
  {
   "cell_type": "code",
   "execution_count": 17,
   "metadata": {},
   "outputs": [
    {
     "data": {
      "text/plain": [
       "10"
      ]
     },
     "execution_count": 17,
     "metadata": {},
     "output_type": "execute_result"
    }
   ],
   "source": [
    "a = Vector( [1, 1, 1] )\n",
    "b = Vector( [0, 4, 6] )\n",
    "\n",
    "a * b                     # producto punto entre los vectores a y b"
   ]
  },
  {
   "cell_type": "code",
   "execution_count": 18,
   "metadata": {},
   "outputs": [
    {
     "data": {
      "text/html": [
       "<p style=\"text-align:center;\">$\\begin{bmatrix}1&1&-2\\\\1&0&2\\\\1&1&1\\end{bmatrix}$</p>"
      ],
      "text/plain": [
       "Matrix([Vector([1, 1, 1]); Vector([1, 0, 1]); Vector([-2, 2, 1])])"
      ]
     },
     "execution_count": 18,
     "metadata": {},
     "output_type": "execute_result"
    }
   ],
   "source": [
    "A = Matrix( [ Vector([1,1,1]), Vector([1,0,1]), Vector([-2,2,1]) ] )\n",
    "A"
   ]
  },
  {
   "cell_type": "code",
   "execution_count": 19,
   "metadata": {},
   "outputs": [
    {
     "data": {
      "text/html": [
       "<p style=\"text-align:center;\">$\\begin{pmatrix}1\\\\2\\\\-3\\end{pmatrix}$</p>"
      ],
      "text/plain": [
       "Vector([1, 2, -3])"
      ]
     },
     "execution_count": 19,
     "metadata": {},
     "output_type": "execute_result"
    }
   ],
   "source": [
    "b = Vector( [1,2,-3] )\n",
    "b"
   ]
  },
  {
   "cell_type": "code",
   "execution_count": 20,
   "metadata": {},
   "outputs": [
    {
     "data": {
      "text/html": [
       "<p style=\"text-align:center;\">$\\begin{pmatrix}9\\\\-5\\\\0\\end{pmatrix}$</p>"
      ],
      "text/plain": [
       "Vector([9, -5, 0])"
      ]
     },
     "execution_count": 20,
     "metadata": {},
     "output_type": "execute_result"
    }
   ],
   "source": [
    "A*b"
   ]
  },
  {
   "cell_type": "code",
   "execution_count": 21,
   "metadata": {},
   "outputs": [
    {
     "data": {
      "text/plain": [
       "True"
      ]
     },
     "execution_count": 21,
     "metadata": {},
     "output_type": "execute_result"
    }
   ],
   "source": [
    "2|(A*b) == (2|A)*b"
   ]
  },
  {
   "cell_type": "code",
   "execution_count": 22,
   "metadata": {},
   "outputs": [
    {
     "name": "stdout",
     "output_type": "stream",
     "text": [
      "True\n"
     ]
    },
    {
     "data": {
      "text/html": [
       "<p style=\"text-align:center;\">$\\begin{pmatrix}0,&-2,&-1\\end{pmatrix}$</p>"
      ],
      "text/plain": [
       "Vector([0, -2, -1])"
      ]
     },
     "execution_count": 22,
     "metadata": {},
     "output_type": "execute_result"
    }
   ],
   "source": [
    "print( b*A == ~A*b)\n",
    "b*A"
   ]
  },
  {
   "cell_type": "code",
   "execution_count": 23,
   "metadata": {},
   "outputs": [
    {
     "data": {
      "text/plain": [
       "True"
      ]
     },
     "execution_count": 23,
     "metadata": {},
     "output_type": "execute_result"
    }
   ],
   "source": [
    "(b*A)|3 == b*(A|3)"
   ]
  },
  {
   "cell_type": "markdown",
   "metadata": {},
   "source": [
    "### Lección 3"
   ]
  },
  {
   "cell_type": "code",
   "execution_count": 24,
   "metadata": {},
   "outputs": [
    {
     "data": {
      "text/html": [
       "<p style=\"text-align:center;\">$\\left[\\begin{array}{cccc|cc}1&1&1&1&2&2\\\\1&1&1&1&2&2\\\\1&1&1&1&2&2\\\\ \\hline 3&3&3&3&4&4\\\\3&3&3&3&4&4\\\\\\end{array}\\right]$</p>"
      ],
      "text/plain": [
       "BlockMatrix([[Matrix([Vector([1, 1, 1]); Vector([1, 1, 1]); Vector([1, 1, 1]); Vector([1, 1, 1])]); Matrix([Vector([2, 2, 2]); Vector([2, 2, 2])])]; [Matrix([Vector([3, 3]); Vector([3, 3]); Vector([3, 3]); Vector([3, 3])]); Matrix([Vector([4, 4]); Vector([4, 4])])]])"
      ]
     },
     "execution_count": 24,
     "metadata": {},
     "output_type": "execute_result"
    }
   ],
   "source": [
    "a = Vector( [1,1,1,3,3] )\n",
    "b = Vector( [2,2,2,4,4] )\n",
    "B = Matrix( [a,a,a,a,b,b] )\n",
    "{3}|B|{4}"
   ]
  },
  {
   "cell_type": "markdown",
   "metadata": {},
   "source": [
    "### Lección 4"
   ]
  },
  {
   "cell_type": "code",
   "execution_count": 25,
   "metadata": {},
   "outputs": [
    {
     "data": {
      "text/html": [
       "<p style=\"text-align:center;\">$\\underset{\\left[\\left(8\\right)\\mathbf{2}+\\mathbf{3} \\right]}{\\mathbf{\\tau}}$</p>"
      ],
      "text/plain": [
       "T((8, 2, 3))"
      ]
     },
     "execution_count": 25,
     "metadata": {},
     "output_type": "execute_result"
    }
   ],
   "source": [
    "T( (8,2,3) )         # Suma ocho veces el segundo vector al tercero"
   ]
  },
  {
   "cell_type": "code",
   "execution_count": 26,
   "metadata": {},
   "outputs": [
    {
     "data": {
      "text/html": [
       "<p style=\"text-align:center;\">$\\begin{bmatrix}1&0&0\\\\0&1&8\\\\0&0&1\\end{bmatrix}$</p>"
      ],
      "text/plain": [
       "Matrix([Vector([1, 0, 0]); Vector([0, 1, 0]); Vector([0, 8, 1])])"
      ]
     },
     "execution_count": 26,
     "metadata": {},
     "output_type": "execute_result"
    }
   ],
   "source": [
    "I(3) & T( (8,2,3) )  # Transformación de las columnas de la matriz identidad de orden 3\n",
    "                     # (suma 8 veces la segunda columna a la tercera)"
   ]
  },
  {
   "cell_type": "code",
   "execution_count": 27,
   "metadata": {},
   "outputs": [
    {
     "data": {
      "text/html": [
       "<p style=\"text-align:center;\">$\\underset{\\left[\\left(5\\right)\\mathbf{2}\\right]}{\\mathbf{\\tau}}$</p>"
      ],
      "text/plain": [
       "T((5, 2))"
      ]
     },
     "execution_count": 27,
     "metadata": {},
     "output_type": "execute_result"
    }
   ],
   "source": [
    "T( (5, 2) )          # multiplica por 5 el segundo vector"
   ]
  },
  {
   "cell_type": "code",
   "execution_count": 28,
   "metadata": {},
   "outputs": [
    {
     "data": {
      "text/html": [
       "<p style=\"text-align:center;\">$\\begin{bmatrix}5&0&0\\\\0&1&0\\\\0&0&1\\end{bmatrix}$</p>"
      ],
      "text/plain": [
       "Matrix([Vector([5, 0, 0]); Vector([0, 1, 0]); Vector([0, 0, 1])])"
      ]
     },
     "execution_count": 28,
     "metadata": {},
     "output_type": "execute_result"
    }
   ],
   "source": [
    "I(3) & T( (5,1) )    # Transformación de las columnas de la matriz identidad de orden 3\n",
    "                     # (multiplica por 5 la primera columna)"
   ]
  },
  {
   "cell_type": "code",
   "execution_count": 29,
   "metadata": {},
   "outputs": [
    {
     "data": {
      "text/html": [
       "<p style=\"text-align:center;\">$\\underset{\\left[\\mathbf{1}\\rightleftharpoons\\mathbf{3}\\right]}{\\mathbf{\\tau}}$</p>"
      ],
      "text/plain": [
       "T({1, 3})"
      ]
     },
     "execution_count": 29,
     "metadata": {},
     "output_type": "execute_result"
    }
   ],
   "source": [
    "T( {1, 3} )          # intercambia los vectores primero y tercero"
   ]
  },
  {
   "cell_type": "code",
   "execution_count": 30,
   "metadata": {},
   "outputs": [
    {
     "data": {
      "text/html": [
       "<p style=\"text-align:center;\">$\\begin{bmatrix}1&0&0&0&0&0\\\\0&0&0&0&1&0\\\\0&0&1&0&0&0\\\\0&0&0&1&0&0\\\\0&1&0&0&0&0\\\\0&0&0&0&0&1\\end{bmatrix}$</p>"
      ],
      "text/plain": [
       "Matrix([Vector([1, 0, 0, 0, 0, 0]); Vector([0, 0, 0, 0, 1, 0]); Vector([0, 0, 1, 0, 0, 0]); Vector([0, 0, 0, 1, 0, 0]); Vector([0, 1, 0, 0, 0, 0]); Vector([0, 0, 0, 0, 0, 1])])"
      ]
     },
     "execution_count": 30,
     "metadata": {},
     "output_type": "execute_result"
    }
   ],
   "source": [
    "i = 2; j= 5                                         # indicamos quienes son j e i\n",
    "I(6) & T( [(-1,j),(-1,j,i),(1,i,j),(-1,j,i)] )      # aplicación de lista de transf. elem.\n",
    "# I(6) & T( {i,j} )                                 # es más sencillo aplicar intercambio"
   ]
  },
  {
   "cell_type": "code",
   "execution_count": 31,
   "metadata": {},
   "outputs": [
    {
     "data": {
      "text/html": [
       "<p style=\"text-align:center;\">$\\begin{bmatrix}1&1&-2\\\\0&1&2\\\\1&1&1\\end{bmatrix}$</p>"
      ],
      "text/plain": [
       "Matrix([Vector([1, 0, 1]); Vector([1, 1, 1]); Vector([-2, 2, 1])])"
      ]
     },
     "execution_count": 31,
     "metadata": {},
     "output_type": "execute_result"
    }
   ],
   "source": [
    "A & T( {1,2} )                      # intercambio de las dos primeras columnas de A"
   ]
  },
  {
   "cell_type": "code",
   "execution_count": 32,
   "metadata": {},
   "outputs": [
    {
     "data": {
      "text/html": [
       "<p style=\"text-align:center;\">$\\begin{bmatrix}0&0&1&0&0\\\\0&0&0&1&0\\\\0&0&0&0&1\\\\0&1&0&0&0\\\\1&0&0&0&0\\end{bmatrix}$</p>"
      ],
      "text/plain": [
       "Matrix([Vector([0, 0, 0, 0, 1]); Vector([0, 0, 0, 1, 0]); Vector([1, 0, 0, 0, 0]); Vector([0, 1, 0, 0, 0]); Vector([0, 0, 1, 0, 0])])"
      ]
     },
     "execution_count": 32,
     "metadata": {},
     "output_type": "execute_result"
    }
   ],
   "source": [
    "I(5) & T( [{1,3}, {4,2}, {1,5}] )   # ejemplo de matriz permutación"
   ]
  },
  {
   "cell_type": "code",
   "execution_count": 33,
   "metadata": {},
   "outputs": [
    {
     "data": {
      "text/latex": [
       "$$\\begin{bmatrix}0&2&2\\\\1&-2&-8\\\\1&1&1\\end{bmatrix}\\xrightarrow{\\underset{\\begin{subarray}{c} \\left[\\left(-1\\right)\\mathbf{2}+\\mathbf{3} \\right]\\end{subarray}}{\\mathbf{\\tau}}}\\begin{bmatrix}0&2&0\\\\1&-2&-6\\\\1&1&0\\end{bmatrix}\\xrightarrow{\\underset{\\begin{subarray}{c} \\left[\\left(2\\right)\\mathbf{1}+\\mathbf{2} \\right]\\\\\\left[\\left(6\\right)\\mathbf{1}+\\mathbf{3} \\right]\\end{subarray}}{\\mathbf{\\tau}}}\\begin{bmatrix}0&2&0\\\\1&0&0\\\\1&3&6\\end{bmatrix}$$"
      ],
      "text/plain": [
       "<IPython.core.display.Math object>"
      ]
     },
     "metadata": {},
     "output_type": "display_data"
    }
   ],
   "source": [
    "A = Matrix( [ [0,2,2], [1,-2,-8], [1,1,1] ] ) # Mat. descrita como lista de filas\n",
    "L = Elim(A,1)                                 # Eliminación por columnas"
   ]
  },
  {
   "cell_type": "code",
   "execution_count": 34,
   "metadata": {},
   "outputs": [
    {
     "data": {
      "text/latex": [
       "$$\\begin{bmatrix}0&2&2\\\\1&-2&-8\\\\1&1&1\\end{bmatrix}\\xrightarrow{\\underset{\\begin{subarray}{c} \\left[\\left(-1\\right)\\mathbf{2}+\\mathbf{3} \\right]\\end{subarray}}{\\mathbf{\\tau}}}\\begin{bmatrix}0&2&0\\\\1&-2&-6\\\\1&1&0\\end{bmatrix}\\xrightarrow{\\underset{\\begin{subarray}{c} \\left[\\left(2\\right)\\mathbf{1}+\\mathbf{2} \\right]\\\\\\left[\\left(6\\right)\\mathbf{1}+\\mathbf{3} \\right]\\end{subarray}}{\\mathbf{\\tau}}}\\begin{bmatrix}0&2&0\\\\1&0&0\\\\1&3&6\\end{bmatrix}\\xrightarrow{\\underset{\\begin{subarray}{c} \\left[\\mathbf{1}\\rightleftharpoons\\mathbf{2}\\right]\\end{subarray}}{\\mathbf{\\tau}}}\\begin{bmatrix}2&0&0\\\\0&1&0\\\\3&1&6\\end{bmatrix}$$"
      ],
      "text/plain": [
       "<IPython.core.display.Math object>"
      ]
     },
     "metadata": {},
     "output_type": "display_data"
    }
   ],
   "source": [
    "A = Matrix( [ [0,2,2], [1,-2,-8], [1,1,1] ] ) # Mat. descrita como lista de filas\n",
    "L = ElimG(A,1)                                # Eliminación Gaussiana por columnas"
   ]
  },
  {
   "cell_type": "code",
   "execution_count": 35,
   "metadata": {},
   "outputs": [
    {
     "data": {
      "text/latex": [
       "$$\\begin{bmatrix}0&2&2\\\\1&-2&-8\\\\1&1&1\\end{bmatrix}\\xrightarrow{\\underset{\\begin{subarray}{c} \\left[\\left(-1\\right)\\mathbf{2}+\\mathbf{3} \\right]\\end{subarray}}{\\mathbf{\\tau}}}\\begin{bmatrix}0&2&0\\\\1&-2&-6\\\\1&1&0\\end{bmatrix}\\xrightarrow{\\underset{\\begin{subarray}{c} \\left[\\left(2\\right)\\mathbf{1}+\\mathbf{2} \\right]\\\\\\left[\\left(6\\right)\\mathbf{1}+\\mathbf{3} \\right]\\end{subarray}}{\\mathbf{\\tau}}}\\begin{bmatrix}0&2&0\\\\1&0&0\\\\1&3&6\\end{bmatrix}\\xrightarrow{\\underset{\\begin{subarray}{c} \\left[\\mathbf{1}\\rightleftharpoons\\mathbf{2}\\right]\\end{subarray}}{\\mathbf{\\tau}}}\\begin{bmatrix}2&0&0\\\\0&1&0\\\\3&1&6\\end{bmatrix}\\xrightarrow{\\underset{\\begin{subarray}{c} \\left[\\left(2\\right)\\mathbf{1}\\right]\\\\\\left[\\left(-1\\right)\\mathbf{3}+\\mathbf{1} \\right]\\\\\\left[\\left(6\\right)\\mathbf{2}\\right]\\\\\\left[\\left(-1\\right)\\mathbf{3}+\\mathbf{2} \\right]\\end{subarray}}{\\mathbf{\\tau}}}\\begin{bmatrix}4&0&0\\\\0&6&0\\\\0&0&6\\end{bmatrix}\\xrightarrow{\\underset{\\begin{subarray}{c} \\left[\\left(\\frac{1}{4}\\right)\\mathbf{1}\\right]\\\\\\left[\\left(\\frac{1}{6}\\right)\\mathbf{2}\\right]\\\\\\left[\\left(\\frac{1}{6}\\right)\\mathbf{3}\\right]\\end{subarray}}{\\mathbf{\\tau}}}\\begin{bmatrix}1&0&0\\\\0&1&0\\\\0&0&1\\end{bmatrix}$$"
      ],
      "text/plain": [
       "<IPython.core.display.Math object>"
      ]
     },
     "metadata": {},
     "output_type": "display_data"
    }
   ],
   "source": [
    "A = Matrix( [ [0,2,2], [1,-2,-8], [1,1,1] ] ) # Mat. descrita como lista de filas\n",
    "L = ElimGJ(A,1)                               # Eliminación Gauss-Jordan por columnas"
   ]
  },
  {
   "cell_type": "code",
   "execution_count": 36,
   "metadata": {},
   "outputs": [
    {
     "data": {
      "text/html": [
       "<p style=\"text-align:center;\">$\\underset{\\begin{subarray}{c} \\left[\\left(-1\\right)\\mathbf{4}\\right]\\\\\\left[\\left(2\\right)\\mathbf{7}+\\mathbf{3} \\right]\\\\\\left[\\left(3\\right)\\mathbf{2}\\right]\\end{subarray}}{\\mathbf{\\tau}}$</p>"
      ],
      "text/plain": [
       "T([(-1, 4), (2, 7, 3), (3, 2)])"
      ]
     },
     "execution_count": 36,
     "metadata": {},
     "output_type": "execute_result"
    }
   ],
   "source": [
    "~T( [ (3,2), (2,7,3), (-1,4) ] )   # transposición invierte el orden de la secuencia de transformaciones."
   ]
  },
  {
   "cell_type": "code",
   "execution_count": 37,
   "metadata": {},
   "outputs": [
    {
     "data": {
      "text/latex": [
       "$$\\begin{bmatrix}0&2&2\\\\1&-2&-8\\\\3&6&-6\\end{bmatrix}\\xrightarrow[\\underset{\\begin{subarray}{c} \\left[\\left(-3\\right)\\mathbf{2}+\\mathbf{3} \\right]\\end{subarray}}{\\mathbf{\\tau}}]{}\\begin{bmatrix}0&2&2\\\\1&-2&-8\\\\0&12&18\\end{bmatrix}\\xrightarrow[\\underset{\\begin{subarray}{c} \\left[\\left(-6\\right)\\mathbf{1}+\\mathbf{3} \\right]\\\\\\left[\\left(1\\right)\\mathbf{1}+\\mathbf{2} \\right]\\end{subarray}}{\\mathbf{\\tau}}]{}\\begin{bmatrix}0&2&2\\\\1&0&-6\\\\0&0&6\\end{bmatrix}\\xrightarrow[\\underset{\\begin{subarray}{c} \\left[\\mathbf{1}\\rightleftharpoons\\mathbf{2}\\right]\\end{subarray}}{\\mathbf{\\tau}}]{}\\begin{bmatrix}1&0&-6\\\\0&2&2\\\\0&0&6\\end{bmatrix}$$"
      ],
      "text/plain": [
       "<IPython.core.display.Math object>"
      ]
     },
     "metadata": {},
     "output_type": "display_data"
    }
   ],
   "source": [
    "A = Matrix([ [0,2,2], [1,-2,-8], [3,6,-6] ])\n",
    "L = ElimGF(A,1)                              # Escalonamiento operando con las filas"
   ]
  },
  {
   "cell_type": "markdown",
   "metadata": {},
   "source": [
    "### Lección 5"
   ]
  },
  {
   "cell_type": "code",
   "execution_count": 38,
   "metadata": {},
   "outputs": [
    {
     "data": {
      "text/html": [
       "<p style=\"text-align:center;\">$\\begin{bmatrix}1&0&0&0\\\\0&1&0&0\\\\0&0&1&0\\\\0&0&0&1\\end{bmatrix}$</p>"
      ],
      "text/plain": [
       "Matrix([Vector([1, 0, 0, 0]); Vector([Fraction(0, 1), Fraction(1, 1), Fraction(0, 1), Fraction(0, 1)]); Vector([Fraction(0, 1), Fraction(0, 1), Fraction(1, 1), Fraction(0, 1)]); Vector([0, 0, 0, 1])])"
      ]
     },
     "execution_count": 38,
     "metadata": {},
     "output_type": "execute_result"
    }
   ],
   "source": [
    "t    = T([ (3,2), (2,1,3), (-1,3), (-2,1,2) ])     # Secuencia de transformaciones\n",
    "tInv = t**(-1)                                     # Inversa de la secuencia de transf.\n",
    "\n",
    "A    = I(4) & t                                    # A: producto de elementales\n",
    "B    = I(4) & t**(-1)                              # B es la inversa de A\n",
    "A*B                                                # Comprobación de que son inversas"
   ]
  },
  {
   "cell_type": "code",
   "execution_count": 39,
   "metadata": {},
   "outputs": [
    {
     "data": {
      "text/latex": [
       "$$\\begin{bmatrix}5&0&0\\\\2&-2&0\\\\6&9&3\\end{bmatrix}\\xrightarrow{\\underset{\\begin{subarray}{c} \\left[\\left(1\\right)\\mathbf{2}+\\mathbf{1} \\right]\\end{subarray}}{\\mathbf{\\tau}}}\\begin{bmatrix}5&0&0\\\\0&-2&0\\\\15&9&3\\end{bmatrix}\\xrightarrow{\\underset{\\begin{subarray}{c} \\left[\\left(-5\\right)\\mathbf{3}+\\mathbf{1} \\right]\\\\\\left[\\left(-3\\right)\\mathbf{3}+\\mathbf{2} \\right]\\end{subarray}}{\\mathbf{\\tau}}}\\begin{bmatrix}5&0&0\\\\0&-2&0\\\\0&0&3\\end{bmatrix}\\xrightarrow{\\underset{\\begin{subarray}{c} \\left[\\left(\\frac{1}{5}\\right)\\mathbf{1}\\right]\\\\\\left[\\left(\\frac{-1}{2}\\right)\\mathbf{2}\\right]\\\\\\left[\\left(\\frac{1}{3}\\right)\\mathbf{3}\\right]\\end{subarray}}{\\mathbf{\\tau}}}\\begin{bmatrix}1&0&0\\\\0&1&0\\\\0&0&1\\end{bmatrix}$$"
      ],
      "text/plain": [
       "<IPython.core.display.Math object>"
      ]
     },
     "metadata": {},
     "output_type": "display_data"
    }
   ],
   "source": [
    "L = Matrix( [[5,0,0], [2,-2,0], [6,9,3]] )\n",
    "R = ElimGJ(L,1)                                    # Forma Escalonada Reducida"
   ]
  },
  {
   "cell_type": "code",
   "execution_count": 40,
   "metadata": {},
   "outputs": [
    {
     "data": {
      "text/latex": [
       "$$\\begin{bmatrix}5&0&0\\\\2&-2&0\\\\6&9&3\\end{bmatrix}\\xrightarrow{\\underset{\\begin{subarray}{c} \\left[\\left(1\\right)\\mathbf{2}+\\mathbf{1} \\right]\\end{subarray}}{\\mathbf{\\tau}}}\\begin{bmatrix}5&0&0\\\\0&-2&0\\\\15&9&3\\end{bmatrix}\\xrightarrow{\\underset{\\begin{subarray}{c} \\left[\\left(-5\\right)\\mathbf{3}+\\mathbf{1} \\right]\\\\\\left[\\left(-3\\right)\\mathbf{3}+\\mathbf{2} \\right]\\end{subarray}}{\\mathbf{\\tau}}}\\begin{bmatrix}5&0&0\\\\0&-2&0\\\\0&0&3\\end{bmatrix}\\xrightarrow{\\underset{\\begin{subarray}{c} \\left[\\left(\\frac{1}{5}\\right)\\mathbf{1}\\right]\\\\\\left[\\left(\\frac{-1}{2}\\right)\\mathbf{2}\\right]\\\\\\left[\\left(\\frac{1}{3}\\right)\\mathbf{3}\\right]\\end{subarray}}{\\mathbf{\\tau}}}\\begin{bmatrix}1&0&0\\\\0&1&0\\\\0&0&1\\end{bmatrix}$$"
      ],
      "text/plain": [
       "<IPython.core.display.Math object>"
      ]
     },
     "metadata": {},
     "output_type": "display_data"
    },
    {
     "data": {
      "text/html": [
       "<p style=\"text-align:center;\">$\\begin{bmatrix}5&0&0\\\\2&-2&0\\\\6&9&3\\end{bmatrix}$</p>"
      ],
      "text/plain": [
       "Matrix([Vector([Fraction(5, 1), Fraction(2, 1), Fraction(6, 1)]); Vector([Fraction(0, 1), Fraction(-2, 1), Fraction(9, 1)]); Vector([Fraction(0, 1), Fraction(0, 1), Fraction(3, 1)])])"
      ]
     },
     "execution_count": 40,
     "metadata": {},
     "output_type": "execute_result"
    }
   ],
   "source": [
    "L = Matrix( [[5,0,0], [2,-2,0], [6,9,3]] )\n",
    "R = ElimGJ(L,1)                                     # Forma Escalonada Reducida\n",
    "I(L.n) & ( T(R.pasos[1]) )**-1                      # Producto de matrices elementales"
   ]
  },
  {
   "cell_type": "code",
   "execution_count": 41,
   "metadata": {},
   "outputs": [
    {
     "name": "stdout",
     "output_type": "stream",
     "text": [
      "T([(2, 2), (1, 1, 2), (1, 3), (0, 1, 3), (3, 3), (1, 2, 3), {1}, {2}, {3}, (1, 2), (0, 1, 2), (1, 3), (0, 1, 3), (3, 1), (1, 2, 1), (1, 3), (0, 2, 3), (2, 1), (1, 3, 1), (2, 2), (1, 3, 2), (Fraction(1, 12), 1), (Fraction(1, 6), 2), (Fraction(1, 4), 3)])\n"
     ]
    },
    {
     "data": {
      "text/html": [
       "<p style=\"text-align:center;\">$\\begin{bmatrix}\\frac{3}{4}&\\frac{1}{2}&\\frac{1}{4}\\\\\\frac{1}{2}&1&\\frac{1}{2}\\\\\\frac{1}{4}&\\frac{1}{2}&\\frac{3}{4}\\end{bmatrix}$</p>"
      ],
      "text/plain": [
       "Matrix([Vector([Fraction(3, 4), Fraction(1, 2), Fraction(1, 4)]); Vector([Fraction(1, 2), Fraction(1, 1), Fraction(1, 2)]); Vector([Fraction(1, 4), Fraction(1, 2), Fraction(3, 4)])])"
      ]
     },
     "execution_count": 41,
     "metadata": {},
     "output_type": "execute_result"
    }
   ],
   "source": [
    "A = Matrix( [ [2,-1,0], [-1,2,-1], [0,-1,2] ] )\n",
    "p = ElimGJ(A).pasos\n",
    "print( T(p[1]) )              # secuencia de las transformaciones aplicadas a las columnas    \n",
    "I(A.n) & T(p[1])              # es la inversa de A\n",
    "# A * ( I(A.n) & T(p[1]) )    # descomente el principio de esta linea para comprobarlo"
   ]
  },
  {
   "cell_type": "code",
   "execution_count": 42,
   "metadata": {},
   "outputs": [
    {
     "data": {
      "text/html": [
       "<p style=\"text-align:center;\">$\\begin{bmatrix}\\frac{3}{4}&\\frac{1}{2}&\\frac{1}{4}\\\\\\frac{1}{2}&1&\\frac{1}{2}\\\\\\frac{1}{4}&\\frac{1}{2}&\\frac{3}{4}\\end{bmatrix}$</p>"
      ],
      "text/plain": [
       "Matrix([Vector([Fraction(3, 4), Fraction(1, 2), Fraction(1, 4)]); Vector([Fraction(1, 2), Fraction(1, 1), Fraction(1, 2)]); Vector([Fraction(1, 4), Fraction(1, 2), Fraction(3, 4)])])"
      ]
     },
     "execution_count": 42,
     "metadata": {},
     "output_type": "execute_result"
    }
   ],
   "source": [
    "A**-1                         # Devuelve la matriz inversa de A"
   ]
  },
  {
   "cell_type": "code",
   "execution_count": 43,
   "metadata": {},
   "outputs": [
    {
     "data": {
      "text/latex": [
       "$$\\left[\\begin{array}{ccc}2&-1&0\\\\-1&2&-1\\\\0&-1&2\\\\ \\hline 1&0&0\\\\0&1&0\\\\0&0&1\\\\\\end{array}\\right]\\xrightarrow{\\underset{\\begin{subarray}{c} \\left[\\left(2\\right)\\mathbf{2}\\right]\\\\\\left[\\left(1\\right)\\mathbf{1}+\\mathbf{2} \\right]\\end{subarray}}{\\mathbf{\\tau}}}\\left[\\begin{array}{ccc}2&0&0\\\\-1&3&-1\\\\0&-2&2\\\\ \\hline 1&1&0\\\\0&2&0\\\\0&0&1\\\\\\end{array}\\right]\\xrightarrow{\\underset{\\begin{subarray}{c} \\left[\\left(3\\right)\\mathbf{3}\\right]\\\\\\left[\\left(1\\right)\\mathbf{2}+\\mathbf{3} \\right]\\end{subarray}}{\\mathbf{\\tau}}}\\left[\\begin{array}{ccc}2&0&0\\\\-1&3&0\\\\0&-2&4\\\\ \\hline 1&1&1\\\\0&2&2\\\\0&0&3\\\\\\end{array}\\right]\\xrightarrow{\\underset{\\begin{subarray}{c} \\left[\\left(3\\right)\\mathbf{1}\\right]\\\\\\left[\\left(1\\right)\\mathbf{2}+\\mathbf{1} \\right]\\end{subarray}}{\\mathbf{\\tau}}}\\left[\\begin{array}{ccc}6&0&0\\\\0&3&0\\\\-2&-2&4\\\\ \\hline 4&1&1\\\\2&2&2\\\\0&0&3\\\\\\end{array}\\right]\\xrightarrow{\\underset{\\begin{subarray}{c} \\left[\\left(2\\right)\\mathbf{1}\\right]\\\\\\left[\\left(1\\right)\\mathbf{3}+\\mathbf{1} \\right]\\\\\\left[\\left(2\\right)\\mathbf{2}\\right]\\\\\\left[\\left(1\\right)\\mathbf{3}+\\mathbf{2} \\right]\\end{subarray}}{\\mathbf{\\tau}}}\\left[\\begin{array}{ccc}12&0&0\\\\0&6&0\\\\0&0&4\\\\ \\hline 9&3&1\\\\6&6&2\\\\3&3&3\\\\\\end{array}\\right]\\xrightarrow{\\underset{\\begin{subarray}{c} \\left[\\left(\\frac{1}{12}\\right)\\mathbf{1}\\right]\\\\\\left[\\left(\\frac{1}{6}\\right)\\mathbf{2}\\right]\\\\\\left[\\left(\\frac{1}{4}\\right)\\mathbf{3}\\right]\\end{subarray}}{\\mathbf{\\tau}}}\\left[\\begin{array}{ccc}1&0&0\\\\0&1&0\\\\0&0&1\\\\ \\hline \\frac{3}{4}&\\frac{1}{2}&\\frac{1}{4}\\\\\\frac{1}{2}&1&\\frac{1}{2}\\\\\\frac{1}{4}&\\frac{1}{2}&\\frac{3}{4}\\\\\\end{array}\\right]$$"
      ],
      "text/plain": [
       "<IPython.core.display.Math object>"
      ]
     },
     "metadata": {},
     "output_type": "display_data"
    },
    {
     "data": {
      "text/html": [
       "<p style=\"text-align:center;\">$\\begin{bmatrix}\\frac{3}{4}&\\frac{1}{2}&\\frac{1}{4}\\\\\\frac{1}{2}&1&\\frac{1}{2}\\\\\\frac{1}{4}&\\frac{1}{2}&\\frac{3}{4}\\end{bmatrix}$</p>"
      ],
      "text/plain": [
       "Matrix([Vector([Fraction(3, 4), Fraction(1, 2), Fraction(1, 4)]); Vector([Fraction(1, 2), Fraction(1, 1), Fraction(1, 2)]); Vector([Fraction(1, 4), Fraction(1, 2), Fraction(3, 4)])])"
      ]
     },
     "execution_count": 43,
     "metadata": {},
     "output_type": "execute_result"
    }
   ],
   "source": [
    "InvMat(A,1)                   # Calcula la inversa por eliminación Gauss-Jordan"
   ]
  },
  {
   "cell_type": "code",
   "execution_count": 44,
   "metadata": {},
   "outputs": [
    {
     "data": {
      "text/plain": [
       "3"
      ]
     },
     "execution_count": 44,
     "metadata": {},
     "output_type": "execute_result"
    }
   ],
   "source": [
    "Elim(A).rank"
   ]
  },
  {
   "cell_type": "markdown",
   "metadata": {},
   "source": [
    "### Lección 7"
   ]
  },
  {
   "cell_type": "code",
   "execution_count": 45,
   "metadata": {},
   "outputs": [
    {
     "data": {
      "text/latex": [
       "$$\\left[\\begin{array}{cccc}1&2&0&1\\\\0&1&1&0\\\\1&2&0&1\\\\ \\hline 1&0&0&0\\\\0&1&0&0\\\\0&0&1&0\\\\0&0&0&1\\\\\\end{array}\\right]\\xrightarrow{\\underset{\\begin{subarray}{c} \\left[\\left(-2\\right)\\mathbf{1}+\\mathbf{2} \\right]\\\\\\left[\\left(-1\\right)\\mathbf{1}+\\mathbf{4} \\right]\\end{subarray}}{\\mathbf{\\tau}}}\\left[\\begin{array}{cccc}1&0&0&0\\\\0&1&1&0\\\\1&0&0&0\\\\ \\hline 1&-2&0&-1\\\\0&1&0&0\\\\0&0&1&0\\\\0&0&0&1\\\\\\end{array}\\right]\\xrightarrow{\\underset{\\begin{subarray}{c} \\left[\\left(-1\\right)\\mathbf{2}+\\mathbf{3} \\right]\\end{subarray}}{\\mathbf{\\tau}}}\\left[\\begin{array}{cccc}1&0&0&0\\\\0&1&0&0\\\\1&0&0&0\\\\ \\hline 1&-2&2&-1\\\\0&1&-1&0\\\\0&0&1&0\\\\0&0&0&1\\\\\\end{array}\\right]$$"
      ],
      "text/plain": [
       "<IPython.core.display.Math object>"
      ]
     },
     "metadata": {},
     "output_type": "display_data"
    },
    {
     "data": {
      "text/html": [
       "<p style=\"text-align:center;\">$\\text{Conjunto de combinaciones lineales de }\\begin{pmatrix}2\\\\-1\\\\1\\\\0\\end{pmatrix},\\;\\begin{pmatrix}-1\\\\0\\\\0\\\\1\\end{pmatrix}$</p>"
      ],
      "text/plain": [
       "Combinaciones lineales de ([Vector([2, -1, 1, 0]); Vector([-1, 0, 0, 1])])"
      ]
     },
     "execution_count": 45,
     "metadata": {},
     "output_type": "execute_result"
    }
   ],
   "source": [
    "A = Matrix( [ [1,2,0,1],[0,1,1,0],[1,2,0,1] ] )\n",
    "Homogenea(A, 1)"
   ]
  },
  {
   "cell_type": "code",
   "execution_count": 46,
   "metadata": {},
   "outputs": [
    {
     "data": {
      "text/html": [
       "<p style=\"text-align:center;\">$\\left\\{ \\boldsymbol{v}\\in\\mathbb{R}^4\\ \\left|\\ \\exists\\boldsymbol{p}\\in\\mathbb{R}^2\\ \\text{tal que}\\ \\boldsymbol{v}= \\begin{bmatrix}2&0\\\\-1&-1\\\\1&1\\\\0&2\\end{bmatrix}\\boldsymbol{p}\\right. \\right\\}\\; = \\;\\left\\{ \\boldsymbol{v}\\in\\mathbb{R}^4\\ \\left|\\ \\begin{bmatrix}0&1&1&0\\\\1&2&0&1\\end{bmatrix}\\boldsymbol{v}=\\boldsymbol{0}\\right.\\right\\}$</p>"
      ],
      "text/plain": [
       "<notacion.SubEspacio at 0x7fd20c4ea8d0>"
      ]
     },
     "execution_count": 46,
     "metadata": {},
     "output_type": "execute_result"
    }
   ],
   "source": [
    "Homogenea(A).enulo        # Espacio Nulo de A"
   ]
  },
  {
   "cell_type": "markdown",
   "metadata": {},
   "source": [
    "### Lección 8"
   ]
  },
  {
   "cell_type": "code",
   "execution_count": 47,
   "metadata": {},
   "outputs": [
    {
     "data": {
      "text/latex": [
       "$$\\left[\\begin{array}{ccc|c}1&1&2&-5\\\\2&2&4&-10\\\\3&1&4&-1\\\\4&1&5&1\\\\ \\hline 1&0&0&0\\\\0&1&0&0\\\\0&0&1&0\\\\ \\hline 0&0&0&1\\\\\\end{array}\\right]\\xrightarrow{\\underset{\\begin{subarray}{c} \\left[\\left(-1\\right)\\mathbf{1}+\\mathbf{2} \\right]\\\\\\left[\\left(-2\\right)\\mathbf{1}+\\mathbf{3} \\right]\\\\\\left[\\left(5\\right)\\mathbf{1}+\\mathbf{4} \\right]\\end{subarray}}{\\mathbf{\\tau}}}\\left[\\begin{array}{ccc|c}1&0&0&0\\\\2&0&0&0\\\\3&-2&-2&14\\\\4&-3&-3&21\\\\ \\hline 1&-1&-2&5\\\\0&1&0&0\\\\0&0&1&0\\\\ \\hline 0&0&0&1\\\\\\end{array}\\right]\\xrightarrow{\\underset{\\begin{subarray}{c} \\left[\\left(-1\\right)\\mathbf{2}+\\mathbf{3} \\right]\\\\\\left[\\left(7\\right)\\mathbf{2}+\\mathbf{4} \\right]\\end{subarray}}{\\mathbf{\\tau}}}\\left[\\begin{array}{ccc|c}1&0&0&0\\\\2&0&0&0\\\\3&-2&0&0\\\\4&-3&0&0\\\\ \\hline 1&-1&-1&-2\\\\0&1&-1&7\\\\0&0&1&0\\\\ \\hline 0&0&0&1\\\\\\end{array}\\right]$$"
      ],
      "text/plain": [
       "<IPython.core.display.Math object>"
      ]
     },
     "metadata": {},
     "output_type": "display_data"
    },
    {
     "data": {
      "text/html": [
       "<p style=\"text-align:center;\">$\\text{Conjunto de vectores: }\\left\\{ \\boldsymbol{x}\\in\\mathbb{R}^3\\ \\left|\\ \\exists\\boldsymbol{p}\\in\\mathbb{R}^1\\ \\text{tal que}\\ \\boldsymbol{x}= \\begin{pmatrix}-2\\\\7\\\\0\\end{pmatrix}+\\begin{bmatrix}-1\\\\-1\\\\1\\end{bmatrix}\\boldsymbol{p}\\right. \\right\\}$</p>"
      ],
      "text/plain": [
       "Vector([Fraction(-2, 1), Fraction(7, 1), Fraction(0, 1)]) + Combinaciones lineales de ([Vector([-1, -1, 1])])"
      ]
     },
     "execution_count": 47,
     "metadata": {},
     "output_type": "execute_result"
    }
   ],
   "source": [
    "A = Matrix( [ [1,1,2],[2,2,4],[3,1,4],[4,1,5] ] )\n",
    "b = Vector( [5,10,1,-1] )\n",
    "SEL( A, b, 1 )                    # resuelve el Sistema de Ecuaciones Lineales"
   ]
  },
  {
   "cell_type": "code",
   "execution_count": 48,
   "metadata": {},
   "outputs": [
    {
     "data": {
      "text/latex": [
       "$$\\left[\\begin{array}{cccc|c}1&2&2&2&-2\\\\2&4&6&8&-2\\\\3&6&8&10&-4\\\\ \\hline 1&0&0&0&0\\\\0&1&0&0&0\\\\0&0&1&0&0\\\\0&0&0&1&0\\\\ \\hline 0&0&0&0&1\\\\\\end{array}\\right]\\xrightarrow{\\underset{\\begin{subarray}{c} \\left[\\left(-2\\right)\\mathbf{1}+\\mathbf{2} \\right]\\\\\\left[\\left(-2\\right)\\mathbf{1}+\\mathbf{3} \\right]\\\\\\left[\\left(-2\\right)\\mathbf{1}+\\mathbf{4} \\right]\\\\\\left[\\left(2\\right)\\mathbf{1}+\\mathbf{5} \\right]\\end{subarray}}{\\mathbf{\\tau}}}\\left[\\begin{array}{cccc|c}1&0&0&0&0\\\\2&0&2&4&2\\\\3&0&2&4&2\\\\ \\hline 1&-2&-2&-2&2\\\\0&1&0&0&0\\\\0&0&1&0&0\\\\0&0&0&1&0\\\\ \\hline 0&0&0&0&1\\\\\\end{array}\\right]\\xrightarrow{\\underset{\\begin{subarray}{c} \\left[\\left(-2\\right)\\mathbf{3}+\\mathbf{4} \\right]\\\\\\left[\\left(-1\\right)\\mathbf{3}+\\mathbf{5} \\right]\\end{subarray}}{\\mathbf{\\tau}}}\\left[\\begin{array}{cccc|c}1&0&0&0&0\\\\2&0&2&0&0\\\\3&0&2&0&0\\\\ \\hline 1&-2&-2&2&4\\\\0&1&0&0&0\\\\0&0&1&-2&-1\\\\0&0&0&1&0\\\\ \\hline 0&0&0&0&1\\\\\\end{array}\\right]$$"
      ],
      "text/plain": [
       "<IPython.core.display.Math object>"
      ]
     },
     "metadata": {},
     "output_type": "display_data"
    },
    {
     "data": {
      "text/html": [
       "<p style=\"text-align:center;\">$\\text{Conjunto de vectores: }\\left\\{ \\boldsymbol{x}\\in\\mathbb{R}^4\\ \\left|\\ \\exists\\boldsymbol{p}\\in\\mathbb{R}^2\\ \\text{tal que}\\ \\boldsymbol{x}= \\begin{pmatrix}4\\\\0\\\\-1\\\\0\\end{pmatrix}+\\begin{bmatrix}-2&2\\\\1&0\\\\0&-2\\\\0&1\\end{bmatrix}\\boldsymbol{p}\\right. \\right\\}$</p>"
      ],
      "text/plain": [
       "Vector([Fraction(4, 1), Fraction(0, 1), Fraction(-1, 1), Fraction(0, 1)]) + Combinaciones lineales de ([Vector([-2, 1, 0, 0]); Vector([2, 0, -2, 1])])"
      ]
     },
     "execution_count": 48,
     "metadata": {},
     "output_type": "execute_result"
    }
   ],
   "source": [
    "A = Matrix( [ [1,2,2,2],[2,4,6,8],[3,6,8,10] ] )\n",
    "b = Vector( [2,2,4] )\n",
    "SEL( A, b, 1 )                                   # resuelve el Sistema de Ecuaciones Lineales"
   ]
  },
  {
   "cell_type": "markdown",
   "metadata": {},
   "source": [
    "### Lección 9"
   ]
  },
  {
   "cell_type": "code",
   "execution_count": 49,
   "metadata": {},
   "outputs": [
    {
     "data": {
      "text/html": [
       "<p style=\"text-align:center;\">$\\left[\\begin{pmatrix}1\\\\0\\\\0\\end{pmatrix};\\;\\begin{pmatrix}-1\\\\0\\\\1\\end{pmatrix}\\right]$</p>"
      ],
      "text/plain": [
       "[Vector([1, 0, 0]); Vector([-1, 0, 1])]"
      ]
     },
     "execution_count": 49,
     "metadata": {},
     "output_type": "execute_result"
    }
   ],
   "source": [
    "D=Matrix([ Vector([1,0,0]), Vector([-1,0,1]) ])\n",
    "D.sis                                            # El atributo sis de cada Matrix es el Sistema formado por sus columnas"
   ]
  },
  {
   "cell_type": "code",
   "execution_count": 50,
   "metadata": {},
   "outputs": [
    {
     "data": {
      "text/html": [
       "<p style=\"text-align:center;\">$\\begin{bmatrix}1&7&1\\\\1&16&3\\end{bmatrix}$</p>"
      ],
      "text/plain": [
       "Matrix([Vector([1, 1]); Vector([7, 16]); Vector([1, 3])])"
      ]
     },
     "execution_count": 50,
     "metadata": {},
     "output_type": "execute_result"
    }
   ],
   "source": [
    "A = Matrix([ [1,-3, 0], [1,-6, 1] ])\n",
    "B = Matrix([ [1, 1, 1], [1, 2, 3] ])\n",
    "C = Matrix([ [1, 0, 0], [1, 1, 1] ])\n",
    "S = Sistema( [A, B, C] )                         # ¡Sistema de Matrices!\n",
    "S*Vector([-2, 1, 2])                             # Sistema por Vector (comb. lineal de matrices)"
   ]
  },
  {
   "cell_type": "code",
   "execution_count": 51,
   "metadata": {},
   "outputs": [
    {
     "data": {
      "text/html": [
       "<p style=\"text-align:center;\">$\\left[\\begin{bmatrix}1&-3&0\\\\1&-6&1\\end{bmatrix};\\;\\begin{bmatrix}0&3&0\\\\0&7&0\\end{bmatrix}\\right]$</p>"
      ],
      "text/plain": [
       "[Matrix([Vector([1, 1]); Vector([-3, -6]); Vector([0, 1])]); Matrix([Vector([0, 0]); Vector([3, 7]); Vector([0, 0])])]"
      ]
     },
     "execution_count": 51,
     "metadata": {},
     "output_type": "execute_result"
    }
   ],
   "source": [
    "D = Matrix([ Vector([1,0,0]), Vector([-1,0,1]) ])\n",
    "S*D                                              # Sistema por Matriz (Sistema de Matrices) "
   ]
  },
  {
   "cell_type": "code",
   "execution_count": 52,
   "metadata": {},
   "outputs": [
    {
     "data": {
      "text/html": [
       "<p style=\"text-align:center;\">$\\left\\{ \\boldsymbol{v}\\in\\mathbb{R}^3\\ \\left|\\ \\exists\\boldsymbol{p}\\in\\mathbb{R}^1\\ \\text{tal que}\\ \\boldsymbol{v}= \\begin{bmatrix}0\\\\-1\\\\1\\end{bmatrix}\\boldsymbol{p}\\right. \\right\\}\\; = \\;\\left\\{ \\boldsymbol{v}\\in\\mathbb{R}^3\\ \\left|\\ \\begin{bmatrix}1&0&0\\\\0&1&1\\end{bmatrix}\\boldsymbol{v}=\\boldsymbol{0}\\right.\\right\\}$</p>"
      ],
      "text/plain": [
       "<notacion.SubEspacio at 0x7fd20c4f31d0>"
      ]
     },
     "execution_count": 52,
     "metadata": {},
     "output_type": "execute_result"
    }
   ],
   "source": [
    "D = Matrix([ Vector([1,0,0]), Vector([-1,0,1]) ])\n",
    "SubEspacio( D.sis )                              # SubEspacio generado por el Sistema de columnas de D\n",
    "                                                 # muestra la representación con ec. paramétricas y cartesianas\n",
    "C = Matrix([ [1,0,0], [1,1,1] ])\n",
    "Homogenea(C).sgen                                # Sistema generador del espacio nulo de C\n",
    "Homogenea(C).enulo                               # Espacio nulo de C"
   ]
  },
  {
   "cell_type": "code",
   "execution_count": 53,
   "metadata": {},
   "outputs": [
    {
     "data": {
      "text/plain": [
       "True"
      ]
     },
     "execution_count": 53,
     "metadata": {},
     "output_type": "execute_result"
    }
   ],
   "source": [
    "A = Matrix( [[2,-1,0],[-1,2,-1]] )\n",
    "B = ElimGJ(Matrix(A))\n",
    "SubEspacio(A.sis) == SubEspacio(B.sis)           # ¿Son equivalentes los Sistemas A.sis y B.sis?"
   ]
  },
  {
   "cell_type": "code",
   "execution_count": null,
   "metadata": {
    "collapsed": true
   },
   "outputs": [],
   "source": []
  }
 ],
 "metadata": {
  "kernelspec": {
   "display_name": "Python 3",
   "language": "python",
   "name": "python3"
  },
  "language_info": {
   "codemirror_mode": {
    "name": "ipython",
    "version": 3
   },
   "file_extension": ".py",
   "mimetype": "text/x-python",
   "name": "python",
   "nbconvert_exporter": "python",
   "pygments_lexer": "ipython3",
   "version": "3.6.3"
  },
  "name": "Notebook.ipynb"
 },
 "nbformat": 4,
 "nbformat_minor": 2
}
