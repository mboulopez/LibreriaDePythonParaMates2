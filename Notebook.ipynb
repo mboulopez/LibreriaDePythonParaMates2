{
 "cells": [
  {
   "cell_type": "markdown",
   "metadata": {
    "ein.tags": "worksheet-0",
    "slideshow": {
     "slide_type": "-"
    }
   },
   "source": [
    "${\\huge\\text{Jupyter notebook}}$"
   ]
  },
  {
   "cell_type": "code",
   "execution_count": 1,
   "metadata": {
    "autoscroll": false,
    "collapsed": false,
    "ein.hycell": false,
    "ein.tags": "worksheet-0",
    "slideshow": {
     "slide_type": "-"
    }
   },
   "outputs": [],
   "source": [
    "from notacion import *"
   ]
  },
  {
   "cell_type": "code",
   "execution_count": 2,
   "metadata": {
    "collapsed": false
   },
   "outputs": [
    {
     "name": "stdout",
     "output_type": "stream",
     "text": [
      "Matrix([Vector([1, 0]); Vector([0, 2])])\n"
     ]
    }
   ],
   "source": [
    "print(Matrix([Vector([1,0]), Vector([0,2]), Vector([3,0])]) | (1,2))"
   ]
  },
  {
   "cell_type": "code",
   "execution_count": 75,
   "metadata": {
    "collapsed": false
   },
   "outputs": [],
   "source": [
    "A = Matrix( [ [1,2,1], [7,-3,0], [6,4,2] ] )\n",
    "B = I(3)\n",
    "C = A**-1\n",
    "Q=Sistema([A,B,C])\n",
    "TT=T({1,2})&T((-1,1,2))&T((10,1))\n",
    "ss=Sistema(A.sis)\n",
    "www=ss&TT"
   ]
  },
  {
   "cell_type": "code",
   "execution_count": 4,
   "metadata": {
    "collapsed": false
   },
   "outputs": [
    {
     "data": {
      "text/html": [
       "<p style=\"text-align:center;\">$\\begin{bmatrix}20&-1&1\\\\-30&10&0\\\\40&2&2\\end{bmatrix}$</p>"
      ],
      "text/plain": [
       "Matrix([Vector([20, -30, 40]); Vector([-1, 10, 2]); Vector([1, 0, 2])])"
      ]
     },
     "execution_count": 4,
     "metadata": {},
     "output_type": "execute_result"
    }
   ],
   "source": [
    "V=A&TT\n",
    "A"
   ]
  },
  {
   "cell_type": "code",
   "execution_count": 5,
   "metadata": {
    "collapsed": false
   },
   "outputs": [
    {
     "data": {
      "text/html": [
       "<p style=\"text-align:center;\">$\\begin{bmatrix}1&2&1\\\\7&-3&0\\\\6&4&2\\end{bmatrix}$</p>"
      ],
      "text/plain": [
       "Matrix([Vector([Fraction(1, 1), Fraction(7, 1), Fraction(6, 1)]); Vector([Fraction(2, 1), Fraction(-3, 1), Fraction(4, 1)]); Vector([1, 0, 2])])"
      ]
     },
     "execution_count": 5,
     "metadata": {},
     "output_type": "execute_result"
    }
   ],
   "source": [
    "V&(TT**-1)\n",
    "V"
   ]
  },
  {
   "cell_type": "code",
   "execution_count": 6,
   "metadata": {
    "collapsed": false
   },
   "outputs": [
    {
     "data": {
      "text/plain": [
       "[1, 2, 3]"
      ]
     },
     "execution_count": 6,
     "metadata": {},
     "output_type": "execute_result"
    }
   ],
   "source": [
    "Normal(A).rank"
   ]
  },
  {
   "cell_type": "code",
   "execution_count": 7,
   "metadata": {
    "collapsed": false
   },
   "outputs": [
    {
     "data": {
      "text/plain": [
       "[Vector([1, 2, 3]), Vector([2, 3, 4])]"
      ]
     },
     "execution_count": 7,
     "metadata": {},
     "output_type": "execute_result"
    }
   ],
   "source": [
    "Matrix((Vector([1,2,3]),Vector([2,3,4]))).sis.lista"
   ]
  },
  {
   "cell_type": "code",
   "execution_count": 8,
   "metadata": {
    "collapsed": false
   },
   "outputs": [
    {
     "data": {
      "text/html": [
       "<p style=\"text-align:center;\">$\\begin{bmatrix}1&2&3\\\\2&3&4\\end{bmatrix}$</p>"
      ],
      "text/plain": [
       "Matrix([Vector([1, 2]); Vector([2, 3]); Vector([3, 4])])"
      ]
     },
     "execution_count": 8,
     "metadata": {},
     "output_type": "execute_result"
    }
   ],
   "source": [
    "Matrix(Sistema([[1,2,3],[2,3,4]]))"
   ]
  },
  {
   "cell_type": "code",
   "execution_count": 76,
   "metadata": {
    "collapsed": false
   },
   "outputs": [
    {
     "data": {
      "text/html": [
       "<p style=\"text-align:center;\">$\\begin{bmatrix}1&2&1\\\\7&-3&0\\\\6&4&2\\end{bmatrix}$</p>"
      ],
      "text/plain": [
       "Matrix([Vector([1, 7, 6]); Vector([2, -3, 4]); Vector([1, 0, 2])])"
      ]
     },
     "execution_count": 76,
     "metadata": {},
     "output_type": "execute_result"
    }
   ],
   "source": [
    "A = Matrix( [ [1,2,1], [7,-3,0], [6,4,2] ] )\n",
    "A"
   ]
  },
  {
   "cell_type": "code",
   "execution_count": 10,
   "metadata": {
    "collapsed": false
   },
   "outputs": [
    {
     "data": {
      "text/html": [
       "<p style=\"text-align:center;\">$\\begin{bmatrix}1&2&1\\\\7&-3&0\\\\6&4&2\\end{bmatrix}$</p>"
      ],
      "text/plain": [
       "Matrix([Vector([1, 7, 6]); Vector([2, -3, 4]); Vector([1, 0, 2])])"
      ]
     },
     "execution_count": 10,
     "metadata": {},
     "output_type": "execute_result"
    }
   ],
   "source": [
    "Matrix({1}|A|{2})"
   ]
  },
  {
   "cell_type": "code",
   "execution_count": 11,
   "metadata": {
    "autoscroll": false,
    "collapsed": false,
    "ein.hycell": false,
    "ein.tags": "worksheet-0",
    "slideshow": {
     "slide_type": "-"
    }
   },
   "outputs": [
    {
     "data": {
      "text/html": [
       "<p style=\"text-align:center;\">$\\begin{bmatrix}1&5\\\\2&6\\\\3&7\\\\4&8\\end{bmatrix}$</p>"
      ],
      "text/plain": [
       "Matrix([Vector([1, 2, 3, 4]); Vector([5, 6, 7, 8])])"
      ]
     },
     "execution_count": 11,
     "metadata": {},
     "output_type": "execute_result"
    }
   ],
   "source": [
    "Matrix([Vector([1,2,3,4]),Vector([5,6,7,8])])"
   ]
  },
  {
   "cell_type": "code",
   "execution_count": 12,
   "metadata": {
    "collapsed": false
   },
   "outputs": [
    {
     "data": {
      "text/plain": [
       "True"
      ]
     },
     "execution_count": 12,
     "metadata": {},
     "output_type": "execute_result"
    }
   ],
   "source": [
    "A = Sistema( [1,2,3] )\n",
    "B=Sistema( Sistema( [1,2,3] ) )\n",
    "A==B"
   ]
  },
  {
   "cell_type": "code",
   "execution_count": 13,
   "metadata": {
    "autoscroll": false,
    "collapsed": false,
    "ein.hycell": false,
    "ein.tags": "worksheet-0",
    "slideshow": {
     "slide_type": "-"
    }
   },
   "outputs": [
    {
     "data": {
      "text/latex": [
       "$$\\left[\\begin{array}{cccc}1&-1&1&-1\\\\1&-1&1&-1\\\\1&-1&1&-1\\\\ \\hline 1&0&0&0\\\\0&1&0&0\\\\0&0&1&0\\\\0&0&0&1\\\\\\end{array}\\right]\\xrightarrow{\\underset{\\begin{subarray}{c} \\left[\\left(1\\right)\\mathbf{1}+\\mathbf{2} \\right]\\\\\\left[\\left(-1\\right)\\mathbf{1}+\\mathbf{3} \\right]\\\\\\left[\\left(1\\right)\\mathbf{1}+\\mathbf{4} \\right]\\end{subarray}}{\\mathbf{\\tau}}}\\left[\\begin{array}{cccc}1&0&0&0\\\\1&0&0&0\\\\1&0&0&0\\\\ \\hline 1&1&-1&1\\\\0&1&0&0\\\\0&0&1&0\\\\0&0&0&1\\\\\\end{array}\\right]$$"
      ],
      "text/plain": [
       "<IPython.core.display.Math object>"
      ]
     },
     "metadata": {},
     "output_type": "display_data"
    }
   ],
   "source": [
    "A=Matrix([[1,1,0],[1,0,0],[1,1,1]])\n",
    "a=Vector([1,1,1])\n",
    "A=Matrix([a,-a,a,-a])\n",
    "#A=Matrix([[1,2,-4],[-1,1,3],[1,5,-5]])\n",
    "H=Homogenea(A,1)"
   ]
  },
  {
   "cell_type": "code",
   "execution_count": 14,
   "metadata": {
    "collapsed": false
   },
   "outputs": [
    {
     "data": {
      "text/html": [
       "<p style=\"text-align:center;\">$\\left[\\begin{pmatrix}1\\\\1\\\\0\\\\0\\end{pmatrix};\\;\\begin{pmatrix}-1\\\\0\\\\1\\\\0\\end{pmatrix};\\;\\begin{pmatrix}1\\\\0\\\\0\\\\1\\end{pmatrix}\\right]$</p>"
      ],
      "text/plain": [
       "[Vector([1, 1, 0, 0]); Vector([-1, 0, 1, 0]); Vector([1, 0, 0, 1])]"
      ]
     },
     "execution_count": 14,
     "metadata": {},
     "output_type": "execute_result"
    }
   ],
   "source": [
    "H.sgen"
   ]
  },
  {
   "cell_type": "code",
   "execution_count": 15,
   "metadata": {
    "collapsed": false
   },
   "outputs": [
    {
     "data": {
      "text/html": [
       "<p style=\"text-align:center;\">$\\left[\\begin{pmatrix}1\\\\1\\\\0\\\\0\\end{pmatrix};\\;\\begin{pmatrix}0\\\\1\\\\1\\\\0\\end{pmatrix};\\;\\begin{pmatrix}0\\\\0\\\\1\\\\1\\end{pmatrix}\\right]$</p>"
      ],
      "text/plain": [
       "[Vector([1, 1, 0, 0]); Vector([0, 1, 1, 0]); Vector([0, 0, 1, 1])]"
      ]
     },
     "execution_count": 15,
     "metadata": {},
     "output_type": "execute_result"
    }
   ],
   "source": [
    "H.enulo.sgen"
   ]
  },
  {
   "cell_type": "code",
   "execution_count": 16,
   "metadata": {
    "autoscroll": false,
    "collapsed": false,
    "ein.hycell": false,
    "ein.tags": "worksheet-0",
    "slideshow": {
     "slide_type": "-"
    }
   },
   "outputs": [
    {
     "data": {
      "text/html": [
       "<p style=\"text-align:center;\">$\\underset{\\begin{subarray}{c} \\left[\\mathbf{1}\\rightleftharpoons\\mathbf{2}\\right]\\\\\\left[\\left(\\frac{1}{2}\\right)\\mathbf{3}\\right]\\\\\\left[\\left(-1\\right)\\mathbf{2}+\\mathbf{3} \\right]\\end{subarray}}{\\mathbf{\\tau}}$</p>"
      ],
      "text/plain": [
       "T([{1, 2}, (Fraction(1, 2), 3), (-1, 2, 3)])"
      ]
     },
     "execution_count": 16,
     "metadata": {},
     "output_type": "execute_result"
    }
   ],
   "source": [
    "t= T([(1,2,3),(2,3),{1,2}])\n",
    "t**-1"
   ]
  },
  {
   "cell_type": "code",
   "execution_count": 17,
   "metadata": {
    "autoscroll": false,
    "collapsed": false,
    "ein.hycell": false,
    "ein.tags": "worksheet-0",
    "slideshow": {
     "slide_type": "-"
    }
   },
   "outputs": [
    {
     "name": "stdout",
     "output_type": "stream",
     "text": [
      "T([{1}, (Fraction(1, 1), 1), (Fraction(-2, 1), 1, 2), (Fraction(-1, 1), 1, 3), {2}, (Fraction(-1, 17), 2), (Fraction(-7, 1), 2, 1), (Fraction(7, 1), 2, 3), {3}, (Fraction(-17, 12), 3), (Fraction(-46, 17), 3, 1), (Fraction(-8, 17), 3, 2)])\n"
     ]
    },
    {
     "data": {
      "text/html": [
       "<p style=\"text-align:center;\">$\\begin{bmatrix}\\frac{-1}{2}&0&\\frac{1}{4}\\\\\\frac{-7}{6}&\\frac{-1}{3}&\\frac{7}{12}\\\\\\frac{23}{6}&\\frac{2}{3}&\\frac{-17}{12}\\end{bmatrix}$</p>"
      ],
      "text/plain": [
       "Matrix([Vector([Fraction(-1, 2), Fraction(-7, 6), Fraction(23, 6)]); Vector([Fraction(0, 1), Fraction(-1, 3), Fraction(2, 3)]); Vector([Fraction(1, 4), Fraction(7, 12), Fraction(-17, 12)])])"
      ]
     },
     "execution_count": 17,
     "metadata": {},
     "output_type": "execute_result"
    }
   ],
   "source": [
    "A = Matrix( [ [1,2,1], [7,-3,0], [6,4,2] ] )\n",
    "p = EGJCN(A).pasos\n",
    "print(T(p[1]))                   # secuencia de las transformaciones aplicadas a las colunas    \n",
    "I(A.n) & T(p[1])              # es la inversa de A\n",
    "#A * ( I(A.n) & T(p[1]) )    # descomente el principio de esta linea para comprobarlo"
   ]
  },
  {
   "cell_type": "code",
   "execution_count": 18,
   "metadata": {
    "autoscroll": false,
    "collapsed": false,
    "ein.hycell": false,
    "ein.tags": "worksheet-0",
    "slideshow": {
     "slide_type": "-"
    }
   },
   "outputs": [
    {
     "data": {
      "text/html": [
       "<p style=\"text-align:center;\">$\\underset{\\begin{subarray}{c} \\end{subarray}}{\\mathbf{\\tau}}$</p>"
      ],
      "text/plain": [
       "T([])"
      ]
     },
     "execution_count": 18,
     "metadata": {},
     "output_type": "execute_result"
    }
   ],
   "source": [
    "T(InvMat(Matrix([[1,3],[2,7]])).pasos[0])"
   ]
  },
  {
   "cell_type": "code",
   "execution_count": 19,
   "metadata": {
    "autoscroll": false,
    "collapsed": false,
    "ein.hycell": false,
    "ein.tags": "worksheet-0",
    "slideshow": {
     "slide_type": "-"
    }
   },
   "outputs": [
    {
     "data": {
      "text/html": [
       "<p style=\"text-align:center;\">$\\begin{bmatrix}\\frac{29}{24}&\\frac{1}{6}&\\frac{-23}{48}\\\\\\frac{77}{24}&\\frac{1}{2}&\\frac{-21}{16}\\\\\\frac{-65}{8}&\\frac{-7}{6}&\\frac{161}{48}\\end{bmatrix}$</p>"
      ],
      "text/plain": [
       "Matrix([Vector([Fraction(29, 24), Fraction(77, 24), Fraction(-65, 8)]); Vector([Fraction(1, 6), Fraction(1, 2), Fraction(-7, 6)]); Vector([Fraction(-23, 48), Fraction(-21, 16), Fraction(161, 48)])])"
      ]
     },
     "execution_count": 19,
     "metadata": {},
     "output_type": "execute_result"
    }
   ],
   "source": [
    "A**(-2)"
   ]
  },
  {
   "cell_type": "code",
   "execution_count": 20,
   "metadata": {
    "collapsed": false
   },
   "outputs": [
    {
     "data": {
      "text/latex": [
       "$$\\begin{bmatrix}\\frac{29}{24}&\\frac{1}{6}&\\frac{-23}{48}\\\\\\frac{77}{24}&\\frac{1}{2}&\\frac{-21}{16}\\\\\\frac{-65}{8}&\\frac{-7}{6}&\\frac{161}{48}\\end{bmatrix}\\xrightarrow{\\underset{\\begin{subarray}{c} \\left[\\left(29\\right)\\mathbf{2}\\right]\\\\\\left[\\left(-4\\right)\\mathbf{1}+\\mathbf{2} \\right]\\\\\\left[\\left(58\\right)\\mathbf{3}\\right]\\\\\\left[\\left(23\\right)\\mathbf{1}+\\mathbf{3} \\right]\\end{subarray}}{\\mathbf{\\tau}}}\\begin{bmatrix}\\frac{29}{24}&0&0\\\\\\frac{77}{24}&\\frac{5}{3}&\\frac{-7}{3}\\\\\\frac{-65}{8}&\\frac{-4}{3}&\\frac{23}{3}\\end{bmatrix}\\xrightarrow{\\underset{\\begin{subarray}{c} \\left[\\left(5\\right)\\mathbf{3}\\right]\\\\\\left[\\left(7\\right)\\mathbf{2}+\\mathbf{3} \\right]\\end{subarray}}{\\mathbf{\\tau}}}\\begin{bmatrix}\\frac{29}{24}&0&0\\\\\\frac{77}{24}&\\frac{5}{3}&0\\\\\\frac{-65}{8}&\\frac{-4}{3}&29\\end{bmatrix}$$"
      ],
      "text/plain": [
       "<IPython.core.display.Math object>"
      ]
     },
     "metadata": {},
     "output_type": "display_data"
    },
    {
     "data": {
      "text/html": [
       "<p style=\"text-align:center;\">$\\begin{bmatrix}\\frac{29}{24}&0&0\\\\\\frac{77}{24}&\\frac{5}{3}&0\\\\\\frac{-65}{8}&\\frac{-4}{3}&29\\end{bmatrix}$</p>"
      ],
      "text/plain": [
       "Matrix([Vector([Fraction(29, 24), Fraction(77, 24), Fraction(-65, 8)]); Vector([Fraction(0, 1), Fraction(5, 3), Fraction(-4, 3)]); Vector([Fraction(0, 1), Fraction(0, 1), Fraction(29, 1)])])"
      ]
     },
     "execution_count": 20,
     "metadata": {},
     "output_type": "execute_result"
    }
   ],
   "source": [
    "EGCsd(A**-2,1)"
   ]
  },
  {
   "cell_type": "code",
   "execution_count": 21,
   "metadata": {
    "autoscroll": false,
    "collapsed": false,
    "ein.hycell": false,
    "ein.tags": "worksheet-0",
    "slideshow": {
     "slide_type": "-"
    }
   },
   "outputs": [
    {
     "data": {
      "text/html": [
       "<p style=\"text-align:center;\">$\\begin{bmatrix}\\frac{29}{24}&\\frac{1}{6}&\\frac{-23}{48}\\\\\\frac{77}{24}&\\frac{1}{2}&\\frac{-21}{16}\\\\\\frac{-65}{8}&\\frac{-7}{6}&\\frac{161}{48}\\end{bmatrix}$</p>"
      ],
      "text/plain": [
       "Matrix([Vector([Fraction(29, 24), Fraction(77, 24), Fraction(-65, 8)]); Vector([Fraction(1, 6), Fraction(1, 2), Fraction(-7, 6)]); Vector([Fraction(-23, 48), Fraction(-21, 16), Fraction(161, 48)])])"
      ]
     },
     "execution_count": 21,
     "metadata": {},
     "output_type": "execute_result"
    }
   ],
   "source": [
    "(A**(2))**-1"
   ]
  },
  {
   "cell_type": "code",
   "execution_count": 22,
   "metadata": {
    "autoscroll": false,
    "collapsed": false,
    "ein.hycell": false,
    "ein.tags": "worksheet-0",
    "slideshow": {
     "slide_type": "-"
    }
   },
   "outputs": [
    {
     "data": {
      "text/html": [
       "<p style=\"text-align:center;\">$\\begin{bmatrix}21&0&3\\\\-14&23&7\\\\46&8&10\\end{bmatrix}$</p>"
      ],
      "text/plain": [
       "Matrix([Vector([Fraction(21, 1), Fraction(-14, 1), Fraction(46, 1)]); Vector([Fraction(0, 1), Fraction(23, 1), Fraction(8, 1)]); Vector([Fraction(3, 1), Fraction(7, 1), Fraction(10, 1)])])"
      ]
     },
     "execution_count": 22,
     "metadata": {},
     "output_type": "execute_result"
    }
   ],
   "source": [
    "(A**(-1))**-2"
   ]
  },
  {
   "cell_type": "code",
   "execution_count": 23,
   "metadata": {
    "autoscroll": false,
    "collapsed": false,
    "ein.hycell": false,
    "ein.tags": "worksheet-0",
    "slideshow": {
     "slide_type": "-"
    }
   },
   "outputs": [
    {
     "data": {
      "text/html": [
       "<p style=\"text-align:center;\">$\\begin{bmatrix}21&0&3\\\\-14&23&7\\\\46&8&10\\end{bmatrix}$</p>"
      ],
      "text/plain": [
       "Matrix([Vector([21, -14, 46]); Vector([0, 23, 8]); Vector([3, 7, 10])])"
      ]
     },
     "execution_count": 23,
     "metadata": {},
     "output_type": "execute_result"
    }
   ],
   "source": [
    "A**2"
   ]
  },
  {
   "cell_type": "code",
   "execution_count": 24,
   "metadata": {
    "autoscroll": false,
    "collapsed": false,
    "ein.hycell": false,
    "ein.tags": "worksheet-0",
    "slideshow": {
     "slide_type": "-"
    }
   },
   "outputs": [
    {
     "data": {
      "text/html": [
       "<p style=\"text-align:center;\">$\\left[\\begin{pmatrix}1\\\\0\\end{pmatrix};\\;\\begin{pmatrix}2\\\\1\\end{pmatrix};\\;\\begin{pmatrix}3\\\\0\\end{pmatrix}\\right]$</p>"
      ],
      "text/plain": [
       "[Vector([1, 0]); Vector([2, 1]); Vector([3, 0])]"
      ]
     },
     "execution_count": 24,
     "metadata": {},
     "output_type": "execute_result"
    }
   ],
   "source": [
    "a = Vector( [1, 0] )\n",
    "b = Vector( [2, 1] )\n",
    "c = Vector( [3, 0] )\n",
    "B = Matrix( [a, b, c] )\n",
    "S = Sistema( [a, b, c] )\n",
    "S"
   ]
  },
  {
   "cell_type": "code",
   "execution_count": 25,
   "metadata": {
    "autoscroll": false,
    "collapsed": false,
    "ein.hycell": false,
    "ein.tags": "worksheet-0",
    "slideshow": {
     "slide_type": "-"
    }
   },
   "outputs": [
    {
     "data": {
      "text/html": [
       "<p style=\"text-align:center;\">$\\left[\\left[\\begin{bmatrix}1&2\\end{bmatrix};\\;\\begin{bmatrix}3\\end{bmatrix}\\right];\\;\\left[\\begin{bmatrix}0&1\\end{bmatrix};\\;\\begin{bmatrix}0\\end{bmatrix}\\right]\\right]$</p>"
      ],
      "text/plain": [
       "[[Matrix([Vector([1]); Vector([2])]); Matrix([Vector([3])])]; [Matrix([Vector([0]); Vector([1])]); Matrix([Vector([0])])]]"
      ]
     },
     "execution_count": 25,
     "metadata": {},
     "output_type": "execute_result"
    }
   ],
   "source": [
    "({1}|Matrix( S)|{2}).sis[0]\n",
    "BlockMatrix(Sistema(({1}|Matrix( S)|{2}).sis)).sis"
   ]
  },
  {
   "cell_type": "code",
   "execution_count": 26,
   "metadata": {
    "autoscroll": false,
    "collapsed": false,
    "ein.hycell": false,
    "ein.tags": "worksheet-0",
    "slideshow": {
     "slide_type": "-"
    }
   },
   "outputs": [
    {
     "data": {
      "text/html": [
       "<p style=\"text-align:center;\">$\\left[\\begin{pmatrix}1\\\\0\\end{pmatrix};\\;\\begin{pmatrix}2\\\\1\\end{pmatrix};\\;\\begin{pmatrix}3\\\\0\\end{pmatrix}\\right]$</p>"
      ],
      "text/plain": [
       "[Vector([1, 0]); Vector([2, 1]); Vector([3, 0])]"
      ]
     },
     "execution_count": 26,
     "metadata": {},
     "output_type": "execute_result"
    }
   ],
   "source": [
    "#A = Matrix( [[5,0,0], [2,-2,0], [6,9,3]] )\n",
    "#D = ECUN(A,1)\n",
    "S"
   ]
  },
  {
   "cell_type": "code",
   "execution_count": 78,
   "metadata": {
    "autoscroll": false,
    "collapsed": false,
    "ein.hycell": false,
    "ein.tags": "worksheet-0",
    "slideshow": {
     "slide_type": "-"
    }
   },
   "outputs": [
    {
     "data": {
      "text/html": [
       "<p style=\"text-align:center;\">$\\left\\{ \\boldsymbol{v}\\in\\mathbb{R}^2\\ \\left|\\ \\exists\\boldsymbol{p}\\in\\mathbb{R}^1\\ \\text{tal que}\\ \\boldsymbol{v}= \\begin{bmatrix}0\\\\0\\end{bmatrix}\\boldsymbol{p}\\right. \\right\\}\\; = \\;\\left\\{ \\boldsymbol{v}\\in\\mathbb{R}^2\\ \\left|\\ \\begin{bmatrix}1&0\\\\0&1\\end{bmatrix}\\boldsymbol{v}=\\boldsymbol{0}\\right.\\right\\}$</p>"
      ],
      "text/plain": [
       "<notacion.SubEspacio at 0x7f04932cac18>"
      ]
     },
     "execution_count": 78,
     "metadata": {},
     "output_type": "execute_result"
    }
   ],
   "source": [
    "AA=SubEspacio(S)\n",
    "BB=SubEspacio(A|(1,))\n",
    "#BB.cartesianas\n",
    "AA\n",
    "CC=SubEspacio(Matrix([[0, 1],[1,3]]))\n",
    "CC"
   ]
  },
  {
   "cell_type": "code",
   "execution_count": 28,
   "metadata": {
    "collapsed": false
   },
   "outputs": [
    {
     "data": {
      "text/html": [
       "<p style=\"text-align:center;\">$\\left\\{ \\boldsymbol{v}\\in\\mathbb{R}^1\\ \\left|\\ \\exists\\boldsymbol{p}\\in\\mathbb{R}^1\\ \\text{tal que}\\ \\boldsymbol{v}= \\begin{bmatrix}0\\end{bmatrix}\\boldsymbol{p}\\right. \\right\\}\\; = \\;\\left\\{ \\boldsymbol{v}\\in\\mathbb{R}^1\\ \\left|\\ \\begin{bmatrix}1\\end{bmatrix}\\boldsymbol{v}=\\boldsymbol{0}\\right.\\right\\}$</p>"
      ],
      "text/plain": [
       "<notacion.SubEspacio at 0x7f04a80337b8>"
      ]
     },
     "execution_count": 28,
     "metadata": {},
     "output_type": "execute_result"
    }
   ],
   "source": [
    "SubEspacio(A|(1,))"
   ]
  },
  {
   "cell_type": "code",
   "execution_count": null,
   "metadata": {
    "collapsed": true
   },
   "outputs": [],
   "source": []
  },
  {
   "cell_type": "code",
   "execution_count": 29,
   "metadata": {
    "autoscroll": false,
    "collapsed": false,
    "ein.hycell": false,
    "ein.tags": "worksheet-0",
    "slideshow": {
     "slide_type": "-"
    }
   },
   "outputs": [
    {
     "data": {
      "text/html": [
       "<p style=\"text-align:center;\">$\\left[\\begin{pmatrix}1\\\\7\\\\6\\end{pmatrix};\\;\\begin{pmatrix}2\\\\-3\\\\4\\end{pmatrix};\\;\\begin{pmatrix}1\\\\0\\\\2\\end{pmatrix}\\right]$</p>"
      ],
      "text/plain": [
       "[Vector([1, 7, 6]); Vector([2, -3, 4]); Vector([1, 0, 2])]"
      ]
     },
     "execution_count": 29,
     "metadata": {},
     "output_type": "execute_result"
    }
   ],
   "source": [
    "#Sistema([Matrix(A.sis),A.sis])\n",
    "A.sis"
   ]
  },
  {
   "cell_type": "code",
   "execution_count": 30,
   "metadata": {
    "autoscroll": false,
    "collapsed": false,
    "ein.hycell": false,
    "ein.tags": "worksheet-0",
    "slideshow": {
     "slide_type": "-"
    }
   },
   "outputs": [
    {
     "data": {
      "text/plain": [
       "False"
      ]
     },
     "execution_count": 30,
     "metadata": {},
     "output_type": "execute_result"
    }
   ],
   "source": [
    "(AA.Rn,CC.Rn)\n",
    "AA.contenidoEn(CC)\n",
    "#(AA & CC).cart\n",
    "#(~AA + AA).sgen\n",
    "a in CC"
   ]
  },
  {
   "cell_type": "code",
   "execution_count": 31,
   "metadata": {
    "autoscroll": false,
    "collapsed": false,
    "ein.hycell": false,
    "ein.tags": "worksheet-0",
    "slideshow": {
     "slide_type": "-"
    }
   },
   "outputs": [
    {
     "data": {
      "text/html": [
       "<p style=\"text-align:center;\">$\\begin{bmatrix}\\frac{-3}{2}&0&1\\end{bmatrix}$</p>"
      ],
      "text/plain": [
       "Matrix([Vector([Fraction(-3, 2)]); Vector([Fraction(0, 1)]); Vector([Fraction(1, 1)])])"
      ]
     },
     "execution_count": 31,
     "metadata": {},
     "output_type": "execute_result"
    }
   ],
   "source": [
    "D=Sistema([Vector([0,1,0]),Vector([2,1,3])])\n",
    "SubEspacio(Matrix([[-3,0,2],[6,0,-4]])).cart"
   ]
  },
  {
   "cell_type": "code",
   "execution_count": 32,
   "metadata": {
    "collapsed": false
   },
   "outputs": [
    {
     "data": {
      "text/html": [
       "<p style=\"text-align:center;\">$\\left[\\begin{array}{cc|cc}0&2&0&2\\\\1&1&1&1\\\\0&3&0&3\\\\\\end{array}\\right]$</p>"
      ],
      "text/plain": [
       "BlockMatrix([[Matrix([Vector([0, 1, 0]); Vector([2, 1, 3])]); Matrix([Vector([0, 1, 0]); Vector([2, 1, 3])])]])"
      ]
     },
     "execution_count": 32,
     "metadata": {},
     "output_type": "execute_result"
    }
   ],
   "source": [
    "BlockMatrix([[Matrix(D),Matrix(D)]])"
   ]
  },
  {
   "cell_type": "code",
   "execution_count": 33,
   "metadata": {
    "autoscroll": false,
    "collapsed": false,
    "ein.hycell": false,
    "ein.tags": "worksheet-0",
    "slideshow": {
     "slide_type": "-"
    }
   },
   "outputs": [
    {
     "data": {
      "text/html": [
       "<p style=\"text-align:center;\">$\\left[\\begin{pmatrix}2\\\\1\\\\3\\end{pmatrix};\\;\\begin{pmatrix}0\\\\1\\\\0\\end{pmatrix}\\right]$</p>"
      ],
      "text/plain": [
       "[Vector([2, 1, 3]); Vector([0, 1, 0])]"
      ]
     },
     "execution_count": 33,
     "metadata": {},
     "output_type": "execute_result"
    }
   ],
   "source": [
    "SubEspacio(Sistema([Vector([0,1,0]),Vector([2,1,3]),Vector([2,-2,3])])).base"
   ]
  },
  {
   "cell_type": "code",
   "execution_count": 34,
   "metadata": {
    "autoscroll": false,
    "collapsed": false,
    "ein.hycell": false,
    "ein.tags": "worksheet-0",
    "slideshow": {
     "slide_type": "-"
    }
   },
   "outputs": [
    {
     "data": {
      "text/html": [
       "<p style=\"text-align:center;\">$\\left[\\begin{pmatrix}0\\\\0\\end{pmatrix}\\right]$</p>"
      ],
      "text/plain": [
       "[Vector([0, 0])]"
      ]
     },
     "execution_count": 34,
     "metadata": {},
     "output_type": "execute_result"
    }
   ],
   "source": [
    "Sistema([Vector([0,0])])"
   ]
  },
  {
   "cell_type": "code",
   "execution_count": 35,
   "metadata": {
    "autoscroll": false,
    "collapsed": false,
    "ein.hycell": false,
    "ein.tags": "worksheet-0",
    "slideshow": {
     "slide_type": "-"
    }
   },
   "outputs": [
    {
     "data": {
      "text/html": [
       "<p style=\"text-align:center;\">$\\left[\\begin{pmatrix}0,&0,&0\\end{pmatrix};\\;\\begin{bmatrix}1&2&1\\\\7&-3&0\\\\6&4&2\\end{bmatrix};\\;\\left[\\begin{pmatrix}1\\\\0\\end{pmatrix};\\;\\begin{pmatrix}0\\\\1\\end{pmatrix}\\right];\\;\\begin{pmatrix}1\\\\0\\end{pmatrix};\\;\\underset{\\begin{subarray}{c} \\left[\\left(2\\right)\\mathbf{3}\\right]\\\\\\left[\\mathbf{2}\\rightleftharpoons\\mathbf{4}\\right]\\\\\\left[\\left(1\\right)\\mathbf{2}+\\mathbf{3} \\right]\\end{subarray}}{\\mathbf{\\tau}};\\;\\frac{1}{3};\\;40\\right]$</p>"
      ],
      "text/plain": [
       "[Vector([0, 0, 0]); Matrix([Vector([1, 7, 6]); Vector([2, -3, 4]); Vector([1, 0, 2])]); [Vector([1, 0]); Vector([0, 1])]; Vector([1, 0]); T([(2, 3), {2, 4}, (1, 2, 3)]); Fraction(1, 3); 40]"
      ]
     },
     "execution_count": 35,
     "metadata": {},
     "output_type": "execute_result"
    }
   ],
   "source": [
    "zz=Sistema([V0(3, rpr='fila'),A,AA.base,a,T([(2,3),{2,4},(1,2,3)]),Fraction(1,3),40])\n",
    "zzz=Sistema((1,2,3))\n",
    "#[A,B,AA.base,a,T((2,3))]\n",
    "#{A,B,AA.base,a,T((2,3))}\n",
    "#[T((5,4)),T((2,3)),T({1,2})]\n",
    "#zzz=Sistema((1,2,3,4))+k\n",
    "#zzz.lista\n",
    "#k\n",
    "Sistema(zz)+zzz+zz\n",
    "xx=zz.copy()\n",
    "yy=Sistema(zz)\n",
    "zz.lista[0]=0\n",
    "xx\n",
    "yy"
   ]
  },
  {
   "cell_type": "code",
   "execution_count": 36,
   "metadata": {
    "autoscroll": false,
    "collapsed": false,
    "ein.hycell": false,
    "ein.tags": "worksheet-0",
    "slideshow": {
     "slide_type": "-"
    }
   },
   "outputs": [
    {
     "data": {
      "text/html": [
       "<p style=\"text-align:center;\">$\\left[40;\\;\\frac{1}{3};\\;\\underset{\\begin{subarray}{c} \\left[\\left(2\\right)\\mathbf{3}\\right]\\\\\\left[\\mathbf{2}\\rightleftharpoons\\mathbf{4}\\right]\\\\\\left[\\left(1\\right)\\mathbf{2}+\\mathbf{3} \\right]\\end{subarray}}{\\mathbf{\\tau}};\\;\\begin{pmatrix}1\\\\0\\end{pmatrix};\\;\\left[\\begin{pmatrix}1\\\\0\\end{pmatrix};\\;\\begin{pmatrix}0\\\\1\\end{pmatrix}\\right];\\;\\begin{bmatrix}1&2&1\\\\7&-3&0\\\\6&4&2\\end{bmatrix};\\;0\\right]$</p>"
      ],
      "text/plain": [
       "[40; Fraction(1, 3); T([(2, 3), {2, 4}, (1, 2, 3)]); Vector([1, 0]); [Vector([1, 0]); Vector([0, 1])]; Matrix([Vector([1, 7, 6]); Vector([2, -3, 4]); Vector([1, 0, 2])]); 0]"
      ]
     },
     "execution_count": 36,
     "metadata": {},
     "output_type": "execute_result"
    }
   ],
   "source": [
    "Sistema(zz[::-1])"
   ]
  },
  {
   "cell_type": "code",
   "execution_count": 37,
   "metadata": {
    "autoscroll": false,
    "collapsed": false,
    "ein.hycell": false,
    "ein.tags": "worksheet-0",
    "slideshow": {
     "slide_type": "-"
    }
   },
   "outputs": [
    {
     "data": {
      "text/html": [
       "<p style=\"text-align:center;\">$\\begin{pmatrix}0\\\\0\\\\0\\end{pmatrix}$</p>"
      ],
      "text/plain": [
       "Vector([0, 0, 0])"
      ]
     },
     "execution_count": 37,
     "metadata": {},
     "output_type": "execute_result"
    }
   ],
   "source": [
    "sum([],V0(3))"
   ]
  },
  {
   "cell_type": "code",
   "execution_count": 38,
   "metadata": {
    "autoscroll": false,
    "collapsed": false,
    "ein.hycell": false,
    "ein.tags": "worksheet-0",
    "slideshow": {
     "slide_type": "-"
    }
   },
   "outputs": [
    {
     "data": {
      "text/html": [
       "<p style=\"text-align:center;\">$\\begin{pmatrix}0\\\\0\\\\0\\end{pmatrix}$</p>"
      ],
      "text/plain": [
       "Vector([0, 0, 0])"
      ]
     },
     "execution_count": 38,
     "metadata": {},
     "output_type": "execute_result"
    }
   ],
   "source": [
    "sum([],V0(3))"
   ]
  },
  {
   "cell_type": "code",
   "execution_count": 39,
   "metadata": {
    "autoscroll": false,
    "collapsed": false,
    "ein.hycell": false,
    "ein.tags": "worksheet-0",
    "slideshow": {
     "slide_type": "-"
    }
   },
   "outputs": [
    {
     "name": "stdout",
     "output_type": "stream",
     "text": [
      "[2; -3; 4]\n"
     ]
    }
   ],
   "source": [
    "print((A|2).sis)"
   ]
  },
  {
   "cell_type": "code",
   "execution_count": 80,
   "metadata": {
    "autoscroll": false,
    "collapsed": false,
    "ein.hycell": false,
    "ein.tags": "worksheet-0",
    "slideshow": {
     "slide_type": "-"
    }
   },
   "outputs": [
    {
     "data": {
      "text/html": [
       "<p style=\"text-align:center;\">$\\left\\{ \\boldsymbol{v}\\in\\mathbb{R}^3\\ \\left|\\ \\exists\\boldsymbol{p}\\in\\mathbb{R}^1\\ \\text{tal que}\\ \\boldsymbol{v}= \\begin{bmatrix}0\\\\0\\\\0\\end{bmatrix}\\boldsymbol{p}\\right. \\right\\}\\; = \\;\\left\\{ \\boldsymbol{v}\\in\\mathbb{R}^3\\ \\left|\\ \\begin{bmatrix}1&0&0\\\\0&1&0\\\\0&0&1\\end{bmatrix}\\boldsymbol{v}=\\boldsymbol{0}\\right.\\right\\}$</p>"
      ],
      "text/plain": [
       "<notacion.SubEspacio at 0x7f0492abf518>"
      ]
     },
     "execution_count": 80,
     "metadata": {},
     "output_type": "execute_result"
    }
   ],
   "source": [
    "SubEspacio(A)"
   ]
  },
  {
   "cell_type": "code",
   "execution_count": 41,
   "metadata": {
    "collapsed": false
   },
   "outputs": [
    {
     "data": {
      "text/plain": [
       "False"
      ]
     },
     "execution_count": 41,
     "metadata": {},
     "output_type": "execute_result"
    }
   ],
   "source": [
    "EAfin(B,Vector([0,0,0]))==SubEspacio((2,1)|B)\n",
    "EAfin(B, (1|B))==SubEspacio((2,1)|B)"
   ]
  },
  {
   "cell_type": "code",
   "execution_count": 42,
   "metadata": {
    "collapsed": false
   },
   "outputs": [
    {
     "data": {
      "text/html": [
       "<p style=\"text-align:center;\">$\\left\\{ \\boldsymbol{v}\\in\\mathbb{R}^3\\ \\left|\\ \\exists\\boldsymbol{p}\\in\\mathbb{R}^1\\ \\text{tal que}\\ \\boldsymbol{v}= \\begin{pmatrix}0\\\\10\\\\1\\end{pmatrix}+\\begin{bmatrix}-3\\\\0\\\\1\\end{bmatrix}\\boldsymbol{p}\\right. \\right\\}\\; = \\;\\left\\{ \\boldsymbol{v}\\in\\mathbb{R}^3\\ \\left|\\ \\begin{bmatrix}0&1&0\\\\\\frac{1}{3}&0&1\\end{bmatrix}\\boldsymbol{v}=\\begin{pmatrix}10\\\\1\\end{pmatrix}\\right.\\right\\}$</p>"
      ],
      "text/plain": [
       "<notacion.EAfin at 0x7f04a8047908>"
      ]
     },
     "execution_count": 42,
     "metadata": {},
     "output_type": "execute_result"
    }
   ],
   "source": [
    "EAfin(B,Vector([0,10,1]))"
   ]
  },
  {
   "cell_type": "code",
   "execution_count": 43,
   "metadata": {
    "collapsed": false
   },
   "outputs": [
    {
     "data": {
      "text/html": [
       "<p style=\"text-align:center;\">$\\begin{bmatrix}\\frac{-3}{2}&0&1\\end{bmatrix}$</p>"
      ],
      "text/plain": [
       "Matrix([Vector([Fraction(-3, 2)]); Vector([Fraction(0, 1)]); Vector([Fraction(1, 1)])])"
      ]
     },
     "execution_count": 43,
     "metadata": {},
     "output_type": "execute_result"
    }
   ],
   "source": [
    "S=Sistema([Vector([0,1,0]), Vector([2,1,3]), Vector([2,10,3])])\n",
    "SubEspacio(S).cart"
   ]
  },
  {
   "cell_type": "code",
   "execution_count": 81,
   "metadata": {
    "collapsed": false
   },
   "outputs": [
    {
     "data": {
      "text/html": [
       "<p style=\"text-align:center;\">$\\begin{bmatrix}1&2&1\\\\7&-3&0\\\\6&4&2\\end{bmatrix}$</p>"
      ],
      "text/plain": [
       "Matrix([Vector([1, 7, 6]); Vector([2, -3, 4]); Vector([1, 0, 2])])"
      ]
     },
     "execution_count": 81,
     "metadata": {},
     "output_type": "execute_result"
    }
   ],
   "source": [
    "A = Matrix( [ [1,2,1], [7,-3,0], [6,4,2] ] )\n",
    "A"
   ]
  },
  {
   "cell_type": "code",
   "execution_count": 82,
   "metadata": {
    "collapsed": false
   },
   "outputs": [
    {
     "data": {
      "text/html": [
       "<p style=\"text-align:center;\">$\\left\\{ \\boldsymbol{v}\\in\\mathbb{R}^4\\ \\left|\\ \\exists\\boldsymbol{p}\\in\\mathbb{R}^1\\ \\text{tal que}\\ \\boldsymbol{v}= \\begin{pmatrix}1\\\\0\\\\1\\\\1\\end{pmatrix}+\\begin{bmatrix}0\\\\-1\\\\0\\\\1\\end{bmatrix}\\boldsymbol{p}\\right. \\right\\}\\; = \\;\\left\\{ \\boldsymbol{v}\\in\\mathbb{R}^4\\ \\left|\\ \\begin{bmatrix}1&0&0&0\\\\0&0&1&0\\\\0&1&0&1\\end{bmatrix}\\boldsymbol{v}=\\begin{pmatrix}1\\\\1\\\\1\\end{pmatrix}\\right.\\right\\}$</p>"
      ],
      "text/plain": [
       "<notacion.EAfin at 0x7f04931afa90>"
      ]
     },
     "execution_count": 82,
     "metadata": {},
     "output_type": "execute_result"
    }
   ],
   "source": [
    "b=Vector([4,4,12])\n",
    "AA=A|(1,2,3,2)\n",
    "#SEL(A|(1,2,3,1),b,1).intermedio\n",
    "Z=SEL(AA,b); Z.eafin"
   ]
  },
  {
   "cell_type": "code",
   "execution_count": 83,
   "metadata": {
    "collapsed": false
   },
   "outputs": [
    {
     "data": {
      "text/html": [
       "<p style=\"text-align:center;\">$\\begin{bmatrix}1&2&1\\\\7&-3&0\\\\6&4&2\\end{bmatrix}$</p>"
      ],
      "text/plain": [
       "Matrix([Vector([1, 7, 6]); Vector([2, -3, 4]); Vector([1, 0, 2])])"
      ]
     },
     "execution_count": 83,
     "metadata": {},
     "output_type": "execute_result"
    }
   ],
   "source": [
    "A"
   ]
  },
  {
   "cell_type": "code",
   "execution_count": 88,
   "metadata": {
    "collapsed": false
   },
   "outputs": [
    {
     "data": {
      "text/html": [
       "<p style=\"text-align:center;\">$\\text{Conjunto de vectores: }\\left\\{ \\boldsymbol{x}\\in\\mathbb{R}^4\\ \\left|\\ \\exists\\boldsymbol{p}\\in\\mathbb{R}^1\\ \\text{tal que}\\ \\boldsymbol{x}= \\begin{pmatrix}1\\\\1\\\\1\\\\0\\end{pmatrix}+\\begin{bmatrix}0\\\\-1\\\\0\\\\1\\end{bmatrix}\\boldsymbol{p}\\right. \\right\\}$</p>"
      ],
      "text/plain": [
       "Vector([Fraction(1, 1), Fraction(1, 1), Fraction(1, 1), Fraction(0, 1)]) + Combinaciones lineales de ([Vector([0, -1, 0, 1])])"
      ]
     },
     "execution_count": 88,
     "metadata": {},
     "output_type": "execute_result"
    }
   ],
   "source": [
    "BB=2*A|(1,2,3,2)\n",
    "c=Vector([0,0,0])\n",
    "W=SEL(BB,2*b)\n",
    "W"
   ]
  },
  {
   "cell_type": "code",
   "execution_count": 85,
   "metadata": {
    "collapsed": false
   },
   "outputs": [
    {
     "data": {
      "text/latex": [
       "$$\\left[\\begin{array}{cccc|c}1&0&0&0&-1\\\\0&0&1&0&-1\\\\0&1&0&1&-1\\\\1&0&0&0&-1\\\\0&0&1&0&-1\\\\0&1&0&1&-1\\\\ \\hline 1&0&0&0&0\\\\0&1&0&0&0\\\\0&0&1&0&0\\\\0&0&0&1&0\\\\ \\hline 0&0&0&0&1\\\\\\end{array}\\right]\\xrightarrow{\\underset{\\begin{subarray}{c} \\left[\\mathbf{2}\\rightleftharpoons\\mathbf{3}\\right]\\end{subarray}}{\\mathbf{\\tau}}}\\left[\\begin{array}{cccc|c}1&0&0&0&-1\\\\0&1&0&0&-1\\\\0&0&1&1&-1\\\\1&0&0&0&-1\\\\0&1&0&0&-1\\\\0&0&1&1&-1\\\\ \\hline 1&0&0&0&0\\\\0&0&1&0&0\\\\0&1&0&0&0\\\\0&0&0&1&0\\\\ \\hline 0&0&0&0&1\\\\\\end{array}\\right]\\xrightarrow{\\underset{\\begin{subarray}{c} \\left[\\left(-1\\right)\\mathbf{3}+\\mathbf{4} \\right]\\end{subarray}}{\\mathbf{\\tau}}}\\left[\\begin{array}{cccc|c}1&0&0&0&-1\\\\0&1&0&0&-1\\\\0&0&1&0&-1\\\\1&0&0&0&-1\\\\0&1&0&0&-1\\\\0&0&1&0&-1\\\\ \\hline 1&0&0&0&0\\\\0&0&1&-1&0\\\\0&1&0&0&0\\\\0&0&0&1&0\\\\ \\hline 0&0&0&0&1\\\\\\end{array}\\right]\\xrightarrow{\\underset{\\begin{subarray}{c} \\left[\\left(1\\right)\\mathbf{1}+\\mathbf{5} \\right]\\end{subarray}}{\\mathbf{\\tau}}}\\left[\\begin{array}{cccc|c}1&0&0&0&0\\\\0&1&0&0&-1\\\\0&0&1&0&-1\\\\1&0&0&0&0\\\\0&1&0&0&-1\\\\0&0&1&0&-1\\\\ \\hline 1&0&0&0&1\\\\0&0&1&-1&0\\\\0&1&0&0&0\\\\0&0&0&1&0\\\\ \\hline 0&0&0&0&1\\\\\\end{array}\\right]\\xrightarrow{\\underset{\\begin{subarray}{c} \\left[\\left(1\\right)\\mathbf{2}+\\mathbf{5} \\right]\\end{subarray}}{\\mathbf{\\tau}}}\\left[\\begin{array}{cccc|c}1&0&0&0&0\\\\0&1&0&0&0\\\\0&0&1&0&-1\\\\1&0&0&0&0\\\\0&1&0&0&0\\\\0&0&1&0&-1\\\\ \\hline 1&0&0&0&1\\\\0&0&1&-1&0\\\\0&1&0&0&1\\\\0&0&0&1&0\\\\ \\hline 0&0&0&0&1\\\\\\end{array}\\right]\\xrightarrow{\\underset{\\begin{subarray}{c} \\left[\\left(1\\right)\\mathbf{3}+\\mathbf{5} \\right]\\end{subarray}}{\\mathbf{\\tau}}}\\left[\\begin{array}{cccc|c}1&0&0&0&0\\\\0&1&0&0&0\\\\0&0&1&0&0\\\\1&0&0&0&0\\\\0&1&0&0&0\\\\0&0&1&0&0\\\\ \\hline 1&0&0&0&1\\\\0&0&1&-1&1\\\\0&1&0&0&1\\\\0&0&0&1&0\\\\ \\hline 0&0&0&0&1\\\\\\end{array}\\right]$$"
      ],
      "text/plain": [
       "<IPython.core.display.Math object>"
      ]
     },
     "metadata": {},
     "output_type": "display_data"
    },
    {
     "data": {
      "text/html": [
       "<p style=\"text-align:center;\">$\\left\\{ \\boldsymbol{v}\\in\\mathbb{R}^4\\ \\left|\\ \\exists\\boldsymbol{p}\\in\\mathbb{R}^1\\ \\text{tal que}\\ \\boldsymbol{v}= \\begin{pmatrix}1\\\\0\\\\1\\\\1\\end{pmatrix}+\\begin{bmatrix}0\\\\-1\\\\0\\\\1\\end{bmatrix}\\boldsymbol{p}\\right. \\right\\}\\; = \\;\\left\\{ \\boldsymbol{v}\\in\\mathbb{R}^4\\ \\left|\\ \\begin{bmatrix}1&0&0&0\\\\0&0&1&0\\\\0&1&0&1\\end{bmatrix}\\boldsymbol{v}=\\begin{pmatrix}1\\\\1\\\\1\\end{pmatrix}\\right.\\right\\}$</p>"
      ],
      "text/plain": [
       "<notacion.EAfin at 0x7f04931af390>"
      ]
     },
     "execution_count": 85,
     "metadata": {},
     "output_type": "execute_result"
    }
   ],
   "source": [
    "Z.eafin & W.eafin"
   ]
  },
  {
   "cell_type": "code",
   "execution_count": 48,
   "metadata": {
    "collapsed": false
   },
   "outputs": [
    {
     "data": {
      "text/html": [
       "<p style=\"text-align:center;\">$\\begin{pmatrix}1\\\\1\\\\1\\end{pmatrix}$</p>"
      ],
      "text/plain": [
       "Vector([Fraction(1, 1), Fraction(1, 1), Fraction(1, 1)])"
      ]
     },
     "execution_count": 48,
     "metadata": {},
     "output_type": "execute_result"
    }
   ],
   "source": [
    "Z.eafin.S.cart*Z.eafin.v"
   ]
  },
  {
   "cell_type": "code",
   "execution_count": 49,
   "metadata": {
    "collapsed": false
   },
   "outputs": [
    {
     "data": {
      "text/html": [
       "<p style=\"text-align:center;\">$\\begin{pmatrix}1\\\\1\\\\2\\end{pmatrix}$</p>"
      ],
      "text/plain": [
       "Vector([1, Fraction(1, 1), Fraction(2, 1)])"
      ]
     },
     "execution_count": 49,
     "metadata": {},
     "output_type": "execute_result"
    }
   ],
   "source": [
    "(Z.eafin.S.cart)*Vector([1,1,1,1])"
   ]
  },
  {
   "cell_type": "code",
   "execution_count": 50,
   "metadata": {
    "collapsed": false
   },
   "outputs": [
    {
     "data": {
      "text/html": [
       "<p style=\"text-align:center;\">$\\left\\{ \\boldsymbol{v}\\in\\mathbb{R}^4\\ \\left|\\ \\exists\\boldsymbol{p}\\in\\mathbb{R}^1\\ \\text{tal que}\\ \\boldsymbol{v}= \\begin{pmatrix}1\\\\0\\\\1\\\\1\\end{pmatrix}+\\begin{bmatrix}0\\\\-1\\\\0\\\\1\\end{bmatrix}\\boldsymbol{p}\\right. \\right\\}\\; = \\;\\left\\{ \\boldsymbol{v}\\in\\mathbb{R}^4\\ \\left|\\ \\begin{bmatrix}1&0&0&0\\\\0&0&1&0\\\\0&1&0&1\\end{bmatrix}\\boldsymbol{v}=\\begin{pmatrix}1\\\\1\\\\1\\end{pmatrix}\\right.\\right\\}$</p>"
      ],
      "text/plain": [
       "<notacion.EAfin at 0x7f0492aaf780>"
      ]
     },
     "execution_count": 50,
     "metadata": {},
     "output_type": "execute_result"
    }
   ],
   "source": [
    "Z.eafin"
   ]
  },
  {
   "cell_type": "code",
   "execution_count": 51,
   "metadata": {
    "collapsed": false
   },
   "outputs": [
    {
     "data": {
      "text/latex": [
       "$$\\left[\\begin{array}{ccc|c}1&2&1&-4\\\\7&-3&0&-4\\\\6&4&2&-12\\\\ \\hline 1&0&0&0\\\\0&1&0&0\\\\0&0&1&0\\\\ \\hline 0&0&0&1\\\\\\end{array}\\right]\\xrightarrow{\\underset{\\begin{subarray}{c} \\left[\\left(-2\\right)\\mathbf{1}+\\mathbf{2} \\right]\\\\\\left[\\left(-1\\right)\\mathbf{1}+\\mathbf{3} \\right]\\end{subarray}}{\\mathbf{\\tau}}}\\left[\\begin{array}{ccc|c}1&0&0&-4\\\\7&-17&-7&-4\\\\6&-8&-4&-12\\\\ \\hline 1&-2&-1&0\\\\0&1&0&0\\\\0&0&1&0\\\\ \\hline 0&0&0&1\\\\\\end{array}\\right]\\xrightarrow{\\underset{\\begin{subarray}{c} \\left[\\left(17\\right)\\mathbf{3}\\right]\\\\\\left[\\left(-7\\right)\\mathbf{2}+\\mathbf{3} \\right]\\end{subarray}}{\\mathbf{\\tau}}}\\left[\\begin{array}{ccc|c}1&0&0&-4\\\\7&-17&0&-4\\\\6&-8&-12&-12\\\\ \\hline 1&-2&-3&0\\\\0&1&-7&0\\\\0&0&17&0\\\\ \\hline 0&0&0&1\\\\\\end{array}\\right]\\xrightarrow{\\underset{\\begin{subarray}{c} \\left[\\left(4\\right)\\mathbf{1}+\\mathbf{4} \\right]\\end{subarray}}{\\mathbf{\\tau}}}\\left[\\begin{array}{ccc|c}1&0&0&0\\\\7&-17&0&24\\\\6&-8&-12&12\\\\ \\hline 1&-2&-3&4\\\\0&1&-7&0\\\\0&0&17&0\\\\ \\hline 0&0&0&1\\\\\\end{array}\\right]\\xrightarrow{\\underset{\\begin{subarray}{c} \\left[\\left(17\\right)\\mathbf{4}\\right]\\\\\\left[\\left(24\\right)\\mathbf{2}+\\mathbf{4} \\right]\\end{subarray}}{\\mathbf{\\tau}}}\\left[\\begin{array}{ccc|c}1&0&0&0\\\\7&-17&0&0\\\\6&-8&-12&12\\\\ \\hline 1&-2&-3&20\\\\0&1&-7&24\\\\0&0&17&0\\\\ \\hline 0&0&0&17\\\\\\end{array}\\right]\\xrightarrow{\\underset{\\begin{subarray}{c} \\left[\\left(1\\right)\\mathbf{3}+\\mathbf{4} \\right]\\end{subarray}}{\\mathbf{\\tau}}}\\left[\\begin{array}{ccc|c}1&0&0&0\\\\7&-17&0&0\\\\6&-8&-12&0\\\\ \\hline 1&-2&-3&17\\\\0&1&-7&17\\\\0&0&17&17\\\\ \\hline 0&0&0&17\\\\\\end{array}\\right]\\xrightarrow{\\underset{\\begin{subarray}{c} \\left[\\left(\\frac{1}{17}\\right)\\mathbf{4}\\right]\\end{subarray}}{\\mathbf{\\tau}}}\\left[\\begin{array}{ccc|c}1&0&0&0\\\\7&-17&0&0\\\\6&-8&-12&0\\\\ \\hline 1&-2&-3&1\\\\0&1&-7&1\\\\0&0&17&1\\\\ \\hline 0&0&0&1\\\\\\end{array}\\right]$$"
      ],
      "text/plain": [
       "<IPython.core.display.Math object>"
      ]
     },
     "metadata": {},
     "output_type": "display_data"
    },
    {
     "data": {
      "text/html": [
       "<p style=\"text-align:center;\">$\\text{Tiene solución única:  }\\boldsymbol{x}=\\begin{pmatrix}1\\\\1\\\\1\\end{pmatrix}$</p>"
      ],
      "text/plain": [
       "Vector([Fraction(1, 1), Fraction(1, 1), Fraction(1, 1)]) + Combinaciones lineales de ([Vector([0, 0, 0])])"
      ]
     },
     "execution_count": 51,
     "metadata": {},
     "output_type": "execute_result"
    }
   ],
   "source": [
    "VV=SEL(A,b,1)\n",
    "VV"
   ]
  },
  {
   "cell_type": "code",
   "execution_count": 52,
   "metadata": {
    "collapsed": false
   },
   "outputs": [
    {
     "data": {
      "text/html": [
       "<p style=\"text-align:center;\">$\\underset{\\begin{subarray}{c} \\left[\\mathbf{1}\\rightleftharpoons\\mathbf{2}\\right]\\\\\\left[\\left(0\\right)\\mathbf{1}+\\mathbf{2} \\right]\\\\\\left[\\left(-1\\right)\\mathbf{1}+\\mathbf{3} \\right]\\\\\\left[\\mathbf{2}\\rightleftharpoons\\mathbf{2}\\right]\\\\\\left[\\left(\\frac{-3}{7}\\right)\\mathbf{2}+\\mathbf{3} \\right]\\\\\\left[\\mathbf{3}\\rightleftharpoons\\mathbf{3}\\right]\\end{subarray}}{\\mathbf{\\tau}}$</p>"
      ],
      "text/plain": [
       "T([{1, 2}, (Fraction(0, 1), 1, 2), (Fraction(-1, 1), 1, 3), {2}, (Fraction(-3, 7), 2, 3), {3}])"
      ]
     },
     "execution_count": 52,
     "metadata": {},
     "output_type": "execute_result"
    }
   ],
   "source": [
    "A = Matrix( [ [0,1,1], [7,-3,0], [6,4,2] ] ); T(EGC(A).pasos[1])"
   ]
  },
  {
   "cell_type": "code",
   "execution_count": 53,
   "metadata": {
    "collapsed": false
   },
   "outputs": [
    {
     "data": {
      "text/html": [
       "<p style=\"text-align:center;\">$\\underset{\\begin{subarray}{c} \\left[\\mathbf{1}\\rightleftharpoons\\mathbf{1}\\right]\\\\\\left[\\left(-1\\right)\\mathbf{1}+\\mathbf{2} \\right]\\\\\\left[\\left(2\\right)\\mathbf{1}+\\mathbf{3} \\right]\\\\\\left[\\mathbf{2}\\rightleftharpoons\\mathbf{2}\\right]\\\\\\left[\\left(1\\right)\\mathbf{2}+\\mathbf{3} \\right]\\end{subarray}}{\\mathbf{\\tau}}$</p>"
      ],
      "text/plain": [
       "T([{1}, (Fraction(-1, 1), 1, 2), (Fraction(2, 1), 1, 3), {2}, (Fraction(1, 1), 2, 3)])"
      ]
     },
     "execution_count": 53,
     "metadata": {},
     "output_type": "execute_result"
    }
   ],
   "source": [
    "x = Vector((1, 1, -2)); y = Vector((1, -2, 1)); z = Vector((-2, 1, 1))\n",
    "AA = Matrix([x,y,z]);    \n",
    "T(EGC(AA).pasos[1])"
   ]
  },
  {
   "cell_type": "code",
   "execution_count": 54,
   "metadata": {
    "collapsed": false
   },
   "outputs": [
    {
     "data": {
      "text/plain": [
       "True"
      ]
     },
     "execution_count": 54,
     "metadata": {},
     "output_type": "execute_result"
    }
   ],
   "source": [
    "Vector([-3,0,1]) in EAfin(B,Vector([-3,0,1]))\n",
    "#Vector([0,0,0]) in SubEspacio(A)"
   ]
  },
  {
   "cell_type": "code",
   "execution_count": 55,
   "metadata": {
    "collapsed": false
   },
   "outputs": [],
   "source": [
    "#ECUN(A,1)"
   ]
  },
  {
   "cell_type": "code",
   "execution_count": 56,
   "metadata": {
    "collapsed": false
   },
   "outputs": [
    {
     "data": {
      "text/latex": [
       "$$\\begin{bmatrix}0&1&1\\\\7&-3&0\\\\6&4&2\\end{bmatrix}\\xrightarrow{\\underset{\\begin{subarray}{c} \\left[\\mathbf{1}\\rightleftharpoons\\mathbf{2}\\right]\\end{subarray}}{\\mathbf{\\tau}}}\\begin{bmatrix}1&0&1\\\\-3&7&0\\\\4&6&2\\end{bmatrix}\\xrightarrow{\\underset{\\begin{subarray}{c} \\left[\\left(-1\\right)\\mathbf{1}+\\mathbf{3} \\right]\\end{subarray}}{\\mathbf{\\tau}}}\\begin{bmatrix}1&0&0\\\\-3&7&3\\\\4&6&-2\\end{bmatrix}\\xrightarrow{\\underset{\\begin{subarray}{c} \\left[\\left(\\frac{-3}{7}\\right)\\mathbf{2}+\\mathbf{3} \\right]\\end{subarray}}{\\mathbf{\\tau}}}\\begin{bmatrix}1&0&0\\\\-3&7&0\\\\4&6&\\frac{-32}{7}\\end{bmatrix}$$"
      ],
      "text/plain": [
       "<IPython.core.display.Math object>"
      ]
     },
     "metadata": {},
     "output_type": "display_data"
    },
    {
     "data": {
      "text/html": [
       "<p style=\"text-align:center;\">$\\begin{bmatrix}1&0&0\\\\-3&7&0\\\\4&6&\\frac{-32}{7}\\end{bmatrix}$</p>"
      ],
      "text/plain": [
       "Matrix([Vector([1, -3, 4]); Vector([Fraction(0, 1), Fraction(7, 1), Fraction(6, 1)]); Vector([Fraction(0, 1), Fraction(0, 1), Fraction(-32, 7)])])"
      ]
     },
     "execution_count": 56,
     "metadata": {},
     "output_type": "execute_result"
    }
   ],
   "source": [
    "D = Matrix( [ [0,2,1], [0,0,0], [4,3,0] ] )\n",
    "EGC(A,1)"
   ]
  },
  {
   "cell_type": "code",
   "execution_count": 57,
   "metadata": {
    "collapsed": false
   },
   "outputs": [
    {
     "data": {
      "text/html": [
       "<p style=\"text-align:center;\">$\\begin{bmatrix}0&1&1\\\\7&-3&0\\\\6&4&2\\end{bmatrix}$</p>"
      ],
      "text/plain": [
       "Matrix([Vector([0, 7, 6]); Vector([1, -3, 4]); Vector([1, 0, 2])])"
      ]
     },
     "execution_count": 57,
     "metadata": {},
     "output_type": "execute_result"
    }
   ],
   "source": [
    "A"
   ]
  },
  {
   "cell_type": "code",
   "execution_count": 58,
   "metadata": {
    "collapsed": false
   },
   "outputs": [
    {
     "data": {
      "text/latex": [
       "$$\\begin{bmatrix}0&1&1\\\\7&-3&0\\\\6&4&2\\end{bmatrix}\\xrightarrow{\\underset{\\begin{subarray}{c} \\left[\\mathbf{1}\\rightleftharpoons\\mathbf{2}\\right]\\end{subarray}}{\\mathbf{\\tau}}}\\begin{bmatrix}1&0&1\\\\-3&7&0\\\\4&6&2\\end{bmatrix}\\xrightarrow{\\underset{\\begin{subarray}{c} \\left[\\left(-1\\right)\\mathbf{1}+\\mathbf{3} \\right]\\end{subarray}}{\\mathbf{\\tau}}}\\begin{bmatrix}1&0&0\\\\-3&7&3\\\\4&6&-2\\end{bmatrix}\\xrightarrow{\\underset{\\begin{subarray}{c} \\left[\\left(\\frac{3}{7}\\right)\\mathbf{2}+\\mathbf{1} \\right]\\\\\\left[\\left(\\frac{-3}{7}\\right)\\mathbf{2}+\\mathbf{3} \\right]\\end{subarray}}{\\mathbf{\\tau}}}\\begin{bmatrix}1&0&0\\\\0&7&0\\\\\\frac{46}{7}&6&\\frac{-32}{7}\\end{bmatrix}\\xrightarrow{\\underset{\\begin{subarray}{c} \\left[\\left(\\frac{23}{16}\\right)\\mathbf{3}+\\mathbf{1} \\right]\\\\\\left[\\left(\\frac{21}{16}\\right)\\mathbf{3}+\\mathbf{2} \\right]\\end{subarray}}{\\mathbf{\\tau}}}\\begin{bmatrix}1&0&0\\\\0&7&0\\\\0&0&\\frac{-32}{7}\\end{bmatrix}$$"
      ],
      "text/plain": [
       "<IPython.core.display.Math object>"
      ]
     },
     "metadata": {},
     "output_type": "display_data"
    },
    {
     "data": {
      "text/html": [
       "<p style=\"text-align:center;\">$\\begin{bmatrix}1&0&0\\\\0&7&0\\\\0&0&\\frac{-32}{7}\\end{bmatrix}$</p>"
      ],
      "text/plain": [
       "Matrix([Vector([Fraction(1, 1), Fraction(0, 1), Fraction(0, 1)]); Vector([Fraction(0, 1), Fraction(7, 1), Fraction(0, 1)]); Vector([Fraction(0, 1), Fraction(0, 1), Fraction(-32, 7)])])"
      ]
     },
     "execution_count": 58,
     "metadata": {},
     "output_type": "execute_result"
    }
   ],
   "source": [
    "EGJC(A,1)"
   ]
  },
  {
   "cell_type": "code",
   "execution_count": 59,
   "metadata": {
    "collapsed": false
   },
   "outputs": [
    {
     "data": {
      "text/latex": [
       "$$\\begin{bmatrix}0&1&1\\\\7&-3&0\\\\6&4&2\\end{bmatrix}\\xrightarrow{\\underset{\\begin{subarray}{c} \\left[\\mathbf{1}\\rightleftharpoons\\mathbf{2}\\right]\\end{subarray}}{\\mathbf{\\tau}}}\\begin{bmatrix}1&0&1\\\\-3&7&0\\\\4&6&2\\end{bmatrix}\\xrightarrow{\\underset{\\begin{subarray}{c} \\left[\\left(-1\\right)\\mathbf{1}+\\mathbf{3} \\right]\\end{subarray}}{\\mathbf{\\tau}}}\\begin{bmatrix}1&0&0\\\\-3&7&3\\\\4&6&-2\\end{bmatrix}\\xrightarrow{\\underset{\\begin{subarray}{c} \\left[\\left(\\frac{1}{7}\\right)\\mathbf{2}\\right]\\end{subarray}}{\\mathbf{\\tau}}}\\begin{bmatrix}1&0&0\\\\-3&1&3\\\\4&\\frac{6}{7}&-2\\end{bmatrix}\\xrightarrow{\\underset{\\begin{subarray}{c} \\left[\\left(3\\right)\\mathbf{2}+\\mathbf{1} \\right]\\\\\\left[\\left(-3\\right)\\mathbf{2}+\\mathbf{3} \\right]\\end{subarray}}{\\mathbf{\\tau}}}\\begin{bmatrix}1&0&0\\\\0&1&0\\\\\\frac{46}{7}&\\frac{6}{7}&\\frac{-32}{7}\\end{bmatrix}\\xrightarrow{\\underset{\\begin{subarray}{c} \\left[\\left(\\frac{-7}{32}\\right)\\mathbf{3}\\right]\\end{subarray}}{\\mathbf{\\tau}}}\\begin{bmatrix}1&0&0\\\\0&1&0\\\\\\frac{46}{7}&\\frac{6}{7}&1\\end{bmatrix}\\xrightarrow{\\underset{\\begin{subarray}{c} \\left[\\left(\\frac{-46}{7}\\right)\\mathbf{3}+\\mathbf{1} \\right]\\\\\\left[\\left(\\frac{-6}{7}\\right)\\mathbf{3}+\\mathbf{2} \\right]\\end{subarray}}{\\mathbf{\\tau}}}\\begin{bmatrix}1&0&0\\\\0&1&0\\\\0&0&1\\end{bmatrix}$$"
      ],
      "text/plain": [
       "<IPython.core.display.Math object>"
      ]
     },
     "metadata": {},
     "output_type": "display_data"
    },
    {
     "data": {
      "text/html": [
       "<p style=\"text-align:center;\">$\\begin{bmatrix}1&0&0\\\\0&1&0\\\\0&0&1\\end{bmatrix}$</p>"
      ],
      "text/plain": [
       "Matrix([Vector([Fraction(1, 1), Fraction(0, 1), Fraction(0, 1)]); Vector([Fraction(0, 1), Fraction(1, 1), Fraction(0, 1)]); Vector([Fraction(0, 1), Fraction(0, 1), Fraction(1, 1)])])"
      ]
     },
     "execution_count": 59,
     "metadata": {},
     "output_type": "execute_result"
    }
   ],
   "source": [
    "EGJCN(A,1)"
   ]
  },
  {
   "cell_type": "code",
   "execution_count": 60,
   "metadata": {
    "collapsed": false
   },
   "outputs": [
    {
     "data": {
      "text/latex": [
       "$$\\begin{bmatrix}0&1&1\\\\7&-3&0\\\\6&4&2\\end{bmatrix}\\xrightarrow{\\underset{\\begin{subarray}{c} \\left[\\mathbf{1}\\rightleftharpoons\\mathbf{2}\\right]\\end{subarray}}{\\mathbf{\\tau}}}\\begin{bmatrix}1&0&1\\\\-3&7&0\\\\4&6&2\\end{bmatrix}\\xrightarrow{\\underset{\\begin{subarray}{c} \\left[\\left(-1\\right)\\mathbf{1}+\\mathbf{3} \\right]\\end{subarray}}{\\mathbf{\\tau}}}\\begin{bmatrix}1&0&0\\\\-3&7&3\\\\4&6&-2\\end{bmatrix}\\xrightarrow{\\underset{\\begin{subarray}{c} \\left[\\left(7\\right)\\mathbf{3}\\right]\\\\\\left[\\left(-3\\right)\\mathbf{2}+\\mathbf{3} \\right]\\end{subarray}}{\\mathbf{\\tau}}}\\begin{bmatrix}1&0&0\\\\-3&7&0\\\\4&6&-32\\end{bmatrix}$$"
      ],
      "text/plain": [
       "<IPython.core.display.Math object>"
      ]
     },
     "metadata": {},
     "output_type": "display_data"
    },
    {
     "data": {
      "text/html": [
       "<p style=\"text-align:center;\">$\\begin{bmatrix}1&0&0\\\\-3&7&0\\\\4&6&-32\\end{bmatrix}$</p>"
      ],
      "text/plain": [
       "Matrix([Vector([1, -3, 4]); Vector([0, 7, 6]); Vector([0, 0, -32])])"
      ]
     },
     "execution_count": 60,
     "metadata": {},
     "output_type": "execute_result"
    }
   ],
   "source": [
    "EGCsd(A,1)"
   ]
  },
  {
   "cell_type": "code",
   "execution_count": 61,
   "metadata": {
    "collapsed": false
   },
   "outputs": [
    {
     "data": {
      "text/latex": [
       "$$\\left[\\begin{array}{ccc}0&1&1\\\\7&-3&0\\\\6&4&2\\\\ \\hline 1&0&0\\\\0&1&0\\\\0&0&1\\\\\\end{array}\\right]\\xrightarrow{\\underset{\\begin{subarray}{c} \\left[\\mathbf{1}\\rightleftharpoons\\mathbf{2}\\right]\\end{subarray}}{\\mathbf{\\tau}}}\\left[\\begin{array}{ccc}1&0&1\\\\-3&7&0\\\\4&6&2\\\\ \\hline 0&1&0\\\\1&0&0\\\\0&0&1\\\\\\end{array}\\right]\\xrightarrow{\\underset{\\begin{subarray}{c} \\left[\\left(-1\\right)\\mathbf{1}+\\mathbf{3} \\right]\\end{subarray}}{\\mathbf{\\tau}}}\\left[\\begin{array}{ccc}1&0&0\\\\-3&7&3\\\\4&6&-2\\\\ \\hline 0&1&0\\\\1&0&-1\\\\0&0&1\\\\\\end{array}\\right]\\xrightarrow{\\underset{\\begin{subarray}{c} \\left[\\left(\\frac{1}{7}\\right)\\mathbf{2}\\right]\\end{subarray}}{\\mathbf{\\tau}}}\\left[\\begin{array}{ccc}1&0&0\\\\-3&1&3\\\\4&\\frac{6}{7}&-2\\\\ \\hline 0&\\frac{1}{7}&0\\\\1&0&-1\\\\0&0&1\\\\\\end{array}\\right]\\xrightarrow{\\underset{\\begin{subarray}{c} \\left[\\left(3\\right)\\mathbf{2}+\\mathbf{1} \\right]\\\\\\left[\\left(-3\\right)\\mathbf{2}+\\mathbf{3} \\right]\\end{subarray}}{\\mathbf{\\tau}}}\\left[\\begin{array}{ccc}1&0&0\\\\0&1&0\\\\\\frac{46}{7}&\\frac{6}{7}&\\frac{-32}{7}\\\\ \\hline \\frac{3}{7}&\\frac{1}{7}&\\frac{-3}{7}\\\\1&0&-1\\\\0&0&1\\\\\\end{array}\\right]\\xrightarrow{\\underset{\\begin{subarray}{c} \\left[\\left(\\frac{-7}{32}\\right)\\mathbf{3}\\right]\\end{subarray}}{\\mathbf{\\tau}}}\\left[\\begin{array}{ccc}1&0&0\\\\0&1&0\\\\\\frac{46}{7}&\\frac{6}{7}&1\\\\ \\hline \\frac{3}{7}&\\frac{1}{7}&\\frac{3}{32}\\\\1&0&\\frac{7}{32}\\\\0&0&\\frac{-7}{32}\\\\\\end{array}\\right]\\xrightarrow{\\underset{\\begin{subarray}{c} \\left[\\left(\\frac{-46}{7}\\right)\\mathbf{3}+\\mathbf{1} \\right]\\\\\\left[\\left(\\frac{-6}{7}\\right)\\mathbf{3}+\\mathbf{2} \\right]\\end{subarray}}{\\mathbf{\\tau}}}\\left[\\begin{array}{ccc}1&0&0\\\\0&1&0\\\\0&0&1\\\\ \\hline \\frac{-3}{16}&\\frac{1}{16}&\\frac{3}{32}\\\\\\frac{-7}{16}&\\frac{-3}{16}&\\frac{7}{32}\\\\\\frac{23}{16}&\\frac{3}{16}&\\frac{-7}{32}\\\\\\end{array}\\right]$$"
      ],
      "text/plain": [
       "<IPython.core.display.Math object>"
      ]
     },
     "metadata": {},
     "output_type": "display_data"
    },
    {
     "data": {
      "text/html": [
       "<p style=\"text-align:center;\">$\\begin{bmatrix}1&0&0\\\\0&1&0\\\\0&0&1\\end{bmatrix}$</p>"
      ],
      "text/plain": [
       "Matrix([Vector([Fraction(1, 1), Fraction(0, 1), Fraction(0, 1)]); Vector([Fraction(0, 1), Fraction(1, 1), Fraction(0, 1)]); Vector([Fraction(0, 1), Fraction(0, 1), Fraction(1, 1)])])"
      ]
     },
     "execution_count": 61,
     "metadata": {},
     "output_type": "execute_result"
    }
   ],
   "source": [
    "InvMat(A,1)*A"
   ]
  },
  {
   "cell_type": "code",
   "execution_count": 62,
   "metadata": {
    "collapsed": false
   },
   "outputs": [
    {
     "data": {
      "text/plain": [
       "4"
      ]
     },
     "execution_count": 62,
     "metadata": {},
     "output_type": "execute_result"
    }
   ],
   "source": [
    " (lambda x: x + x)(2) "
   ]
  },
  {
   "cell_type": "code",
   "execution_count": 63,
   "metadata": {
    "collapsed": false
   },
   "outputs": [
    {
     "name": "stdout",
     "output_type": "stream",
     "text": [
      "[5, 6, 7, 8, 9]\n"
     ]
    }
   ],
   "source": [
    "s = [10,2,8,7,5,4,3,11,0, 1]\n",
    "filtered_result = filter (lambda x: x > 4, range(1,10)) \n",
    "print(list(filtered_result))"
   ]
  },
  {
   "cell_type": "code",
   "execution_count": 64,
   "metadata": {
    "collapsed": false
   },
   "outputs": [
    {
     "data": {
      "text/plain": [
       "-4"
      ]
     },
     "execution_count": 64,
     "metadata": {},
     "output_type": "execute_result"
    }
   ],
   "source": [
    "f=(lambda x: x + x if 0 else -x - x)\n",
    "f(2)"
   ]
  },
  {
   "cell_type": "code",
   "execution_count": 65,
   "metadata": {
    "collapsed": false
   },
   "outputs": [
    {
     "name": "stdout",
     "output_type": "stream",
     "text": [
      "7\n",
      "8\n",
      "9\n"
     ]
    }
   ],
   "source": [
    "sel=lambda x: x > a\n",
    "a=6 \n",
    "for i in filter(sel,range(1,10)):\n",
    "    print(i)"
   ]
  },
  {
   "cell_type": "code",
   "execution_count": 66,
   "metadata": {
    "collapsed": true
   },
   "outputs": [],
   "source": [
    "def ppivote(v, k=0, sentido='Normal'):\n",
    "    \"\"\"\n",
    "    Devuelve el primer índice(i) mayor que k de un coeficiente(c) no \n",
    "    nulo del Vector v. En caso de no existir devuelve 0. Si el vector\n",
    "    se recorre en sentido normal, devuelve el último índice(i) menor \n",
    "    que k de v.\n",
    "    \"\"\"\n",
    "    if sentido=='Normal':\n",
    "        return ( [i for i,c in enumerate(v.sis, 1) if (c!=0 and i>k)] + [0] )[0]\n",
    "    else:\n",
    "        k = k-1 if k else len(v.sis)\n",
    "        return ( [i[0] for i in reversed(list(enumerate(v.sis,1))) \\\n",
    "                                           if (i[1]!=0 and i[0]<=k) ] + [0] )[0]\n"
   ]
  },
  {
   "cell_type": "code",
   "execution_count": 67,
   "metadata": {
    "collapsed": false
   },
   "outputs": [
    {
     "data": {
      "text/plain": [
       "0"
      ]
     },
     "execution_count": 67,
     "metadata": {},
     "output_type": "execute_result"
    }
   ],
   "source": [
    "a=Vector([0,5,0,5])\n",
    "ppivote(a,2, sentido='c')"
   ]
  },
  {
   "cell_type": "code",
   "execution_count": 68,
   "metadata": {
    "collapsed": false
   },
   "outputs": [
    {
     "data": {
      "text/html": [
       "<p style=\"text-align:center;\">$\\begin{bmatrix}1&2&3\\\\0&1&0\\end{bmatrix}$</p>"
      ],
      "text/plain": [
       "Matrix([Vector([1, 0]); Vector([2, 1]); Vector([3, 0])])"
      ]
     },
     "execution_count": 68,
     "metadata": {},
     "output_type": "execute_result"
    }
   ],
   "source": [
    "B"
   ]
  },
  {
   "cell_type": "code",
   "execution_count": 69,
   "metadata": {
    "collapsed": false
   },
   "outputs": [],
   "source": [
    "M = EGC(B)\n",
    "SSS= Sistema([(I(B.n) & T( M.pasos[1] ))|j for j in range(1,B.n+1) if (M|j).esNulo() ])"
   ]
  },
  {
   "cell_type": "code",
   "execution_count": 70,
   "metadata": {
    "collapsed": false
   },
   "outputs": [
    {
     "data": {
      "text/plain": [
       "False"
      ]
     },
     "execution_count": 70,
     "metadata": {},
     "output_type": "execute_result"
    }
   ],
   "source": [
    "SSS.lista[0].esNulo()"
   ]
  },
  {
   "cell_type": "code",
   "execution_count": null,
   "metadata": {
    "collapsed": true
   },
   "outputs": [],
   "source": []
  }
 ],
 "metadata": {
  "kernelspec": {
   "display_name": "Python 3",
   "language": "python",
   "name": "python3"
  },
  "language_info": {
   "codemirror_mode": {
    "name": "ipython",
    "version": 3
   },
   "file_extension": ".py",
   "mimetype": "text/x-python",
   "name": "python",
   "nbconvert_exporter": "python",
   "pygments_lexer": "ipython3",
   "version": "3.5.3"
  },
  "name": "Notebook.ipynb"
 },
 "nbformat": 4,
 "nbformat_minor": 2
}
