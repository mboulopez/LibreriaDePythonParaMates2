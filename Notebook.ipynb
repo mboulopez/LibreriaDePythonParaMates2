{
 "cells": [
  {
   "cell_type": "markdown",
   "metadata": {
    "ein.tags": "worksheet-0",
    "slideshow": {
     "slide_type": "-"
    }
   },
   "source": [
    "${\\huge\\text{Jupyter notebook}}$"
   ]
  },
  {
   "cell_type": "code",
   "execution_count": 1,
   "metadata": {
    "autoscroll": false,
    "collapsed": false,
    "ein.hycell": false,
    "ein.tags": "worksheet-0",
    "slideshow": {
     "slide_type": "-"
    }
   },
   "outputs": [],
   "source": [
    "from notacion import *"
   ]
  },
  {
   "cell_type": "code",
   "execution_count": 15,
   "metadata": {
    "collapsed": false
   },
   "outputs": [
    {
     "data": {
      "text/latex": [
       "$$\\left[\\begin{array}{cccc}1&2&2&2\\\\2&4&6&8\\\\3&6&8&10\\\\ \\hline 1&0&0&0\\\\0&1&0&0\\\\0&0&1&0\\\\0&0&0&1\\\\\\end{array}\\right]\\xrightarrow{\\underset{\\begin{subarray}{c} \\left[\\left(-2\\right)\\mathbf{1}+\\mathbf{2} \\right]\\\\\\left[\\left(-2\\right)\\mathbf{1}+\\mathbf{3} \\right]\\\\\\left[\\left(-2\\right)\\mathbf{1}+\\mathbf{4} \\right]\\end{subarray}}{\\mathbf{\\tau}}}\\left[\\begin{array}{cccc}1&0&0&0\\\\2&0&2&4\\\\3&0&2&4\\\\ \\hline 1&-2&-2&-2\\\\0&1&0&0\\\\0&0&1&0\\\\0&0&0&1\\\\\\end{array}\\right]\\xrightarrow{\\underset{\\begin{subarray}{c} \\left[\\mathbf{2}\\rightleftharpoons\\mathbf{3}\\right]\\end{subarray}}{\\mathbf{\\tau}}}\\left[\\begin{array}{cccc}1&0&0&0\\\\2&2&0&4\\\\3&2&0&4\\\\ \\hline 1&-2&-2&-2\\\\0&0&1&0\\\\0&1&0&0\\\\0&0&0&1\\\\\\end{array}\\right]\\xrightarrow{\\underset{\\begin{subarray}{c} \\left[\\left(-2\\right)\\mathbf{2}+\\mathbf{4} \\right]\\end{subarray}}{\\mathbf{\\tau}}}\\left[\\begin{array}{cccc}1&0&0&0\\\\2&2&0&0\\\\3&2&0&0\\\\ \\hline 1&-2&-2&2\\\\0&0&1&0\\\\0&1&0&-2\\\\0&0&0&1\\\\\\end{array}\\right]$$"
      ],
      "text/plain": [
       "<IPython.core.display.Math object>"
      ]
     },
     "metadata": {},
     "output_type": "display_data"
    },
    {
     "data": {
      "text/html": [
       "<p style=\"text-align:center;\">$\\text{Combinaciones lineales de }\\left\\{\\begin{pmatrix}-2\\\\1\\\\0\\\\0\\end{pmatrix};\\;\\begin{pmatrix}2\\\\0\\\\-2\\\\1\\end{pmatrix}\\right\\}$</p>"
      ],
      "text/plain": [
       "Combinaciones lineales de {[Vector([Fraction(-2, 1), Fraction(1, 1), Fraction(0, 1), Fraction(0, 1)]), Vector([Fraction(2, 1), Fraction(0, 1), Fraction(-2, 1), Fraction(1, 1)])]}"
      ]
     },
     "execution_count": 15,
     "metadata": {},
     "output_type": "execute_result"
    }
   ],
   "source": [
    "A=Matrix([[1,2,2,2],[2,4,6,8],[3,6,8,10]])\n",
    "EspacioNulo(A,1)"
   ]
  },
  {
   "cell_type": "code",
   "execution_count": 3,
   "metadata": {
    "collapsed": false
   },
   "outputs": [
    {
     "data": {
      "text/html": [
       "<p style=\"text-align:center;\">$\\underset{\\begin{subarray}{c} \\left[\\mathbf{1}\\rightleftharpoons\\mathbf{2}\\right]\\\\\\left[\\left(\\frac{1}{2}\\right)\\mathbf{3}\\right]\\\\\\left[\\left(-1\\right)\\mathbf{2}+\\mathbf{3} \\right]\\end{subarray}}{\\mathbf{\\tau}}$</p>"
      ],
      "text/plain": [
       "T([{1, 2}, (Fraction(1, 2), 3), (-1, 2, 3)])"
      ]
     },
     "execution_count": 3,
     "metadata": {},
     "output_type": "execute_result"
    }
   ],
   "source": [
    "t= T([(1,2,3),(2,3),{1,2}])\n",
    "t**-1"
   ]
  },
  {
   "cell_type": "code",
   "execution_count": 4,
   "metadata": {
    "collapsed": false
   },
   "outputs": [
    {
     "name": "stdout",
     "output_type": "stream",
     "text": [
      "T([{1}, (Fraction(-2, 1), 1, 2), (Fraction(-1, 1), 1, 3), {2}, (Fraction(-7, 17), 2, 3), {3}, {3}, (Fraction(-17, 12), 3), (Fraction(8, 1), 3, 2), (-6, 3, 1), {2}, (Fraction(-1, 17), 2), (Fraction(-7, 1), 2, 1), {1}, (Fraction(1, 1), 1)])\n"
     ]
    },
    {
     "data": {
      "text/html": [
       "<p style=\"text-align:center;\">$\\begin{bmatrix}1&0&0\\\\0&1&0\\\\0&0&1\\end{bmatrix}$</p>"
      ],
      "text/plain": [
       "Matrix([Vector([Fraction(1, 1), Fraction(0, 1), Fraction(0, 1)]), Vector([Fraction(0, 1), Fraction(1, 1), Fraction(0, 1)]), Vector([Fraction(0, 1), Fraction(0, 1), Fraction(1, 1)])])"
      ]
     },
     "execution_count": 4,
     "metadata": {},
     "output_type": "execute_result"
    }
   ],
   "source": [
    "A = Matrix( [ [1,2,1], [7,-3,0], [6,4,2] ] )\n",
    "p = ECUN(ECL(A)).pasos\n",
    "print(T(p[1]))                   # secuencia de las transformaciones aplicadas a las colunas    \n",
    "I(A.n) & T(p[1])              # es la inversa de A\n",
    "A * ( I(A.n) & T(p[1]) )    # descomente el principio de esta linea para comprobarlo"
   ]
  },
  {
   "cell_type": "code",
   "execution_count": 5,
   "metadata": {
    "collapsed": false
   },
   "outputs": [
    {
     "data": {
      "text/latex": [
       "$$\\left[\\begin{array}{cc|cc}1&3&1&0\\\\2&7&0&1\\\\\\end{array}\\right]\\xrightarrow[\\underset{\\begin{subarray}{c} \\left[\\left(\\frac{-3}{7}\\right)\\mathbf{2}+\\mathbf{1} \\right]\\end{subarray}}{\\mathbf{\\tau}}]{}\\left[\\begin{array}{cc|cc}\\frac{1}{7}&0&1&\\frac{-3}{7}\\\\2&7&0&1\\\\\\end{array}\\right]\\xrightarrow[\\underset{\\begin{subarray}{c} \\left[\\left(7\\right)\\mathbf{1}\\right]\\end{subarray}}{\\mathbf{\\tau}}]{}\\left[\\begin{array}{cc|cc}1&0&7&-3\\\\2&7&0&1\\\\\\end{array}\\right]\\xrightarrow[\\underset{\\begin{subarray}{c} \\left[\\left(-2\\right)\\mathbf{1}+\\mathbf{2} \\right]\\end{subarray}}{\\mathbf{\\tau}}]{}\\left[\\begin{array}{cc|cc}1&0&7&-3\\\\0&7&-14&7\\\\\\end{array}\\right]\\xrightarrow[\\underset{\\begin{subarray}{c} \\left[\\left(\\frac{1}{7}\\right)\\mathbf{2}\\right]\\end{subarray}}{\\mathbf{\\tau}}]{}\\left[\\begin{array}{cc|cc}1&0&7&-3\\\\0&1&-2&1\\\\\\end{array}\\right]$$"
      ],
      "text/plain": [
       "<IPython.core.display.Math object>"
      ]
     },
     "metadata": {},
     "output_type": "display_data"
    },
    {
     "data": {
      "text/html": [
       "<p style=\"text-align:center;\">$\\underset{\\begin{subarray}{c} \\end{subarray}}{\\mathbf{\\tau}}$</p>"
      ],
      "text/plain": [
       "T([])"
      ]
     },
     "execution_count": 5,
     "metadata": {},
     "output_type": "execute_result"
    }
   ],
   "source": [
    "T(InvMatF(Matrix([[1,3],[2,7]]),1).pasos[1])"
   ]
  },
  {
   "cell_type": "code",
   "execution_count": 6,
   "metadata": {
    "collapsed": false
   },
   "outputs": [
    {
     "data": {
      "text/html": [
       "<p style=\"text-align:center;\">$\\begin{bmatrix}\\frac{29}{24}&\\frac{1}{6}&\\frac{-23}{48}\\\\\\frac{77}{24}&\\frac{1}{2}&\\frac{-21}{16}\\\\\\frac{-65}{8}&\\frac{-7}{6}&\\frac{161}{48}\\end{bmatrix}$</p>"
      ],
      "text/plain": [
       "Matrix([Vector([Fraction(29, 24), Fraction(77, 24), Fraction(-65, 8)]), Vector([Fraction(1, 6), Fraction(1, 2), Fraction(-7, 6)]), Vector([Fraction(-23, 48), Fraction(-21, 16), Fraction(161, 48)])])"
      ]
     },
     "execution_count": 6,
     "metadata": {},
     "output_type": "execute_result"
    }
   ],
   "source": [
    "A**(-2)"
   ]
  },
  {
   "cell_type": "code",
   "execution_count": 7,
   "metadata": {
    "collapsed": false
   },
   "outputs": [
    {
     "data": {
      "text/html": [
       "<p style=\"text-align:center;\">$\\begin{bmatrix}\\frac{29}{24}&\\frac{1}{6}&\\frac{-23}{48}\\\\\\frac{77}{24}&\\frac{1}{2}&\\frac{-21}{16}\\\\\\frac{-65}{8}&\\frac{-7}{6}&\\frac{161}{48}\\end{bmatrix}$</p>"
      ],
      "text/plain": [
       "Matrix([Vector([Fraction(29, 24), Fraction(77, 24), Fraction(-65, 8)]), Vector([Fraction(1, 6), Fraction(1, 2), Fraction(-7, 6)]), Vector([Fraction(-23, 48), Fraction(-21, 16), Fraction(161, 48)])])"
      ]
     },
     "execution_count": 7,
     "metadata": {},
     "output_type": "execute_result"
    }
   ],
   "source": [
    "(A**(2))**-1"
   ]
  },
  {
   "cell_type": "code",
   "execution_count": 8,
   "metadata": {
    "collapsed": false
   },
   "outputs": [
    {
     "data": {
      "text/html": [
       "<p style=\"text-align:center;\">$\\begin{bmatrix}21&0&3\\\\-14&23&7\\\\46&8&10\\end{bmatrix}$</p>"
      ],
      "text/plain": [
       "Matrix([Vector([Fraction(21, 1), Fraction(-14, 1), Fraction(46, 1)]), Vector([Fraction(0, 1), Fraction(23, 1), Fraction(8, 1)]), Vector([Fraction(3, 1), Fraction(7, 1), Fraction(10, 1)])])"
      ]
     },
     "execution_count": 8,
     "metadata": {},
     "output_type": "execute_result"
    }
   ],
   "source": [
    "(A**(-1))**-2"
   ]
  },
  {
   "cell_type": "code",
   "execution_count": 9,
   "metadata": {
    "collapsed": false
   },
   "outputs": [
    {
     "data": {
      "text/html": [
       "<p style=\"text-align:center;\">$\\begin{bmatrix}21&0&3\\\\-14&23&7\\\\46&8&10\\end{bmatrix}$</p>"
      ],
      "text/plain": [
       "Matrix([Vector([21, -14, 46]), Vector([0, 23, 8]), Vector([3, 7, 10])])"
      ]
     },
     "execution_count": 9,
     "metadata": {},
     "output_type": "execute_result"
    }
   ],
   "source": [
    "A**2"
   ]
  },
  {
   "cell_type": "code",
   "execution_count": 10,
   "metadata": {
    "collapsed": false
   },
   "outputs": [
    {
     "data": {
      "text/plain": [
       "-1"
      ]
     },
     "execution_count": 10,
     "metadata": {},
     "output_type": "execute_result"
    }
   ],
   "source": [
    "a = Vector( [1, 0] )\n",
    "b = Vector( [2,-1] )\n",
    "c = Vector( [3, 1] )\n",
    "B = Matrix( [a, b, c] )\n",
    "2|B|2"
   ]
  },
  {
   "cell_type": "code",
   "execution_count": 11,
   "metadata": {
    "collapsed": false
   },
   "outputs": [
    {
     "data": {
      "text/html": [
       "<p style=\"text-align:center;\">$\\begin{bmatrix}2\\\\-1\\end{bmatrix}$</p>"
      ],
      "text/plain": [
       "Matrix([Vector([2, -1])])"
      ]
     },
     "execution_count": 11,
     "metadata": {},
     "output_type": "execute_result"
    }
   ],
   "source": [
    "Matrix( [ B|2 ] )"
   ]
  },
  {
   "cell_type": "code",
   "execution_count": 12,
   "metadata": {
    "collapsed": false
   },
   "outputs": [
    {
     "data": {
      "text/latex": [
       "$$\\begin{bmatrix}5&0&0\\\\2&-2&0\\\\6&9&3\\end{bmatrix}\\xrightarrow{\\underset{\\begin{subarray}{c} \\left[\\left(\\frac{1}{3}\\right)\\mathbf{3}\\right]\\end{subarray}}{\\mathbf{\\tau}}}\\begin{bmatrix}5&0&0\\\\2&-2&0\\\\6&9&1\\end{bmatrix}\\xrightarrow{\\underset{\\begin{subarray}{c} \\left[\\left(-9\\right)\\mathbf{3}+\\mathbf{2} \\right]\\\\\\left[\\left(-6\\right)\\mathbf{3}+\\mathbf{1} \\right]\\end{subarray}}{\\mathbf{\\tau}}}\\begin{bmatrix}5&0&0\\\\2&-2&0\\\\0&0&1\\end{bmatrix}\\xrightarrow{\\underset{\\begin{subarray}{c} \\left[\\left(\\frac{-1}{2}\\right)\\mathbf{2}\\right]\\end{subarray}}{\\mathbf{\\tau}}}\\begin{bmatrix}5&0&0\\\\2&1&0\\\\0&0&1\\end{bmatrix}\\xrightarrow{\\underset{\\begin{subarray}{c} \\left[\\left(-2\\right)\\mathbf{2}+\\mathbf{1} \\right]\\end{subarray}}{\\mathbf{\\tau}}}\\begin{bmatrix}5&0&0\\\\0&1&0\\\\0&0&1\\end{bmatrix}\\xrightarrow{\\underset{\\begin{subarray}{c} \\left[\\left(\\frac{1}{5}\\right)\\mathbf{1}\\right]\\end{subarray}}{\\mathbf{\\tau}}}\\begin{bmatrix}1&0&0\\\\0&1&0\\\\0&0&1\\end{bmatrix}$$"
      ],
      "text/plain": [
       "<IPython.core.display.Math object>"
      ]
     },
     "metadata": {},
     "output_type": "display_data"
    }
   ],
   "source": [
    "A = Matrix( [[5,0,0], [2,-2,0], [6,9,3]] )\n",
    "D = ECUN(A,1)"
   ]
  },
  {
   "cell_type": "code",
   "execution_count": null,
   "metadata": {
    "collapsed": true
   },
   "outputs": [],
   "source": []
  }
 ],
 "metadata": {
  "kernelspec": {
   "display_name": "Python 3",
   "language": "python",
   "name": "python3"
  },
  "language_info": {
   "codemirror_mode": {
    "name": "ipython",
    "version": 3
   },
   "file_extension": ".py",
   "mimetype": "text/x-python",
   "name": "python",
   "nbconvert_exporter": "python",
   "pygments_lexer": "ipython3",
   "version": "3.5.3"
  },
  "name": "Leccion01.ipynb"
 },
 "nbformat": 4,
 "nbformat_minor": 2
}
