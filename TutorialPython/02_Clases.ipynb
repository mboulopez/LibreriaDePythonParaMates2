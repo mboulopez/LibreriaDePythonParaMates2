{
 "cells": [
  {
   "cell_type": "markdown",
   "metadata": {
    "ein.tags": "worksheet-0",
    "slideshow": {
     "slide_type": "-"
    }
   },
   "source": [
    "$\\renewcommand{\\Mat}[1]{\\mathbf{#1}}\n",
    "\\renewcommand{\\Zz}{\\mathbb{Z}}\n",
    "\\renewcommand{\\Rr}{\\mathbb{R}}$"
   ]
  },
  {
   "cell_type": "markdown",
   "metadata": {
    "ein.tags": "worksheet-0",
    "slideshow": {
     "slide_type": "-"
    }
   },
   "source": [
    "Casi todo lo que hay aquí lo he sacado de este\n",
    "[enlace](https://pythonista.io/cursos/py111/clases-instancias-y-objetos).\n",
    "Otros enlaces de interés son\n",
    "[este](http://docs.python.org.ar/tutorial/3/classes.html) y también\n",
    "[este\n",
    "otro](https://recursospython.com/guias-y-manuales/clases-y-orientacion-a-objetos/)\n",
    "\n",
    "\n",
    "\n",
    "# Clases y objetos en Python\n",
    "\n",
    "## Clases.\n",
    "\n",
    "Las clases son prototipos a partir de los cuales pueden crearse\n",
    "objetos que adquieren las propiedades, características y\n",
    "comportamientos definidos por las clases.\n",
    "\n",
    "Por convención los nombres de clases utilizan el fomato \"CamelCase\"\n",
    "(es decir, nombre sin espacios y con la primera letra mayúscula en\n",
    "cada una de las palabras que forman el nombre, por ejemplo:\n",
    "`EsteNombreDeClaseEsUnPocoLargo`).\n",
    "\n",
    "#### Sintaxis"
   ]
  },
  {
   "cell_type": "raw",
   "metadata": {
    "ein.tags": "worksheet-0",
    "slideshow": {
     "slide_type": "-"
    }
   },
   "source": [
    "class <Nombre>:\n",
    "    ...\n",
    "    ..."
   ]
  },
  {
   "cell_type": "markdown",
   "metadata": {
    "ein.tags": "worksheet-0",
    "slideshow": {
     "slide_type": "-"
    }
   },
   "source": [
    "Queremos crear una nueva clase que se llamará `Pocoyo`.\n",
    "\n",
    "Lo que aparece entre las tres primeras comillas y las tres últimas\n",
    "comillas es un comentario (que Python ignora) y nos ayuda a saber de\n",
    "qué va el código cuando lo leemos (además, es parte de la información que\n",
    "nos mostrará el comando __help(Vector)__)."
   ]
  },
  {
   "cell_type": "code",
   "execution_count": 1,
   "metadata": {
    "autoscroll": false,
    "collapsed": false,
    "ein.hycell": false,
    "ein.tags": "worksheet-0",
    "slideshow": {
     "slide_type": "-"
    }
   },
   "outputs": [],
   "source": [
    "class Pocoyo:\n",
    "\n",
    "    \"\"\" Define una clase llamada Pocoyo \"\"\""
   ]
  },
  {
   "cell_type": "code",
   "execution_count": 2,
   "metadata": {
    "autoscroll": false,
    "collapsed": false,
    "ein.hycell": false,
    "ein.tags": "worksheet-0",
    "slideshow": {
     "slide_type": "-"
    }
   },
   "outputs": [
    {
     "name": "stdout",
     "output_type": "stream",
     "text": [
      "Help on class Pocoyo in module __main__:\n",
      "\n",
      "class Pocoyo(builtins.object)\n",
      " |  Define una clase llamada Pocoyo\n",
      " |  \n",
      " |  Data descriptors defined here:\n",
      " |  \n",
      " |  __dict__\n",
      " |      dictionary for instance variables (if defined)\n",
      " |  \n",
      " |  __weakref__\n",
      " |      list of weak references to the object (if defined)\n",
      "\n"
     ]
    }
   ],
   "source": [
    "help(Pocoyo)"
   ]
  },
  {
   "cell_type": "markdown",
   "metadata": {
    "ein.tags": "worksheet-0",
    "slideshow": {
     "slide_type": "-"
    }
   },
   "source": [
    "## Objetos.\n",
    "Los objetos son las implementaciones de una clase. A la creación de un objeto a partir de una clase, se le llama \"instanciar\".\n",
    "\n",
    "Para crear un objeto se utiliza la siguiente sintaxis:"
   ]
  },
  {
   "cell_type": "raw",
   "metadata": {
    "ein.tags": "worksheet-0",
    "slideshow": {
     "slide_type": "-"
    }
   },
   "source": [
    "<Nombre de la Clase>(<argumentos>)"
   ]
  },
  {
   "cell_type": "markdown",
   "metadata": {
    "ein.tags": "worksheet-0",
    "slideshow": {
     "slide_type": "-"
    }
   },
   "source": [
    "#### Ejemplo"
   ]
  },
  {
   "cell_type": "markdown",
   "metadata": {
    "ein.tags": "worksheet-0",
    "slideshow": {
     "slide_type": "-"
    }
   },
   "source": [
    "Instancia a `Pocoyo`:"
   ]
  },
  {
   "cell_type": "code",
   "execution_count": 3,
   "metadata": {
    "autoscroll": false,
    "collapsed": false,
    "ein.hycell": false,
    "ein.tags": "worksheet-0",
    "slideshow": {
     "slide_type": "-"
    }
   },
   "outputs": [
    {
     "data": {
      "text/plain": [
       "<__main__.Pocoyo at 0x7f492c3db780>"
      ]
     },
     "execution_count": 3,
     "metadata": {},
     "output_type": "execute_result"
    }
   ],
   "source": [
    "Pocoyo()"
   ]
  },
  {
   "cell_type": "code",
   "execution_count": 4,
   "metadata": {
    "autoscroll": false,
    "collapsed": false,
    "ein.hycell": false,
    "ein.tags": "worksheet-0",
    "slideshow": {
     "slide_type": "-"
    }
   },
   "outputs": [
    {
     "name": "stdout",
     "output_type": "stream",
     "text": [
      "Help on Pocoyo in module __main__ object:\n",
      "\n",
      "class Pocoyo(builtins.object)\n",
      " |  Define una clase llamada Pocoyo\n",
      " |  \n",
      " |  Data descriptors defined here:\n",
      " |  \n",
      " |  __dict__\n",
      " |      dictionary for instance variables (if defined)\n",
      " |  \n",
      " |  __weakref__\n",
      " |      list of weak references to the object (if defined)\n",
      "\n"
     ]
    }
   ],
   "source": [
    "x=Pocoyo()\n",
    "help(x)"
   ]
  },
  {
   "cell_type": "markdown",
   "metadata": {
    "ein.tags": "worksheet-0",
    "slideshow": {
     "slide_type": "-"
    }
   },
   "source": [
    "### La función *isinstance()*.\n",
    "\n",
    "Para saber si un objeto es una instancia de una clase se utiliza la función *isinstnace()*.\n",
    "\n",
    "#### Sintaxis:"
   ]
  },
  {
   "cell_type": "raw",
   "metadata": {
    "ein.tags": "worksheet-0",
    "slideshow": {
     "slide_type": "-"
    }
   },
   "source": [
    "isinstance( <objeto>, <clase>)"
   ]
  },
  {
   "cell_type": "markdown",
   "metadata": {
    "ein.tags": "worksheet-0",
    "slideshow": {
     "slide_type": "-"
    }
   },
   "source": [
    "por ejemplo"
   ]
  },
  {
   "cell_type": "code",
   "execution_count": 5,
   "metadata": {
    "autoscroll": false,
    "collapsed": false,
    "ein.hycell": false,
    "ein.tags": "worksheet-0",
    "slideshow": {
     "slide_type": "-"
    }
   },
   "outputs": [
    {
     "data": {
      "text/plain": [
       "True"
      ]
     },
     "execution_count": 5,
     "metadata": {},
     "output_type": "execute_result"
    }
   ],
   "source": [
    "y = Pocoyo()\n",
    "isinstance( y , Pocoyo )"
   ]
  },
  {
   "cell_type": "code",
   "execution_count": 6,
   "metadata": {
    "autoscroll": false,
    "collapsed": false,
    "ein.hycell": false,
    "ein.tags": "worksheet-0",
    "slideshow": {
     "slide_type": "-"
    }
   },
   "outputs": [
    {
     "data": {
      "text/plain": [
       "(False, True, False)"
      ]
     },
     "execution_count": 6,
     "metadata": {},
     "output_type": "execute_result"
    }
   ],
   "source": [
    "z=[1,0,0]\n",
    "isinstance( z, Pocoyo ), isinstance( z, list ), isinstance( z, tuple)"
   ]
  },
  {
   "cell_type": "markdown",
   "metadata": {
    "ein.tags": "worksheet-0",
    "slideshow": {
     "slide_type": "-"
    }
   },
   "source": [
    "por tanto `z` no es ni una tupla ni un Pocoyo, es una lista."
   ]
  },
  {
   "cell_type": "markdown",
   "metadata": {
    "ein.tags": "worksheet-0",
    "slideshow": {
     "slide_type": "-"
    }
   },
   "source": [
    "## Atributos y Métodos.\n",
    "\n",
    "### Atributos\n",
    "\n",
    "Los atributos son objetos que pueden ser añadidos a una clase mediante\n",
    "un nombre y pueden ser creados mediante la siguiente sintaxis."
   ]
  },
  {
   "cell_type": "raw",
   "metadata": {
    "ein.tags": "worksheet-0",
    "slideshow": {
     "slide_type": "-"
    }
   },
   "source": [
    "class <Nombre>():\n",
    "    ...\n",
    "    <nombreDeAtributo> = <objeto>\n",
    "    ..."
   ]
  },
  {
   "cell_type": "markdown",
   "metadata": {
    "ein.tags": "worksheet-0",
    "slideshow": {
     "slide_type": "-"
    }
   },
   "source": [
    "Para acceder al atributo se utiliza el operador de atributo, que en Python es un punto \".\""
   ]
  },
  {
   "cell_type": "raw",
   "metadata": {
    "ein.tags": "worksheet-0",
    "slideshow": {
     "slide_type": "-"
    }
   },
   "source": [
    "<Nombre>.<nombreDeAtributo>"
   ]
  },
  {
   "cell_type": "markdown",
   "metadata": {
    "ein.tags": "worksheet-0",
    "slideshow": {
     "slide_type": "-"
    }
   },
   "source": [
    "Python permite añadir nuevos atributos tanto a clases como a objetos mediante el uso del operador de asignación \"= \".\n",
    "\n",
    "#### Sintaxis:"
   ]
  },
  {
   "cell_type": "raw",
   "metadata": {
    "ein.tags": "worksheet-0",
    "slideshow": {
     "slide_type": "-"
    }
   },
   "source": [
    "<nombre>.<nombreDelAtributo> = <objeto>"
   ]
  },
  {
   "cell_type": "markdown",
   "metadata": {
    "ein.tags": "worksheet-0",
    "slideshow": {
     "slide_type": "-"
    }
   },
   "source": [
    "Los atributos añadidos a una clase tendrán efecto en todas las instancias de la clase."
   ]
  },
  {
   "cell_type": "code",
   "execution_count": 7,
   "metadata": {
    "autoscroll": false,
    "collapsed": false,
    "ein.hycell": false,
    "ein.tags": "worksheet-0",
    "slideshow": {
     "slide_type": "-"
    }
   },
   "outputs": [],
   "source": [
    "class Pocoyo:\n",
    "\n",
    "    \"\"\" Define una clase llamada Pocoyo \"\"\"\n",
    "    aspecto = \"es un niño muy feo\""
   ]
  },
  {
   "cell_type": "code",
   "execution_count": 8,
   "metadata": {
    "autoscroll": false,
    "collapsed": false,
    "ein.hycell": false,
    "ein.tags": "worksheet-0",
    "slideshow": {
     "slide_type": "-"
    }
   },
   "outputs": [
    {
     "data": {
      "text/plain": [
       "'es un niño muy feo'"
      ]
     },
     "execution_count": 8,
     "metadata": {},
     "output_type": "execute_result"
    }
   ],
   "source": [
    "x=Pocoyo()\n",
    "y=Pocoyo()\n",
    "x.aspecto"
   ]
  },
  {
   "cell_type": "code",
   "execution_count": 9,
   "metadata": {
    "autoscroll": false,
    "collapsed": false,
    "ein.hycell": false,
    "ein.tags": "worksheet-0",
    "slideshow": {
     "slide_type": "-"
    }
   },
   "outputs": [
    {
     "data": {
      "text/plain": [
       "'es un niño muy feo'"
      ]
     },
     "execution_count": 9,
     "metadata": {},
     "output_type": "execute_result"
    }
   ],
   "source": [
    "y.aspecto"
   ]
  },
  {
   "cell_type": "markdown",
   "metadata": {
    "ein.tags": "worksheet-0",
    "slideshow": {
     "slide_type": "-"
    }
   },
   "source": [
    "### Métodos\n",
    "\n",
    "Los métodos son un tipo especial de atributo. Son objetos invocables muy parecidos a una función.\n",
    "(documentación sobre funciones en este [enlace](https://pythonista.io/cursos/py101/funciones))\n",
    "\n",
    "Para definir un método se utiliza la siguiente sintaxis:"
   ]
  },
  {
   "cell_type": "raw",
   "metadata": {
    "ein.tags": "worksheet-0",
    "slideshow": {
     "slide_type": "-"
    }
   },
   "source": [
    "class <nombreDeClase>():\n",
    "   ...\n",
    "   def <nombreDelMétodo>(self, <parámetros>):\n",
    "      ...\n",
    "      ..."
   ]
  },
  {
   "cell_type": "markdown",
   "metadata": {
    "ein.tags": "worksheet-0",
    "slideshow": {
     "slide_type": "-"
    }
   },
   "source": [
    "La definición de un método siempre debe de incluir un parámetro\n",
    "inicial que le indica a Python la naturaleza del objeto. Por\n",
    "convención, ese parámetro lleva el nombre `self`.\n",
    "\n",
    "Para invocar a un método se utiliza la siguiente sintaxis:"
   ]
  },
  {
   "cell_type": "raw",
   "metadata": {
    "ein.tags": "worksheet-0",
    "slideshow": {
     "slide_type": "-"
    }
   },
   "source": [
    "<nombre>.<nombreDelMétodo>(<argumentos>)"
   ]
  },
  {
   "cell_type": "markdown",
   "metadata": {
    "ein.tags": "worksheet-0",
    "slideshow": {
     "slide_type": "-"
    }
   },
   "source": [
    "#### El método __init__().\n",
    "\n",
    "Es el primer método que se ejecuta un vez instanciado un objeto. Los\n",
    "argumentos que se ingresan dentro del paréntesis al crear un objetos\n",
    "son transferidos a este método. Vamos a usar dicho método para indicar\n",
    "a Python la edad de cada `Pocoyo` que \"instanciemos\". También es\n",
    "posible dar un valor por defecto a algún atributo (el valor que tomará\n",
    "el atributo si no especificamos uno). Vamos a modificar la clase\n",
    "`Pocoyo` para poder indicar la edad de cada `Pocoyo` (la edad será un\n",
    "nuevo atributo) y vamos a incluir otro atributo que es el color de\n",
    "`Pocoyo` (por defecto azul)."
   ]
  },
  {
   "cell_type": "code",
   "execution_count": 10,
   "metadata": {
    "autoscroll": false,
    "collapsed": false,
    "ein.hycell": false,
    "ein.tags": "worksheet-0",
    "slideshow": {
     "slide_type": "-"
    }
   },
   "outputs": [],
   "source": [
    "class Pocoyo:\n",
    "\n",
    "    def __init__(self, N, gorro='Azul'):\n",
    "\n",
    "        \"\"\" Define una clase llamada Pocoyo \"\"\"\n",
    "\n",
    "        self.aspecto = \"es un niño muy feo\"\n",
    "        self.edad    = N\n",
    "        self.color   = gorro"
   ]
  },
  {
   "cell_type": "markdown",
   "metadata": {
    "ein.tags": "worksheet-0",
    "slideshow": {
     "slide_type": "-"
    }
   },
   "source": [
    "Primero creamos un Pocoyo indicando únicamente la edad:"
   ]
  },
  {
   "cell_type": "code",
   "execution_count": 11,
   "metadata": {
    "autoscroll": false,
    "collapsed": false,
    "ein.hycell": false,
    "ein.tags": "worksheet-0",
    "slideshow": {
     "slide_type": "-"
    }
   },
   "outputs": [
    {
     "data": {
      "text/plain": [
       "('es un niño muy feo', 3, 'Azul')"
      ]
     },
     "execution_count": 11,
     "metadata": {},
     "output_type": "execute_result"
    }
   ],
   "source": [
    "y=Pocoyo(3)\n",
    "\n",
    "y.aspecto, y.edad, y.color"
   ]
  },
  {
   "cell_type": "markdown",
   "metadata": {
    "ein.tags": "worksheet-0",
    "slideshow": {
     "slide_type": "-"
    }
   },
   "source": [
    "y ahora creamos otro Pocoyo indicando la edad y el color:"
   ]
  },
  {
   "cell_type": "code",
   "execution_count": 12,
   "metadata": {
    "autoscroll": false,
    "collapsed": false,
    "ein.hycell": false,
    "ein.tags": "worksheet-0",
    "slideshow": {
     "slide_type": "-"
    }
   },
   "outputs": [
    {
     "data": {
      "text/plain": [
       "('es un niño muy feo', 4, 'Rojo')"
      ]
     },
     "execution_count": 12,
     "metadata": {},
     "output_type": "execute_result"
    }
   ],
   "source": [
    "z=Pocoyo(4, gorro='Rojo')\n",
    "\n",
    "z.aspecto, z.edad, z.color"
   ]
  },
  {
   "cell_type": "markdown",
   "metadata": {
    "ein.tags": "worksheet-0",
    "slideshow": {
     "slide_type": "-"
    }
   },
   "source": [
    "## Definiendo la clase Vector\n",
    "\n",
    "Con todo lo anterior, queremos crear una nueva clase llamada\n",
    "`Vector`. Dada la naturaleza del objeto que queremos definir, no\n",
    "tiene sentido crear un vector sin especificar el sistema de números\n",
    "que forma el vector (la lista ordenada de números).\n",
    "\n",
    "Así pues, debemos incluir el método _init()_ para indicar el sistema\n",
    "de números al istanciar cada `Vector`. Para indicar el sistema de\n",
    "números tanto nos valdrá una *lista* como una *tupla*"
   ]
  },
  {
   "cell_type": "code",
   "execution_count": 13,
   "metadata": {
    "autoscroll": false,
    "collapsed": false,
    "ein.hycell": false,
    "ein.tags": "worksheet-0",
    "slideshow": {
     "slide_type": "-"
    }
   },
   "outputs": [],
   "source": [
    "class Vector:\n",
    "    def __init__(self, Sistema):\n",
    "\n",
    "        \"\"\" Inicializa el vector a partir de una secuencia de números \"\"\""
   ]
  },
  {
   "cell_type": "markdown",
   "metadata": {
    "ein.tags": "worksheet-0",
    "slideshow": {
     "slide_type": "-"
    }
   },
   "source": [
    "Veamos si funciona. Definamos un vector x con los números 1, 2 y 3:"
   ]
  },
  {
   "cell_type": "code",
   "execution_count": 14,
   "metadata": {
    "autoscroll": false,
    "collapsed": false,
    "ein.hycell": false,
    "ein.tags": "worksheet-0",
    "slideshow": {
     "slide_type": "-"
    }
   },
   "outputs": [],
   "source": [
    "x=Vector([1,2,3])"
   ]
  },
  {
   "cell_type": "markdown",
   "metadata": {
    "ein.tags": "worksheet-0",
    "slideshow": {
     "slide_type": "-"
    }
   },
   "source": [
    "Vamos a completar nuestra clase `Vector` añadiendo dos atributos. A\n",
    "uno de los atributos lo llamaremos _lista_ y será la lista ordenada de\n",
    "números que constituye el vector. Al otro lo llamaremos _n_, y\n",
    "será el número de componentes del vector."
   ]
  },
  {
   "cell_type": "code",
   "execution_count": 15,
   "metadata": {
    "autoscroll": false,
    "collapsed": false,
    "ein.hycell": false,
    "ein.tags": "worksheet-0",
    "slideshow": {
     "slide_type": "-"
    }
   },
   "outputs": [],
   "source": [
    "class Vector:\n",
    "    def __init__(self, Sistema):\n",
    "\n",
    "        \"\"\" Inicializa el vector a partir de una lista o tupla de números \"\"\"\n",
    "        \n",
    "        self.lista = Sistema\n",
    "        self.n     = len(Sistema)"
   ]
  },
  {
   "cell_type": "markdown",
   "metadata": {
    "ein.tags": "worksheet-0",
    "slideshow": {
     "slide_type": "-"
    }
   },
   "source": [
    "Una vez definido el vector *x*, podemos ver la lista contenida en él:"
   ]
  },
  {
   "cell_type": "code",
   "execution_count": 16,
   "metadata": {
    "autoscroll": false,
    "collapsed": false,
    "ein.hycell": false,
    "ein.tags": "worksheet-0",
    "slideshow": {
     "slide_type": "-"
    }
   },
   "outputs": [],
   "source": [
    "x=Vector([1,2,3])"
   ]
  },
  {
   "cell_type": "code",
   "execution_count": 17,
   "metadata": {
    "autoscroll": false,
    "collapsed": false,
    "ein.hycell": false,
    "ein.tags": "worksheet-0",
    "slideshow": {
     "slide_type": "-"
    }
   },
   "outputs": [
    {
     "data": {
      "text/plain": [
       "[1, 2, 3]"
      ]
     },
     "execution_count": 17,
     "metadata": {},
     "output_type": "execute_result"
    }
   ],
   "source": [
    "x.lista"
   ]
  },
  {
   "cell_type": "markdown",
   "metadata": {
    "ein.tags": "worksheet-0",
    "slideshow": {
     "slide_type": "-"
    }
   },
   "source": [
    "y también el número de elementos que conforman el vector:"
   ]
  },
  {
   "cell_type": "code",
   "execution_count": 18,
   "metadata": {
    "autoscroll": false,
    "collapsed": false,
    "ein.hycell": false,
    "ein.tags": "worksheet-0",
    "slideshow": {
     "slide_type": "-"
    }
   },
   "outputs": [
    {
     "data": {
      "text/plain": [
       "3"
      ]
     },
     "execution_count": 18,
     "metadata": {},
     "output_type": "execute_result"
    }
   ],
   "source": [
    "x.n"
   ]
  },
  {
   "cell_type": "markdown",
   "metadata": {
    "ein.tags": "worksheet-0",
    "slideshow": {
     "slide_type": "-"
    }
   },
   "source": [
    "¿Y si pedimos que nos muestre el Vector con la función _print_?"
   ]
  },
  {
   "cell_type": "code",
   "execution_count": 19,
   "metadata": {
    "autoscroll": false,
    "collapsed": false,
    "ein.hycell": false,
    "ein.tags": "worksheet-0",
    "slideshow": {
     "slide_type": "-"
    }
   },
   "outputs": [
    {
     "name": "stdout",
     "output_type": "stream",
     "text": [
      "<__main__.Vector object at 0x7f492c4023c8>\n"
     ]
    }
   ],
   "source": [
    "print(x)"
   ]
  },
  {
   "cell_type": "markdown",
   "metadata": {
    "ein.tags": "worksheet-0",
    "slideshow": {
     "slide_type": "-"
    }
   },
   "source": [
    "¡Vaya!... Aunque hemos definido un nuevo objeto en Python que se llama\n",
    "`Vector`, cuando pedimos que Python nos muestre el vector no se\n",
    "entiende el mensaje que recibimos. Esto se debe a que Python usa una\n",
    "representación interna que nosotros no sabemos interpretar.\n",
    "\n",
    "Así pues, debemos indicar a Python cómo nos gusta ver representado un\n",
    "Vector.  Para ello necesitamos completar la clase `Vector` indicando\n",
    "la forma de representación (también completaremos el comentario con\n",
    "algo relativo a cómo se representará el vector)."
   ]
  },
  {
   "cell_type": "markdown",
   "metadata": {
    "ein.tags": "worksheet-0",
    "slideshow": {
     "slide_type": "-"
    }
   },
   "source": [
    "Como la represetación de la lista si se entiende:"
   ]
  },
  {
   "cell_type": "code",
   "execution_count": 20,
   "metadata": {
    "autoscroll": false,
    "collapsed": false,
    "ein.hycell": false,
    "ein.tags": "worksheet-0",
    "slideshow": {
     "slide_type": "-"
    }
   },
   "outputs": [
    {
     "data": {
      "text/plain": [
       "'[1, 2, 3]'"
      ]
     },
     "execution_count": 20,
     "metadata": {},
     "output_type": "execute_result"
    }
   ],
   "source": [
    "repr(x.lista)"
   ]
  },
  {
   "cell_type": "markdown",
   "metadata": {
    "ein.tags": "worksheet-0",
    "slideshow": {
     "slide_type": "-"
    }
   },
   "source": [
    "Aquí definiremos la representacion de `Vector` indicando que a la\n",
    "cadena de caracteres &nbsp; \"&nbsp; `Vector(` &nbsp;\" &nbsp; le concatene la represetación de la\n",
    "lista de números y por último que escriba (concatene) el caracter de\n",
    "final de paréntesis &nbsp; \"&nbsp; `)` &nbsp;\".\n",
    "\n",
    "(recuerdese que con \"+\" se concatena)"
   ]
  },
  {
   "cell_type": "code",
   "execution_count": 21,
   "metadata": {
    "autoscroll": false,
    "collapsed": false,
    "ein.hycell": false,
    "ein.tags": "worksheet-0",
    "slideshow": {
     "slide_type": "-"
    }
   },
   "outputs": [],
   "source": [
    " class Vector:\n",
    "\n",
    "    def __init__(self, Sistema):\n",
    "        \n",
    "        \"\"\" Inicializa el vector a partir de una lista o tupla de números \n",
    "        \n",
    "        >>> Vector([1,2,3])\n",
    "        Vector([1,2,3])\n",
    "        \"\"\"\n",
    "        \n",
    "        self.lista = Sistema\n",
    "        self.n     = len(Sistema)\n",
    "        \n",
    "    def __repr__(self):\n",
    "        \"\"\" Muestra el vector en su representación python \"\"\"\n",
    "        return 'Vector(' + repr(self.lista) + ')'"
   ]
  },
  {
   "cell_type": "markdown",
   "metadata": {
    "ein.tags": "worksheet-0",
    "slideshow": {
     "slide_type": "-"
    }
   },
   "source": [
    "Ahora volvamos a ver que devuelve Python al definir un vector"
   ]
  },
  {
   "cell_type": "code",
   "execution_count": 22,
   "metadata": {
    "autoscroll": false,
    "collapsed": false,
    "ein.hycell": false,
    "ein.tags": "worksheet-0",
    "slideshow": {
     "slide_type": "-"
    }
   },
   "outputs": [
    {
     "data": {
      "text/plain": [
       "Vector([1, 2, 3])"
      ]
     },
     "execution_count": 22,
     "metadata": {},
     "output_type": "execute_result"
    }
   ],
   "source": [
    "Vector([1,2,3])"
   ]
  },
  {
   "cell_type": "code",
   "execution_count": 23,
   "metadata": {
    "autoscroll": false,
    "collapsed": false,
    "ein.hycell": false,
    "ein.tags": "worksheet-0",
    "slideshow": {
     "slide_type": "-"
    }
   },
   "outputs": [
    {
     "name": "stdout",
     "output_type": "stream",
     "text": [
      "Vector([1, 2, 3])\n"
     ]
    }
   ],
   "source": [
    "print( Vector([1,2,3]) )"
   ]
  },
  {
   "cell_type": "markdown",
   "metadata": {
    "ein.tags": "worksheet-0",
    "slideshow": {
     "slide_type": "-"
    }
   },
   "source": [
    "Si estamos usando Python en un terminal de texto, esta representación\n",
    "es razonable; pero en las notas de clase representamos los vectores\n",
    "entre paréntesis y tanto en horizontal como en vertical. El entorno que\n",
    "está usando usted en este momento (un Notebook de Jupyter) nos permite\n",
    "emplear esa representación ya que el navegador puede usar una librería\n",
    "llamada [MathJax](https://www.mathjax.org/) que interpreta código\n",
    "$\\LaTeX$ para mostrar expresiones matemáticas en el navegador (sepa\n",
    "usted que las notas de clase también están escritas en\n",
    "[$\\LaTeX$](https://www.latex-project.org/))."
   ]
  },
  {
   "cell_type": "markdown",
   "metadata": {
    "ein.tags": "worksheet-0",
    "slideshow": {
     "slide_type": "-"
    }
   },
   "source": [
    "Lo primero es definir (fuera de la clase `Vector`) el siguiente método\n",
    "que llamaremos *html*; que escribe el inicio y el final de un párafo\n",
    "en html y en medio del párrafo escibirá la cadena `TeX` (que contendrá\n",
    "el código $\\LaTeX$ de las expresiones mátemáticas que queremos que se\n",
    "muestren en pantalla cuando usamos el notebook de jupyter).\n",
    "\n",
    "Cuando el inpute sea un número, el método *latex* lo convertirá en una\n",
    "cadena de caracteres, y en caso contrario el método *latex* llamara al\n",
    "método *latex* de la clase desde la que se invocó a este método (por\n",
    "ejemplo desde `Vector`). Es un truqui recursivo para que trate de\n",
    "manera parecida la expresiones en $\\LaTeX$ y los tipos de datos que\n",
    "corresponden a números cuando se escribe algo en $\\LaTeX$, así, si el\n",
    "componente de un vector es una fracción, el método *latex* general\n",
    "llamará el método *latex* de la clase fracción para representar la\n",
    "fracción ---ello nos permitirá más adelante representar vectores o\n",
    "matrices con, por ejemplo, polinomios u otros objetos)."
   ]
  },
  {
   "cell_type": "code",
   "execution_count": 24,
   "metadata": {
    "autoscroll": false,
    "collapsed": false,
    "ein.hycell": false,
    "ein.tags": "worksheet-0",
    "slideshow": {
     "slide_type": "-"
    }
   },
   "outputs": [],
   "source": [
    "def html(TeX):\n",
    "    \"\"\" Plantilla HTML para insertar comandos LaTeX\n",
    "    \"\"\"\n",
    "    return \"<p style=\\\"text-align:center;\\\">$\" + TeX + \"$</p>\"\n",
    "\n",
    "def latex(a):\n",
    "     if isinstance(a,float) | isinstance(a,int):\n",
    "         return str(a)\n",
    "     else:\n",
    "         return a.latex()"
   ]
  },
  {
   "cell_type": "markdown",
   "metadata": {
    "ein.tags": "worksheet-0",
    "slideshow": {
     "slide_type": "-"
    }
   },
   "source": [
    "Ahora, si definimos un modo de representación de los vectores en\n",
    "$\\LaTeX$, podremos usar dicho modo para representar el vector en\n",
    "Jupyter. Como en las notas usamos la representación vertical\n",
    "(habitualmente) y la horizontal (de vez en cuando), vamos a definir\n",
    "ambas formas de representación. Por defecto asignamos al atributo\n",
    "_rpr_ el valor 'columna' (así, por defecto los vectores se pintarán en\n",
    "forma de columna)"
   ]
  },
  {
   "cell_type": "markdown",
   "metadata": {
    "ein.tags": "worksheet-0",
    "slideshow": {
     "slide_type": "-"
    }
   },
   "source": [
    "Dentro de la clase `Vector` definimos el método *rpr\\_html* que\n",
    "llamará al método general _html_ de más arriba, que escribirá un\n",
    "párrafo en html con el código $\\LaTeX$ necesario en su interior.\n",
    "\n",
    "También definimos el método _latex_ interno de la clase `Vector`, con\n",
    "el código $\\LaTeX$ necesario para \"pintar\" un vector como en las notas\n",
    "de clase (sistema de números entre paréntesis). Dicho código es\n",
    "distinto en función de si queremos representar el vector como una\n",
    "*columna* (representación por defecto) o como una *fila*."
   ]
  },
  {
   "cell_type": "code",
   "execution_count": 25,
   "metadata": {
    "autoscroll": false,
    "collapsed": false,
    "ein.hycell": false,
    "ein.tags": "worksheet-0",
    "slideshow": {
     "slide_type": "-"
    }
   },
   "outputs": [],
   "source": [
    "class Vector:\n",
    "\n",
    "    def __init__(self, Sistema, rpr='columna'):\n",
    "        \n",
    "        \"\"\" Inicializa el vector a partir de una lista o tupla de números \n",
    "        \n",
    "        >>> Vector([1,2,3])\n",
    "        Vector([1,2,3])\n",
    "        \"\"\"\n",
    "        \n",
    "        self.lista = Sistema\n",
    "        self.n     = len(Sistema)\n",
    "        self.rpr   = rpr\n",
    "        \n",
    "    def __repr__(self):\n",
    "        \"\"\" Muestra el vector en su representación python \"\"\"\n",
    "        return 'Vector(' + repr(self.lista) + ')'\n",
    "\n",
    "    def _repr_html_(self):\n",
    "        \"\"\" Construye la representación para el  entorno jupyter notebook \"\"\"\n",
    "        return html(self.latex())\n",
    "\n",
    "    def latex(self):\n",
    "        \"\"\" Construye el comando LaTeX \"\"\"\n",
    "        if self.rpr == 'fila':\n",
    "            return \\\n",
    "            '\\\\begin{pmatrix}' + \\\n",
    "            ',&'.join([latex(a) for a in self.lista]) + \\\n",
    "            '\\\\end{pmatrix}' \n",
    "        else:\n",
    "            return \\\n",
    "            '\\\\begin{pmatrix}' + \\\n",
    "            '\\\\\\\\'.join([latex(a) for a in self.lista]) + \\\n",
    "            '\\\\end{pmatrix}' "
   ]
  },
  {
   "cell_type": "code",
   "execution_count": 26,
   "metadata": {
    "autoscroll": false,
    "collapsed": false,
    "ein.hycell": false,
    "ein.tags": "worksheet-0",
    "slideshow": {
     "slide_type": "-"
    }
   },
   "outputs": [
    {
     "data": {
      "text/html": [
       "<p style=\"text-align:center;\">$\\begin{pmatrix}1\\\\2\\\\3\\end{pmatrix}$</p>"
      ],
      "text/plain": [
       "Vector([1, 2, 3])"
      ]
     },
     "execution_count": 26,
     "metadata": {},
     "output_type": "execute_result"
    }
   ],
   "source": [
    "x=Vector([1,2,3])\n",
    "x"
   ]
  },
  {
   "cell_type": "markdown",
   "metadata": {
    "ein.tags": "worksheet-0",
    "slideshow": {
     "slide_type": "-"
    }
   },
   "source": [
    "Como no hemos dicho nada, usa la representación por defecto ('columna'):"
   ]
  },
  {
   "cell_type": "code",
   "execution_count": 27,
   "metadata": {
    "autoscroll": false,
    "collapsed": false,
    "ein.hycell": false,
    "ein.tags": "worksheet-0",
    "slideshow": {
     "slide_type": "-"
    }
   },
   "outputs": [
    {
     "data": {
      "text/plain": [
       "'columna'"
      ]
     },
     "execution_count": 27,
     "metadata": {},
     "output_type": "execute_result"
    }
   ],
   "source": [
    "x.rpr"
   ]
  },
  {
   "cell_type": "code",
   "execution_count": 28,
   "metadata": {
    "autoscroll": false,
    "collapsed": false,
    "ein.hycell": false,
    "ein.tags": "worksheet-0",
    "slideshow": {
     "slide_type": "-"
    }
   },
   "outputs": [],
   "source": [
    "y=Vector([10,20,30,40], rpr='fila')"
   ]
  },
  {
   "cell_type": "code",
   "execution_count": 29,
   "metadata": {
    "autoscroll": false,
    "collapsed": false,
    "ein.hycell": false,
    "ein.tags": "worksheet-0",
    "slideshow": {
     "slide_type": "-"
    }
   },
   "outputs": [
    {
     "data": {
      "text/plain": [
       "(20, 'fila')"
      ]
     },
     "execution_count": 29,
     "metadata": {},
     "output_type": "execute_result"
    }
   ],
   "source": [
    "y.lista[1], y.rpr"
   ]
  },
  {
   "cell_type": "markdown",
   "metadata": {
    "ein.tags": "worksheet-0",
    "slideshow": {
     "slide_type": "-"
    }
   },
   "source": [
    "Como `y` es un vector cuyo atributo _rpr_ toma el valor 'fila', Jupyter pinta este vector en forma de fila:"
   ]
  },
  {
   "cell_type": "code",
   "execution_count": 30,
   "metadata": {
    "autoscroll": false,
    "collapsed": false,
    "ein.hycell": false,
    "ein.tags": "worksheet-0",
    "slideshow": {
     "slide_type": "-"
    }
   },
   "outputs": [
    {
     "data": {
      "text/html": [
       "<p style=\"text-align:center;\">$\\begin{pmatrix}10,&20,&30,&40\\end{pmatrix}$</p>"
      ],
      "text/plain": [
       "Vector([10, 20, 30, 40])"
      ]
     },
     "execution_count": 30,
     "metadata": {},
     "output_type": "execute_result"
    }
   ],
   "source": [
    "y"
   ]
  },
  {
   "cell_type": "markdown",
   "metadata": {
    "ein.tags": "worksheet-0",
    "slideshow": {
     "slide_type": "-"
    }
   },
   "source": [
    "Por si necesitamos cambiar algún componente de un Vector en el futuro,\n",
    "vamos a cambiar la definición del atributo _lista_ para que siempre\n",
    "sea una lista de Python (por tanto modificable)."
   ]
  },
  {
   "cell_type": "raw",
   "metadata": {
    "ein.tags": "worksheet-0",
    "slideshow": {
     "slide_type": "-"
    }
   },
   "source": [
    "self.lista = list(Sistema)"
   ]
  },
  {
   "cell_type": "markdown",
   "metadata": {
    "ein.tags": "worksheet-0",
    "slideshow": {
     "slide_type": "-"
    }
   },
   "source": [
    "Además, en las notas de clase usamos el símbolo \" | \" (cuyo nombre en\n",
    "Python es _or_) para selecionar elementos de un vector, y aceptamos el\n",
    "poner el operador selector tanto por la derecha como por la izquierda\n",
    "(en cuyo caso el nombre del símbolo en Python es _ror_).\n",
    "\n",
    "Vamos a completar la clase Vector definiendo el método de selección de\n",
    "componentes. Fíjese que si la instancia es un entero, se selecciona el\n",
    "componente correspondiente al índice descrito por dicho entero, pero\n",
    "si es una lista o tupla, se obtiene un sub-vector.\n",
    "\n",
    "El sistema de índices al usar el método \" | \" será como en las notas\n",
    "de clase (los índices comienzan en 1).\n",
    "\n",
    "[(Enlace sobre operadores en Python)](https://overiq.com/python-101/operators-in-python/)"
   ]
  },
  {
   "cell_type": "code",
   "execution_count": 31,
   "metadata": {
    "autoscroll": false,
    "collapsed": false,
    "ein.hycell": false,
    "ein.tags": "worksheet-0",
    "slideshow": {
     "slide_type": "-"
    }
   },
   "outputs": [],
   "source": [
    "class Vector:\n",
    "\n",
    "    def __init__(self, Sistema, rpr='columna'):\n",
    "\n",
    "        \"\"\" Inicializa el vector a partir de una lista o tupla de números \n",
    "        \n",
    "        >>> Vector([1,2,3])\n",
    "        Vector([1,2,3])\n",
    "        \"\"\"\n",
    "        \n",
    "        self.lista = list(Sistema)\n",
    "        self.n     = len(Sistema)\n",
    "        self.rpr   = rpr\n",
    "        \n",
    "    def __repr__(self):\n",
    "        \"\"\" Muestra el vector en su representación python \"\"\"\n",
    "        return 'Vector(' + repr(self.lista) + ')'\n",
    "\n",
    "    def _repr_html_(self):\n",
    "        \"\"\" Construye la representación para el  entorno jupyter notebook \"\"\"\n",
    "        return html(self.latex())\n",
    "\n",
    "    def latex(self):\n",
    "        \"\"\" Construye el comando LaTeX \"\"\"\n",
    "        if self.rpr == 'fila':\n",
    "            return \\\n",
    "            '\\\\left(\\\\begin{array}{' + \\\n",
    "            ''.join([self.n*'c']) + '}' + \\\n",
    "            ',&'.join([latex(a) for a in self.lista]) + \\\n",
    "            '\\\\end{array}\\\\right)' \n",
    "        else:\n",
    "            return \\\n",
    "            '\\\\left(\\\\begin{array}{' + \\\n",
    "            ''.join([self.n*'c']) + '}' + \\\n",
    "            '\\\\\\\\'.join([latex(a) for a in self.lista]) + \\\n",
    "            '\\\\end{array}\\\\right)'\n",
    "\n",
    "    def __or__(self,i):\n",
    "        \"\"\" Extrae la i-esima componente de un vector por la derecha\n",
    "        >>> Vector([10,20,30]) | 2\n",
    "        20\n",
    "        \n",
    "        o un vector formado por una serie de componentes\n",
    "        \n",
    "        >>> Vector([10,20,30]) | [2,3]\n",
    "        Vector([20, 30])\n",
    "        \n",
    "        o\n",
    "        \n",
    "        >>> Vector([10,20,30]) | (2,3)\n",
    "        Vector([20, 30])\n",
    "        \"\"\"\n",
    "        if isinstance(i,int):\n",
    "            return self.lista[i-1]\n",
    "        elif isinstance(i,list) | isinstance(i,tuple):\n",
    "            return Vector ([ (self|a) for a in i ])\n",
    "\n",
    "    def __ror__(self,i):\n",
    "        \"\"\" lo mismo que __or__ solo que por la izquierda\n",
    "        >>> 1 | Vector([10,20,30])\n",
    "        10\n",
    "        >>> [2,3] | Vector([10,20,30])\n",
    "        Vector([20, 30])\n",
    "        >>> (2,3) | Vector([10,20,30])\n",
    "        Vector([20, 30])\n",
    "        \"\"\"\n",
    "        return self | i"
   ]
  },
  {
   "cell_type": "markdown",
   "metadata": {
    "ein.tags": "worksheet-0",
    "slideshow": {
     "slide_type": "-"
    }
   },
   "source": [
    "Veamos si funciona"
   ]
  },
  {
   "cell_type": "code",
   "execution_count": 32,
   "metadata": {
    "autoscroll": false,
    "collapsed": false,
    "ein.hycell": false,
    "ein.tags": "worksheet-0",
    "slideshow": {
     "slide_type": "-"
    }
   },
   "outputs": [
    {
     "data": {
      "text/plain": [
       "30"
      ]
     },
     "execution_count": 32,
     "metadata": {},
     "output_type": "execute_result"
    }
   ],
   "source": [
    "x=Vector([10,20,30,40,50,60])\n",
    "x|3                         # tercer elemento de x"
   ]
  },
  {
   "cell_type": "code",
   "execution_count": 33,
   "metadata": {
    "autoscroll": false,
    "collapsed": false,
    "ein.hycell": false,
    "ein.tags": "worksheet-0",
    "slideshow": {
     "slide_type": "-"
    }
   },
   "outputs": [
    {
     "data": {
      "text/html": [
       "<p style=\"text-align:center;\">$\\left(\\begin{array}{ccc}10\\\\20\\\\60\\end{array}\\right)$</p>"
      ],
      "text/plain": [
       "Vector([10, 20, 60])"
      ]
     },
     "execution_count": 33,
     "metadata": {},
     "output_type": "execute_result"
    }
   ],
   "source": [
    "x|(1,2,6)                   # subvector con los elementos primero, segundo y sexto de x"
   ]
  },
  {
   "cell_type": "code",
   "execution_count": 34,
   "metadata": {
    "autoscroll": false,
    "collapsed": false,
    "ein.hycell": false,
    "ein.tags": "worksheet-0",
    "slideshow": {
     "slide_type": "-"
    }
   },
   "outputs": [
    {
     "data": {
      "text/html": [
       "<p style=\"text-align:center;\">$\\left(\\begin{array}{ccc}40\\\\10\\\\60\\end{array}\\right)$</p>"
      ],
      "text/plain": [
       "Vector([40, 10, 60])"
      ]
     },
     "execution_count": 34,
     "metadata": {},
     "output_type": "execute_result"
    }
   ],
   "source": [
    "x|[4,1,6]"
   ]
  },
  {
   "cell_type": "code",
   "execution_count": 35,
   "metadata": {
    "autoscroll": false,
    "collapsed": false,
    "ein.hycell": false,
    "ein.tags": "worksheet-0",
    "slideshow": {
     "slide_type": "-"
    }
   },
   "outputs": [
    {
     "name": "stdout",
     "output_type": "stream",
     "text": [
      "Help on function __or__ in module __main__:\n",
      "\n",
      "__or__(self, i)\n",
      "    Extrae la i-esima componente de un vector por la derecha\n",
      "    >>> Vector([10,20,30]) | 2\n",
      "    20\n",
      "    \n",
      "    o un vector formado por una serie de componentes\n",
      "    \n",
      "    >>> Vector([10,20,30]) | [2,3]\n",
      "    Vector([20, 30])\n",
      "    \n",
      "    o\n",
      "    \n",
      "    >>> Vector([10,20,30]) | (2,3)\n",
      "    Vector([20, 30])\n",
      "\n"
     ]
    }
   ],
   "source": [
    "help(Vector.__or__)"
   ]
  },
  {
   "cell_type": "markdown",
   "metadata": {
    "ein.tags": "worksheet-0",
    "slideshow": {
     "slide_type": "-"
    }
   },
   "source": [
    "Ahora que tenemos definido el operador selector, podemos usarlo para\n",
    "definir la suma de vectores y el producto de un vector por un escalar\n",
    "(tanto por la derecha como por la izquierda). Y ya puestos definimos\n",
    "también el producto punto entre vectores (el producto escalar usual en\n",
    "el espacio euclídeo $\\Rr^n$).\n",
    "\n",
    "El símbolo en Python del producto \" * \" que multiplica por la derecha es\n",
    "_mul_ y por la izquierda _rmul_. El símbolo en Python de la suma \" + \"\n",
    "es _add_.\n",
    "\n",
    "## La clase `Vector`:"
   ]
  },
  {
   "cell_type": "code",
   "execution_count": 36,
   "metadata": {
    "autoscroll": false,
    "collapsed": false,
    "ein.hycell": false,
    "ein.tags": "worksheet-0",
    "slideshow": {
     "slide_type": "-"
    }
   },
   "outputs": [],
   "source": [
    "class Vector:\n",
    "\n",
    "    def __init__(self, Sistema, rpr='columna'):\n",
    "\n",
    "        \"\"\" Inicializa el vector a partir de una lista o tupla de números \n",
    "        \n",
    "        >>> Vector([1,2,3])\n",
    "        Vector([1,2,3])\n",
    "        \"\"\"\n",
    "        \n",
    "        self.lista = list(Sistema)\n",
    "        self.n     = len (Sistema)\n",
    "        self.rpr   = rpr\n",
    "        \n",
    "    def __repr__(self):\n",
    "        \"\"\" Muestra el vector en su representación python \"\"\"\n",
    "        return 'Vector(' + repr(self.lista) + ')'\n",
    "\n",
    "    def _repr_html_(self):\n",
    "        \"\"\" Construye la representación para el  entorno jupyter notebook \"\"\"\n",
    "        return html(self.latex())\n",
    "\n",
    "    def latex(self):\n",
    "        \"\"\" Construye el comando LaTeX \"\"\"\n",
    "        if self.rpr == 'fila':\n",
    "            return \\\n",
    "            '\\\\left(\\\\begin{array}{' + \\\n",
    "            ''.join([self.n*'c']) + '}' + \\\n",
    "            ',&'.join([latex(a) for a in self.lista]) + \\\n",
    "            '\\\\end{array}\\\\right)' \n",
    "        else:\n",
    "            return \\\n",
    "            '\\\\left(\\\\begin{array}{' + \\\n",
    "            ''.join([self.n*'c']) + '}' + \\\n",
    "            '\\\\\\\\'.join([latex(a) for a in self.lista]) + \\\n",
    "            '\\\\end{array}\\\\right)'\n",
    "\n",
    "    def __or__(self,i):\n",
    "        \"\"\" Extrae la i-esima componente de un vector por la derecha\n",
    "        >>> Vector([10,20,30]) | 2\n",
    "        20\n",
    "        \n",
    "        o un vector formado por una serie de componentes\n",
    "        \n",
    "        >>> Vector([10,20,30]) | [2,3]\n",
    "        Vector([20, 30])\n",
    "        \n",
    "        o\n",
    "        \n",
    "        >>> Vector([10,20,30]) | (2,3)\n",
    "        Vector([20, 30])\n",
    "        \"\"\"\n",
    "        if isinstance(i,int):\n",
    "            return self.lista[i-1]\n",
    "        elif isinstance(i,list) | isinstance(i,tuple):\n",
    "            return Vector ([ (self|a) for a in i ])\n",
    "\n",
    "    def __ror__(self,i):\n",
    "        \"\"\" lo mismo que __or__ solo que por la izquierda\n",
    "        >>> 1 | Vector([10,20,30])\n",
    "        10\n",
    "        >>> [2,3] | Vector([10,20,30])\n",
    "        Vector([20, 30])\n",
    "        >>> (2,3) | Vector([10,20,30])\n",
    "        Vector([20, 30])\n",
    "        \"\"\"\n",
    "        return self | i\n",
    "\n",
    "    def __add__(self,other):\n",
    "        \"\"\" Suma de vectores\n",
    "        >>> Vector([10,20,30]) + Vector([0,1,1])\n",
    "        Vector([10,21,31])        \n",
    "        \"\"\"\n",
    "        if isinstance(other,Vector) and self.n == other.n:\n",
    "           return Vector([ (self|i) + (other|i) for i in range(1,self.n+1)])\n",
    "\n",
    "    def __mul__(self,x):\n",
    "        \"\"\" Multiplica un vector por un número a su derecha\n",
    "        >>> Vector([10,20,30]) * 3\n",
    "        Vector([30,60,90])        \n",
    "\n",
    "        o multiplica un vector por otro (producto escalar usual o producto punto) \n",
    "        >>> Vector([1, -1])*Vector([1, 1])\n",
    "        0\n",
    "        \"\"\"\n",
    "        if isinstance(x,int) | isinstance(x,float):\n",
    "            return Vector( [ (self|i)*x     for i in range(1,self.n+1)])\n",
    "        elif isinstance(x,Vector): \n",
    "            if self.n==x.n:\n",
    "                return    sum( [ (self|i)*(x|i) for i in range(1,self.n+1)])\n",
    "            else:\n",
    "                print(\"error: los vectores no tienen el mismo número de componentes\")\n",
    "\n",
    "    def __rmul__(self,a):\n",
    "        \"\"\" Multiplica un vector por un número a su izquierda\n",
    "        >>> 3 * Vector([10,20,30]) \n",
    "        Vector([30,60,90])        \n",
    "        \"\"\"\n",
    "        return self*a"
   ]
  },
  {
   "cell_type": "code",
   "execution_count": 37,
   "metadata": {
    "autoscroll": false,
    "collapsed": false,
    "ein.hycell": false,
    "ein.tags": "worksheet-0",
    "slideshow": {
     "slide_type": "-"
    }
   },
   "outputs": [
    {
     "data": {
      "text/html": [
       "<p style=\"text-align:center;\">$\\left(\\begin{array}{ccc}11\\\\22\\\\35\\end{array}\\right)$</p>"
      ],
      "text/plain": [
       "Vector([11, 22, 35])"
      ]
     },
     "execution_count": 37,
     "metadata": {},
     "output_type": "execute_result"
    }
   ],
   "source": [
    "Vector([1,2,30])+Vector([10,20,5])"
   ]
  },
  {
   "cell_type": "code",
   "execution_count": 38,
   "metadata": {
    "autoscroll": false,
    "collapsed": false,
    "ein.hycell": false,
    "ein.tags": "worksheet-0",
    "slideshow": {
     "slide_type": "-"
    }
   },
   "outputs": [
    {
     "data": {
      "text/html": [
       "<p style=\"text-align:center;\">$\\left(\\begin{array}{ccc}2\\\\4\\\\60\\end{array}\\right)$</p>"
      ],
      "text/plain": [
       "Vector([2, 4, 60])"
      ]
     },
     "execution_count": 38,
     "metadata": {},
     "output_type": "execute_result"
    }
   ],
   "source": [
    "Vector([1,2,30])*2"
   ]
  },
  {
   "cell_type": "code",
   "execution_count": 39,
   "metadata": {
    "autoscroll": false,
    "collapsed": false,
    "ein.hycell": false,
    "ein.tags": "worksheet-0",
    "slideshow": {
     "slide_type": "-"
    }
   },
   "outputs": [
    {
     "data": {
      "text/html": [
       "<p style=\"text-align:center;\">$\\left(\\begin{array}{ccc}-1.0\\\\0.0\\\\1.0\\end{array}\\right)$</p>"
      ],
      "text/plain": [
       "Vector([-1.0, 0.0, 1.0])"
      ]
     },
     "execution_count": 39,
     "metadata": {},
     "output_type": "execute_result"
    }
   ],
   "source": [
    "0.2*Vector([-5,0,5])"
   ]
  },
  {
   "cell_type": "code",
   "execution_count": 40,
   "metadata": {
    "autoscroll": false,
    "collapsed": false,
    "ein.hycell": false,
    "ein.tags": "worksheet-0",
    "slideshow": {
     "slide_type": "-"
    }
   },
   "outputs": [
    {
     "data": {
      "text/plain": [
       "2"
      ]
     },
     "execution_count": 40,
     "metadata": {},
     "output_type": "execute_result"
    }
   ],
   "source": [
    "Vector((2,4,6,8))*Vector((-2,1,-1,1))"
   ]
  },
  {
   "cell_type": "code",
   "execution_count": 41,
   "metadata": {
    "autoscroll": false,
    "collapsed": false,
    "ein.hycell": false,
    "ein.tags": "worksheet-0",
    "slideshow": {
     "slide_type": "-"
    }
   },
   "outputs": [
    {
     "name": "stdout",
     "output_type": "stream",
     "text": [
      "Help on function __mul__ in module __main__:\n",
      "\n",
      "__mul__(self, x)\n",
      "    Multiplica un vector por un número a su derecha\n",
      "    >>> Vector([10,20,30]) * 3\n",
      "    Vector([30,60,90])        \n",
      "    \n",
      "    o multiplica un vector por otro (producto escalar usual o producto punto) \n",
      "    >>> Vector([1, -1])*Vector([1, 1])\n",
      "    0\n",
      "\n"
     ]
    }
   ],
   "source": [
    "help(Vector.__mul__)"
   ]
  },
  {
   "cell_type": "code",
   "execution_count": 42,
   "metadata": {
    "autoscroll": false,
    "collapsed": false,
    "ein.hycell": false,
    "ein.tags": "worksheet-0",
    "slideshow": {
     "slide_type": "-"
    }
   },
   "outputs": [
    {
     "data": {
      "text/html": [
       "<p style=\"text-align:center;\">$\\left(\\begin{array}{cccc}12\\\\12\\\\12\\\\12\\end{array}\\right)$</p>"
      ],
      "text/plain": [
       "Vector([12, 12, 12, 12])"
      ]
     },
     "execution_count": 42,
     "metadata": {},
     "output_type": "execute_result"
    }
   ],
   "source": [
    "x=Vector([1,2,3])\n",
    "y=Vector([1,0,1])\n",
    "z=Vector([1,1,1,1])\n",
    "3*(x*y)*z"
   ]
  },
  {
   "cell_type": "code",
   "execution_count": 43,
   "metadata": {
    "autoscroll": false,
    "collapsed": false,
    "ein.hycell": false,
    "ein.tags": "worksheet-0",
    "slideshow": {
     "slide_type": "-"
    }
   },
   "outputs": [
    {
     "name": "stdout",
     "output_type": "stream",
     "text": [
      "error: los vectores no tienen el mismo número de componentes\n"
     ]
    }
   ],
   "source": [
    "3*x*(y*z)"
   ]
  },
  {
   "cell_type": "markdown",
   "metadata": {
    "ein.tags": "worksheet-0",
    "slideshow": {
     "slide_type": "-"
    }
   },
   "source": [
    "Compare la suma y producto del final del notebook sobre **listas y\n",
    "tuplas**, y fíjese qué comportamiento tan distinto hemos programado\n",
    "para la suma y el producto de `Vector`es."
   ]
  },
  {
   "cell_type": "markdown",
   "metadata": {
    "ein.tags": "worksheet-0",
    "slideshow": {
     "slide_type": "-"
    }
   },
   "source": [
    "Con esto ya se debería entender el código que define el objeto\n",
    "`Vector`. De manera análoga se define el objeto `Matrix` y otros\n",
    "objetos de la librería de Python para el curso de Matemáticas II."
   ]
  }
 ],
 "metadata": {
  "kernelspec": {
   "display_name": "Python 3",
   "name": "python3"
  },
  "language_info": {
   "codemirror_mode": {
    "name": "ipython",
    "version": 3
   },
   "file_extension": ".py",
   "mimetype": "text/x-python",
   "name": "python",
   "nbconvert_exporter": "python",
   "pygments_lexer": "ipython3",
   "version": "3.5.3"
  },
  "name": "02_Clases.ipynb"
 },
 "nbformat": 4,
 "nbformat_minor": 2
}
