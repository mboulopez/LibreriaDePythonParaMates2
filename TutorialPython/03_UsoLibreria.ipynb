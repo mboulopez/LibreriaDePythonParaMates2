{
 "cells": [
  {
   "cell_type": "markdown",
   "metadata": {
    "autoscroll": false,
    "ein.hycell": false,
    "ein.tags": "worksheet-0",
    "slideshow": {
     "slide_type": "-"
    }
   },
   "source": [
    "${\\huge\\text{Notebook de demostración de uso de nuestra librería}}$"
   ]
  },
  {
   "cell_type": "code",
   "execution_count": 1,
   "metadata": {
    "autoscroll": false,
    "collapsed": false,
    "ein.hycell": false,
    "ein.tags": "worksheet-0",
    "slideshow": {
     "slide_type": "-"
    }
   },
   "outputs": [],
   "source": [
    "# Vamos a cargar la librería que está en otro directorio\n",
    "import os                 # la librería \"os\" nos permite cambiar de directorio\n",
    "dirTutorial = os.getcwd() # guardamos el nombre del directorio actual\n",
    "os.chdir('..')            # nos movemos a \"..\"\n",
    "from notacion import *    # importamos la librería del curso Mates2\n",
    "os.chdir(dirTutorial)     # volvemos a l directorio de antes"
   ]
  },
  {
   "cell_type": "markdown",
   "metadata": {
    "ein.tags": "worksheet-0",
    "slideshow": {
     "slide_type": "-"
    }
   },
   "source": [
    "# Vectores\n",
    "\n",
    "Definir vectores:"
   ]
  },
  {
   "cell_type": "code",
   "execution_count": 2,
   "metadata": {
    "autoscroll": false,
    "collapsed": false,
    "ein.hycell": false,
    "ein.tags": "worksheet-0",
    "slideshow": {
     "slide_type": "-"
    }
   },
   "outputs": [
    {
     "name": "stdout",
     "output_type": "stream",
     "text": [
      "Vector([1, 2, 3])\n",
      "Vector([6, 5, 4])\n"
     ]
    }
   ],
   "source": [
    "v=Vector([1,2,3])\n",
    "w=Vector([6,5,4])\n",
    "print(v)\n",
    "print(w)"
   ]
  },
  {
   "cell_type": "code",
   "execution_count": 3,
   "metadata": {
    "autoscroll": false,
    "collapsed": false,
    "ein.hycell": false,
    "ein.tags": "worksheet-0",
    "slideshow": {
     "slide_type": "-"
    }
   },
   "outputs": [
    {
     "data": {
      "text/html": [
       "<p style=\"text-align:center;\">$\\begin{pmatrix}7\\\\7\\\\7\\end{pmatrix}$</p>"
      ],
      "text/plain": [
       "Vector([7, 7, 7])"
      ]
     },
     "execution_count": 3,
     "metadata": {},
     "output_type": "execute_result"
    }
   ],
   "source": [
    "v+w"
   ]
  },
  {
   "cell_type": "markdown",
   "metadata": {
    "ein.tags": "worksheet-0",
    "slideshow": {
     "slide_type": "-"
    }
   },
   "source": [
    "Sumar vectores"
   ]
  },
  {
   "cell_type": "markdown",
   "metadata": {
    "ein.tags": "worksheet-0",
    "slideshow": {
     "slide_type": "-"
    }
   },
   "source": [
    "Multiplicar por un escalar"
   ]
  },
  {
   "cell_type": "code",
   "execution_count": 4,
   "metadata": {
    "autoscroll": false,
    "collapsed": false,
    "ein.hycell": false,
    "ein.tags": "worksheet-0",
    "slideshow": {
     "slide_type": "-"
    }
   },
   "outputs": [
    {
     "data": {
      "text/html": [
       "<p style=\"text-align:center;\">$\\begin{pmatrix}-1\\\\-2\\\\-3\\end{pmatrix}$</p>"
      ],
      "text/plain": [
       "Vector([-1, -2, -3])"
      ]
     },
     "execution_count": 4,
     "metadata": {},
     "output_type": "execute_result"
    }
   ],
   "source": [
    "(-1)*v"
   ]
  },
  {
   "cell_type": "markdown",
   "metadata": {
    "ein.tags": "worksheet-0",
    "slideshow": {
     "slide_type": "-"
    }
   },
   "source": [
    "Producto punto (o producto escalar usual) de dos vectores"
   ]
  },
  {
   "cell_type": "code",
   "execution_count": 5,
   "metadata": {
    "autoscroll": false,
    "collapsed": false,
    "ein.hycell": false,
    "ein.tags": "worksheet-0",
    "slideshow": {
     "slide_type": "-"
    }
   },
   "outputs": [
    {
     "data": {
      "text/plain": [
       "28"
      ]
     },
     "execution_count": 5,
     "metadata": {},
     "output_type": "execute_result"
    }
   ],
   "source": [
    "w*v"
   ]
  },
  {
   "cell_type": "markdown",
   "metadata": {
    "ein.tags": "worksheet-0",
    "slideshow": {
     "slide_type": "-"
    }
   },
   "source": [
    "Seleccionar una componente de un vector"
   ]
  },
  {
   "cell_type": "code",
   "execution_count": 6,
   "metadata": {
    "autoscroll": false,
    "collapsed": false,
    "ein.hycell": false,
    "ein.tags": "worksheet-0",
    "slideshow": {
     "slide_type": "-"
    }
   },
   "outputs": [
    {
     "data": {
      "text/plain": [
       "6"
      ]
     },
     "execution_count": 6,
     "metadata": {},
     "output_type": "execute_result"
    }
   ],
   "source": [
    "1|w"
   ]
  },
  {
   "cell_type": "markdown",
   "metadata": {
    "ein.tags": "worksheet-0",
    "slideshow": {
     "slide_type": "-"
    }
   },
   "source": [
    "Crear un vector (o sub-vector) a partir de otro vector y una lista o tupla de índices"
   ]
  },
  {
   "cell_type": "code",
   "execution_count": 7,
   "metadata": {
    "autoscroll": false,
    "collapsed": false,
    "ein.hycell": false,
    "ein.tags": "worksheet-0",
    "slideshow": {
     "slide_type": "-"
    }
   },
   "outputs": [
    {
     "data": {
      "text/html": [
       "<p style=\"text-align:center;\">$\\begin{pmatrix}1\\\\2\\end{pmatrix}$</p>"
      ],
      "text/plain": [
       "Vector([1, 2])"
      ]
     },
     "execution_count": 7,
     "metadata": {},
     "output_type": "execute_result"
    }
   ],
   "source": [
    "v|(1,2)"
   ]
  },
  {
   "cell_type": "code",
   "execution_count": 8,
   "metadata": {
    "autoscroll": false,
    "collapsed": false,
    "ein.hycell": false,
    "ein.tags": "worksheet-0",
    "slideshow": {
     "slide_type": "-"
    }
   },
   "outputs": [
    {
     "data": {
      "text/html": [
       "<p style=\"text-align:center;\">$\\begin{pmatrix}1\\\\2\\\\3\\\\3\\\\2\\\\1\\end{pmatrix}$</p>"
      ],
      "text/plain": [
       "Vector([1, 2, 3, 3, 2, 1])"
      ]
     },
     "execution_count": 8,
     "metadata": {},
     "output_type": "execute_result"
    }
   ],
   "source": [
    "v|(1,2,3,3,2,1)"
   ]
  },
  {
   "cell_type": "markdown",
   "metadata": {
    "ein.tags": "worksheet-0",
    "slideshow": {
     "slide_type": "-"
    }
   },
   "source": [
    "Una serie de operaciones"
   ]
  },
  {
   "cell_type": "code",
   "execution_count": 9,
   "metadata": {
    "autoscroll": false,
    "collapsed": false,
    "ein.hycell": false,
    "ein.tags": "worksheet-0",
    "slideshow": {
     "slide_type": "-"
    }
   },
   "outputs": [
    {
     "data": {
      "text/plain": [
       "110"
      ]
     },
     "execution_count": 9,
     "metadata": {},
     "output_type": "execute_result"
    }
   ],
   "source": [
    "(v+(w|(1,1,3)))*w"
   ]
  },
  {
   "cell_type": "markdown",
   "metadata": {
    "ein.tags": "worksheet-0",
    "slideshow": {
     "slide_type": "-"
    }
   },
   "source": [
    "Representación de un Vector en forma de fila (solo en un Notebook de Jupyter)"
   ]
  },
  {
   "cell_type": "code",
   "execution_count": 10,
   "metadata": {
    "autoscroll": false,
    "collapsed": false,
    "ein.hycell": false,
    "ein.tags": "worksheet-0",
    "slideshow": {
     "slide_type": "-"
    }
   },
   "outputs": [
    {
     "data": {
      "text/html": [
       "<p style=\"text-align:center;\">$\\begin{pmatrix}1,&2,&3\\end{pmatrix}$</p>"
      ],
      "text/plain": [
       "Vector([1, 2, 3])"
      ]
     },
     "execution_count": 10,
     "metadata": {},
     "output_type": "execute_result"
    }
   ],
   "source": [
    "v.rpr=\"fila\"\n",
    "v"
   ]
  },
  {
   "cell_type": "code",
   "execution_count": 11,
   "metadata": {
    "autoscroll": false,
    "collapsed": false,
    "ein.hycell": false,
    "ein.tags": "worksheet-0",
    "slideshow": {
     "slide_type": "-"
    }
   },
   "outputs": [
    {
     "data": {
      "text/html": [
       "<p style=\"text-align:center;\">$\\begin{pmatrix}0,&1,&0,&1\\end{pmatrix}$</p>"
      ],
      "text/plain": [
       "Vector([0, 1, 0, 1])"
      ]
     },
     "execution_count": 11,
     "metadata": {},
     "output_type": "execute_result"
    }
   ],
   "source": [
    "f=Vector([0,1,0,1], rpr=\"fila\")\n",
    "f"
   ]
  },
  {
   "cell_type": "markdown",
   "metadata": {},
   "source": [
    "Cambiamos su modo de representación a \"columna\""
   ]
  },
  {
   "cell_type": "code",
   "execution_count": 12,
   "metadata": {
    "autoscroll": false,
    "collapsed": false,
    "ein.hycell": false,
    "ein.tags": "worksheet-0",
    "slideshow": {
     "slide_type": "-"
    }
   },
   "outputs": [
    {
     "data": {
      "text/html": [
       "<p style=\"text-align:center;\">$\\begin{pmatrix}0\\\\1\\\\0\\\\1\\end{pmatrix}$</p>"
      ],
      "text/plain": [
       "Vector([0, 1, 0, 1])"
      ]
     },
     "execution_count": 12,
     "metadata": {},
     "output_type": "execute_result"
    }
   ],
   "source": [
    "f.rpr=\"columna\"\n",
    "f"
   ]
  },
  {
   "cell_type": "markdown",
   "metadata": {
    "ein.tags": "worksheet-0",
    "slideshow": {
     "slide_type": "-"
    }
   },
   "source": [
    "Ayuda para la clase Vector"
   ]
  },
  {
   "cell_type": "code",
   "execution_count": 13,
   "metadata": {
    "autoscroll": false,
    "collapsed": false,
    "ein.hycell": false,
    "ein.tags": "worksheet-0",
    "slideshow": {
     "slide_type": "-"
    }
   },
   "outputs": [
    {
     "name": "stdout",
     "output_type": "stream",
     "text": [
      "Help on class Vector in module notacion:\n",
      "\n",
      "class Vector(builtins.object)\n",
      " |  Clase Vector\n",
      " |  \n",
      " |  Un Vector es una secuencia finita (sistema) de números. Los Vectores se\n",
      " |  pueden construir con una lista o tupla de números. Cuando el argumento \n",
      " |  es un Vector, se crea una copia del mismo. El atributo 'rpr' indica al \n",
      " |  entorno Jupyter si el vector debe ser escrito como fila o como columna.\n",
      " |  \n",
      " |  Parámetros:\n",
      " |      sis (list, tuple, Vector) : Sistema de números. Debe ser una lista o\n",
      " |          tupla de números, o bien otro Vector.\n",
      " |      rpr (str) : Representación en Jupyter ('columna' por defecto).\n",
      " |          Indica la forma de representar el Vector en Jupyter. Si \n",
      " |              rpr='fila' se representa en forma de fila. En caso contrario se\n",
      " |              representa en forma de columna.\n",
      " |  \n",
      " |  Atributos:\n",
      " |      lista (list): sistema de números almacenado.\n",
      " |      n     (int) : número de elementos de la lista.\n",
      " |      rpr   (str) : modo de representación en Jupyter.\n",
      " |  \n",
      " |  Ejemplos:\n",
      " |  >>> # Crear un Vector a partir de una lista (o tupla) de números\n",
      " |  >>> Vector( [1,2,3] )   # con lista\n",
      " |  >>> Vector( (1,2,3) )   # con tupla\n",
      " |  \n",
      " |  Vector([1,2,3])\n",
      " |  \n",
      " |  >>> # Crear un Vector a partir de otro Vector\n",
      " |  >>> Vector( Vector([1,2,3]) )\n",
      " |  \n",
      " |  Vector([1,2,3])\n",
      " |  \n",
      " |  Methods defined here:\n",
      " |  \n",
      " |  __add__(self, other)\n",
      " |      Devuelve el Vector resultante de sumar dos Vectores\n",
      " |      \n",
      " |      Parámetros: \n",
      " |          other (Vector): Otro vector con el mismo número de elementos\n",
      " |      \n",
      " |      Ejemplo\n",
      " |      >>> Vector([10, 20, 30]) + Vector([-1, 1, 1])\n",
      " |      \n",
      " |      Vector([9, 21, 31])\n",
      " |  \n",
      " |  __eq__(self, other)\n",
      " |      Indica si es cierto que dos vectores son iguales\n",
      " |  \n",
      " |  __init__(self, sis, rpr='columna')\n",
      " |      Inicializa un Vector con una lista, tupla, u otro Vector\n",
      " |  \n",
      " |  __mul__(self, x)\n",
      " |      Multiplica un Vector por un número, Matrix o Vector a su derecha.\n",
      " |      \n",
      " |      Parámetros:\n",
      " |          x (int, float o Fraction): Número por el que se multiplica\n",
      " |            (Matrix): Matrix con tantas filas como componentes tiene el Vector\n",
      " |            (Vector): Vector con el mismo número de componentes.\n",
      " |      \n",
      " |      Resultado:\n",
      " |          Vector: Cuando x es int, float o Fraction, devuelve el Vector que\n",
      " |             resulta de multiplicar cada componente por x\n",
      " |                  Cuando x es Matrix, devuelve el Vector combinación lineal de\n",
      " |             las filas de Matrix (los componentes del Vector son los \n",
      " |             coeficientes de la combinación lineal)\n",
      " |          Número: Cuando x es Vector, devuelve el producto punto entre \n",
      " |             vectores (producto escalar usual en R^n)\n",
      " |      \n",
      " |      Ejemplos:\n",
      " |      >>> Vector([10, 20, 30]) * 3\n",
      " |      \n",
      " |      Vector([30, 60, 90])\n",
      " |      \n",
      " |      >>> a = Vector([1, 1])\n",
      " |      >>> B = Matrix([Vector([1, 2]), Vector([1, 0]), Vector([9, 2])])\n",
      " |      >>> a * B\n",
      " |      \n",
      " |      Vector([3, 1, 11])\n",
      " |      \n",
      " |      >>> Vector([1, 1, 1]) * Vector([10, 20, 30])\n",
      " |      \n",
      " |      60\n",
      " |  \n",
      " |  __or__(self, i)\n",
      " |      Selector por la derecha\n",
      " |      \n",
      " |      Extrae la i-ésima componente del Vector, o genera un nuevo vector con \n",
      " |      las componentes indicadas en una lista o tupla (los índices comienzan \n",
      " |      por la posición 1).\n",
      " |      \n",
      " |      Parámetros:\n",
      " |          i (int, list, tuple): Índice (o lista de índices) de los elementos\n",
      " |              a seleccionar.\n",
      " |      \n",
      " |      Resultado:\n",
      " |          número: Cuando i es int, devuelve el componente i-ésimo del Vector.\n",
      " |          Vector: Cuando i es list o tuple, devuelve el Vector formado por los\n",
      " |              componentes indicados en la lista o tupla de índices.\n",
      " |      \n",
      " |      Ejemplos:\n",
      " |      >>> # Selección de una componente\n",
      " |      >>> Vector([10,20,30]) | 2\n",
      " |      \n",
      " |      20\n",
      " |      \n",
      " |      >>> # Creación de un sub-vector a partir de una lista o tupla de índices        \n",
      " |      >>> Vector([10,20,30]) | [2,1,2]\n",
      " |      >>> Vector([10,20,30]) | (2,1,2)\n",
      " |      \n",
      " |      Vector([20, 10, 20])\n",
      " |  \n",
      " |  __repr__(self)\n",
      " |      Muestra el vector en su representación python\n",
      " |  \n",
      " |  __rmul__(self, x)\n",
      " |      Multiplica un Vector por un número a su izquierda\n",
      " |      \n",
      " |      Parámetros:\n",
      " |          x (int, float o Fraction): Número por el que se multiplica\n",
      " |      \n",
      " |      Resultado:\n",
      " |          Vector: Cuando x es int, float o Fraction, devuelve el Vector que \n",
      " |              resulta de multiplicar cada componente por x\n",
      " |      \n",
      " |      Ejemplo:\n",
      " |      >>> 3 * Vector([10, 20, 30]) \n",
      " |      \n",
      " |      Vector([30, 60, 90])\n",
      " |  \n",
      " |  __ror__(self, i)\n",
      " |      Selector por la izquierda\n",
      " |      \n",
      " |      Hace lo mismo que el método __or__ solo que operando por la izquierda\n",
      " |  \n",
      " |  latex(self)\n",
      " |      Construye el comando LaTeX\n",
      " |  \n",
      " |  ----------------------------------------------------------------------\n",
      " |  Data descriptors defined here:\n",
      " |  \n",
      " |  __dict__\n",
      " |      dictionary for instance variables (if defined)\n",
      " |  \n",
      " |  __weakref__\n",
      " |      list of weak references to the object (if defined)\n",
      " |  \n",
      " |  ----------------------------------------------------------------------\n",
      " |  Data and other attributes defined here:\n",
      " |  \n",
      " |  __hash__ = None\n",
      "\n"
     ]
    }
   ],
   "source": [
    "help(Vector)"
   ]
  },
  {
   "cell_type": "markdown",
   "metadata": {
    "ein.tags": "worksheet-0",
    "slideshow": {
     "slide_type": "-"
    }
   },
   "source": [
    "## Vectores especiales\n",
    "\n",
    "Vector nulo de n componentes (n=2)"
   ]
  },
  {
   "cell_type": "code",
   "execution_count": 14,
   "metadata": {
    "autoscroll": false,
    "collapsed": false,
    "ein.hycell": false,
    "ein.tags": "worksheet-0",
    "slideshow": {
     "slide_type": "-"
    }
   },
   "outputs": [
    {
     "data": {
      "text/html": [
       "<p style=\"text-align:center;\">$\\begin{pmatrix}0\\\\0\\end{pmatrix}$</p>"
      ],
      "text/plain": [
       "Vector([0, 0])"
      ]
     },
     "execution_count": 14,
     "metadata": {},
     "output_type": "execute_result"
    }
   ],
   "source": [
    "V0(2)"
   ]
  },
  {
   "cell_type": "markdown",
   "metadata": {
    "ein.tags": "worksheet-0",
    "slideshow": {
     "slide_type": "-"
    }
   },
   "source": [
    "# Matrices\n",
    "\n",
    "Una matriz definida a partir de una serie de Vectores (serán sus columnas)"
   ]
  },
  {
   "cell_type": "code",
   "execution_count": 15,
   "metadata": {
    "autoscroll": false,
    "collapsed": false,
    "ein.hycell": false,
    "ein.tags": "worksheet-0",
    "slideshow": {
     "slide_type": "-"
    }
   },
   "outputs": [
    {
     "data": {
      "text/html": [
       "<p style=\"text-align:center;\">$\\begin{bmatrix}1&6&0\\\\2&5&0\\\\3&4&0\\end{bmatrix}$</p>"
      ],
      "text/plain": [
       "Matrix([Vector([1, 2, 3]), Vector([6, 5, 4]), Vector([0, 0, 0])])"
      ]
     },
     "execution_count": 15,
     "metadata": {},
     "output_type": "execute_result"
    }
   ],
   "source": [
    "Matrix([v,w,V0(3)])"
   ]
  },
  {
   "cell_type": "code",
   "execution_count": 16,
   "metadata": {
    "autoscroll": false,
    "collapsed": false,
    "ein.hycell": false,
    "ein.tags": "worksheet-0",
    "slideshow": {
     "slide_type": "-"
    }
   },
   "outputs": [
    {
     "data": {
      "text/html": [
       "<p style=\"text-align:center;\">$\\begin{bmatrix}1&0&3\\\\0&1&3\\end{bmatrix}$</p>"
      ],
      "text/plain": [
       "Matrix([Vector([1, 0]), Vector([0, 1]), Vector([3, 3])])"
      ]
     },
     "execution_count": 16,
     "metadata": {},
     "output_type": "execute_result"
    }
   ],
   "source": [
    "A=Matrix( [Vector([1,0]), Vector([0,1]), Vector([3,3])] )\n",
    "A"
   ]
  },
  {
   "cell_type": "code",
   "execution_count": 17,
   "metadata": {
    "autoscroll": false,
    "collapsed": false,
    "ein.hycell": false,
    "ein.tags": "worksheet-0",
    "slideshow": {
     "slide_type": "-"
    }
   },
   "outputs": [
    {
     "name": "stdout",
     "output_type": "stream",
     "text": [
      "Matrix([Vector([1, 0]), Vector([0, 1]), Vector([3, 3])])\n"
     ]
    }
   ],
   "source": [
    "print(A)"
   ]
  },
  {
   "cell_type": "markdown",
   "metadata": {
    "ein.tags": "worksheet-0",
    "slideshow": {
     "slide_type": "-"
    }
   },
   "source": [
    "también se puede definir a partir de una lista de listas o tupas (serían sus filas)"
   ]
  },
  {
   "cell_type": "code",
   "execution_count": 18,
   "metadata": {
    "autoscroll": false,
    "collapsed": false,
    "ein.hycell": false,
    "ein.tags": "worksheet-0",
    "slideshow": {
     "slide_type": "-"
    }
   },
   "outputs": [
    {
     "data": {
      "text/html": [
       "<p style=\"text-align:center;\">$\\begin{bmatrix}1&1&1\\\\2&2&2\\\\3&6&9\\end{bmatrix}$</p>"
      ],
      "text/plain": [
       "Matrix([Vector([1, 2, 3]), Vector([1, 2, 6]), Vector([1, 2, 9])])"
      ]
     },
     "execution_count": 18,
     "metadata": {},
     "output_type": "execute_result"
    }
   ],
   "source": [
    "B=Matrix([ [1,1,1], [2,2,2], [3,6,9] ])\n",
    "B"
   ]
  },
  {
   "cell_type": "markdown",
   "metadata": {},
   "source": [
    "Si A es una Matrix, entonces Matrix(A) es una copia de A"
   ]
  },
  {
   "cell_type": "code",
   "execution_count": 19,
   "metadata": {
    "collapsed": false
   },
   "outputs": [
    {
     "data": {
      "text/html": [
       "<p style=\"text-align:center;\">$\\begin{bmatrix}1&1&1\\\\2&2&2\\\\3&6&9\\end{bmatrix}$</p>"
      ],
      "text/plain": [
       "Matrix([Vector([1, 2, 3]), Vector([1, 2, 6]), Vector([1, 2, 9])])"
      ]
     },
     "execution_count": 19,
     "metadata": {},
     "output_type": "execute_result"
    }
   ],
   "source": [
    "C = Matrix (B)\n",
    "C"
   ]
  },
  {
   "cell_type": "markdown",
   "metadata": {
    "ein.tags": "worksheet-0",
    "slideshow": {
     "slide_type": "-"
    }
   },
   "source": [
    "Más abajo veremos que si A es una matriz por bloques (BlockMatrix), entonces Matrix(A) es la matriz que resulta de fusionar los bloques\n",
    "\n",
    "## Selecionando columnas, filas, componentes o sub-matrices\n",
    "\n",
    "Obteniendo el vector correspondiente a la j-ésima columna de A (donde j=2)"
   ]
  },
  {
   "cell_type": "code",
   "execution_count": 20,
   "metadata": {
    "autoscroll": false,
    "collapsed": false,
    "ein.hycell": false,
    "ein.tags": "worksheet-0",
    "slideshow": {
     "slide_type": "-"
    }
   },
   "outputs": [
    {
     "data": {
      "text/html": [
       "<p style=\"text-align:center;\">$\\begin{pmatrix}0\\\\1\\end{pmatrix}$</p>"
      ],
      "text/plain": [
       "Vector([0, 1])"
      ]
     },
     "execution_count": 20,
     "metadata": {},
     "output_type": "execute_result"
    }
   ],
   "source": [
    "A|2"
   ]
  },
  {
   "cell_type": "markdown",
   "metadata": {
    "ein.tags": "worksheet-0",
    "slideshow": {
     "slide_type": "-"
    }
   },
   "source": [
    "Obteniendo el vector correspondiente a la i-ésima fila de A (donde i=1)"
   ]
  },
  {
   "cell_type": "code",
   "execution_count": 21,
   "metadata": {
    "autoscroll": false,
    "collapsed": false,
    "ein.hycell": false,
    "ein.tags": "worksheet-0",
    "slideshow": {
     "slide_type": "-"
    }
   },
   "outputs": [
    {
     "data": {
      "text/html": [
       "<p style=\"text-align:center;\">$\\begin{pmatrix}1,&0,&3\\end{pmatrix}$</p>"
      ],
      "text/plain": [
       "Vector([1, 0, 3])"
      ]
     },
     "execution_count": 21,
     "metadata": {},
     "output_type": "execute_result"
    }
   ],
   "source": [
    "1|A"
   ]
  },
  {
   "cell_type": "markdown",
   "metadata": {
    "ein.tags": "worksheet-0",
    "slideshow": {
     "slide_type": "-"
    }
   },
   "source": [
    "Obteniendo la componente situada en la segunda fila y tercera columna de A"
   ]
  },
  {
   "cell_type": "code",
   "execution_count": 22,
   "metadata": {
    "autoscroll": false,
    "collapsed": false,
    "ein.hycell": false,
    "ein.tags": "worksheet-0",
    "slideshow": {
     "slide_type": "-"
    }
   },
   "outputs": [
    {
     "data": {
      "text/plain": [
       "3"
      ]
     },
     "execution_count": 22,
     "metadata": {},
     "output_type": "execute_result"
    }
   ],
   "source": [
    "2|A|3"
   ]
  },
  {
   "cell_type": "markdown",
   "metadata": {
    "ein.tags": "worksheet-0",
    "slideshow": {
     "slide_type": "-"
    }
   },
   "source": [
    "Obteniendo un vector a partir de las componente de otro"
   ]
  },
  {
   "cell_type": "code",
   "execution_count": 23,
   "metadata": {
    "autoscroll": false,
    "collapsed": false,
    "ein.hycell": false,
    "ein.tags": "worksheet-0",
    "slideshow": {
     "slide_type": "-"
    }
   },
   "outputs": [
    {
     "data": {
      "text/html": [
       "<p style=\"text-align:center;\">$\\begin{pmatrix}2\\\\6\\\\2\\end{pmatrix}$</p>"
      ],
      "text/plain": [
       "Vector([2, 6, 2])"
      ]
     },
     "execution_count": 23,
     "metadata": {},
     "output_type": "execute_result"
    }
   ],
   "source": [
    "y=Vector([2,4,6,8])\n",
    "y|(1,3,1)"
   ]
  },
  {
   "cell_type": "markdown",
   "metadata": {
    "ein.tags": "worksheet-0",
    "slideshow": {
     "slide_type": "-"
    }
   },
   "source": [
    "Obteniendo una submatriz con varias columnas de otra matriz"
   ]
  },
  {
   "cell_type": "code",
   "execution_count": 24,
   "metadata": {
    "autoscroll": false,
    "collapsed": false,
    "ein.hycell": false,
    "ein.tags": "worksheet-0",
    "slideshow": {
     "slide_type": "-"
    }
   },
   "outputs": [
    {
     "data": {
      "text/html": [
       "<p style=\"text-align:center;\">$\\begin{bmatrix}1&1\\\\2&2\\\\6&9\\end{bmatrix}$</p>"
      ],
      "text/plain": [
       "Matrix([Vector([1, 2, 6]), Vector([1, 2, 9])])"
      ]
     },
     "execution_count": 24,
     "metadata": {},
     "output_type": "execute_result"
    }
   ],
   "source": [
    "B|(2,3)"
   ]
  },
  {
   "cell_type": "markdown",
   "metadata": {
    "ein.tags": "worksheet-0",
    "slideshow": {
     "slide_type": "-"
    }
   },
   "source": [
    "Obteniendo una submatriz usando varias filas de otra matriz"
   ]
  },
  {
   "cell_type": "code",
   "execution_count": 25,
   "metadata": {
    "autoscroll": false,
    "collapsed": false,
    "ein.hycell": false,
    "ein.tags": "worksheet-0",
    "slideshow": {
     "slide_type": "-"
    }
   },
   "outputs": [
    {
     "data": {
      "text/html": [
       "<p style=\"text-align:center;\">$\\begin{bmatrix}3&6&9\\\\1&1&1\\\\2&2&2\\\\1&1&1\\\\3&6&9\\end{bmatrix}$</p>"
      ],
      "text/plain": [
       "Matrix([Vector([3, 1, 2, 1, 3]), Vector([6, 1, 2, 1, 6]), Vector([9, 1, 2, 1, 9])])"
      ]
     },
     "execution_count": 25,
     "metadata": {},
     "output_type": "execute_result"
    }
   ],
   "source": [
    "(3,1,2,1,3)|B"
   ]
  },
  {
   "cell_type": "markdown",
   "metadata": {
    "ein.tags": "worksheet-0",
    "slideshow": {
     "slide_type": "-"
    }
   },
   "source": [
    "Seleccionando una submatriz"
   ]
  },
  {
   "cell_type": "code",
   "execution_count": 26,
   "metadata": {
    "autoscroll": false,
    "collapsed": false,
    "ein.hycell": false,
    "ein.tags": "worksheet-0",
    "slideshow": {
     "slide_type": "-"
    }
   },
   "outputs": [
    {
     "data": {
      "text/html": [
       "<p style=\"text-align:center;\">$\\begin{bmatrix}2&2\\\\3&6\\end{bmatrix}$</p>"
      ],
      "text/plain": [
       "Matrix([Vector([2, 3]), Vector([2, 6])])"
      ]
     },
     "execution_count": 26,
     "metadata": {},
     "output_type": "execute_result"
    }
   ],
   "source": [
    "(2,3)|B|(1,2)"
   ]
  },
  {
   "cell_type": "markdown",
   "metadata": {},
   "source": [
    "Podemos multipicar una Matrix por un escalar tanto por la derecha como por la izquierda "
   ]
  },
  {
   "cell_type": "code",
   "execution_count": 27,
   "metadata": {
    "collapsed": false
   },
   "outputs": [
    {
     "data": {
      "text/html": [
       "<p style=\"text-align:center;\">$\\begin{bmatrix}6&6&6\\\\12&12&12\\\\18&36&54\\end{bmatrix}$</p>"
      ],
      "text/plain": [
       "Matrix([Vector([6, 12, 18]), Vector([6, 12, 36]), Vector([6, 12, 54])])"
      ]
     },
     "execution_count": 27,
     "metadata": {},
     "output_type": "execute_result"
    }
   ],
   "source": [
    "3*B*2"
   ]
  },
  {
   "cell_type": "markdown",
   "metadata": {},
   "source": [
    "Podemos multiplicar una Matrix por un vector a su derecha para obetener una combinación lineal de sus columnas"
   ]
  },
  {
   "cell_type": "code",
   "execution_count": 28,
   "metadata": {
    "collapsed": false
   },
   "outputs": [
    {
     "data": {
      "text/html": [
       "<p style=\"text-align:center;\">$\\begin{pmatrix}6\\\\12\\\\42\\end{pmatrix}$</p>"
      ],
      "text/plain": [
       "Vector([6, 12, 42])"
      ]
     },
     "execution_count": 28,
     "metadata": {},
     "output_type": "execute_result"
    }
   ],
   "source": [
    "B*v"
   ]
  },
  {
   "cell_type": "markdown",
   "metadata": {},
   "source": [
    "Podemos multiplicar una Matrix por un vector a su izquieda para obtener una combinación lineal de sus filas"
   ]
  },
  {
   "cell_type": "code",
   "execution_count": 29,
   "metadata": {
    "collapsed": false
   },
   "outputs": [
    {
     "data": {
      "text/html": [
       "<p style=\"text-align:center;\">$\\begin{pmatrix}28,&40,&52\\end{pmatrix}$</p>"
      ],
      "text/plain": [
       "Vector([28, 40, 52])"
      ]
     },
     "execution_count": 29,
     "metadata": {},
     "output_type": "execute_result"
    }
   ],
   "source": [
    "w*B"
   ]
  },
  {
   "cell_type": "markdown",
   "metadata": {},
   "source": [
    "Podemos sumar matrices"
   ]
  },
  {
   "cell_type": "code",
   "execution_count": 30,
   "metadata": {
    "collapsed": false
   },
   "outputs": [
    {
     "data": {
      "text/html": [
       "<p style=\"text-align:center;\">$\\begin{bmatrix}2&2&2\\\\4&4&4\\\\6&12&18\\end{bmatrix}$</p>"
      ],
      "text/plain": [
       "Matrix([Vector([2, 4, 6]), Vector([2, 4, 12]), Vector([2, 4, 18])])"
      ]
     },
     "execution_count": 30,
     "metadata": {},
     "output_type": "execute_result"
    }
   ],
   "source": [
    "B+B"
   ]
  },
  {
   "cell_type": "markdown",
   "metadata": {},
   "source": [
    "Podemos multiplicar matrices"
   ]
  },
  {
   "cell_type": "code",
   "execution_count": 31,
   "metadata": {
    "collapsed": false
   },
   "outputs": [
    {
     "data": {
      "text/html": [
       "<p style=\"text-align:center;\">$\\begin{bmatrix}10&19&28\\\\11&20&29\\end{bmatrix}$</p>"
      ],
      "text/plain": [
       "Matrix([Vector([10, 11]), Vector([19, 20]), Vector([28, 29])])"
      ]
     },
     "execution_count": 31,
     "metadata": {},
     "output_type": "execute_result"
    }
   ],
   "source": [
    "A*B"
   ]
  },
  {
   "cell_type": "markdown",
   "metadata": {},
   "source": [
    "Podemos transponer matrices"
   ]
  },
  {
   "cell_type": "code",
   "execution_count": 32,
   "metadata": {
    "collapsed": false
   },
   "outputs": [
    {
     "data": {
      "text/html": [
       "<p style=\"text-align:center;\">$\\begin{bmatrix}1&2&3\\\\1&2&6\\\\1&2&9\\end{bmatrix}$</p>"
      ],
      "text/plain": [
       "Matrix([Vector([1, 1, 1]), Vector([2, 2, 2]), Vector([3, 6, 9])])"
      ]
     },
     "execution_count": 32,
     "metadata": {},
     "output_type": "execute_result"
    }
   ],
   "source": [
    "~B"
   ]
  },
  {
   "cell_type": "markdown",
   "metadata": {},
   "source": [
    "Ayuda para la clase Matrix"
   ]
  },
  {
   "cell_type": "code",
   "execution_count": 33,
   "metadata": {
    "collapsed": false
   },
   "outputs": [
    {
     "name": "stdout",
     "output_type": "stream",
     "text": [
      "Help on class Matrix in module notacion:\n",
      "\n",
      "class Matrix(builtins.object)\n",
      " |  Clase Matrix\n",
      " |  \n",
      " |  Una Matrix es una secuencia finita (sistema) de Vectores con el mismo \n",
      " |  número de componentes. Una Matrix se puede construir con una lista o \n",
      " |  tupla de Vectores con el mismo número de componentes (serán las columnas\n",
      " |  de la matriz); una lista (o tupla) de listas o tuplas con el mismo \n",
      " |  número de componentes (serán las filas de la matriz); una Matrix (el \n",
      " |  valor devuelto será una copia de la Matrix); una BlockMatrix (el valor \n",
      " |  devuelto es la Matrix que resulta de unir todos los bloques)\n",
      " |  \n",
      " |  Parámetros:\n",
      " |      sis (list, tuple, Matrix, BlockMatrix): Lista (o tupla) de Vectores \n",
      " |          con el mismo núm. de componentes (columnas de la matriz); o \n",
      " |          lista (o tupla) de listas o tuplas con el mismo núm. de \n",
      " |          componentes (filas de la matriz); u otra Matrix; o una \n",
      " |          BlockMatrix (matriz particionada por bloques).\n",
      " |  \n",
      " |  Atributos:\n",
      " |      lista (list): sistema de Vectores almacenado\n",
      " |      m     (int) : número de filas de la matriz\n",
      " |      n     (int) : número de columnas de la matriz\n",
      " |  \n",
      " |  Ejemplos:\n",
      " |  >>> # Crea una Matrix a partir de una lista de Vectores\n",
      " |  >>> a = Vector( [1,2] )\n",
      " |  >>> b = Vector( [1,0] )\n",
      " |  >>> c = Vector( [9,2] )\n",
      " |  >>> Matrix( [a,b,c] )\n",
      " |  \n",
      " |  Matrix([Vector([1, 2]), Vector([1, 0]), Vector([9, 2])])\n",
      " |  \n",
      " |  >>> # Crea una Matrix a partir de una lista de listas de números\n",
      " |  >>> A = Matrix( [ [1,1,9], [2,0,2] ] )\n",
      " |  >>> A\n",
      " |  \n",
      " |  Matrix([Vector([1, 2]), Vector([1, 0]), Vector([9, 2])])\n",
      " |  \n",
      " |  >>> # Crea una Matrix a partir de otra Matrix\n",
      " |  >>> Matrix( A )\n",
      " |  \n",
      " |  Matrix([Vector([1, 2]), Vector([1, 0]), Vector([9, 2])])\n",
      " |  \n",
      " |  >>> # Crea una Matrix a partir de una BlockMatrix\n",
      " |  >>> Matrix( {1}|A|{2} )\n",
      " |  \n",
      " |  Matrix([Vector([1, 2]), Vector([1, 0]), Vector([9, 2])])\n",
      " |  \n",
      " |  Methods defined here:\n",
      " |  \n",
      " |  __add__(self, other)\n",
      " |      Devuelve la Matrix resultante de sumar dos Matrices\n",
      " |      \n",
      " |      Parámetros: \n",
      " |          other (Matrix): Otra Matrix con el mismo número de filas y columnas\n",
      " |      \n",
      " |      Ejemplo:\n",
      " |      >>> A = Matrix( [Vector([1,0]), Vector([0,1])] )\n",
      " |      >>> B = Matrix( [Vector([0,2]), Vector([2,0])] )\n",
      " |      >>> A + B\n",
      " |      \n",
      " |      Matrix( [Vector([1,2]), Vector([2,1])] )\n",
      " |  \n",
      " |  __and__(self, t)\n",
      " |      Transforma las columnas de una Matrix\n",
      " |      \n",
      " |      Atributos:\n",
      " |          t (T): transformaciones a aplicar sobre las columnas de Matrix\n",
      " |      \n",
      " |      Ejemplos:\n",
      " |      >>>  A & T({1,3})                # Intercambia las columnas 1 y 3\n",
      " |      >>>  A & T((1,5))                # Multiplica la columna 1 por 5\n",
      " |      >>>  A & T((1,2,5))              # suma a la columna 1 la 2 por 5\n",
      " |      >>>  A & T([{1,3},(1,5),(1,2,5)])# Aplica la secuencia de transformac.\n",
      " |                   # sobre las columnas de A y en el mismo orden de la lista\n",
      " |  \n",
      " |  __eq__(self, other)\n",
      " |      Indica si es cierto que dos matrices son iguales\n",
      " |  \n",
      " |  __init__(self, sis)\n",
      " |      Inicializa una Matrix\n",
      " |  \n",
      " |  __invert__(self)\n",
      " |      Devuelve la traspuesta de una matriz\n",
      " |      \n",
      " |      Ejemplo:\n",
      " |      >>> ~Matrix([Vector([1]), Vector([2]), Vector([3])])\n",
      " |      \n",
      " |      Matrix([Vector([1, 2, 3])])\n",
      " |  \n",
      " |  __mul__(self, x)\n",
      " |      Multiplica una Matrix por un número, Vector o una Matrix a su derecha\n",
      " |      \n",
      " |      Parámetros:\n",
      " |          x (int, float o Fraction): Número por el que se multiplica\n",
      " |            (Vector): Vector con tantos componentes como columnas tiene Matrix\n",
      " |            (Matrix): con tantas filas como columnas tiene la Matrix\n",
      " |      \n",
      " |      Resultado:\n",
      " |          Matrix: Si x es int, float o Fraction, devuelve la Matrix que \n",
      " |             resulta de multiplicar cada columna por x\n",
      " |          Vector: Si x es Vector, devuelve el Vector combinación lineal de las\n",
      " |             columnas de Matrix (los componentes del Vector son los \n",
      " |             coeficientes de la combinación)\n",
      " |          Matrix: Si x es Matrix, devuelve el producto entre las matrices\n",
      " |             \n",
      " |      Ejemplos:\n",
      " |      >>> # Producto por un número\n",
      " |      >>> Matrix([[1,2],[3,4]]) * 10\n",
      " |      \n",
      " |      Matrix([[10,20],[30,40]])\n",
      " |      \n",
      " |      >>> # Producto por un Vector\n",
      " |      >>> Matrix([Vector([1, 3]), Vector([2, 4])]) * Vector([1, 1])\n",
      " |      \n",
      " |      Vector([3, 7])\n",
      " |      \n",
      " |      >>> # Producto por otra Matrix\n",
      " |      >>> Matrix([Vector([1, 3]), Vector([2, 4])]) * Matrix([Vector([1,1])]))\n",
      " |      \n",
      " |      Matrix([Vector([3, 7])])\n",
      " |  \n",
      " |  __or__(self, j)\n",
      " |      Extrae la i-ésima columna de Matrix; o crea una Matrix con las columnas\n",
      " |      indicadas; o crea una BlockMatrix particionando una Matrix por las\n",
      " |      columnas indicadas (los índices comienzan por la posición 1)\n",
      " |      \n",
      " |      Parámetros:\n",
      " |          j (int, list, tuple): Índice (o lista de índices) de las columnas a \n",
      " |                seleccionar\n",
      " |            (set): Conjunto de índices de las columnas por donde particionar\n",
      " |      \n",
      " |      Resultado:\n",
      " |          Vector: Cuando j es int, devuelve la columna j-ésima de Matrix.\n",
      " |          Matrix: Cuando j es list o tuple, devuelve la Matrix formada por las\n",
      " |              columnas indicadas en la lista o tupla de índices.\n",
      " |          BlockMatrix: Si j es un set, devuelve la BlockMatrix resultante de \n",
      " |              particionar la matriz por las columnas indicadas en el conjunto\n",
      " |      \n",
      " |      Ejemplos:\n",
      " |      >>> # Extrae la j-ésima columna la matriz \n",
      " |      >>> Matrix([Vector([1,0]), Vector([0,2]), Vector([3,0])]) | 2\n",
      " |      \n",
      " |      Vector([0,2])\n",
      " |      \n",
      " |      >>> # Matrix formada por Vectores columna indicados en la lista (o tupla)\n",
      " |      >>> Matrix([Vector([1,0]), Vector([0,2]), Vector([3,0])]) | [2,1]\n",
      " |      >>> Matrix([Vector([1,0]), Vector([0,2]), Vector([3,0])]) | (2,1)\n",
      " |      \n",
      " |      Matrix( [Vector([0,2]), Vector([1,0])] )\n",
      " |      \n",
      " |      >>> # BlockMatrix correspondiente a la partición por la segunda columna\n",
      " |      >>> Matrix([Vector([1,0]), Vector([0,2]), Vector([3,0])]) | {2}\n",
      " |      \n",
      " |      BlockMatrix( [ [ Matrix([Vector([1, 0]), Vector([0, 2])]), \n",
      " |                       Matrix([Vector([3, 0])]) ] ] )\n",
      " |  \n",
      " |  __rand__(self, t)\n",
      " |      Transforma las filas de una Matrix\n",
      " |      \n",
      " |      Atributos:\n",
      " |          t (T): transformaciones a aplicar sobre las filas de Matrix\n",
      " |      \n",
      " |      Ejemplos:\n",
      " |      >>>  T({1,3})   & A               # Intercambia las filas 1 y 3\n",
      " |      >>>  T((1,5))   & A               # Multiplica la fila 1 por 5\n",
      " |      >>>  T((1,2,5)) & A               # Suma a la fila 1 la 2 por 5\n",
      " |      >>>  T([(1,2,5),(1,5),{1,3}]) & A # Aplica la secuencia de transformac.\n",
      " |                  # sobre las filas de A y en el orden inverso al de la lista\n",
      " |  \n",
      " |  __repr__(self)\n",
      " |      Muestra una matriz en su representación python\n",
      " |  \n",
      " |  __rmul__(self, x)\n",
      " |      Multiplica una Matrix por un número a su izquierda.\n",
      " |      \n",
      " |      Parámetros:\n",
      " |          x (int, float o Fraction): Número por el que se multiplica\n",
      " |      \n",
      " |      Resultado:\n",
      " |          Matrix: Devuelve el múltiplo de la Matrix\n",
      " |      \n",
      " |      Ejemplo:\n",
      " |      >>> 10 * Matrix([[1,2],[3,4]])\n",
      " |      \n",
      " |      Matrix([[10,20], [30,40]])\n",
      " |  \n",
      " |  __ror__(self, i)\n",
      " |      Operador selector por la izquierda\n",
      " |      \n",
      " |      Extrae la i-ésima fila de Matrix; o crea una Matrix con las filas \n",
      " |      indicadas; o crea una BlockMatrix particionando una Matrix por las filas\n",
      " |      indicadas (los índices comienzan por la posición 1)\n",
      " |      \n",
      " |      Parámetros:\n",
      " |          i (int, list, tuple): Índice (o lista de índices) de las filas a \n",
      " |               seleccionar\n",
      " |            (set): Conjunto de índices de las filas por donde particionar\n",
      " |      \n",
      " |      Resultado:\n",
      " |          Vector: Cuando i es int, devuelve la fila i-ésima de Matrix.\n",
      " |          Matrix: Cuando i es list o tuple, devuelve la Matrix cuyas filas son\n",
      " |              las indicadas en la lista de índices.\n",
      " |          BlockMatrix: Cuando i es un set, devuelve la BlockMatrix resultante\n",
      " |              de particionar la matriz por las filas indicadas en el conjunto\n",
      " |      \n",
      " |      Ejemplos:\n",
      " |      >>> # Extrae la j-ésima fila de la matriz \n",
      " |      >>> 2 | Matrix([Vector([1,0]), Vector([0,2]), Vector([3,0])])\n",
      " |      \n",
      " |      Vector([0, 2, 0])\n",
      " |      \n",
      " |      >>> # Matrix formada por Vectores fila indicados en la lista (o tupla)\n",
      " |      >>> [1,1] | Matrix([Vector([1,0]), Vector([0,2]), Vector([3,0])]) \n",
      " |      >>> (1,1) | Matrix([Vector([1,0]), Vector([0,2]), Vector([3,0])])\n",
      " |      \n",
      " |      Matrix([Vector([1, 1]), Vector([0, 0]), Vector([3, 3])])\n",
      " |      \n",
      " |      >>> # BlockMatrix correspondiente a la partición por la primera fila\n",
      " |      >>> {1} | Matrix([Vector([1,0]), Vector([0,2])])\n",
      " |      \n",
      " |      BlockMatrix( [ [Matrix([Vector([1]),Vector([0])])],\n",
      " |                     [Matrix([Vector([0]),Vector([2])])] ] )\n",
      " |  \n",
      " |  latex(self)\n",
      " |      Construye el comando LaTeX\n",
      " |  \n",
      " |  ----------------------------------------------------------------------\n",
      " |  Data descriptors defined here:\n",
      " |  \n",
      " |  __dict__\n",
      " |      dictionary for instance variables (if defined)\n",
      " |  \n",
      " |  __weakref__\n",
      " |      list of weak references to the object (if defined)\n",
      " |  \n",
      " |  ----------------------------------------------------------------------\n",
      " |  Data and other attributes defined here:\n",
      " |  \n",
      " |  __hash__ = None\n",
      "\n"
     ]
    }
   ],
   "source": [
    "help(Matrix)"
   ]
  },
  {
   "cell_type": "markdown",
   "metadata": {
    "ein.tags": "worksheet-0",
    "slideshow": {
     "slide_type": "-"
    }
   },
   "source": [
    "## Particionando matrices"
   ]
  },
  {
   "cell_type": "code",
   "execution_count": 34,
   "metadata": {
    "autoscroll": false,
    "collapsed": false,
    "ein.hycell": false,
    "ein.tags": "worksheet-0",
    "slideshow": {
     "slide_type": "-"
    }
   },
   "outputs": [
    {
     "name": "stdout",
     "output_type": "stream",
     "text": [
      "Help on class BlockMatrix in module notacion:\n",
      "\n",
      "class BlockMatrix(builtins.object)\n",
      " |  Methods defined here:\n",
      " |  \n",
      " |  __init__(self, sis)\n",
      " |      Inicializa una BlockMatrix con una lista de listas de matrices\n",
      " |  \n",
      " |  __or__(self, j)\n",
      " |      Reparticiona por columna una matriz por cajas\n",
      " |  \n",
      " |  __repr__(self)\n",
      " |      Muestra una matriz en su representación Python\n",
      " |  \n",
      " |  latex(self)\n",
      " |      Escribe el código de LaTeX\n",
      " |  \n",
      " |  ----------------------------------------------------------------------\n",
      " |  Data descriptors defined here:\n",
      " |  \n",
      " |  __dict__\n",
      " |      dictionary for instance variables (if defined)\n",
      " |  \n",
      " |  __weakref__\n",
      " |      list of weak references to the object (if defined)\n",
      "\n"
     ]
    }
   ],
   "source": [
    "help(BlockMatrix)"
   ]
  },
  {
   "cell_type": "markdown",
   "metadata": {},
   "source": [
    "Vamos a particionar la matriz de debajo de su segunda fila"
   ]
  },
  {
   "cell_type": "code",
   "execution_count": 35,
   "metadata": {
    "autoscroll": false,
    "collapsed": false,
    "ein.hycell": false,
    "ein.tags": "worksheet-0",
    "slideshow": {
     "slide_type": "-"
    }
   },
   "outputs": [
    {
     "data": {
      "text/html": [
       "<p style=\"text-align:center;\">$\\left[\\begin{array}{ccc}1&1&1\\\\2&2&2\\\\ \\hline 3&6&9\\\\\\end{array}\\right]$</p>"
      ],
      "text/plain": [
       "BlockMatrix([[Matrix([Vector([1, 2]), Vector([1, 2]), Vector([1, 2])])], [Matrix([Vector([3]), Vector([6]), Vector([9])])]])"
      ]
     },
     "execution_count": 35,
     "metadata": {},
     "output_type": "execute_result"
    }
   ],
   "source": [
    "{2}|B"
   ]
  },
  {
   "cell_type": "markdown",
   "metadata": {},
   "source": [
    "Vamos a particionar la matriz a la derecha de sus columnas 1 y 2"
   ]
  },
  {
   "cell_type": "code",
   "execution_count": 36,
   "metadata": {
    "autoscroll": false,
    "collapsed": false,
    "ein.hycell": false,
    "ein.tags": "worksheet-0",
    "slideshow": {
     "slide_type": "-"
    }
   },
   "outputs": [
    {
     "data": {
      "text/html": [
       "<p style=\"text-align:center;\">$\\left[\\begin{array}{c|c|c}1&1&1\\\\2&2&2\\\\3&6&9\\\\\\end{array}\\right]$</p>"
      ],
      "text/plain": [
       "BlockMatrix([[Matrix([Vector([1, 2, 3])]), Matrix([Vector([1, 2, 6])]), Matrix([Vector([1, 2, 9])])]])"
      ]
     },
     "execution_count": 36,
     "metadata": {},
     "output_type": "execute_result"
    }
   ],
   "source": [
    "B|{1,2}"
   ]
  },
  {
   "cell_type": "markdown",
   "metadata": {},
   "source": [
    "Vamos a particionar por debajo de la primera fila y por detrás de la segunda columna"
   ]
  },
  {
   "cell_type": "code",
   "execution_count": 37,
   "metadata": {
    "autoscroll": false,
    "collapsed": false,
    "ein.hycell": false,
    "ein.tags": "worksheet-0",
    "slideshow": {
     "slide_type": "-"
    }
   },
   "outputs": [
    {
     "data": {
      "text/html": [
       "<p style=\"text-align:center;\">$\\left[\\begin{array}{cc|c}1&1&1\\\\ \\hline 2&2&2\\\\3&6&9\\\\\\end{array}\\right]$</p>"
      ],
      "text/plain": [
       "BlockMatrix([[Matrix([Vector([1]), Vector([1])]), Matrix([Vector([1])])], [Matrix([Vector([2, 3]), Vector([2, 6])]), Matrix([Vector([2, 9])])]])"
      ]
     },
     "execution_count": 37,
     "metadata": {},
     "output_type": "execute_result"
    }
   ],
   "source": [
    "{1}|B|{2}"
   ]
  },
  {
   "cell_type": "markdown",
   "metadata": {
    "ein.tags": "worksheet-0",
    "slideshow": {
     "slide_type": "-"
    }
   },
   "source": [
    "## Creando una matriz a partir de submatrices o bloques"
   ]
  },
  {
   "cell_type": "code",
   "execution_count": 38,
   "metadata": {
    "autoscroll": false,
    "collapsed": false,
    "ein.hycell": false,
    "ein.tags": "worksheet-0",
    "slideshow": {
     "slide_type": "-"
    }
   },
   "outputs": [
    {
     "data": {
      "text/html": [
       "<p style=\"text-align:center;\">$\\left[\\begin{array}{cc|c|c}1&5&9&0\\\\2&6&10&1\\\\ \\hline 0&0&1&4\\\\1&1&2&5\\\\2&2&3&6\\\\ \\hline 1&5&9&0\\\\2&6&10&1\\\\\\end{array}\\right]$</p>"
      ],
      "text/plain": [
       "BlockMatrix([[Matrix([Vector([1, 2]), Vector([5, 6])]), Matrix([Vector([9, 10])]), Matrix([Vector([0, 1])])], [Matrix([Vector([0, 1, 2]), Vector([0, 1, 2])]), Matrix([Vector([1, 2, 3])]), Matrix([Vector([4, 5, 6])])], [Matrix([Vector([1, 2]), Vector([5, 6])]), Matrix([Vector([9, 10])]), Matrix([Vector([0, 1])])]])"
      ]
     },
     "execution_count": 38,
     "metadata": {},
     "output_type": "execute_result"
    }
   ],
   "source": [
    "a11=Matrix([[1,5],[2,6]])\n",
    "a12=Matrix([[9],[10]])\n",
    "a13=Matrix([[0],[1]])\n",
    "a21=Matrix([[0,0],[1,1],[2,2]])\n",
    "a22=Matrix([[1],[2],[3]])\n",
    "a23=Matrix([[4],[5],[6]])\n",
    "\n",
    "D=BlockMatrix([[a11,a12,a13],[a21,a22,a23],[a11,a12,a13]])\n",
    "D"
   ]
  },
  {
   "cell_type": "code",
   "execution_count": 39,
   "metadata": {
    "autoscroll": false,
    "collapsed": false,
    "ein.hycell": false,
    "ein.tags": "worksheet-0",
    "slideshow": {
     "slide_type": "-"
    }
   },
   "outputs": [
    {
     "data": {
      "text/html": [
       "<p style=\"text-align:center;\">$\\left[\\begin{array}{cc|c}1&5&9\\\\2&6&10\\\\ \\hline 0&0&1\\\\1&1&2\\\\2&2&3\\\\\\end{array}\\right]$</p>"
      ],
      "text/plain": [
       "BlockMatrix([[Matrix([Vector([1, 2]), Vector([5, 6])]), Matrix([Vector([9, 10])])], [Matrix([Vector([0, 1, 2]), Vector([0, 1, 2])]), Matrix([Vector([1, 2, 3])])]])"
      ]
     },
     "execution_count": 39,
     "metadata": {},
     "output_type": "execute_result"
    }
   ],
   "source": [
    "E=BlockMatrix([[a11,a12],[a21,a22]])\n",
    "E"
   ]
  },
  {
   "cell_type": "markdown",
   "metadata": {
    "ein.tags": "worksheet-0",
    "slideshow": {
     "slide_type": "-"
    }
   },
   "source": [
    "Es sencillo transformar una BlockMatrix en una matriz"
   ]
  },
  {
   "cell_type": "code",
   "execution_count": 40,
   "metadata": {
    "autoscroll": false,
    "collapsed": false,
    "ein.hycell": false,
    "ein.tags": "worksheet-0",
    "slideshow": {
     "slide_type": "-"
    }
   },
   "outputs": [
    {
     "data": {
      "text/html": [
       "<p style=\"text-align:center;\">$\\begin{bmatrix}1&5&9\\\\2&6&10\\\\0&0&1\\\\1&1&2\\\\2&2&3\\end{bmatrix}$</p>"
      ],
      "text/plain": [
       "Matrix([Vector([1, 2, 0, 1, 2]), Vector([5, 6, 0, 1, 2]), Vector([9, 10, 1, 2, 3])])"
      ]
     },
     "execution_count": 40,
     "metadata": {},
     "output_type": "execute_result"
    }
   ],
   "source": [
    "Matrix(E)"
   ]
  },
  {
   "cell_type": "markdown",
   "metadata": {
    "ein.tags": "worksheet-0",
    "slideshow": {
     "slide_type": "-"
    }
   },
   "source": [
    "Para distingir una BlockMatrix de un solo bloque respecto de una\n",
    "matriz, se pinta una caja alrededor."
   ]
  },
  {
   "cell_type": "code",
   "execution_count": 41,
   "metadata": {
    "autoscroll": false,
    "collapsed": false,
    "ein.hycell": false,
    "ein.tags": "worksheet-0",
    "slideshow": {
     "slide_type": "-"
    }
   },
   "outputs": [
    {
     "data": {
      "text/html": [
       "<p style=\"text-align:center;\">$\\begin{array}{|c|}\\hline \\begin{bmatrix}1&5\\\\2&6\\end{bmatrix}\\\\ \\hline \\end{array}$</p>"
      ],
      "text/plain": [
       "BlockMatrix([[Matrix([Vector([1, 2]), Vector([5, 6])])]])"
      ]
     },
     "execution_count": 41,
     "metadata": {},
     "output_type": "execute_result"
    }
   ],
   "source": [
    "F=BlockMatrix([[a11]])\n",
    "F"
   ]
  },
  {
   "cell_type": "markdown",
   "metadata": {
    "ein.tags": "worksheet-0",
    "slideshow": {
     "slide_type": "-"
    }
   },
   "source": [
    "## Transformaciones elementales\n",
    "\n",
    "Un intercambio se indica con un conjunto de dos índices. "
   ]
  },
  {
   "cell_type": "code",
   "execution_count": 42,
   "metadata": {
    "collapsed": false
   },
   "outputs": [
    {
     "data": {
      "text/html": [
       "<p style=\"text-align:center;\">$\\underset{\\left[\\mathbf{1}\\rightleftharpoons\\mathbf{3}\\right]}{\\mathbf{\\tau}}$</p>"
      ],
      "text/plain": [
       "T({1, 3})"
      ]
     },
     "execution_count": 42,
     "metadata": {},
     "output_type": "execute_result"
    }
   ],
   "source": [
    "T({1,3})"
   ]
  },
  {
   "cell_type": "markdown",
   "metadata": {},
   "source": [
    "Esta es la matriz A"
   ]
  },
  {
   "cell_type": "code",
   "execution_count": 43,
   "metadata": {
    "collapsed": false
   },
   "outputs": [
    {
     "data": {
      "text/html": [
       "<p style=\"text-align:center;\">$\\begin{bmatrix}1&0&3\\\\0&1&3\\end{bmatrix}$</p>"
      ],
      "text/plain": [
       "Matrix([Vector([1, 0]), Vector([0, 1]), Vector([3, 3])])"
      ]
     },
     "execution_count": 43,
     "metadata": {},
     "output_type": "execute_result"
    }
   ],
   "source": [
    "A"
   ]
  },
  {
   "cell_type": "markdown",
   "metadata": {},
   "source": [
    "Realicemos un intercambio de columnas"
   ]
  },
  {
   "cell_type": "code",
   "execution_count": 44,
   "metadata": {
    "autoscroll": false,
    "collapsed": false,
    "ein.hycell": false,
    "ein.tags": "worksheet-0",
    "slideshow": {
     "slide_type": "-"
    }
   },
   "outputs": [
    {
     "data": {
      "text/html": [
       "<p style=\"text-align:center;\">$\\begin{bmatrix}3&0&1\\\\3&1&0\\end{bmatrix}$</p>"
      ],
      "text/plain": [
       "Matrix([Vector([3, 3]), Vector([0, 1]), Vector([1, 0])])"
      ]
     },
     "execution_count": 44,
     "metadata": {},
     "output_type": "execute_result"
    }
   ],
   "source": [
    "A & T({1,3})"
   ]
  },
  {
   "cell_type": "markdown",
   "metadata": {
    "ein.tags": "worksheet-0",
    "slideshow": {
     "slide_type": "-"
    }
   },
   "source": [
    "Fíjese que al aplicar una transformación sobre una matriz, la matriz cambia"
   ]
  },
  {
   "cell_type": "code",
   "execution_count": 45,
   "metadata": {
    "autoscroll": false,
    "collapsed": false,
    "ein.hycell": false,
    "ein.tags": "worksheet-0",
    "slideshow": {
     "slide_type": "-"
    }
   },
   "outputs": [
    {
     "data": {
      "text/html": [
       "<p style=\"text-align:center;\">$\\begin{bmatrix}3&0&1\\\\3&1&0\\end{bmatrix}$</p>"
      ],
      "text/plain": [
       "Matrix([Vector([3, 3]), Vector([0, 1]), Vector([1, 0])])"
      ]
     },
     "execution_count": 45,
     "metadata": {},
     "output_type": "execute_result"
    }
   ],
   "source": [
    "A"
   ]
  },
  {
   "cell_type": "markdown",
   "metadata": {},
   "source": [
    "Si queremos mantener la matriz, necesitamos realizar una copia"
   ]
  },
  {
   "cell_type": "code",
   "execution_count": 46,
   "metadata": {
    "collapsed": false
   },
   "outputs": [
    {
     "data": {
      "text/html": [
       "<p style=\"text-align:center;\">$\\begin{bmatrix}3&0&1\\\\3&1&0\\end{bmatrix}$</p>"
      ],
      "text/plain": [
       "Matrix([Vector([3, 3]), Vector([0, 1]), Vector([1, 0])])"
      ]
     },
     "execution_count": 46,
     "metadata": {},
     "output_type": "execute_result"
    }
   ],
   "source": [
    "Acopia = Matrix(A)\n",
    "A & T((2,-10))\n",
    "Acopia"
   ]
  },
  {
   "cell_type": "code",
   "execution_count": 47,
   "metadata": {
    "collapsed": false
   },
   "outputs": [
    {
     "data": {
      "text/html": [
       "<p style=\"text-align:center;\">$\\begin{bmatrix}3&0&1\\\\3&-10&0\\end{bmatrix}$</p>"
      ],
      "text/plain": [
       "Matrix([Vector([3, 3]), Vector([0, -10]), Vector([1, 0])])"
      ]
     },
     "execution_count": 47,
     "metadata": {},
     "output_type": "execute_result"
    }
   ],
   "source": [
    "A"
   ]
  },
  {
   "cell_type": "markdown",
   "metadata": {
    "ein.tags": "worksheet-0",
    "slideshow": {
     "slide_type": "-"
    }
   },
   "source": [
    "Matriz elemental de orden 4 correspondiente al intercambio entre la primera y tercera columnas"
   ]
  },
  {
   "cell_type": "code",
   "execution_count": 48,
   "metadata": {
    "autoscroll": false,
    "collapsed": false,
    "ein.hycell": false,
    "ein.tags": "worksheet-0",
    "slideshow": {
     "slide_type": "-"
    }
   },
   "outputs": [
    {
     "data": {
      "text/html": [
       "<p style=\"text-align:center;\">$\\begin{bmatrix}0&0&1&0\\\\0&1&0&0\\\\1&0&0&0\\\\0&0&0&1\\end{bmatrix}$</p>"
      ],
      "text/plain": [
       "Matrix([Vector([0, 0, 1, 0]), Vector([0, 1, 0, 0]), Vector([1, 0, 0, 0]), Vector([0, 0, 0, 1])])"
      ]
     },
     "execution_count": 48,
     "metadata": {},
     "output_type": "execute_result"
    }
   ],
   "source": [
    "I(4) & T({1,3})"
   ]
  },
  {
   "cell_type": "markdown",
   "metadata": {},
   "source": [
    "La siguiente transformación elemental multiplica el primer vector por 10"
   ]
  },
  {
   "cell_type": "code",
   "execution_count": 49,
   "metadata": {
    "collapsed": false
   },
   "outputs": [
    {
     "data": {
      "text/html": [
       "<p style=\"text-align:center;\">$\\underset{\\left[10\\cdot\\mathbf{1}\\right]}{\\mathbf{\\tau}}$</p>"
      ],
      "text/plain": [
       "T((1, 10))"
      ]
     },
     "execution_count": 49,
     "metadata": {},
     "output_type": "execute_result"
    }
   ],
   "source": [
    "T((1,10))"
   ]
  },
  {
   "cell_type": "markdown",
   "metadata": {
    "ein.tags": "worksheet-0",
    "slideshow": {
     "slide_type": "-"
    }
   },
   "source": [
    "Multipliquemos la primera columna de A por 10"
   ]
  },
  {
   "cell_type": "code",
   "execution_count": 50,
   "metadata": {
    "autoscroll": false,
    "collapsed": false,
    "ein.hycell": false,
    "ein.tags": "worksheet-0",
    "slideshow": {
     "slide_type": "-"
    }
   },
   "outputs": [
    {
     "data": {
      "text/html": [
       "<p style=\"text-align:center;\">$\\begin{bmatrix}30&0&1\\\\30&-10&0\\end{bmatrix}$</p>"
      ],
      "text/plain": [
       "Matrix([Vector([30, 30]), Vector([0, -10]), Vector([1, 0])])"
      ]
     },
     "execution_count": 50,
     "metadata": {},
     "output_type": "execute_result"
    }
   ],
   "source": [
    "A & T((1,10))"
   ]
  },
  {
   "cell_type": "markdown",
   "metadata": {},
   "source": [
    "La siguiente transformación suma al tercer vector siete veces el segundo"
   ]
  },
  {
   "cell_type": "code",
   "execution_count": 51,
   "metadata": {
    "collapsed": false
   },
   "outputs": [
    {
     "data": {
      "text/html": [
       "<p style=\"text-align:center;\">$\\underset{\\left[\\mathbf{3}+7\\cdot\\mathbf{2}\\right]}{\\mathbf{\\tau}}$</p>"
      ],
      "text/plain": [
       "T((3, 2, 7))"
      ]
     },
     "execution_count": 51,
     "metadata": {},
     "output_type": "execute_result"
    }
   ],
   "source": [
    "T((3,2,7))"
   ]
  },
  {
   "cell_type": "markdown",
   "metadata": {
    "ein.tags": "worksheet-0",
    "slideshow": {
     "slide_type": "-"
    }
   },
   "source": [
    "Sumemos siete veces la segunda columna de A a la tercera"
   ]
  },
  {
   "cell_type": "code",
   "execution_count": 52,
   "metadata": {
    "autoscroll": false,
    "collapsed": false,
    "ein.hycell": false,
    "ein.tags": "worksheet-0",
    "slideshow": {
     "slide_type": "-"
    }
   },
   "outputs": [
    {
     "data": {
      "text/html": [
       "<p style=\"text-align:center;\">$\\begin{bmatrix}30&0&1\\\\30&-10&-70\\end{bmatrix}$</p>"
      ],
      "text/plain": [
       "Matrix([Vector([30, 30]), Vector([0, -10]), Vector([1, -70])])"
      ]
     },
     "execution_count": 52,
     "metadata": {},
     "output_type": "execute_result"
    }
   ],
   "source": [
    "A & T((3,2,7))"
   ]
  },
  {
   "cell_type": "markdown",
   "metadata": {
    "ein.tags": "worksheet-0",
    "slideshow": {
     "slide_type": "-"
    }
   },
   "source": [
    "Aplicando varias transformaciones a la matriz identidad de orden 4  "
   ]
  },
  {
   "cell_type": "code",
   "execution_count": 53,
   "metadata": {
    "autoscroll": false,
    "collapsed": false,
    "ein.hycell": false,
    "ein.tags": "worksheet-0",
    "slideshow": {
     "slide_type": "-"
    }
   },
   "outputs": [
    {
     "data": {
      "text/html": [
       "<p style=\"text-align:center;\">$\\begin{bmatrix}0&0&10&0\\\\7&1&0&0\\\\1&0&0&0\\\\0&0&0&1\\end{bmatrix}$</p>"
      ],
      "text/plain": [
       "Matrix([Vector([0, 7, 1, 0]), Vector([0, 1, 0, 0]), Vector([10, 0, 0, 0]), Vector([0, 0, 0, 1])])"
      ]
     },
     "execution_count": 53,
     "metadata": {},
     "output_type": "execute_result"
    }
   ],
   "source": [
    "I(4) & T((3,2,7)) & T((1,10)) & T({1,3})"
   ]
  },
  {
   "cell_type": "markdown",
   "metadata": {
    "ein.tags": "worksheet-0",
    "slideshow": {
     "slide_type": "-"
    }
   },
   "source": [
    "otra forma de hacer lo mismo"
   ]
  },
  {
   "cell_type": "code",
   "execution_count": 54,
   "metadata": {
    "autoscroll": false,
    "collapsed": false,
    "ein.hycell": false,
    "ein.tags": "worksheet-0",
    "slideshow": {
     "slide_type": "-"
    }
   },
   "outputs": [
    {
     "data": {
      "text/html": [
       "<p style=\"text-align:center;\">$\\begin{bmatrix}0&0&10&0\\\\7&1&0&0\\\\1&0&0&0\\\\0&0&0&1\\end{bmatrix}$</p>"
      ],
      "text/plain": [
       "Matrix([Vector([0, 7, 1, 0]), Vector([0, 1, 0, 0]), Vector([10, 0, 0, 0]), Vector([0, 0, 0, 1])])"
      ]
     },
     "execution_count": 54,
     "metadata": {},
     "output_type": "execute_result"
    }
   ],
   "source": [
    "I(4) & T([(3,2,7), (1,10), {1,3}])"
   ]
  },
  {
   "cell_type": "markdown",
   "metadata": {},
   "source": [
    "Veamos la notación de esta serie de transformaciones"
   ]
  },
  {
   "cell_type": "code",
   "execution_count": 55,
   "metadata": {
    "collapsed": false
   },
   "outputs": [
    {
     "data": {
      "text/html": [
       "<p style=\"text-align:center;\">$\\underset{\\left[\\mathbf{3}+7\\cdot\\mathbf{2}\\right]}{\\mathbf{\\tau}}\\,\\underset{\\left[10\\cdot\\mathbf{1}\\right]}{\\mathbf{\\tau}}\\,\\underset{\\left[\\mathbf{1}\\rightleftharpoons\\mathbf{3}\\right]}{\\mathbf{\\tau}}$</p>"
      ],
      "text/plain": [
       "T([(3, 2, 7), (1, 10), {1, 3}])"
      ]
     },
     "execution_count": 55,
     "metadata": {},
     "output_type": "execute_result"
    }
   ],
   "source": [
    "T((3,2,7)) & T((1,10)) & T({1,3})"
   ]
  },
  {
   "cell_type": "markdown",
   "metadata": {
    "ein.tags": "worksheet-0",
    "slideshow": {
     "slide_type": "-"
    }
   },
   "source": [
    "Para operar con las filas se hace igual pero por la izquierda"
   ]
  },
  {
   "cell_type": "code",
   "execution_count": 56,
   "metadata": {
    "collapsed": false
   },
   "outputs": [
    {
     "data": {
      "text/html": [
       "<p style=\"text-align:center;\">$\\begin{bmatrix}0&10&0\\\\1&0&0\\\\0&0&1\\end{bmatrix}$</p>"
      ],
      "text/plain": [
       "Matrix([Vector([0, 1, 0]), Vector([10, 0, 0]), Vector([0, 0, 1])])"
      ]
     },
     "execution_count": 56,
     "metadata": {},
     "output_type": "execute_result"
    }
   ],
   "source": [
    "T((1,10)) & T({1,2}) & I(3)"
   ]
  },
  {
   "cell_type": "markdown",
   "metadata": {
    "ein.tags": "worksheet-0",
    "slideshow": {
     "slide_type": "-"
    }
   },
   "source": [
    "Podemos operar por filas y columnas! "
   ]
  },
  {
   "cell_type": "code",
   "execution_count": 57,
   "metadata": {
    "autoscroll": false,
    "collapsed": false,
    "ein.hycell": false,
    "ein.tags": "worksheet-0",
    "slideshow": {
     "slide_type": "-"
    }
   },
   "outputs": [
    {
     "data": {
      "text/html": [
       "<p style=\"text-align:center;\">$\\begin{bmatrix}-200&6&10&1\\\\-1000&50&90&0\\\\0&0&1&4\\\\-100&1&2&5\\\\-200&2&3&6\\\\-100&5&9&0\\\\-200&6&10&1\\end{bmatrix}$</p>"
      ],
      "text/plain": [
       "Matrix([Vector([-200, -1000, 0, -100, -200, -100, -200]), Vector([6, 50, 0, 1, 2, 5, 6]), Vector([10, 90, 1, 2, 3, 9, 10]), Vector([1, 0, 4, 5, 6, 0, 1])])"
      ]
     },
     "execution_count": 57,
     "metadata": {},
     "output_type": "execute_result"
    }
   ],
   "source": [
    "T((2,10)) & T({1,2}) & Matrix(D) & T((1,-100))"
   ]
  },
  {
   "cell_type": "markdown",
   "metadata": {},
   "source": [
    "Para mayor comodidad, T de una T nos devuelve una T"
   ]
  },
  {
   "cell_type": "code",
   "execution_count": 58,
   "metadata": {
    "collapsed": false
   },
   "outputs": [
    {
     "name": "stdout",
     "output_type": "stream",
     "text": [
      "T((3, 2, 7))\n"
     ]
    }
   ],
   "source": [
    "print(T(T((3,2,7))))"
   ]
  },
  {
   "cell_type": "markdown",
   "metadata": {},
   "source": [
    "... incluso T de una tupla de transformaciones nos da la composición de todas ellas"
   ]
  },
  {
   "cell_type": "code",
   "execution_count": 59,
   "metadata": {
    "collapsed": false
   },
   "outputs": [
    {
     "name": "stdout",
     "output_type": "stream",
     "text": [
      "T([(2, -8), (2, 1, 2), (3, -8), (3, 1, 3), {2, 3}])\n"
     ]
    }
   ],
   "source": [
    "z = T( [T([(2, -8), (2, 1, 2)]), T([(3, -8), (3, 1, 3), {2, 3}]) ] )\n",
    "print(z)"
   ]
  },
  {
   "cell_type": "markdown",
   "metadata": {},
   "source": [
    "Ayuda de la clase T"
   ]
  },
  {
   "cell_type": "code",
   "execution_count": 60,
   "metadata": {
    "collapsed": false,
    "scrolled": true
   },
   "outputs": [
    {
     "name": "stdout",
     "output_type": "stream",
     "text": [
      "Help on class T in module notacion:\n",
      "\n",
      "class T(builtins.object)\n",
      " |  Clase T\n",
      " |  \n",
      " |  T (\"Transformación elemental\") guarda en su atributo 't' una abreviatura\n",
      " |  (o una secuencia de abreviaturas) de transformaciones elementales. Con \n",
      " |  el método __and__ actúa sobre otra T para crear una T que es composición\n",
      " |  de transformaciones elementales (la lista de abreviaturas), o bien actúa \n",
      " |  sobre una Matrix (para transformar sus filas)\n",
      " |  \n",
      " |  Atributos:\n",
      " |      t (set)  : {índice, índice}. Abrev. de un intercambio entre los \n",
      " |                   vectores correspondientes a dichos índices\n",
      " |        (tuple): (índice, número). Abrev. transf. Tipo II que multiplica\n",
      " |                   el vector correspondiente al índice por el número \n",
      " |               : (índice1, índice2, número). Abrev. transformación Tipo I\n",
      " |                   que suma al vector correspondiente al índice1 el vector\n",
      " |                   correspondiente al índice2 multiplicado por el número\n",
      " |        (list) : Lista de conjuntos y tuplas. Secuencia de abrev. de\n",
      " |                   transformaciones como las anteriores.             \n",
      " |        (T)    : Transformación elemental. Genera una T cuyo atributo t es\n",
      " |                   una copia del atributo t de la transformación dada \n",
      " |        (list) : Lista de transformaciones elementales. Genera una T cuyo \n",
      " |                   atributo es la concatenanción de todas las abreviaturas\n",
      " |  Ejemplos:\n",
      " |  >>> # Intercambio entre vectores\n",
      " |  >>> T( {1,2} )\n",
      " |  \n",
      " |  >>> # Trasformación Tipo II (multiplica por 5 el segundo vector)\n",
      " |  >>> T( (2,5) )\n",
      " |  \n",
      " |  >>> # Trasformación Tipo I (resta al primer vector el tercero)\n",
      " |  >>> T( (1,3,-1) )\n",
      " |  \n",
      " |  >>> # Secuencia de las tres transformaciones anteriores\n",
      " |  >>> T( [{1,2}, (2,5), (1,3,-1)] )\n",
      " |  \n",
      " |  >>> # T de una T\n",
      " |  >>> T( T( (2,5) ) )\n",
      " |  \n",
      " |  T( (2,5) )\n",
      " |  \n",
      " |  >>> # T de una lista de T's\n",
      " |  >>> T( [T([(2, -8), (2, 1, 2)]), T([(3, -8), (3, 1, 3)]) ] )\n",
      " |  \n",
      " |  T( [(2, -8), (2, 1, 2), (3, -8), (3, 1, 3)] )\n",
      " |  \n",
      " |  Methods defined here:\n",
      " |  \n",
      " |  __and__(self, other)\n",
      " |      Composición de transformaciones elementales (o transformación filas)\n",
      " |      \n",
      " |      Crea una T con una lista de abreviaturas de transformaciones elementales\n",
      " |      (o llama al método que modifica las filas de una Matrix)\n",
      " |      \n",
      " |      Parámetros:\n",
      " |          (T): Crea la abreviatura de la composición de transformaciones, es\n",
      " |               decir, una lista de abreviaturas\n",
      " |          (Matrix): Llama al método de la clase Matrix que modifica las filas\n",
      " |               de Matrix\n",
      " |      Ejemplos:\n",
      " |      >>> # Composición de dos Transformaciones elementales\n",
      " |      >>> T( {1, 2} ) & T( (2, 4) )\n",
      " |      \n",
      " |      T( [{1,2}, (2,4)] )\n",
      " |      \n",
      " |      >>> # Composición de dos Transformaciones elementales\n",
      " |      >>> T( {1, 2} ) & T( [(2, 4), (1, 2), {3, 1}] )\n",
      " |      \n",
      " |      T( [{1, 2}, (2, 4), (1, 2), {3, 1}] )\n",
      " |      \n",
      " |      >>> # Transformación de las filas de una Matrix\n",
      " |      >>> T( [{1,2}, (2,4)] ) & A # multiplica por 4 la segunda fila de A y\n",
      " |                                  # luego intercambia las dos primeras filas\n",
      " |  \n",
      " |  __init__(self, t)\n",
      " |      Inicializa una transformación elemental\n",
      " |  \n",
      " |  __repr__(self)\n",
      " |      Muestra T en su representación python\n",
      " |  \n",
      " |  latex(self)\n",
      " |      Construye el comando LaTeX\n",
      " |  \n",
      " |  ----------------------------------------------------------------------\n",
      " |  Data descriptors defined here:\n",
      " |  \n",
      " |  __dict__\n",
      " |      dictionary for instance variables (if defined)\n",
      " |  \n",
      " |  __weakref__\n",
      " |      list of weak references to the object (if defined)\n",
      "\n"
     ]
    }
   ],
   "source": [
    "help(T)"
   ]
  },
  {
   "cell_type": "markdown",
   "metadata": {
    "ein.tags": "worksheet-0",
    "slideshow": {
     "slide_type": "-"
    }
   },
   "source": [
    "## Una demo más interesante\n",
    "\n",
    "Tenemos lo suficiente para aplicar la eliminación gaussiana asi que\\dots ¡Ya podemos resolver problemas interesantes!\n",
    "\n",
    "Calculemos el espacio nulo de una matriz (él código lo tenéis en la documentación de la librería)."
   ]
  },
  {
   "cell_type": "code",
   "execution_count": 61,
   "metadata": {
    "autoscroll": false,
    "collapsed": false,
    "ein.hycell": false,
    "ein.tags": "worksheet-0",
    "slideshow": {
     "slide_type": "-"
    }
   },
   "outputs": [
    {
     "data": {
      "text/html": [
       "<p style=\"text-align:center;\">$\\left[\\begin{array}{cc|cc}1&0&0&0\\\\\\frac{5}{8}&1&0&0\\\\ \\hline \\frac{1}{8}&\\frac{-1}{15}&1&0\\\\0&\\frac{4}{15}&41&1\\\\0&0&-30&-1\\\\0&0&0&\\frac{1}{4}\\\\\\end{array}\\right]$</p>"
      ],
      "text/plain": [
       "BlockMatrix([[Matrix([Vector([Fraction(1, 1), Fraction(5, 8)]), Vector([Fraction(0, 1), Fraction(1, 1)])]), Matrix([Vector([Fraction(0, 1), Fraction(0, 1)]), Vector([Fraction(0, 1), Fraction(0, 1)])])], [Matrix([Vector([Fraction(1, 8), Fraction(0, 1), Fraction(0, 1), Fraction(0, 1)]), Vector([Fraction(-1, 15), Fraction(4, 15), Fraction(0, 1), Fraction(0, 1)])]), Matrix([Vector([Fraction(1, 1), Fraction(41, 1), Fraction(-30, 1), Fraction(0, 1)]), Vector([Fraction(0, 1), Fraction(1, 1), Fraction(-1, 1), Fraction(1, 4)])])]])"
      ]
     },
     "execution_count": 61,
     "metadata": {},
     "output_type": "execute_result"
    }
   ],
   "source": [
    "G=Matrix([[8,2,3,4],[5,5,7,8]])\n",
    "H=homogenea(G)\n",
    "H"
   ]
  },
  {
   "cell_type": "markdown",
   "metadata": {},
   "source": [
    "Las dos columnas del bloque inferior derecho son una base del espacio de soluciones del sistema homogeneo Gx=0."
   ]
  },
  {
   "cell_type": "code",
   "execution_count": 62,
   "metadata": {
    "collapsed": false
   },
   "outputs": [
    {
     "data": {
      "text/html": [
       "<p style=\"text-align:center;\">$\\begin{bmatrix}8&0&0&0\\\\5&\\frac{-1}{4}&0&0\\end{bmatrix}$</p>"
      ],
      "text/plain": [
       "Matrix([Vector([8, 5]), Vector([Fraction(0, 1), Fraction(-1, 4)]), Vector([Fraction(0, 1), Fraction(0, 1)]), Vector([Fraction(0, 1), Fraction(0, 1)])])"
      ]
     },
     "execution_count": 62,
     "metadata": {},
     "output_type": "execute_result"
    }
   ],
   "source": [
    "G=Matrix([[0,8,2,0],[0,5,1,0]])\n",
    "L(G)"
   ]
  },
  {
   "cell_type": "code",
   "execution_count": 63,
   "metadata": {
    "collapsed": false
   },
   "outputs": [
    {
     "data": {
      "text/html": [
       "<p style=\"text-align:center;\">$\\begin{bmatrix}8&0&0&0\\\\5&2&0&0\\end{bmatrix}$</p>"
      ],
      "text/plain": [
       "Matrix([Vector([8, 5]), Vector([0, 2]), Vector([0, 0]), Vector([0, 0])])"
      ]
     },
     "execution_count": 63,
     "metadata": {},
     "output_type": "execute_result"
    }
   ],
   "source": [
    "Lsd(G)"
   ]
  },
  {
   "cell_type": "code",
   "execution_count": 64,
   "metadata": {
    "collapsed": false
   },
   "outputs": [
    {
     "data": {
      "text/html": [
       "<p style=\"text-align:center;\">$\\begin{bmatrix}0&0&-2&2\\\\0&0&0&1\\end{bmatrix}$</p>"
      ],
      "text/plain": [
       "Matrix([Vector([Fraction(0, 1), Fraction(0, 1)]), Vector([Fraction(0, 1), Fraction(0, 1)]), Vector([Fraction(-2, 1), Fraction(0, 1)]), Vector([2, 1])])"
      ]
     },
     "execution_count": 64,
     "metadata": {},
     "output_type": "execute_result"
    }
   ],
   "source": [
    "U(G)"
   ]
  },
  {
   "cell_type": "code",
   "execution_count": 65,
   "metadata": {
    "collapsed": false
   },
   "outputs": [
    {
     "data": {
      "text/html": [
       "<p style=\"text-align:center;\">$\\begin{bmatrix}0&8&2&0\\\\0&0&\\frac{-1}{4}&0\\end{bmatrix}$</p>"
      ],
      "text/plain": [
       "Matrix([Vector([0, Fraction(0, 1)]), Vector([8, Fraction(0, 1)]), Vector([2, Fraction(-1, 4)]), Vector([0, Fraction(0, 1)])])"
      ]
     },
     "execution_count": 65,
     "metadata": {},
     "output_type": "execute_result"
    }
   ],
   "source": [
    "Uf(G)"
   ]
  },
  {
   "cell_type": "code",
   "execution_count": 66,
   "metadata": {
    "collapsed": false
   },
   "outputs": [
    {
     "data": {
      "text/html": [
       "<p style=\"text-align:center;\">$\\begin{bmatrix}0&8&2&0\\\\0&0&\\frac{-1}{4}&0\\end{bmatrix}$</p>"
      ],
      "text/plain": [
       "Matrix([Vector([0, Fraction(0, 1)]), Vector([8, Fraction(0, 1)]), Vector([2, Fraction(-1, 4)]), Vector([0, Fraction(0, 1)])])"
      ]
     },
     "execution_count": 66,
     "metadata": {},
     "output_type": "execute_result"
    }
   ],
   "source": [
    "~L(~G)"
   ]
  },
  {
   "cell_type": "code",
   "execution_count": null,
   "metadata": {
    "collapsed": true
   },
   "outputs": [],
   "source": []
  }
 ],
 "metadata": {
  "kernelspec": {
   "display_name": "Python 3",
   "language": "python",
   "name": "python3"
  },
  "language_info": {
   "codemirror_mode": {
    "name": "ipython",
    "version": 3
   },
   "file_extension": ".py",
   "mimetype": "text/x-python",
   "name": "python",
   "nbconvert_exporter": "python",
   "pygments_lexer": "ipython3",
   "version": "3.5.3"
  },
  "name": "03_UsoLibreria.ipynb"
 },
 "nbformat": 4,
 "nbformat_minor": 2
}
