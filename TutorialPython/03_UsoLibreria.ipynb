{
 "cells": [
  {
   "cell_type": "markdown",
   "metadata": {
    "autoscroll": false,
    "ein.hycell": false,
    "ein.tags": "worksheet-0",
    "slideshow": {
     "slide_type": "-"
    }
   },
   "source": [
    "${\\huge\\text{Notebook de demostración de uso de nuestra librería}}$"
   ]
  },
  {
   "cell_type": "code",
   "execution_count": 1,
   "metadata": {
    "autoscroll": false,
    "collapsed": false,
    "ein.hycell": false,
    "ein.tags": "worksheet-0",
    "slideshow": {
     "slide_type": "-"
    }
   },
   "outputs": [],
   "source": [
    "# Vamos a cargar la librería que está en otro directorio\n",
    "import os                 # la librería \"os\" nos permite cambiar de directorio\n",
    "dirTutorial = os.getcwd() # guardamos el nombre del directorio actual\n",
    "os.chdir('..')            # nos movemos a \"..\"\n",
    "from notacion import *    # importamos la librería del curso Mates2\n",
    "os.chdir(dirTutorial)     # volvemos a l directorio de antes"
   ]
  },
  {
   "cell_type": "markdown",
   "metadata": {
    "ein.tags": "worksheet-0",
    "slideshow": {
     "slide_type": "-"
    }
   },
   "source": [
    "# Vectores\n",
    "\n",
    "Definir vectores:"
   ]
  },
  {
   "cell_type": "code",
   "execution_count": 2,
   "metadata": {
    "autoscroll": false,
    "collapsed": false,
    "ein.hycell": false,
    "ein.tags": "worksheet-0",
    "slideshow": {
     "slide_type": "-"
    }
   },
   "outputs": [
    {
     "name": "stdout",
     "output_type": "stream",
     "text": [
      "Vector([1, 2, 3])\n",
      "Vector([6, 5, 4])\n"
     ]
    }
   ],
   "source": [
    "v=Vector([1,2,3])\n",
    "w=Vector([6,5,4])\n",
    "print(v)\n",
    "print(w)"
   ]
  },
  {
   "cell_type": "code",
   "execution_count": 3,
   "metadata": {
    "autoscroll": false,
    "collapsed": false,
    "ein.hycell": false,
    "ein.tags": "worksheet-0",
    "slideshow": {
     "slide_type": "-"
    }
   },
   "outputs": [
    {
     "data": {
      "text/html": [
       "<p style=\"text-align:center;\">$\\begin{pmatrix}7\\\\7\\\\7\\end{pmatrix}$</p>"
      ],
      "text/plain": [
       "Vector([7, 7, 7])"
      ]
     },
     "execution_count": 3,
     "metadata": {},
     "output_type": "execute_result"
    }
   ],
   "source": [
    "v+w"
   ]
  },
  {
   "cell_type": "markdown",
   "metadata": {
    "ein.tags": "worksheet-0",
    "slideshow": {
     "slide_type": "-"
    }
   },
   "source": [
    "Sumar vectores"
   ]
  },
  {
   "cell_type": "markdown",
   "metadata": {
    "ein.tags": "worksheet-0",
    "slideshow": {
     "slide_type": "-"
    }
   },
   "source": [
    "Multiplicar por un escalar"
   ]
  },
  {
   "cell_type": "code",
   "execution_count": 4,
   "metadata": {
    "autoscroll": false,
    "collapsed": false,
    "ein.hycell": false,
    "ein.tags": "worksheet-0",
    "slideshow": {
     "slide_type": "-"
    }
   },
   "outputs": [
    {
     "data": {
      "text/html": [
       "<p style=\"text-align:center;\">$\\begin{pmatrix}-1\\\\-2\\\\-3\\end{pmatrix}$</p>"
      ],
      "text/plain": [
       "Vector([-1, -2, -3])"
      ]
     },
     "execution_count": 4,
     "metadata": {},
     "output_type": "execute_result"
    }
   ],
   "source": [
    "(-1)*v"
   ]
  },
  {
   "cell_type": "markdown",
   "metadata": {
    "ein.tags": "worksheet-0",
    "slideshow": {
     "slide_type": "-"
    }
   },
   "source": [
    "Producto punto (o producto escalar usual) de dos vectores"
   ]
  },
  {
   "cell_type": "code",
   "execution_count": 5,
   "metadata": {
    "autoscroll": false,
    "collapsed": false,
    "ein.hycell": false,
    "ein.tags": "worksheet-0",
    "slideshow": {
     "slide_type": "-"
    }
   },
   "outputs": [
    {
     "data": {
      "text/plain": [
       "28"
      ]
     },
     "execution_count": 5,
     "metadata": {},
     "output_type": "execute_result"
    }
   ],
   "source": [
    "w*v"
   ]
  },
  {
   "cell_type": "markdown",
   "metadata": {
    "ein.tags": "worksheet-0",
    "slideshow": {
     "slide_type": "-"
    }
   },
   "source": [
    "Seleccionar una componente de un vector"
   ]
  },
  {
   "cell_type": "code",
   "execution_count": 6,
   "metadata": {
    "autoscroll": false,
    "collapsed": false,
    "ein.hycell": false,
    "ein.tags": "worksheet-0",
    "slideshow": {
     "slide_type": "-"
    }
   },
   "outputs": [
    {
     "data": {
      "text/plain": [
       "6"
      ]
     },
     "execution_count": 6,
     "metadata": {},
     "output_type": "execute_result"
    }
   ],
   "source": [
    "1|w"
   ]
  },
  {
   "cell_type": "markdown",
   "metadata": {
    "ein.tags": "worksheet-0",
    "slideshow": {
     "slide_type": "-"
    }
   },
   "source": [
    "Crear un vector (o sub-vector) a partir de otro vector y una lista o tupla de índices"
   ]
  },
  {
   "cell_type": "code",
   "execution_count": 7,
   "metadata": {
    "autoscroll": false,
    "collapsed": false,
    "ein.hycell": false,
    "ein.tags": "worksheet-0",
    "slideshow": {
     "slide_type": "-"
    }
   },
   "outputs": [
    {
     "data": {
      "text/html": [
       "<p style=\"text-align:center;\">$\\begin{pmatrix}1\\\\2\\end{pmatrix}$</p>"
      ],
      "text/plain": [
       "Vector([1, 2])"
      ]
     },
     "execution_count": 7,
     "metadata": {},
     "output_type": "execute_result"
    }
   ],
   "source": [
    "v|(1,2)"
   ]
  },
  {
   "cell_type": "code",
   "execution_count": 8,
   "metadata": {
    "autoscroll": false,
    "collapsed": false,
    "ein.hycell": false,
    "ein.tags": "worksheet-0",
    "slideshow": {
     "slide_type": "-"
    }
   },
   "outputs": [
    {
     "data": {
      "text/html": [
       "<p style=\"text-align:center;\">$\\begin{pmatrix}1\\\\2\\\\3\\\\3\\\\2\\\\1\\end{pmatrix}$</p>"
      ],
      "text/plain": [
       "Vector([1, 2, 3, 3, 2, 1])"
      ]
     },
     "execution_count": 8,
     "metadata": {},
     "output_type": "execute_result"
    }
   ],
   "source": [
    "v|(1,2,3,3,2,1)"
   ]
  },
  {
   "cell_type": "markdown",
   "metadata": {
    "ein.tags": "worksheet-0",
    "slideshow": {
     "slide_type": "-"
    }
   },
   "source": [
    "Una serie de operaciones"
   ]
  },
  {
   "cell_type": "code",
   "execution_count": 9,
   "metadata": {
    "autoscroll": false,
    "collapsed": false,
    "ein.hycell": false,
    "ein.tags": "worksheet-0",
    "slideshow": {
     "slide_type": "-"
    }
   },
   "outputs": [
    {
     "data": {
      "text/plain": [
       "110"
      ]
     },
     "execution_count": 9,
     "metadata": {},
     "output_type": "execute_result"
    }
   ],
   "source": [
    "(v+(w|(1,1,3)))*w"
   ]
  },
  {
   "cell_type": "markdown",
   "metadata": {
    "ein.tags": "worksheet-0",
    "slideshow": {
     "slide_type": "-"
    }
   },
   "source": [
    "Representación de un Vector en forma de fila (solo en un Notebook de Jupyter)"
   ]
  },
  {
   "cell_type": "code",
   "execution_count": 10,
   "metadata": {
    "autoscroll": false,
    "collapsed": false,
    "ein.hycell": false,
    "ein.tags": "worksheet-0",
    "slideshow": {
     "slide_type": "-"
    }
   },
   "outputs": [
    {
     "data": {
      "text/html": [
       "<p style=\"text-align:center;\">$\\begin{pmatrix}1,&2,&3\\end{pmatrix}$</p>"
      ],
      "text/plain": [
       "Vector([1, 2, 3])"
      ]
     },
     "execution_count": 10,
     "metadata": {},
     "output_type": "execute_result"
    }
   ],
   "source": [
    "v.rpr=\"fila\"\n",
    "v"
   ]
  },
  {
   "cell_type": "code",
   "execution_count": 11,
   "metadata": {
    "autoscroll": false,
    "collapsed": false,
    "ein.hycell": false,
    "ein.tags": "worksheet-0",
    "slideshow": {
     "slide_type": "-"
    }
   },
   "outputs": [
    {
     "data": {
      "text/html": [
       "<p style=\"text-align:center;\">$\\begin{pmatrix}0,&1,&0,&1\\end{pmatrix}$</p>"
      ],
      "text/plain": [
       "Vector([0, 1, 0, 1])"
      ]
     },
     "execution_count": 11,
     "metadata": {},
     "output_type": "execute_result"
    }
   ],
   "source": [
    "f=Vector([0,1,0,1], rpr=\"fila\")\n",
    "f"
   ]
  },
  {
   "cell_type": "markdown",
   "metadata": {},
   "source": [
    "Cambiamos su modo de representación a \"columna\""
   ]
  },
  {
   "cell_type": "code",
   "execution_count": 12,
   "metadata": {
    "autoscroll": false,
    "collapsed": false,
    "ein.hycell": false,
    "ein.tags": "worksheet-0",
    "slideshow": {
     "slide_type": "-"
    }
   },
   "outputs": [
    {
     "data": {
      "text/html": [
       "<p style=\"text-align:center;\">$\\begin{pmatrix}0\\\\1\\\\0\\\\1\\end{pmatrix}$</p>"
      ],
      "text/plain": [
       "Vector([0, 1, 0, 1])"
      ]
     },
     "execution_count": 12,
     "metadata": {},
     "output_type": "execute_result"
    }
   ],
   "source": [
    "f.rpr=\"columna\"\n",
    "f"
   ]
  },
  {
   "cell_type": "markdown",
   "metadata": {
    "ein.tags": "worksheet-0",
    "slideshow": {
     "slide_type": "-"
    }
   },
   "source": [
    "Ayuda para la clase Vector"
   ]
  },
  {
   "cell_type": "code",
   "execution_count": 13,
   "metadata": {
    "autoscroll": false,
    "collapsed": false,
    "ein.hycell": false,
    "ein.tags": "worksheet-0",
    "slideshow": {
     "slide_type": "-"
    }
   },
   "outputs": [
    {
     "name": "stdout",
     "output_type": "stream",
     "text": [
      "Help on class Vector in module notacion:\n",
      "\n",
      "class Vector(builtins.object)\n",
      " |  Clase Vector\n",
      " |  \n",
      " |  Un Vector es una secuencia finita (sistema) de números. Los Vectores se\n",
      " |  pueden construir con una lista o tupla de números. Si el argumento es un\n",
      " |  Vector, el valor devuelto es el mismo Vector. El atributo 'rpr' indica\n",
      " |  al entorno Jupyter el vector debe ser escrito como fila o columna.\n",
      " |  \n",
      " |  Parámetros:\n",
      " |      sis (list, tuple, Vector) : Sistema de números. Debe ser una lista o\n",
      " |          tupla de números, o bien otro Vector\n",
      " |      rpr (str) : Representación en Jupyter ('columna' por defecto).\n",
      " |          Indica la forma de representar el Vector en Jupyter. Si \n",
      " |          rpr='fila' se representa en forma de fila. En caso contrario se \n",
      " |          representa en forma de columna.\n",
      " |  \n",
      " |  Atributos:\n",
      " |      lista (list): sistema de números almacenado\n",
      " |      n     (int) : número de elementos de la lista\n",
      " |      rpr   (str) : modo de representación en Jupyter\n",
      " |  \n",
      " |  Ejemplos:\n",
      " |  >>> # Crea un Vector a partir de una lista (o tupla) de números\n",
      " |  >>> Vector( [1,2,3] )   # con lista\n",
      " |  >>> Vector( (1,2,3) )   # con tupla\n",
      " |  \n",
      " |  Vector([1,2,3])\n",
      " |  \n",
      " |  >>> # Crea un Vector a partir de otro Vector\n",
      " |  >>> Vector( Vector([1,2,3]) )\n",
      " |  \n",
      " |  Vector([1,2,3])\n",
      " |  \n",
      " |  Methods defined here:\n",
      " |  \n",
      " |  __add__(self, other)\n",
      " |      Devuelve el Vector resultante de sumar dos Vectores\n",
      " |      \n",
      " |      Parámetros: \n",
      " |          other (Vector): Otro vector con el mismo número de elementos\n",
      " |      \n",
      " |      Ejemplo\n",
      " |      >>> Vector([10, 20, 30]) + Vector([-1, 1, 1])\n",
      " |      \n",
      " |      Vector([9, 21, 31])\n",
      " |  \n",
      " |  __eq__(self, other)\n",
      " |      Indica si es cierto que dos vectores son iguales\n",
      " |  \n",
      " |  __init__(self, sis, rpr='columna')\n",
      " |      Inicializa un Vector con una lista, tupla, u otro Vector\n",
      " |  \n",
      " |  __mul__(self, x)\n",
      " |      Multiplica un Vector por un número, Matrix o Vector a su derecha.\n",
      " |      \n",
      " |      Parámetros:\n",
      " |          x (int, float o Fraction): Número por el que se multiplica\n",
      " |            (Matrix): Matrix con tantas filas como componentes tiene el Vector\n",
      " |            (Vector): Vector con el mismo número de componentes.\n",
      " |      \n",
      " |      Resultado:\n",
      " |          Vector: Cuando x es int, float o Fraction, devuelve el Vector que\n",
      " |             resulta de multiplicar cada componente por x\n",
      " |                  Cuando x es Matrix, devuelve el Vector combinación lineal de\n",
      " |             las filas de Matrix (componentes del Vector son los coeficientes \n",
      " |             de la combinación lineal)\n",
      " |          Número: Cuando x es Vector, devuelve el producto punto entre \n",
      " |              vectores (producto escalar usual en R^n)\n",
      " |      \n",
      " |      Ejemplos:\n",
      " |      >>> Vector([10, 20, 30]) * 3\n",
      " |      \n",
      " |      Vector([30, 60, 90])\n",
      " |      \n",
      " |      >>> a = Vector([1, 1])\n",
      " |      >>> B = Matrix([Vector([1, 2]), Vector([1, 0]), Vector([9, 2])])\n",
      " |      >>> a * B\n",
      " |      \n",
      " |      Vector([3, 1, 11])\n",
      " |      \n",
      " |      >>> Vector([1, 1, 1]) * Vector([10, 20, 30])\n",
      " |      \n",
      " |      60\n",
      " |  \n",
      " |  __or__(self, i)\n",
      " |      Selector por la derecha\n",
      " |      \n",
      " |      Extrae la i-ésima componente del Vector, o genera un nuevo vector con \n",
      " |      las componentes indicadas (los índices comienzan por la posición 1)\n",
      " |      \n",
      " |      Parámetros:\n",
      " |          i (int, list, tuple): Índice (lista de índices) de los elementos a \n",
      " |             seleccionar\n",
      " |      \n",
      " |      Resultado:\n",
      " |          número: Cuando i es int, devuelve el componente i-ésimo del Vector.\n",
      " |          Vector: Cuando i es list o tuple, devuelve el Vector formado por los\n",
      " |              componentes indicados en la lista de índices.\n",
      " |      \n",
      " |      Ejemplos:\n",
      " |      >>> # Selección de una componente\n",
      " |      >>> Vector([10,20,30]) | 2\n",
      " |      \n",
      " |      20\n",
      " |      \n",
      " |      >>> # Creación de un sub-vector a partir de una lista o tupla de índices        \n",
      " |      >>> Vector([10,20,30]) | [2,1,2]\n",
      " |      >>> Vector([10,20,30]) | (2,1,2)\n",
      " |      \n",
      " |      Vector([20, 10, 20])\n",
      " |  \n",
      " |  __repr__(self)\n",
      " |      Muestra el vector en su representación python\n",
      " |  \n",
      " |  __rmul__(self, x)\n",
      " |      Multiplica un Vector por un número a su izquierda\n",
      " |      \n",
      " |      Parámetros:\n",
      " |          x (int, float o Fraction): Número por el que se multiplica\n",
      " |      \n",
      " |      Resultado:\n",
      " |          Vector: Cuando x es int, float o Fraction, devuelve el Vector que \n",
      " |              resulta de multiplicar cada componente por x\n",
      " |      \n",
      " |      Ejemplo:\n",
      " |      >>> 3 * Vector([10, 20, 30]) \n",
      " |      \n",
      " |      Vector([30, 60, 90])\n",
      " |  \n",
      " |  __ror__(self, i)\n",
      " |      Selector por la izquierda\n",
      " |      \n",
      " |      Hace lo mismo que el método __or__ solo que operando por la izquierda\n",
      " |  \n",
      " |  latex(self)\n",
      " |      Construye el comando LaTeX\n",
      " |  \n",
      " |  ----------------------------------------------------------------------\n",
      " |  Data descriptors defined here:\n",
      " |  \n",
      " |  __dict__\n",
      " |      dictionary for instance variables (if defined)\n",
      " |  \n",
      " |  __weakref__\n",
      " |      list of weak references to the object (if defined)\n",
      " |  \n",
      " |  ----------------------------------------------------------------------\n",
      " |  Data and other attributes defined here:\n",
      " |  \n",
      " |  __hash__ = None\n",
      "\n"
     ]
    }
   ],
   "source": [
    "help(Vector)"
   ]
  },
  {
   "cell_type": "markdown",
   "metadata": {
    "ein.tags": "worksheet-0",
    "slideshow": {
     "slide_type": "-"
    }
   },
   "source": [
    "## Vectores especiales\n",
    "\n",
    "Vector nulo de n componentes (n=2)"
   ]
  },
  {
   "cell_type": "code",
   "execution_count": 14,
   "metadata": {
    "autoscroll": false,
    "collapsed": false,
    "ein.hycell": false,
    "ein.tags": "worksheet-0",
    "slideshow": {
     "slide_type": "-"
    }
   },
   "outputs": [
    {
     "data": {
      "text/html": [
       "<p style=\"text-align:center;\">$\\begin{pmatrix}0\\\\0\\end{pmatrix}$</p>"
      ],
      "text/plain": [
       "Vector([0, 0])"
      ]
     },
     "execution_count": 14,
     "metadata": {},
     "output_type": "execute_result"
    }
   ],
   "source": [
    "V0(2)"
   ]
  },
  {
   "cell_type": "markdown",
   "metadata": {
    "ein.tags": "worksheet-0",
    "slideshow": {
     "slide_type": "-"
    }
   },
   "source": [
    "# Matrices\n",
    "\n",
    "Una matriz definida a partir de una serie de Vectores (serán sus columnas)"
   ]
  },
  {
   "cell_type": "code",
   "execution_count": 15,
   "metadata": {
    "autoscroll": false,
    "collapsed": false,
    "ein.hycell": false,
    "ein.tags": "worksheet-0",
    "slideshow": {
     "slide_type": "-"
    }
   },
   "outputs": [
    {
     "data": {
      "text/html": [
       "<p style=\"text-align:center;\">$\\begin{bmatrix}1&6&0\\\\2&5&0\\\\3&4&0\\end{bmatrix}$</p>"
      ],
      "text/plain": [
       "Matrix([Vector([1, 2, 3]), Vector([6, 5, 4]), Vector([0, 0, 0])])"
      ]
     },
     "execution_count": 15,
     "metadata": {},
     "output_type": "execute_result"
    }
   ],
   "source": [
    "Matrix([v,w,V0(3)])"
   ]
  },
  {
   "cell_type": "code",
   "execution_count": 16,
   "metadata": {
    "autoscroll": false,
    "collapsed": false,
    "ein.hycell": false,
    "ein.tags": "worksheet-0",
    "slideshow": {
     "slide_type": "-"
    }
   },
   "outputs": [
    {
     "data": {
      "text/html": [
       "<p style=\"text-align:center;\">$\\begin{bmatrix}1&0&3\\\\0&1&3\\end{bmatrix}$</p>"
      ],
      "text/plain": [
       "Matrix([Vector([1, 0]), Vector([0, 1]), Vector([3, 3])])"
      ]
     },
     "execution_count": 16,
     "metadata": {},
     "output_type": "execute_result"
    }
   ],
   "source": [
    "A=Matrix( [Vector([1,0]), Vector([0,1]), Vector([3,3])] )\n",
    "A"
   ]
  },
  {
   "cell_type": "code",
   "execution_count": 17,
   "metadata": {
    "autoscroll": false,
    "collapsed": false,
    "ein.hycell": false,
    "ein.tags": "worksheet-0",
    "slideshow": {
     "slide_type": "-"
    }
   },
   "outputs": [
    {
     "name": "stdout",
     "output_type": "stream",
     "text": [
      "Matrix([Vector([1, 0]), Vector([0, 1]), Vector([3, 3])])\n"
     ]
    }
   ],
   "source": [
    "print(A)"
   ]
  },
  {
   "cell_type": "markdown",
   "metadata": {
    "ein.tags": "worksheet-0",
    "slideshow": {
     "slide_type": "-"
    }
   },
   "source": [
    "también se puede definir a partir de una lista de listas o tupas (serían sus filas)"
   ]
  },
  {
   "cell_type": "code",
   "execution_count": 18,
   "metadata": {
    "autoscroll": false,
    "collapsed": false,
    "ein.hycell": false,
    "ein.tags": "worksheet-0",
    "slideshow": {
     "slide_type": "-"
    }
   },
   "outputs": [
    {
     "data": {
      "text/html": [
       "<p style=\"text-align:center;\">$\\begin{bmatrix}1&1&1\\\\2&2&2\\\\3&6&9\\end{bmatrix}$</p>"
      ],
      "text/plain": [
       "Matrix([Vector([1, 2, 3]), Vector([1, 2, 6]), Vector([1, 2, 9])])"
      ]
     },
     "execution_count": 18,
     "metadata": {},
     "output_type": "execute_result"
    }
   ],
   "source": [
    "B=Matrix([ [1,1,1], [2,2,2], [3,6,9] ])\n",
    "B"
   ]
  },
  {
   "cell_type": "markdown",
   "metadata": {
    "ein.tags": "worksheet-0",
    "slideshow": {
     "slide_type": "-"
    }
   },
   "source": [
    "Más abajo veremos que:\n",
    "\n",
    "Si A es una Matrix, entonces Matrix(A) es una copia de A\n",
    "\n",
    "Si A es una matriz por bloques (BlockMatrix), entonces Matrix(A) es la matriz que resulta de fusionar los bloques\n",
    "\n",
    "## Selecionando columnas, filas, componentes o sub-matrices\n",
    "\n",
    "Obteniendo el vector correspondiente a la j-ésima columna de A (donde j=2)"
   ]
  },
  {
   "cell_type": "code",
   "execution_count": 19,
   "metadata": {
    "autoscroll": false,
    "collapsed": false,
    "ein.hycell": false,
    "ein.tags": "worksheet-0",
    "slideshow": {
     "slide_type": "-"
    }
   },
   "outputs": [
    {
     "data": {
      "text/html": [
       "<p style=\"text-align:center;\">$\\begin{pmatrix}0\\\\1\\end{pmatrix}$</p>"
      ],
      "text/plain": [
       "Vector([0, 1])"
      ]
     },
     "execution_count": 19,
     "metadata": {},
     "output_type": "execute_result"
    }
   ],
   "source": [
    "A|2"
   ]
  },
  {
   "cell_type": "markdown",
   "metadata": {
    "ein.tags": "worksheet-0",
    "slideshow": {
     "slide_type": "-"
    }
   },
   "source": [
    "Obteniendo el vector correspondiente a la i-ésima fila de A (donde i=1)"
   ]
  },
  {
   "cell_type": "code",
   "execution_count": 20,
   "metadata": {
    "autoscroll": false,
    "collapsed": false,
    "ein.hycell": false,
    "ein.tags": "worksheet-0",
    "slideshow": {
     "slide_type": "-"
    }
   },
   "outputs": [
    {
     "data": {
      "text/html": [
       "<p style=\"text-align:center;\">$\\begin{pmatrix}1,&0,&3\\end{pmatrix}$</p>"
      ],
      "text/plain": [
       "Vector([1, 0, 3])"
      ]
     },
     "execution_count": 20,
     "metadata": {},
     "output_type": "execute_result"
    }
   ],
   "source": [
    "1|A"
   ]
  },
  {
   "cell_type": "markdown",
   "metadata": {
    "ein.tags": "worksheet-0",
    "slideshow": {
     "slide_type": "-"
    }
   },
   "source": [
    "Obteniendo la componente situada en la segunda fila y tercera columna de A"
   ]
  },
  {
   "cell_type": "code",
   "execution_count": 21,
   "metadata": {
    "autoscroll": false,
    "collapsed": false,
    "ein.hycell": false,
    "ein.tags": "worksheet-0",
    "slideshow": {
     "slide_type": "-"
    }
   },
   "outputs": [
    {
     "data": {
      "text/plain": [
       "3"
      ]
     },
     "execution_count": 21,
     "metadata": {},
     "output_type": "execute_result"
    }
   ],
   "source": [
    "2|A|3"
   ]
  },
  {
   "cell_type": "markdown",
   "metadata": {
    "ein.tags": "worksheet-0",
    "slideshow": {
     "slide_type": "-"
    }
   },
   "source": [
    "Obteniendo un vector a partir de las componente de otro"
   ]
  },
  {
   "cell_type": "code",
   "execution_count": 22,
   "metadata": {
    "autoscroll": false,
    "collapsed": false,
    "ein.hycell": false,
    "ein.tags": "worksheet-0",
    "slideshow": {
     "slide_type": "-"
    }
   },
   "outputs": [
    {
     "data": {
      "text/html": [
       "<p style=\"text-align:center;\">$\\begin{pmatrix}2\\\\6\\\\2\\end{pmatrix}$</p>"
      ],
      "text/plain": [
       "Vector([2, 6, 2])"
      ]
     },
     "execution_count": 22,
     "metadata": {},
     "output_type": "execute_result"
    }
   ],
   "source": [
    "y=Vector([2,4,6,8])\n",
    "y|(1,3,1)"
   ]
  },
  {
   "cell_type": "markdown",
   "metadata": {
    "ein.tags": "worksheet-0",
    "slideshow": {
     "slide_type": "-"
    }
   },
   "source": [
    "Obteniendo una submatriz con varias columnas de otra matriz"
   ]
  },
  {
   "cell_type": "code",
   "execution_count": 23,
   "metadata": {
    "autoscroll": false,
    "collapsed": false,
    "ein.hycell": false,
    "ein.tags": "worksheet-0",
    "slideshow": {
     "slide_type": "-"
    }
   },
   "outputs": [
    {
     "data": {
      "text/html": [
       "<p style=\"text-align:center;\">$\\begin{bmatrix}1&1\\\\2&2\\\\6&9\\end{bmatrix}$</p>"
      ],
      "text/plain": [
       "Matrix([Vector([1, 2, 6]), Vector([1, 2, 9])])"
      ]
     },
     "execution_count": 23,
     "metadata": {},
     "output_type": "execute_result"
    }
   ],
   "source": [
    "B|(2,3)"
   ]
  },
  {
   "cell_type": "markdown",
   "metadata": {
    "ein.tags": "worksheet-0",
    "slideshow": {
     "slide_type": "-"
    }
   },
   "source": [
    "Obteniendo una submatriz usando varias filas de otra matriz"
   ]
  },
  {
   "cell_type": "code",
   "execution_count": 24,
   "metadata": {
    "autoscroll": false,
    "collapsed": false,
    "ein.hycell": false,
    "ein.tags": "worksheet-0",
    "slideshow": {
     "slide_type": "-"
    }
   },
   "outputs": [
    {
     "data": {
      "text/html": [
       "<p style=\"text-align:center;\">$\\begin{bmatrix}3&6&9\\\\1&1&1\\\\2&2&2\\\\1&1&1\\\\3&6&9\\end{bmatrix}$</p>"
      ],
      "text/plain": [
       "Matrix([Vector([3, 1, 2, 1, 3]), Vector([6, 1, 2, 1, 6]), Vector([9, 1, 2, 1, 9])])"
      ]
     },
     "execution_count": 24,
     "metadata": {},
     "output_type": "execute_result"
    }
   ],
   "source": [
    "(3,1,2,1,3)|B"
   ]
  },
  {
   "cell_type": "markdown",
   "metadata": {
    "ein.tags": "worksheet-0",
    "slideshow": {
     "slide_type": "-"
    }
   },
   "source": [
    "Seleccionando una submatriz"
   ]
  },
  {
   "cell_type": "code",
   "execution_count": 25,
   "metadata": {
    "autoscroll": false,
    "collapsed": false,
    "ein.hycell": false,
    "ein.tags": "worksheet-0",
    "slideshow": {
     "slide_type": "-"
    }
   },
   "outputs": [
    {
     "data": {
      "text/html": [
       "<p style=\"text-align:center;\">$\\begin{bmatrix}2&2\\\\3&6\\end{bmatrix}$</p>"
      ],
      "text/plain": [
       "Matrix([Vector([2, 3]), Vector([2, 6])])"
      ]
     },
     "execution_count": 25,
     "metadata": {},
     "output_type": "execute_result"
    }
   ],
   "source": [
    "(2,3)|B|(1,2)"
   ]
  },
  {
   "cell_type": "code",
   "execution_count": 26,
   "metadata": {
    "collapsed": false
   },
   "outputs": [
    {
     "data": {
      "text/html": [
       "<p style=\"text-align:center;\">$\\begin{bmatrix}6&6&6\\\\12&12&12\\\\18&36&54\\end{bmatrix}$</p>"
      ],
      "text/plain": [
       "Matrix([Vector([6, 12, 18]), Vector([6, 12, 36]), Vector([6, 12, 54])])"
      ]
     },
     "execution_count": 26,
     "metadata": {},
     "output_type": "execute_result"
    }
   ],
   "source": [
    "3*B*2"
   ]
  },
  {
   "cell_type": "code",
   "execution_count": 27,
   "metadata": {
    "collapsed": false
   },
   "outputs": [
    {
     "data": {
      "text/html": [
       "<p style=\"text-align:center;\">$\\begin{pmatrix}6\\\\12\\\\42\\end{pmatrix}$</p>"
      ],
      "text/plain": [
       "Vector([6, 12, 42])"
      ]
     },
     "execution_count": 27,
     "metadata": {},
     "output_type": "execute_result"
    }
   ],
   "source": [
    "B*v"
   ]
  },
  {
   "cell_type": "code",
   "execution_count": 28,
   "metadata": {
    "collapsed": false
   },
   "outputs": [
    {
     "data": {
      "text/html": [
       "<p style=\"text-align:center;\">$\\begin{pmatrix}14,&23,&32\\end{pmatrix}$</p>"
      ],
      "text/plain": [
       "Vector([14, 23, 32])"
      ]
     },
     "execution_count": 28,
     "metadata": {},
     "output_type": "execute_result"
    }
   ],
   "source": [
    "v*B"
   ]
  },
  {
   "cell_type": "code",
   "execution_count": 29,
   "metadata": {
    "collapsed": false
   },
   "outputs": [
    {
     "data": {
      "text/html": [
       "<p style=\"text-align:center;\">$\\begin{bmatrix}6&9&12\\\\12&18&24\\\\42&69&96\\end{bmatrix}$</p>"
      ],
      "text/plain": [
       "Matrix([Vector([6, 12, 42]), Vector([9, 18, 69]), Vector([12, 24, 96])])"
      ]
     },
     "execution_count": 29,
     "metadata": {},
     "output_type": "execute_result"
    }
   ],
   "source": [
    "B*B"
   ]
  },
  {
   "cell_type": "markdown",
   "metadata": {
    "ein.tags": "worksheet-0",
    "slideshow": {
     "slide_type": "-"
    }
   },
   "source": [
    "## Particionando matrices"
   ]
  },
  {
   "cell_type": "code",
   "execution_count": 30,
   "metadata": {
    "autoscroll": false,
    "collapsed": false,
    "ein.hycell": false,
    "ein.tags": "worksheet-0",
    "slideshow": {
     "slide_type": "-"
    }
   },
   "outputs": [
    {
     "name": "stdout",
     "output_type": "stream",
     "text": [
      "Help on class BlockMatrix in module notacion:\n",
      "\n",
      "class BlockMatrix(builtins.object)\n",
      " |  Methods defined here:\n",
      " |  \n",
      " |  __init__(self, sis)\n",
      " |      Inicializa una BlockMatrix con una lista de listas de matrices\n",
      " |  \n",
      " |  __or__(self, j)\n",
      " |      Reparticiona por columna una matriz por cajas\n",
      " |  \n",
      " |  __repr__(self)\n",
      " |      Muestra una matriz en su representación Python\n",
      " |  \n",
      " |  latex(self)\n",
      " |      Escribe el código de LaTeX\n",
      " |  \n",
      " |  ----------------------------------------------------------------------\n",
      " |  Data descriptors defined here:\n",
      " |  \n",
      " |  __dict__\n",
      " |      dictionary for instance variables (if defined)\n",
      " |  \n",
      " |  __weakref__\n",
      " |      list of weak references to the object (if defined)\n",
      "\n"
     ]
    }
   ],
   "source": [
    "help(BlockMatrix)"
   ]
  },
  {
   "cell_type": "code",
   "execution_count": 31,
   "metadata": {
    "autoscroll": false,
    "collapsed": false,
    "ein.hycell": false,
    "ein.tags": "worksheet-0",
    "slideshow": {
     "slide_type": "-"
    }
   },
   "outputs": [
    {
     "data": {
      "text/html": [
       "<p style=\"text-align:center;\">$\\left[\\begin{array}{ccc}1&1&1\\\\2&2&2\\\\ \\hline 3&6&9\\\\\\end{array}\\right]$</p>"
      ],
      "text/plain": [
       "BlockMatrix([[Matrix([Vector([1, 2]), Vector([1, 2]), Vector([1, 2])])], [Matrix([Vector([3]), Vector([6]), Vector([9])])]])"
      ]
     },
     "execution_count": 31,
     "metadata": {},
     "output_type": "execute_result"
    }
   ],
   "source": [
    "{2}|B"
   ]
  },
  {
   "cell_type": "code",
   "execution_count": 32,
   "metadata": {
    "autoscroll": false,
    "collapsed": false,
    "ein.hycell": false,
    "ein.tags": "worksheet-0",
    "slideshow": {
     "slide_type": "-"
    }
   },
   "outputs": [
    {
     "data": {
      "text/html": [
       "<p style=\"text-align:center;\">$\\left[\\begin{array}{c|c|c}1&1&1\\\\2&2&2\\\\3&6&9\\\\\\end{array}\\right]$</p>"
      ],
      "text/plain": [
       "BlockMatrix([[Matrix([Vector([1, 2, 3])]), Matrix([Vector([1, 2, 6])]), Matrix([Vector([1, 2, 9])])]])"
      ]
     },
     "execution_count": 32,
     "metadata": {},
     "output_type": "execute_result"
    }
   ],
   "source": [
    "B|{1,2}"
   ]
  },
  {
   "cell_type": "code",
   "execution_count": 33,
   "metadata": {
    "autoscroll": false,
    "collapsed": false,
    "ein.hycell": false,
    "ein.tags": "worksheet-0",
    "slideshow": {
     "slide_type": "-"
    }
   },
   "outputs": [
    {
     "data": {
      "text/html": [
       "<p style=\"text-align:center;\">$\\left[\\begin{array}{cc|c}1&1&1\\\\ \\hline 2&2&2\\\\3&6&9\\\\\\end{array}\\right]$</p>"
      ],
      "text/plain": [
       "BlockMatrix([[Matrix([Vector([1]), Vector([1])]), Matrix([Vector([1])])], [Matrix([Vector([2, 3]), Vector([2, 6])]), Matrix([Vector([2, 9])])]])"
      ]
     },
     "execution_count": 33,
     "metadata": {},
     "output_type": "execute_result"
    }
   ],
   "source": [
    "{1}|B|{2}"
   ]
  },
  {
   "cell_type": "markdown",
   "metadata": {
    "ein.tags": "worksheet-0",
    "slideshow": {
     "slide_type": "-"
    }
   },
   "source": [
    "## Creando una matriz a partir de submatrices o bloques"
   ]
  },
  {
   "cell_type": "code",
   "execution_count": 34,
   "metadata": {
    "autoscroll": false,
    "collapsed": false,
    "ein.hycell": false,
    "ein.tags": "worksheet-0",
    "slideshow": {
     "slide_type": "-"
    }
   },
   "outputs": [
    {
     "data": {
      "text/html": [
       "<p style=\"text-align:center;\">$\\left[\\begin{array}{cc|c|c}1&5&9&0\\\\2&6&10&1\\\\ \\hline 0&0&1&4\\\\1&1&2&5\\\\2&2&3&6\\\\ \\hline 1&5&9&0\\\\2&6&10&1\\\\\\end{array}\\right]$</p>"
      ],
      "text/plain": [
       "BlockMatrix([[Matrix([Vector([1, 2]), Vector([5, 6])]), Matrix([Vector([9, 10])]), Matrix([Vector([0, 1])])], [Matrix([Vector([0, 1, 2]), Vector([0, 1, 2])]), Matrix([Vector([1, 2, 3])]), Matrix([Vector([4, 5, 6])])], [Matrix([Vector([1, 2]), Vector([5, 6])]), Matrix([Vector([9, 10])]), Matrix([Vector([0, 1])])]])"
      ]
     },
     "execution_count": 34,
     "metadata": {},
     "output_type": "execute_result"
    }
   ],
   "source": [
    "a11=Matrix([[1,5],[2,6]])\n",
    "a12=Matrix([[9],[10]])\n",
    "a13=Matrix([[0],[1]])\n",
    "a21=Matrix([[0,0],[1,1],[2,2]])\n",
    "a22=Matrix([[1],[2],[3]])\n",
    "a23=Matrix([[4],[5],[6]])\n",
    "\n",
    "B=BlockMatrix([[a11,a12,a13],[a21,a22,a23],[a11,a12,a13]])\n",
    "B"
   ]
  },
  {
   "cell_type": "code",
   "execution_count": 35,
   "metadata": {
    "autoscroll": false,
    "collapsed": false,
    "ein.hycell": false,
    "ein.tags": "worksheet-0",
    "slideshow": {
     "slide_type": "-"
    }
   },
   "outputs": [
    {
     "data": {
      "text/html": [
       "<p style=\"text-align:center;\">$\\left[\\begin{array}{cc|c}1&5&9\\\\2&6&10\\\\ \\hline 0&0&1\\\\1&1&2\\\\2&2&3\\\\\\end{array}\\right]$</p>"
      ],
      "text/plain": [
       "BlockMatrix([[Matrix([Vector([1, 2]), Vector([5, 6])]), Matrix([Vector([9, 10])])], [Matrix([Vector([0, 1, 2]), Vector([0, 1, 2])]), Matrix([Vector([1, 2, 3])])]])"
      ]
     },
     "execution_count": 35,
     "metadata": {},
     "output_type": "execute_result"
    }
   ],
   "source": [
    "D=BlockMatrix([[a11,a12],[a21,a22]])\n",
    "D"
   ]
  },
  {
   "cell_type": "markdown",
   "metadata": {
    "ein.tags": "worksheet-0",
    "slideshow": {
     "slide_type": "-"
    }
   },
   "source": [
    "Es sencillo transformar una BlockMatrix en una matriz"
   ]
  },
  {
   "cell_type": "code",
   "execution_count": 36,
   "metadata": {
    "autoscroll": false,
    "collapsed": false,
    "ein.hycell": false,
    "ein.tags": "worksheet-0",
    "slideshow": {
     "slide_type": "-"
    }
   },
   "outputs": [
    {
     "data": {
      "text/html": [
       "<p style=\"text-align:center;\">$\\begin{bmatrix}1&5&9\\\\2&6&10\\\\0&0&1\\\\1&1&2\\\\2&2&3\\end{bmatrix}$</p>"
      ],
      "text/plain": [
       "Matrix([Vector([1, 2, 0, 1, 2]), Vector([5, 6, 0, 1, 2]), Vector([9, 10, 1, 2, 3])])"
      ]
     },
     "execution_count": 36,
     "metadata": {},
     "output_type": "execute_result"
    }
   ],
   "source": [
    "Matrix(D)"
   ]
  },
  {
   "cell_type": "markdown",
   "metadata": {
    "ein.tags": "worksheet-0",
    "slideshow": {
     "slide_type": "-"
    }
   },
   "source": [
    "Para distingir una BlockMatrix de un solo bloque respecto de una\n",
    "matriz, se pinta una caja alrededor."
   ]
  },
  {
   "cell_type": "code",
   "execution_count": 37,
   "metadata": {
    "autoscroll": false,
    "collapsed": false,
    "ein.hycell": false,
    "ein.tags": "worksheet-0",
    "slideshow": {
     "slide_type": "-"
    }
   },
   "outputs": [
    {
     "data": {
      "text/html": [
       "<p style=\"text-align:center;\">$\\begin{array}{|c|}\\hline \\begin{bmatrix}1&5\\\\2&6\\end{bmatrix}\\\\ \\hline \\end{array}$</p>"
      ],
      "text/plain": [
       "BlockMatrix([[Matrix([Vector([1, 2]), Vector([5, 6])])]])"
      ]
     },
     "execution_count": 37,
     "metadata": {},
     "output_type": "execute_result"
    }
   ],
   "source": [
    "F=BlockMatrix([[a11]])\n",
    "F"
   ]
  },
  {
   "cell_type": "markdown",
   "metadata": {
    "ein.tags": "worksheet-0",
    "slideshow": {
     "slide_type": "-"
    }
   },
   "source": [
    "## Transformaciones elementales\n",
    "\n",
    "Un intercambio se indica con un conjunto de dos índices. "
   ]
  },
  {
   "cell_type": "code",
   "execution_count": 38,
   "metadata": {
    "collapsed": false
   },
   "outputs": [
    {
     "data": {
      "text/html": [
       "<p style=\"text-align:center;\">$\\underset{\\left[\\mathbf{1}\\rightleftharpoons\\mathbf{3}\\right]}{\\mathbf{\\tau}}$</p>"
      ],
      "text/plain": [
       "T({1, 3})"
      ]
     },
     "execution_count": 38,
     "metadata": {},
     "output_type": "execute_result"
    }
   ],
   "source": [
    "T({1,3})"
   ]
  },
  {
   "cell_type": "markdown",
   "metadata": {},
   "source": [
    "Esta es la matriz A"
   ]
  },
  {
   "cell_type": "code",
   "execution_count": 39,
   "metadata": {
    "collapsed": false
   },
   "outputs": [
    {
     "data": {
      "text/html": [
       "<p style=\"text-align:center;\">$\\begin{bmatrix}1&0&3\\\\0&1&3\\end{bmatrix}$</p>"
      ],
      "text/plain": [
       "Matrix([Vector([1, 0]), Vector([0, 1]), Vector([3, 3])])"
      ]
     },
     "execution_count": 39,
     "metadata": {},
     "output_type": "execute_result"
    }
   ],
   "source": [
    "A"
   ]
  },
  {
   "cell_type": "markdown",
   "metadata": {},
   "source": [
    "Realicemos un intercambio de columnas"
   ]
  },
  {
   "cell_type": "code",
   "execution_count": 40,
   "metadata": {
    "autoscroll": false,
    "collapsed": false,
    "ein.hycell": false,
    "ein.tags": "worksheet-0",
    "slideshow": {
     "slide_type": "-"
    }
   },
   "outputs": [
    {
     "data": {
      "text/html": [
       "<p style=\"text-align:center;\">$\\begin{bmatrix}3&0&1\\\\3&1&0\\end{bmatrix}$</p>"
      ],
      "text/plain": [
       "Matrix([Vector([3, 3]), Vector([0, 1]), Vector([1, 0])])"
      ]
     },
     "execution_count": 40,
     "metadata": {},
     "output_type": "execute_result"
    }
   ],
   "source": [
    "A & T({1,3})"
   ]
  },
  {
   "cell_type": "markdown",
   "metadata": {
    "ein.tags": "worksheet-0",
    "slideshow": {
     "slide_type": "-"
    }
   },
   "source": [
    "Fíjese que al aplicar una transformación sobre una matriz, la matriz cambia"
   ]
  },
  {
   "cell_type": "code",
   "execution_count": 41,
   "metadata": {
    "autoscroll": false,
    "collapsed": false,
    "ein.hycell": false,
    "ein.tags": "worksheet-0",
    "slideshow": {
     "slide_type": "-"
    }
   },
   "outputs": [
    {
     "data": {
      "text/html": [
       "<p style=\"text-align:center;\">$\\begin{bmatrix}3&0&1\\\\3&1&0\\end{bmatrix}$</p>"
      ],
      "text/plain": [
       "Matrix([Vector([3, 3]), Vector([0, 1]), Vector([1, 0])])"
      ]
     },
     "execution_count": 41,
     "metadata": {},
     "output_type": "execute_result"
    }
   ],
   "source": [
    "A"
   ]
  },
  {
   "cell_type": "markdown",
   "metadata": {
    "ein.tags": "worksheet-0",
    "slideshow": {
     "slide_type": "-"
    }
   },
   "source": [
    "Matriz elemental de orden 4 correspondiente al intercambio anterior es"
   ]
  },
  {
   "cell_type": "code",
   "execution_count": 42,
   "metadata": {
    "autoscroll": false,
    "collapsed": false,
    "ein.hycell": false,
    "ein.tags": "worksheet-0",
    "slideshow": {
     "slide_type": "-"
    }
   },
   "outputs": [
    {
     "data": {
      "text/html": [
       "<p style=\"text-align:center;\">$\\begin{bmatrix}0&0&1&0\\\\0&1&0&0\\\\1&0&0&0\\\\0&0&0&1\\end{bmatrix}$</p>"
      ],
      "text/plain": [
       "Matrix([Vector([0, 0, 1, 0]), Vector([0, 1, 0, 0]), Vector([1, 0, 0, 0]), Vector([0, 0, 0, 1])])"
      ]
     },
     "execution_count": 42,
     "metadata": {},
     "output_type": "execute_result"
    }
   ],
   "source": [
    "I(4) & T({1,3})"
   ]
  },
  {
   "cell_type": "markdown",
   "metadata": {},
   "source": [
    "La siguente transformación elemental multiplica el primer vector por 10"
   ]
  },
  {
   "cell_type": "code",
   "execution_count": 43,
   "metadata": {
    "collapsed": false
   },
   "outputs": [
    {
     "data": {
      "text/html": [
       "<p style=\"text-align:center;\">$\\underset{\\left[10\\cdot\\mathbf{1}\\right]}{\\mathbf{\\tau}}$</p>"
      ],
      "text/plain": [
       "T((1, 10))"
      ]
     },
     "execution_count": 43,
     "metadata": {},
     "output_type": "execute_result"
    }
   ],
   "source": [
    "T((1,10))"
   ]
  },
  {
   "cell_type": "markdown",
   "metadata": {
    "ein.tags": "worksheet-0",
    "slideshow": {
     "slide_type": "-"
    }
   },
   "source": [
    "Multipliquemos la primera columna de A por 10"
   ]
  },
  {
   "cell_type": "code",
   "execution_count": 44,
   "metadata": {
    "autoscroll": false,
    "collapsed": false,
    "ein.hycell": false,
    "ein.tags": "worksheet-0",
    "slideshow": {
     "slide_type": "-"
    }
   },
   "outputs": [
    {
     "data": {
      "text/html": [
       "<p style=\"text-align:center;\">$\\begin{bmatrix}30&0&1\\\\30&1&0\\end{bmatrix}$</p>"
      ],
      "text/plain": [
       "Matrix([Vector([30, 30]), Vector([0, 1]), Vector([1, 0])])"
      ]
     },
     "execution_count": 44,
     "metadata": {},
     "output_type": "execute_result"
    }
   ],
   "source": [
    "A & T((1,10))"
   ]
  },
  {
   "cell_type": "markdown",
   "metadata": {},
   "source": [
    "La siguiente transformación suma al tercer vector siete veces el segundo"
   ]
  },
  {
   "cell_type": "code",
   "execution_count": 45,
   "metadata": {
    "collapsed": false
   },
   "outputs": [
    {
     "data": {
      "text/html": [
       "<p style=\"text-align:center;\">$\\underset{\\left[\\mathbf{3}+7\\cdot\\mathbf{2}\\right]}{\\mathbf{\\tau}}$</p>"
      ],
      "text/plain": [
       "T((3, 2, 7))"
      ]
     },
     "execution_count": 45,
     "metadata": {},
     "output_type": "execute_result"
    }
   ],
   "source": [
    "T((3,2,7))"
   ]
  },
  {
   "cell_type": "markdown",
   "metadata": {
    "ein.tags": "worksheet-0",
    "slideshow": {
     "slide_type": "-"
    }
   },
   "source": [
    "Sumemos siete veces la segunda columna de A a la tercera"
   ]
  },
  {
   "cell_type": "code",
   "execution_count": 46,
   "metadata": {
    "autoscroll": false,
    "collapsed": false,
    "ein.hycell": false,
    "ein.tags": "worksheet-0",
    "slideshow": {
     "slide_type": "-"
    }
   },
   "outputs": [
    {
     "data": {
      "text/html": [
       "<p style=\"text-align:center;\">$\\begin{bmatrix}30&0&1\\\\30&1&7\\end{bmatrix}$</p>"
      ],
      "text/plain": [
       "Matrix([Vector([30, 30]), Vector([0, 1]), Vector([1, 7])])"
      ]
     },
     "execution_count": 46,
     "metadata": {},
     "output_type": "execute_result"
    }
   ],
   "source": [
    "A & T((3,2,7))"
   ]
  },
  {
   "cell_type": "markdown",
   "metadata": {
    "ein.tags": "worksheet-0",
    "slideshow": {
     "slide_type": "-"
    }
   },
   "source": [
    "Aplicando varias transformaciones a la matriz identidad de orden 4  "
   ]
  },
  {
   "cell_type": "code",
   "execution_count": 47,
   "metadata": {
    "autoscroll": false,
    "collapsed": false,
    "ein.hycell": false,
    "ein.tags": "worksheet-0",
    "slideshow": {
     "slide_type": "-"
    }
   },
   "outputs": [
    {
     "data": {
      "text/html": [
       "<p style=\"text-align:center;\">$\\begin{bmatrix}0&0&10&0\\\\7&1&0&0\\\\1&0&0&0\\\\0&0&0&1\\end{bmatrix}$</p>"
      ],
      "text/plain": [
       "Matrix([Vector([0, 7, 1, 0]), Vector([0, 1, 0, 0]), Vector([10, 0, 0, 0]), Vector([0, 0, 0, 1])])"
      ]
     },
     "execution_count": 47,
     "metadata": {},
     "output_type": "execute_result"
    }
   ],
   "source": [
    "I(4) & T((3,2,7)) & T((1,10)) & T({1,3})"
   ]
  },
  {
   "cell_type": "markdown",
   "metadata": {
    "ein.tags": "worksheet-0",
    "slideshow": {
     "slide_type": "-"
    }
   },
   "source": [
    "otra forma de hacer lo mismo"
   ]
  },
  {
   "cell_type": "code",
   "execution_count": 48,
   "metadata": {
    "autoscroll": false,
    "collapsed": false,
    "ein.hycell": false,
    "ein.tags": "worksheet-0",
    "slideshow": {
     "slide_type": "-"
    }
   },
   "outputs": [
    {
     "data": {
      "text/html": [
       "<p style=\"text-align:center;\">$\\begin{bmatrix}0&0&10&0\\\\7&1&0&0\\\\1&0&0&0\\\\0&0&0&1\\end{bmatrix}$</p>"
      ],
      "text/plain": [
       "Matrix([Vector([0, 7, 1, 0]), Vector([0, 1, 0, 0]), Vector([10, 0, 0, 0]), Vector([0, 0, 0, 1])])"
      ]
     },
     "execution_count": 48,
     "metadata": {},
     "output_type": "execute_result"
    }
   ],
   "source": [
    "I(4) & T([(3,2,7), (1,10), {1,3}])"
   ]
  },
  {
   "cell_type": "markdown",
   "metadata": {},
   "source": [
    "Veamos la notación de esta serie de transformaciones"
   ]
  },
  {
   "cell_type": "code",
   "execution_count": 49,
   "metadata": {
    "collapsed": false
   },
   "outputs": [
    {
     "data": {
      "text/html": [
       "<p style=\"text-align:center;\">$\\underset{\\begin{array}{c}\\left[\\mathbf{3}+7\\cdot\\mathbf{2}\\right]\\\\\\left[10\\cdot\\mathbf{1}\\right]\\\\\\left[\\mathbf{1}\\rightleftharpoons\\mathbf{3}\\right]\\end{array}}{\\mathbf{\\tau}}$</p>"
      ],
      "text/plain": [
       "T([(3, 2, 7), (1, 10), {1, 3}])"
      ]
     },
     "execution_count": 49,
     "metadata": {},
     "output_type": "execute_result"
    }
   ],
   "source": [
    "T((3,2,7)) & T((1,10)) & T({1,3})"
   ]
  },
  {
   "cell_type": "markdown",
   "metadata": {
    "ein.tags": "worksheet-0",
    "slideshow": {
     "slide_type": "-"
    }
   },
   "source": [
    "Para operar con las filas se hace igual pero por la izquierda"
   ]
  },
  {
   "cell_type": "code",
   "execution_count": 50,
   "metadata": {
    "autoscroll": false,
    "collapsed": false,
    "ein.hycell": false,
    "ein.tags": "worksheet-0",
    "slideshow": {
     "slide_type": "-"
    }
   },
   "outputs": [
    {
     "data": {
      "text/html": [
       "<p style=\"text-align:center;\">$\\begin{bmatrix}-10&1&0\\\\10&0&0\\\\0&0&1\\end{bmatrix}$</p>"
      ],
      "text/plain": [
       "Matrix([Vector([-10, 10, 0]), Vector([1, 0, 0]), Vector([0, 0, 1])])"
      ]
     },
     "execution_count": 50,
     "metadata": {},
     "output_type": "execute_result"
    }
   ],
   "source": [
    "T((1,2,-1)) & T((2,10)) & T({1,2}) & I(3)"
   ]
  },
  {
   "cell_type": "markdown",
   "metadata": {
    "ein.tags": "worksheet-0",
    "slideshow": {
     "slide_type": "-"
    }
   },
   "source": [
    "Recuerde cuál es el verdadero orden de las operaciones"
   ]
  },
  {
   "cell_type": "code",
   "execution_count": 51,
   "metadata": {
    "autoscroll": false,
    "collapsed": false,
    "ein.hycell": false,
    "ein.tags": "worksheet-0",
    "slideshow": {
     "slide_type": "-"
    }
   },
   "outputs": [],
   "source": [
    "T([{1,2}, (2,10), (1,2,-1)]) & B"
   ]
  },
  {
   "cell_type": "markdown",
   "metadata": {
    "ein.tags": "worksheet-0",
    "slideshow": {
     "slide_type": "-"
    }
   },
   "source": [
    "Por supusto, podemos operar por filas y columnas! "
   ]
  },
  {
   "cell_type": "code",
   "execution_count": 52,
   "metadata": {
    "autoscroll": false,
    "collapsed": false,
    "ein.hycell": false,
    "ein.tags": "worksheet-0",
    "slideshow": {
     "slide_type": "-"
    }
   },
   "outputs": [
    {
     "data": {
      "text/html": [
       "<p style=\"text-align:center;\">$\\begin{bmatrix}-200&6&10&1\\\\-1000&50&90&0\\\\0&0&1&4\\\\-100&1&2&5\\\\-200&2&3&6\\\\-100&5&9&0\\\\-200&6&10&1\\end{bmatrix}$</p>"
      ],
      "text/plain": [
       "Matrix([Vector([-200, -1000, 0, -100, -200, -100, -200]), Vector([6, 50, 0, 1, 2, 5, 6]), Vector([10, 90, 1, 2, 3, 9, 10]), Vector([1, 0, 4, 5, 6, 0, 1])])"
      ]
     },
     "execution_count": 52,
     "metadata": {},
     "output_type": "execute_result"
    }
   ],
   "source": [
    "T((2,10)) & T({1,2}) & Matrix(B) & T((1,-100))"
   ]
  },
  {
   "cell_type": "markdown",
   "metadata": {
    "ein.tags": "worksheet-0",
    "slideshow": {
     "slide_type": "-"
    }
   },
   "source": [
    "## Una demo más interesante\n",
    "\n",
    "Aunque todavía no he definido operaciones entre matrices (suma y\n",
    "producto), ni matriz por vector, ni vector por matriz, ni matriz por\n",
    "número, sin embargo tenemos lo suficiente para aplicar la eliminación\n",
    "gaussiana asi que\\dots ¡Ya podemos resolver problemas interesantes!\n",
    "\n",
    "Calculemos el espacio nulo de una matriz (él código lo tenéis en la\n",
    "documentación de la librería)."
   ]
  },
  {
   "cell_type": "code",
   "execution_count": 53,
   "metadata": {
    "autoscroll": false,
    "collapsed": false,
    "ein.hycell": false,
    "ein.tags": "worksheet-0",
    "slideshow": {
     "slide_type": "-"
    }
   },
   "outputs": [
    {
     "data": {
      "text/html": [
       "<p style=\"text-align:center;\">$\\left[\\begin{array}{cc|cc}1&0&0&0\\\\\\frac{5}{8}&1&0&0\\\\ \\hline \\frac{1}{8}&\\frac{-1}{15}&1&0\\\\0&\\frac{4}{15}&41&1\\\\0&0&-30&-1\\\\0&0&0&\\frac{1}{4}\\\\\\end{array}\\right]$</p>"
      ],
      "text/plain": [
       "BlockMatrix([[Matrix([Vector([Fraction(1, 1), Fraction(5, 8)]), Vector([Fraction(0, 1), Fraction(1, 1)])]), Matrix([Vector([Fraction(0, 1), Fraction(0, 1)]), Vector([Fraction(0, 1), Fraction(0, 1)])])], [Matrix([Vector([Fraction(1, 8), Fraction(0, 1), Fraction(0, 1), Fraction(0, 1)]), Vector([Fraction(-1, 15), Fraction(4, 15), Fraction(0, 1), Fraction(0, 1)])]), Matrix([Vector([Fraction(1, 1), Fraction(41, 1), Fraction(-30, 1), Fraction(0, 1)]), Vector([Fraction(0, 1), Fraction(1, 1), Fraction(-1, 1), Fraction(1, 4)])])]])"
      ]
     },
     "execution_count": 53,
     "metadata": {},
     "output_type": "execute_result"
    }
   ],
   "source": [
    "A=Matrix([[8,2,3,4],[5,5,7,8]])\n",
    "D=homogenea(A)\n",
    "D"
   ]
  },
  {
   "cell_type": "markdown",
   "metadata": {},
   "source": [
    "Las dos columnas del bloque inferior derecho son una base del espacio de soluciones del sistema homogeneo Ax=0."
   ]
  }
 ],
 "metadata": {
  "kernelspec": {
   "display_name": "Python 3",
   "language": "python",
   "name": "python3"
  },
  "language_info": {
   "codemirror_mode": {
    "name": "ipython",
    "version": 3
   },
   "file_extension": ".py",
   "mimetype": "text/x-python",
   "name": "python",
   "nbconvert_exporter": "python",
   "pygments_lexer": "ipython3",
   "version": "3.5.3"
  },
  "name": "03_UsoLibreria.ipynb"
 },
 "nbformat": 4,
 "nbformat_minor": 2
}
