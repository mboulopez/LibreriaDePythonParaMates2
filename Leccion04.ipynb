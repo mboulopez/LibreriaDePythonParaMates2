{
 "cells": [
  {
   "cell_type": "markdown",
   "metadata": {
    "ein.tags": "worksheet-0",
    "slideshow": {
     "slide_type": "-"
    }
   },
   "source": [
    "$\n",
    "\\renewcommand{\\R}[1][{}]{{\\mathbb{R}}^{#1}}\n",
    "\\renewcommand{\\Z}[1][{}]{{\\mathbb{Z}}^{#1}}\n",
    "%%%%%%%%%%%%%%%%%%%%%%%%%%%%%%%%%%%%%%%%%%%%%%%%%%%%%%%%%%%%%%%%%%%%%%%%%%%%\n",
    "\\renewcommand{\\getitemR}[1]{\\getItem{#1}}\n",
    "\\renewcommand{\\getItem}{\\pmb{\\mid}}\n",
    "\\renewcommand{\\elemR}[2]{{#1}^{\\phantom{\\T}}_{\\getitemR{#2}}} \n",
    "\\renewcommand{\\elemRP}[2]{{\\big(#1\\big)}^{\\phantom{\\T}}_{\\getitemR{#2}}} \n",
    "\\renewcommand{\\elemRPE}[2]{\\big({#1}^{\\phantom{\\T}}_{\\getitemR{#2}}\\big)}\n",
    "%%%%%%%%%%%%%%%%%%%%%%%%%%%%%%%%%%%%%%%%%%%%%%%%%%%%%%%%%%%%%%%%%%%%%%%%%%%%\n",
    "\\renewcommand{\\Vect}[2][{}]{{\\boldsymbol{#2}}_{#1}}\n",
    "\\renewcommand{\\eleVR}[2]  {\\elemR  {\\Vect{#1}}{#2}}\t % con subindices\n",
    "\\renewcommand{\\eleVRP}[2] {\\elemRP {\\Vect{#1}}{#2}}      % con subindices y paréntesis interior\n",
    "\\renewcommand{\\eleVRPE}[2]{\\elemRPE{\\Vect{#1}}{#2}}      % con subindices y paréntesis exterior\n",
    "%%%%%%%%%%%%%%%%%%%%%%%%%%%%%%%%%%%%%%%%%%%%%%%%%%%%%%%%%%%%%%%%%%%%%%%%%%%%\n",
    "\\renewcommand{\\VectC}[2][{}]  {\\elemR  {\\Mat{#2}}{#1}}   % con subindices\n",
    "\\renewcommand{\\VectCP}[2][{}] {\\elemRP {\\Mat{#2}}{#1}}   % con subindices y paréntesis\n",
    "\\renewcommand{\\VectCPE}[2][{}]{\\elemRPE{\\Mat{#2}}{#1}}   % con subindices y paréntesis exterior\n",
    "%%%%%%%%%%%%%%%%%%%%%%%%%%%%%%%%%%%%%%%%%%%%%%%%%%%%%%%%%%%%%%%%%%%%%%%%%%%%\n",
    "\\renewcommand{\\mat}[1]{\\mathbf{#1}}\n",
    "\\renewcommand{\\Mat} [2][{}]{{\\mat{#2}}_{#1}} \n",
    "\\renewcommand{\\T}{\\intercal}\n",
    "\\renewcommand{\\MatT}[2][{}]{{\\mat{#2}}^{\\T}_{#1}}\n",
    "\\renewcommand{\\VectC}[2][{}]    {\\elemR  {\\Mat{#2}}{#1}}   % con subindices\n",
    "\\renewcommand{\\VectCP}[2][{}]   {\\elemRP  {\\Mat{#2}}{#1}}   % con subindices y paréntesis\n",
    "\\renewcommand{\\VectCPE}[2][{}]  {\\elemRPE  {\\Mat{#2}}{#1}}   % con subindices y paréntesis exterior\n",
    "\\renewcommand{\\VectCC}[2][{}]   {\\elemRR {\\Mat{#2}}{#1}}   % con ()\n",
    "\\renewcommand{\\VectCCC}[2][{}]  {\\elemRRR{\\Mat{#2}}{#1}}   % con texto \"col\"\n",
    "%SELECCIÓNA de FILAS y COlUMNAS DE UNA MATRIZ TRANSPUESTA PARA GENERAR UN VECTOR DE Rn\n",
    "\\renewcommand{\\VectTC}[2][{}]   {\\elemR{\\MatT{#2}\\!}{#1}}  % con subindices\n",
    "\\renewcommand{\\VectTCC}[2][{}]  {\\elemRR{ \\MatT{#2}}{#1}}  % con ()\n",
    "\\renewcommand{\\VectTCCC}[2][{}] {\\elemRRR{\\MatT{#2}}{#1}}  % con texto \"col\"\n",
    "$"
   ]
  },
  {
   "cell_type": "markdown",
   "metadata": {
    "ein.tags": "worksheet-0",
    "slideshow": {
     "slide_type": "-"
    }
   },
   "source": [
    "${\\huge\\text{Jupyter notebook de la Lección 4}}$"
   ]
  },
  {
   "cell_type": "markdown",
   "metadata": {
    "ein.tags": "worksheet-0",
    "slideshow": {
     "slide_type": "-"
    }
   },
   "source": [
    "**Índice de contenidos de este notebook** (Requiere ejecutar todo el Notebook para que aparezca el índice)\n",
    "<div id=\"toc\"></div>"
   ]
  },
  {
   "cell_type": "code",
   "execution_count": 1,
   "metadata": {
    "autoscroll": false,
    "collapsed": true,
    "ein.hycell": false,
    "ein.tags": "worksheet-0",
    "slideshow": {
     "slide_type": "-"
    }
   },
   "outputs": [],
   "source": [
    "from notacion import *"
   ]
  },
  {
   "cell_type": "markdown",
   "metadata": {
    "ein.tags": "worksheet-0",
    "slideshow": {
     "slide_type": "-"
    }
   },
   "source": [
    "# Transformaciones elementales\n",
    "\n",
    "Consideraremos dos tipos de transformaciones elementales que\n",
    "denotaremos con tuplas. Para indicar que una tupla es una abreviatura\n",
    "de una transformación elemental, la escribiremos como argumento de la\n",
    "clase `T`.\n",
    "\n",
    "__Tipo I:__ Las transformaciones elementales del primer tipo suman $a$\n",
    "veces el vector $i$-ésimo al vector $j$-ésimo:\n",
    "\n",
    "$$\n",
    "\\underset{\\left[\\left(a\\right)\\mathbf{i}+\\mathbf{j}\n",
    "\\right]}{\\mathbf{\\tau}}\n",
    "$$\n",
    "\n",
    "denotaremos estas transformaciones con una tupla de tres componentes:\n",
    "`T( (a, i, j) )`.\n",
    "\n",
    "Por ejemplo, la abreviatura de la transformación elemental que suma 3\n",
    "veces el vector segundo al vector primero se escribe"
   ]
  },
  {
   "cell_type": "code",
   "execution_count": 2,
   "metadata": {
    "autoscroll": false,
    "collapsed": false,
    "ein.hycell": false,
    "ein.tags": "worksheet-0",
    "slideshow": {
     "slide_type": "-"
    }
   },
   "outputs": [
    {
     "data": {
      "text/html": [
       "<p style=\"text-align:center;\">$\\underset{\\left[\\left(3\\right)\\mathbf{2}+\\mathbf{1} \\right]}{\\mathbf{\\tau}}$</p>"
      ],
      "text/plain": [
       "T((3, 2, 1))"
      ]
     },
     "execution_count": 2,
     "metadata": {},
     "output_type": "execute_result"
    }
   ],
   "source": [
    "T( (3, 2, 1) )"
   ]
  },
  {
   "cell_type": "markdown",
   "metadata": {
    "ein.tags": "worksheet-0",
    "slideshow": {
     "slide_type": "-"
    }
   },
   "source": [
    "Fíjese que el índice del vector modificado aparece en último lugar;\n",
    "que a dicho vector se le suma un múltiplo de otro vector, cuyo índice\n",
    "apare en segundo lugar; y que el coeficiente por el que se multiplica\n",
    "aparece en primer lugar."
   ]
  },
  {
   "cell_type": "markdown",
   "metadata": {
    "ein.tags": "worksheet-0",
    "slideshow": {
     "slide_type": "-"
    }
   },
   "source": [
    "__Tipo II:__ Las Transformaciones Elementales de segundo tipo\n",
    "multiplican el vector $j$-ésimo por un número $a$.\n",
    "\n",
    "$$\n",
    "\\underset{\\left[\\left(a\\right)\\mathbf{j}\\right]}{\\mathbf{\\tau}}\n",
    "$$\n",
    "\n",
    "denotaremos estas transformaciones con una tupla de dos componentes:\n",
    "`T( (a, j) )`.\n",
    "\n",
    "Por ejemplo, la transformación elemental que multiplica por 5 al\n",
    "segundo vector se escribe"
   ]
  },
  {
   "cell_type": "code",
   "execution_count": 3,
   "metadata": {
    "autoscroll": false,
    "collapsed": false,
    "ein.hycell": false,
    "ein.tags": "worksheet-0",
    "slideshow": {
     "slide_type": "-"
    }
   },
   "outputs": [
    {
     "data": {
      "text/html": [
       "<p style=\"text-align:center;\">$\\underset{\\left[\\left(5\\right)\\mathbf{2}\\right]}{\\mathbf{\\tau}}$</p>"
      ],
      "text/plain": [
       "T((5, 2))"
      ]
     },
     "execution_count": 3,
     "metadata": {},
     "output_type": "execute_result"
    }
   ],
   "source": [
    "T( (5, 2) )"
   ]
  },
  {
   "cell_type": "markdown",
   "metadata": {
    "ein.tags": "worksheet-0",
    "slideshow": {
     "slide_type": "-"
    }
   },
   "source": [
    "Nuevamente, el índice del vector modificado aparece en último lugar, y\n",
    "el coeficiente por el que se multiplica aparece en primer lugar."
   ]
  },
  {
   "cell_type": "markdown",
   "metadata": {
    "ein.tags": "worksheet-0",
    "slideshow": {
     "slide_type": "-"
    }
   },
   "source": [
    "## Sucesión de transformaciones elementales\n",
    "\n",
    "Es posible combinar una sucesión de transformaciones elementales; por\n",
    "ejemplo una combinación de las dos transformaciones anteriores\n",
    "$$\n",
    "\\underset{\\begin{subarray}{c} \\left[\\left(a\\right)\\mathbf\n",
    "{j}\\right]\\\\\\left[\\left(b\\right)\\mathbf{p}+\\mathbf{q} \\right]\\end\n",
    "{subarray}}{\\mathbf{\\tau}}\n",
    "$$\n",
    "en este caso, el argumento de la clase `T` debe ser una lista de\n",
    "abreviaturas.\n",
    "\n",
    "Por ejemplo, podemos combinar las dos transformaciones de más arriba"
   ]
  },
  {
   "cell_type": "code",
   "execution_count": 4,
   "metadata": {
    "autoscroll": false,
    "collapsed": false,
    "ein.hycell": false,
    "ein.tags": "worksheet-0",
    "slideshow": {
     "slide_type": "-"
    }
   },
   "outputs": [
    {
     "data": {
      "text/html": [
       "<p style=\"text-align:center;\">$\\underset{\\begin{subarray}{c} \\left[\\left(3\\right)\\mathbf{2}+\\mathbf{1} \\right]\\\\\\left[\\left(5\\right)\\mathbf{2}\\right]\\end{subarray}}{\\mathbf{\\tau}}$</p>"
      ],
      "text/plain": [
       "T([(3, 2, 1), (5, 2)])"
      ]
     },
     "execution_count": 4,
     "metadata": {},
     "output_type": "execute_result"
    }
   ],
   "source": [
    "T( [(3, 2, 1), (5, 2)] )"
   ]
  },
  {
   "cell_type": "markdown",
   "metadata": {
    "ein.tags": "worksheet-0",
    "slideshow": {
     "slide_type": "-"
    }
   },
   "source": [
    "# Transformaciones elementales de las filas o las columnas de una matriz\n",
    "## Transformaciones de las columnas\n",
    "\n",
    "Cuando aplicamos una transformación elemental por la derecha de una\n",
    "matriz, modificamos sus columnas. La actuación de una transformación\n",
    "elemental se indica con el símbolo `&`\n",
    "\n",
    "Por ejemplo, considere la matriz $\\Mat{A}$ "
   ]
  },
  {
   "cell_type": "code",
   "execution_count": 5,
   "metadata": {
    "autoscroll": false,
    "collapsed": false,
    "ein.hycell": false,
    "ein.tags": "worksheet-0",
    "slideshow": {
     "slide_type": "-"
    }
   },
   "outputs": [
    {
     "data": {
      "text/html": [
       "<p style=\"text-align:center;\">$\\begin{bmatrix}1&0&-2\\\\2&3&2\\end{bmatrix}$</p>"
      ],
      "text/plain": [
       "Matrix([Vector([1, 2]), Vector([0, 3]), Vector([-2, 2])])"
      ]
     },
     "execution_count": 5,
     "metadata": {},
     "output_type": "execute_result"
    }
   ],
   "source": [
    "A=Matrix([Vector((1,2)), Vector((0,3)), Vector((-2,2))])\n",
    "A"
   ]
  },
  {
   "cell_type": "markdown",
   "metadata": {
    "ein.tags": "worksheet-0",
    "slideshow": {
     "slide_type": "-"
    }
   },
   "source": [
    "vamos a sumar el doble de la primera columna de $\\Mat{A}$ a su tercera\n",
    "columna."
   ]
  },
  {
   "cell_type": "code",
   "execution_count": 6,
   "metadata": {
    "autoscroll": false,
    "collapsed": false,
    "ein.hycell": false,
    "ein.tags": "worksheet-0",
    "slideshow": {
     "slide_type": "-"
    }
   },
   "outputs": [
    {
     "data": {
      "text/html": [
       "<p style=\"text-align:center;\">$\\begin{bmatrix}1&0&0\\\\2&3&6\\end{bmatrix}$</p>"
      ],
      "text/plain": [
       "Matrix([Vector([1, 2]), Vector([0, 3]), Vector([0, 6])])"
      ]
     },
     "execution_count": 6,
     "metadata": {},
     "output_type": "execute_result"
    }
   ],
   "source": [
    "A & T( (2,1,3) )"
   ]
  },
  {
   "cell_type": "markdown",
   "metadata": {
    "ein.tags": "worksheet-0",
    "slideshow": {
     "slide_type": "-"
    }
   },
   "source": [
    "Cuando aplicamos una transformación elemental sobre una matriz,\n",
    "modificamos la matriz. Así que ahora la matriz $\\Mat{A}$ ha cambiado:"
   ]
  },
  {
   "cell_type": "code",
   "execution_count": 7,
   "metadata": {
    "autoscroll": false,
    "collapsed": false,
    "ein.hycell": false,
    "ein.tags": "worksheet-0",
    "slideshow": {
     "slide_type": "-"
    }
   },
   "outputs": [
    {
     "data": {
      "text/html": [
       "<p style=\"text-align:center;\">$\\begin{bmatrix}1&0&0\\\\2&3&6\\end{bmatrix}$</p>"
      ],
      "text/plain": [
       "Matrix([Vector([1, 2]), Vector([0, 3]), Vector([0, 6])])"
      ]
     },
     "execution_count": 7,
     "metadata": {},
     "output_type": "execute_result"
    }
   ],
   "source": [
    "A"
   ]
  },
  {
   "cell_type": "markdown",
   "metadata": {
    "ein.tags": "worksheet-0",
    "slideshow": {
     "slide_type": "-"
    }
   },
   "source": [
    "Si queremos aplicar transformaciones sobre una matriz y no perder la\n",
    "matriz original, necesitamos hacer una copia. Por ejemplo, definamos\n",
    "la siguiente matriz $\\Mat{A}$"
   ]
  },
  {
   "cell_type": "code",
   "execution_count": 8,
   "metadata": {
    "autoscroll": false,
    "collapsed": false,
    "ein.hycell": false,
    "ein.tags": "worksheet-0",
    "slideshow": {
     "slide_type": "-"
    }
   },
   "outputs": [
    {
     "data": {
      "text/html": [
       "<p style=\"text-align:center;\">$\\begin{bmatrix}1&1&-2\\\\1&-2&1\\\\-2&1&1\\end{bmatrix}$</p>"
      ],
      "text/plain": [
       "Matrix([Vector([1, 1, -2]), Vector([1, -2, 1]), Vector([-2, 1, 1])])"
      ]
     },
     "execution_count": 8,
     "metadata": {},
     "output_type": "execute_result"
    }
   ],
   "source": [
    "x = Vector((1, 1, -2)); y = Vector((1, -2, 1)); z = Vector((-2, 1, 1))\n",
    "A = Matrix([x,y,z])\n",
    "A"
   ]
  },
  {
   "cell_type": "markdown",
   "metadata": {
    "ein.tags": "worksheet-0",
    "slideshow": {
     "slide_type": "-"
    }
   },
   "source": [
    "y hagamos una copia (con `Matrix(A)`) a la que aplicaremos un par de\n",
    "transformaciones"
   ]
  },
  {
   "cell_type": "code",
   "execution_count": 9,
   "metadata": {
    "autoscroll": false,
    "collapsed": false,
    "ein.hycell": false,
    "ein.tags": "worksheet-0",
    "slideshow": {
     "slide_type": "-"
    }
   },
   "outputs": [
    {
     "data": {
      "text/html": [
       "<p style=\"text-align:center;\">$\\begin{bmatrix}1&5&0\\\\1&-10&3\\\\-2&5&-3\\end{bmatrix}$</p>"
      ],
      "text/plain": [
       "Matrix([Vector([1, 1, -2]), Vector([5, -10, 5]), Vector([0, 3, -3])])"
      ]
     },
     "execution_count": 9,
     "metadata": {},
     "output_type": "execute_result"
    }
   ],
   "source": [
    "B = Matrix(A)\n",
    "B & T( (2,1,3) ) & T( (5, 2) )"
   ]
  },
  {
   "cell_type": "markdown",
   "metadata": {
    "ein.tags": "worksheet-0",
    "slideshow": {
     "slide_type": "-"
    }
   },
   "source": [
    "## Composición de transformaciones elementales\n",
    "\n",
    "Si aplicamos una transformación elemental a otra transformación\n",
    "elemental, logramos una transformación que es la composición de\n",
    "ambas. Por ejemplo"
   ]
  },
  {
   "cell_type": "code",
   "execution_count": 10,
   "metadata": {
    "autoscroll": false,
    "collapsed": false,
    "ein.hycell": false,
    "ein.tags": "worksheet-0",
    "slideshow": {
     "slide_type": "-"
    }
   },
   "outputs": [
    {
     "data": {
      "text/html": [
       "<p style=\"text-align:center;\">$\\underset{\\begin{subarray}{c} \\left[\\left(2\\right)\\mathbf{1}+\\mathbf{3} \\right]\\\\\\left[\\left(5\\right)\\mathbf{2}\\right]\\end{subarray}}{\\mathbf{\\tau}}$</p>"
      ],
      "text/plain": [
       "T([(2, 1, 3), (5, 2)])"
      ]
     },
     "execution_count": 10,
     "metadata": {},
     "output_type": "execute_result"
    }
   ],
   "source": [
    "z = T( (2,1,3) ) & T( (5, 2) )\n",
    "z"
   ]
  },
  {
   "cell_type": "markdown",
   "metadata": {
    "ein.tags": "worksheet-0",
    "slideshow": {
     "slide_type": "-"
    }
   },
   "source": [
    "si aplicamos `z` a una copia de `A`, obtendremos el mismo resultado\n",
    "que obtuvimos más arriba"
   ]
  },
  {
   "cell_type": "code",
   "execution_count": 11,
   "metadata": {
    "autoscroll": false,
    "collapsed": false,
    "ein.hycell": false,
    "ein.tags": "worksheet-0",
    "slideshow": {
     "slide_type": "-"
    }
   },
   "outputs": [
    {
     "data": {
      "text/html": [
       "<p style=\"text-align:center;\">$\\begin{bmatrix}1&5&0\\\\1&-10&3\\\\-2&5&-3\\end{bmatrix}$</p>"
      ],
      "text/plain": [
       "Matrix([Vector([1, 1, -2]), Vector([5, -10, 5]), Vector([0, 3, -3])])"
      ]
     },
     "execution_count": 11,
     "metadata": {},
     "output_type": "execute_result"
    }
   ],
   "source": [
    "C = Matrix(A)\n",
    "C & z"
   ]
  },
  {
   "cell_type": "markdown",
   "metadata": {
    "ein.tags": "worksheet-0",
    "slideshow": {
     "slide_type": "-"
    }
   },
   "source": [
    "Los objetos de la clase `T` poseen un atributo `t`, donde se almacena\n",
    "el listado de abreviaturas. Por ejemplo, en el atributo `t` de de `z`\n",
    "aparece el listado con las transformaciones aplicadas más arriba:"
   ]
  },
  {
   "cell_type": "code",
   "execution_count": 12,
   "metadata": {
    "autoscroll": false,
    "collapsed": false,
    "ein.hycell": false,
    "ein.tags": "worksheet-0",
    "slideshow": {
     "slide_type": "-"
    }
   },
   "outputs": [
    {
     "data": {
      "text/plain": [
       "[(2, 1, 3), (5, 2)]"
      ]
     },
     "execution_count": 12,
     "metadata": {},
     "output_type": "execute_result"
    }
   ],
   "source": [
    "z.t"
   ]
  },
  {
   "cell_type": "markdown",
   "metadata": {
    "ein.tags": "worksheet-0",
    "slideshow": {
     "slide_type": "-"
    }
   },
   "source": [
    "### Intercambios\n",
    "\n",
    "Hay múltiples combinaciones de transformaciones elementales que logran\n",
    "intercambiar de posición dos vectores. La siguiente es un ejemplo de\n",
    "secuencia que intercambia los vectores primero y tercero:"
   ]
  },
  {
   "cell_type": "code",
   "execution_count": 13,
   "metadata": {
    "autoscroll": false,
    "collapsed": false,
    "ein.hycell": false,
    "ein.tags": "worksheet-0",
    "slideshow": {
     "slide_type": "-"
    }
   },
   "outputs": [
    {
     "data": {
      "text/html": [
       "<p style=\"text-align:center;\">$\\begin{bmatrix}-2&1&1\\\\1&-2&1\\\\1&1&-2\\end{bmatrix}$</p>"
      ],
      "text/plain": [
       "Matrix([Vector([-2, 1, 1]), Vector([1, -2, 1]), Vector([1, 1, -2])])"
      ]
     },
     "execution_count": 13,
     "metadata": {},
     "output_type": "execute_result"
    }
   ],
   "source": [
    "intercambio = T( [ (-1,3), (-1,3,1), (1,1,3), (-1,3,1) ] )\n",
    "Matrix(A) & intercambio"
   ]
  },
  {
   "cell_type": "markdown",
   "metadata": {
    "ein.tags": "worksheet-0",
    "slideshow": {
     "slide_type": "-"
    }
   },
   "source": [
    "Afortunadamente tenemos una forma más sencilla de realizar un\n",
    "intercambio. Usaremos un conjunto de dos índices como abreviatura para\n",
    "denotar el intercambio de los vectores indicados en el conjunto. Por\n",
    "ejemplo `T( {s, t} )` intercambia los vectores $s$-ésimo y $t$-ésimo:\n",
    "\n",
    "$$\n",
    "\\underset{\\left[\\mathbf{s}\\rightleftharpoons\\mathbf{t}\\right]}{\\mathbf{\\tau}}\n",
    "$$\n",
    "\n",
    "Así, para intercambiar las columnas primera y tercera de una copia de\n",
    "`A` basta con escribir"
   ]
  },
  {
   "cell_type": "code",
   "execution_count": 14,
   "metadata": {
    "autoscroll": false,
    "collapsed": false,
    "ein.hycell": false,
    "ein.tags": "worksheet-0",
    "slideshow": {
     "slide_type": "-"
    }
   },
   "outputs": [
    {
     "data": {
      "text/html": [
       "<p style=\"text-align:center;\">$\\begin{bmatrix}-2&1&1\\\\1&-2&1\\\\1&1&-2\\end{bmatrix}$</p>"
      ],
      "text/plain": [
       "Matrix([Vector([-2, 1, 1]), Vector([1, -2, 1]), Vector([1, 1, -2])])"
      ]
     },
     "execution_count": 14,
     "metadata": {},
     "output_type": "execute_result"
    }
   ],
   "source": [
    "Matrix(A) & T( {1,3} )"
   ]
  },
  {
   "cell_type": "markdown",
   "metadata": {
    "ein.tags": "worksheet-0",
    "slideshow": {
     "slide_type": "-"
    }
   },
   "source": [
    "## Transformaciones de las filas\n",
    "\n",
    "Para transformar las filas, las transformaciones elementales deben\n",
    "actuar por la izquierda de la matriz.\n",
    "\n",
    "Por ejemplo, podemos intercabiar las dos primeras filas `C` del\n",
    "siguiente modo"
   ]
  },
  {
   "cell_type": "code",
   "execution_count": 15,
   "metadata": {
    "autoscroll": false,
    "collapsed": false,
    "ein.hycell": false,
    "ein.tags": "worksheet-0",
    "slideshow": {
     "slide_type": "-"
    }
   },
   "outputs": [
    {
     "data": {
      "text/html": [
       "<p style=\"text-align:center;\">$\\begin{bmatrix}1&-10&3\\\\1&5&0\\\\-2&5&-3\\end{bmatrix}$</p>"
      ],
      "text/plain": [
       "Matrix([Vector([1, 1, -2]), Vector([-10, 5, 5]), Vector([3, 0, -3])])"
      ]
     },
     "execution_count": 15,
     "metadata": {},
     "output_type": "execute_result"
    }
   ],
   "source": [
    "T( {1,2} ) & C"
   ]
  },
  {
   "cell_type": "markdown",
   "metadata": {
    "ein.tags": "worksheet-0",
    "slideshow": {
     "slide_type": "-"
    }
   },
   "source": [
    "Si el conjunto solo contiene un índice, el intercambio no hace nada"
   ]
  },
  {
   "cell_type": "code",
   "execution_count": 16,
   "metadata": {
    "autoscroll": false,
    "collapsed": false,
    "ein.hycell": false,
    "ein.tags": "worksheet-0",
    "slideshow": {
     "slide_type": "-"
    }
   },
   "outputs": [
    {
     "data": {
      "text/html": [
       "<p style=\"text-align:center;\">$\\begin{bmatrix}1&-10&3\\\\1&5&0\\\\-2&5&-3\\end{bmatrix}$</p>"
      ],
      "text/plain": [
       "Matrix([Vector([1, 1, -2]), Vector([-10, 5, 5]), Vector([3, 0, -3])])"
      ]
     },
     "execution_count": 16,
     "metadata": {},
     "output_type": "execute_result"
    }
   ],
   "source": [
    "T( {1,1} ) & C"
   ]
  },
  {
   "cell_type": "markdown",
   "metadata": {
    "ein.tags": "worksheet-0",
    "slideshow": {
     "slide_type": "-"
    }
   },
   "source": [
    "Tenga en cuenta que cuando actuan varias transformaciones por la\n",
    "izquierda, las primeras en actuar son las más próximas a la matriz;\n",
    "así, tanto"
   ]
  },
  {
   "cell_type": "code",
   "execution_count": 17,
   "metadata": {
    "autoscroll": false,
    "collapsed": false,
    "ein.hycell": false,
    "ein.tags": "worksheet-0",
    "slideshow": {
     "slide_type": "-"
    }
   },
   "outputs": [
    {
     "data": {
      "text/html": [
       "<p style=\"text-align:center;\">$\\begin{bmatrix}2&-4&2\\\\1&1&-2\\\\-2&1&1\\end{bmatrix}$</p>"
      ],
      "text/plain": [
       "Matrix([Vector([2, 1, -2]), Vector([-4, 1, 1]), Vector([2, -2, 1])])"
      ]
     },
     "execution_count": 17,
     "metadata": {},
     "output_type": "execute_result"
    }
   ],
   "source": [
    "T({1,2}) & T((2,2)) & Matrix(A)"
   ]
  },
  {
   "cell_type": "markdown",
   "metadata": {
    "ein.tags": "worksheet-0",
    "slideshow": {
     "slide_type": "-"
    }
   },
   "source": [
    "como"
   ]
  },
  {
   "cell_type": "code",
   "execution_count": 18,
   "metadata": {
    "autoscroll": false,
    "collapsed": false,
    "ein.hycell": false,
    "ein.tags": "worksheet-0",
    "slideshow": {
     "slide_type": "-"
    }
   },
   "outputs": [
    {
     "data": {
      "text/html": [
       "<p style=\"text-align:center;\">$\\begin{bmatrix}2&-4&2\\\\1&1&-2\\\\-2&1&1\\end{bmatrix}$</p>"
      ],
      "text/plain": [
       "Matrix([Vector([2, 1, -2]), Vector([-4, 1, 1]), Vector([2, -2, 1])])"
      ]
     },
     "execution_count": 18,
     "metadata": {},
     "output_type": "execute_result"
    }
   ],
   "source": [
    "T([ {1,2}, (2,2) ]) & Matrix(A)"
   ]
  },
  {
   "cell_type": "markdown",
   "metadata": {
    "ein.tags": "worksheet-0",
    "slideshow": {
     "slide_type": "-"
    }
   },
   "source": [
    "es equivalente a (y fíjese en los paréntesis)"
   ]
  },
  {
   "cell_type": "code",
   "execution_count": 19,
   "metadata": {
    "autoscroll": false,
    "collapsed": false,
    "ein.hycell": false,
    "ein.tags": "worksheet-0",
    "slideshow": {
     "slide_type": "-"
    }
   },
   "outputs": [
    {
     "data": {
      "text/html": [
       "<p style=\"text-align:center;\">$\\begin{bmatrix}2&-4&2\\\\1&1&-2\\\\-2&1&1\\end{bmatrix}$</p>"
      ],
      "text/plain": [
       "Matrix([Vector([2, 1, -2]), Vector([-4, 1, 1]), Vector([2, -2, 1])])"
      ]
     },
     "execution_count": 19,
     "metadata": {},
     "output_type": "execute_result"
    }
   ],
   "source": [
    "T({1,2}) & ( T((2,2)) & Matrix(A) )"
   ]
  },
  {
   "cell_type": "markdown",
   "metadata": {
    "ein.tags": "worksheet-0",
    "slideshow": {
     "slide_type": "-"
    }
   },
   "source": [
    "es decir, primero se multipica por 2 la segunda fila (operación dentro\n",
    "del paréntesis) y luego se intercambian las dos primeras filas."
   ]
  },
  {
   "cell_type": "markdown",
   "metadata": {
    "ein.tags": "worksheet-0",
    "slideshow": {
     "slide_type": "-"
    }
   },
   "source": [
    "## Transformaciones de las filas y de las columnas\n",
    "\n",
    "Si tenemos transformaciones actuando a izquierda y derecha,\n",
    "modificamos las filas y las columnas a la vez"
   ]
  },
  {
   "cell_type": "code",
   "execution_count": 20,
   "metadata": {
    "autoscroll": false,
    "collapsed": false,
    "ein.hycell": false,
    "ein.tags": "worksheet-0",
    "slideshow": {
     "slide_type": "-"
    }
   },
   "outputs": [
    {
     "data": {
      "text/html": [
       "<p style=\"text-align:center;\">$\\begin{bmatrix}20&14&-4\\\\10&-5&1\\\\-20&-2&1\\end{bmatrix}$</p>"
      ],
      "text/plain": [
       "Matrix([Vector([20, 10, -20]), Vector([14, -5, -2]), Vector([-4, 1, 1])])"
      ]
     },
     "execution_count": 20,
     "metadata": {},
     "output_type": "execute_result"
    }
   ],
   "source": [
    "T( {1,2} ) & T( (2,2) ) & Matrix(A) & T( [(-3,2,3), (10,1), {2,3}] )"
   ]
  },
  {
   "cell_type": "markdown",
   "metadata": {
    "ein.tags": "worksheet-0",
    "slideshow": {
     "slide_type": "-"
    }
   },
   "source": [
    "# Matrices elementales, matrices intercambio y matrices permutación\n",
    "\n",
    "La aplicación de una _única_ transformación elemental sobre la matriz\n",
    "identidad da como resultado una matriz elemental.\n",
    "\n",
    "__Matrices elementales Tipo I__: Veamos como la aplicación de la\n",
    "transformación `T(-5,1,3)` sobre las _columnas_ de la matriz identidad\n",
    "de orden 4 nos da una matriz parecida a la identidad, salvo porque\n",
    "aparece un -5 en la posición (1,3)"
   ]
  },
  {
   "cell_type": "code",
   "execution_count": 21,
   "metadata": {
    "autoscroll": false,
    "collapsed": false,
    "ein.hycell": false,
    "ein.tags": "worksheet-0",
    "slideshow": {
     "slide_type": "-"
    }
   },
   "outputs": [
    {
     "data": {
      "text/html": [
       "<p style=\"text-align:center;\">$\\begin{bmatrix}1&0&-5&0\\\\0&1&0&0\\\\0&0&1&0\\\\0&0&0&1\\end{bmatrix}$</p>"
      ],
      "text/plain": [
       "Matrix([Vector([1, 0, 0, 0]), Vector([0, 1, 0, 0]), Vector([-5, 0, 1, 0]), Vector([0, 0, 0, 1])])"
      ]
     },
     "execution_count": 21,
     "metadata": {},
     "output_type": "execute_result"
    }
   ],
   "source": [
    "I(4) & T( (-5,1,3) )"
   ]
  },
  {
   "cell_type": "markdown",
   "metadata": {
    "ein.tags": "worksheet-0",
    "slideshow": {
     "slide_type": "-"
    }
   },
   "source": [
    "Pero la misma transformación elemental aplicada sobre las _filas_ de\n",
    "la matriz identidad nos da otra matriz elemental distinta: la versión\n",
    "transpuesta de la matriz elemental de más arriba:"
   ]
  },
  {
   "cell_type": "code",
   "execution_count": 22,
   "metadata": {
    "autoscroll": false,
    "collapsed": false,
    "ein.hycell": false,
    "ein.tags": "worksheet-0",
    "slideshow": {
     "slide_type": "-"
    }
   },
   "outputs": [
    {
     "data": {
      "text/html": [
       "<p style=\"text-align:center;\">$\\begin{bmatrix}1&0&0&0\\\\0&1&0&0\\\\-5&0&1&0\\\\0&0&0&1\\end{bmatrix}$</p>"
      ],
      "text/plain": [
       "Matrix([Vector([1, 0, -5, 0]), Vector([0, 1, 0, 0]), Vector([0, 0, 1, 0]), Vector([0, 0, 0, 1])])"
      ]
     },
     "execution_count": 22,
     "metadata": {},
     "output_type": "execute_result"
    }
   ],
   "source": [
    "T( (-5,1,3) ) & I(4)"
   ]
  },
  {
   "cell_type": "markdown",
   "metadata": {
    "ein.tags": "worksheet-0",
    "slideshow": {
     "slide_type": "-"
    }
   },
   "source": [
    "Por tanto, las transformaciones elementales de __Tipo I__ están\n",
    "asociadas a matrices elementales distintas en función de si actuan\n",
    "sobre las columnas (por la derecha) o sobre las filas (por la\n",
    "izquierda)"
   ]
  },
  {
   "cell_type": "markdown",
   "metadata": {
    "ein.tags": "worksheet-0",
    "slideshow": {
     "slide_type": "-"
    }
   },
   "source": [
    "__Matrices elementales Tipo II__: Y ahora veamos como la aplicación de\n",
    "la transformación `T(100,2)` sobre las _columnas_ de la matriz\n",
    "identidad de orden 3 nos da una matriz parecida a la identidad, salvo\n",
    "porque aparece un 100 en la segunda posición de la diagonal, i.e.,\n",
    "posición (2,2)"
   ]
  },
  {
   "cell_type": "code",
   "execution_count": 23,
   "metadata": {
    "autoscroll": false,
    "collapsed": false,
    "ein.hycell": false,
    "ein.tags": "worksheet-0",
    "slideshow": {
     "slide_type": "-"
    }
   },
   "outputs": [
    {
     "data": {
      "text/html": [
       "<p style=\"text-align:center;\">$\\begin{bmatrix}1&0&0\\\\0&100&0\\\\0&0&1\\end{bmatrix}$</p>"
      ],
      "text/plain": [
       "Matrix([Vector([1, 0, 0]), Vector([0, 100, 0]), Vector([0, 0, 1])])"
      ]
     },
     "execution_count": 23,
     "metadata": {},
     "output_type": "execute_result"
    }
   ],
   "source": [
    "I(3) & T( (100,2) )"
   ]
  },
  {
   "cell_type": "markdown",
   "metadata": {
    "ein.tags": "worksheet-0",
    "slideshow": {
     "slide_type": "-"
    }
   },
   "source": [
    "Las matrices elementales __Tipo II__ son simétricas, por lo que\n",
    "obtenemos identica matriz elemental cuando actuamos por la izquierda\n",
    "para transformar las filas de la matriz identidad"
   ]
  },
  {
   "cell_type": "code",
   "execution_count": 24,
   "metadata": {
    "autoscroll": false,
    "collapsed": false,
    "ein.hycell": false,
    "ein.tags": "worksheet-0",
    "slideshow": {
     "slide_type": "-"
    }
   },
   "outputs": [
    {
     "data": {
      "text/html": [
       "<p style=\"text-align:center;\">$\\begin{bmatrix}1&0&0\\\\0&100&0\\\\0&0&1\\end{bmatrix}$</p>"
      ],
      "text/plain": [
       "Matrix([Vector([1, 0, 0]), Vector([0, 100, 0]), Vector([0, 0, 1])])"
      ]
     },
     "execution_count": 24,
     "metadata": {},
     "output_type": "execute_result"
    }
   ],
   "source": [
    "T( (100,2) ) & I(3)"
   ]
  },
  {
   "cell_type": "markdown",
   "metadata": {
    "ein.tags": "worksheet-0",
    "slideshow": {
     "slide_type": "-"
    }
   },
   "source": [
    "Tenga en cuenta que la aplicación de una _sucesión_ de\n",
    "transformaciones elementales NO suele ser una matriz elemental"
   ]
  },
  {
   "cell_type": "code",
   "execution_count": 25,
   "metadata": {
    "autoscroll": false,
    "collapsed": false,
    "ein.hycell": false,
    "ein.tags": "worksheet-0",
    "slideshow": {
     "slide_type": "-"
    }
   },
   "outputs": [
    {
     "data": {
      "text/html": [
       "<p style=\"text-align:center;\">$\\begin{bmatrix}-9&-18&2\\\\0&5&0\\\\-5&-10&1\\end{bmatrix}$</p>"
      ],
      "text/plain": [
       "Matrix([Vector([-9, 0, -5]), Vector([-18, 5, -10]), Vector([2, 0, 1])])"
      ]
     },
     "execution_count": 25,
     "metadata": {},
     "output_type": "execute_result"
    }
   ],
   "source": [
    "I(3) & T( (2,1,3) ) & T( (5, 2) ) & T( (-5,3,1) ) & T ( (2,1,2) )"
   ]
  },
  {
   "cell_type": "markdown",
   "metadata": {
    "ein.tags": "worksheet-0",
    "slideshow": {
     "slide_type": "-"
    }
   },
   "source": [
    "__Matrices intercambio__: La aplicación de un _único_ intercambio\n",
    "entre las columnas (o entre las filas) de la matriz identidad da como\n",
    "resultado una matriz intercambio."
   ]
  },
  {
   "cell_type": "code",
   "execution_count": 26,
   "metadata": {
    "autoscroll": false,
    "collapsed": false,
    "ein.hycell": false,
    "ein.tags": "worksheet-0",
    "slideshow": {
     "slide_type": "-"
    }
   },
   "outputs": [
    {
     "data": {
      "text/html": [
       "<p style=\"text-align:center;\">$\\begin{bmatrix}1&0&0&0\\\\0&0&0&1\\\\0&0&1&0\\\\0&1&0&0\\end{bmatrix}$</p>"
      ],
      "text/plain": [
       "Matrix([Vector([1, 0, 0, 0]), Vector([0, 0, 0, 1]), Vector([0, 0, 1, 0]), Vector([0, 1, 0, 0])])"
      ]
     },
     "execution_count": 26,
     "metadata": {},
     "output_type": "execute_result"
    }
   ],
   "source": [
    "I(4) & T( {2,4} )"
   ]
  },
  {
   "cell_type": "code",
   "execution_count": 27,
   "metadata": {
    "autoscroll": false,
    "collapsed": false,
    "ein.hycell": false,
    "ein.tags": "worksheet-0",
    "slideshow": {
     "slide_type": "-"
    }
   },
   "outputs": [
    {
     "data": {
      "text/html": [
       "<p style=\"text-align:center;\">$\\begin{bmatrix}1&0&0&0\\\\0&0&0&1\\\\0&0&1&0\\\\0&1&0&0\\end{bmatrix}$</p>"
      ],
      "text/plain": [
       "Matrix([Vector([1, 0, 0, 0]), Vector([0, 0, 0, 1]), Vector([0, 0, 1, 0]), Vector([0, 1, 0, 0])])"
      ]
     },
     "execution_count": 27,
     "metadata": {},
     "output_type": "execute_result"
    }
   ],
   "source": [
    "T( {2,4} ) & I(4)"
   ]
  },
  {
   "cell_type": "markdown",
   "metadata": {
    "ein.tags": "worksheet-0",
    "slideshow": {
     "slide_type": "-"
    }
   },
   "source": [
    "__Matrices permutación__: La aplicación de una _sucesión_ de\n",
    "intercambios entre las columnas (y/o entre las filas) de la matriz\n",
    "identidad da como resultado una reordenación de las columnas de la\n",
    "matriz identidad que denominamos matriz permutación."
   ]
  },
  {
   "cell_type": "code",
   "execution_count": 28,
   "metadata": {
    "autoscroll": false,
    "collapsed": false,
    "ein.hycell": false,
    "ein.tags": "worksheet-0",
    "slideshow": {
     "slide_type": "-"
    }
   },
   "outputs": [
    {
     "data": {
      "text/html": [
       "<p style=\"text-align:center;\">$\\begin{bmatrix}0&0&0&1\\\\0&0&1&0\\\\0&1&0&0\\\\1&0&0&0\\end{bmatrix}$</p>"
      ],
      "text/plain": [
       "Matrix([Vector([0, 0, 0, 1]), Vector([0, 0, 1, 0]), Vector([0, 1, 0, 0]), Vector([1, 0, 0, 0])])"
      ]
     },
     "execution_count": 28,
     "metadata": {},
     "output_type": "execute_result"
    }
   ],
   "source": [
    "T( [ {1,2}, {3,4} ] ) & I(4) & T({3,1}) & T({2,4})"
   ]
  },
  {
   "cell_type": "markdown",
   "metadata": {
    "ein.tags": "worksheet-0",
    "slideshow": {
     "slide_type": "-"
    }
   },
   "source": [
    "## Producto de una matriz por una matriz elemental\n",
    "\n",
    "Compruebe con ejemplos que aplicar una transformación elemental sobre\n",
    "las columnas de una matriz es equivalente a multiplicar dicha matriz\n",
    "por la correspondiente matriz elemental; es decir, que $$\n",
    "{\\Mat{A}}_{\\mathbf{\\tau}}=\\Mat{A}\\big({\\Mat{I}}_{\\mathbf{\\tau}}\\big)\n",
    "$$"
   ]
  },
  {
   "cell_type": "code",
   "execution_count": 29,
   "metadata": {
    "autoscroll": false,
    "collapsed": false,
    "ein.hycell": false,
    "ein.tags": "worksheet-0",
    "slideshow": {
     "slide_type": "-"
    }
   },
   "outputs": [
    {
     "data": {
      "text/html": [
       "<p style=\"text-align:center;\">$\\begin{bmatrix}1&1&0\\\\1&-2&3\\\\-2&1&-3\\end{bmatrix}$</p>"
      ],
      "text/plain": [
       "Matrix([Vector([1, 1, -2]), Vector([1, -2, 1]), Vector([0, 3, -3])])"
      ]
     },
     "execution_count": 29,
     "metadata": {},
     "output_type": "execute_result"
    }
   ],
   "source": [
    "# Primero aplicamos la transformación sobre las columnas\n",
    "Matrix(A) & T( (2,1,3) )"
   ]
  },
  {
   "cell_type": "code",
   "execution_count": 30,
   "metadata": {
    "autoscroll": false,
    "collapsed": false,
    "ein.hycell": false,
    "ein.tags": "worksheet-0",
    "slideshow": {
     "slide_type": "-"
    }
   },
   "outputs": [
    {
     "data": {
      "text/html": [
       "<p style=\"text-align:center;\">$\\begin{bmatrix}1&1&0\\\\1&-2&3\\\\-2&1&-3\\end{bmatrix}$</p>"
      ],
      "text/plain": [
       "Matrix([Vector([1, 1, -2]), Vector([1, -2, 1]), Vector([0, 3, -3])])"
      ]
     },
     "execution_count": 30,
     "metadata": {},
     "output_type": "execute_result"
    }
   ],
   "source": [
    "# y ahora multiplicamos por la derecha por la correspondiente matriz elemental\n",
    "Matrix(A) * ( I(A.n) &  T((2,1,3)) )"
   ]
  },
  {
   "cell_type": "markdown",
   "metadata": {
    "ein.tags": "worksheet-0",
    "slideshow": {
     "slide_type": "-"
    }
   },
   "source": [
    "Compruebe que también ocurre actuado por la izquierda para transformar\n",
    "las filas. Primero aplicamos la trasformación sobre las filas"
   ]
  },
  {
   "cell_type": "code",
   "execution_count": 31,
   "metadata": {
    "autoscroll": false,
    "collapsed": false,
    "ein.hycell": false,
    "ein.tags": "worksheet-0",
    "slideshow": {
     "slide_type": "-"
    }
   },
   "outputs": [
    {
     "data": {
      "text/html": [
       "<p style=\"text-align:center;\">$\\begin{bmatrix}1&1&-2\\\\1&-2&1\\\\0&3&-3\\end{bmatrix}$</p>"
      ],
      "text/plain": [
       "Matrix([Vector([1, 1, 0]), Vector([1, -2, 3]), Vector([-2, 1, -3])])"
      ]
     },
     "execution_count": 31,
     "metadata": {},
     "output_type": "execute_result"
    }
   ],
   "source": [
    "# Primero aplicamos la transformación sobre las filas\n",
    "T( (2,1,3) ) & Matrix(A) "
   ]
  },
  {
   "cell_type": "code",
   "execution_count": 32,
   "metadata": {
    "autoscroll": false,
    "collapsed": false,
    "ein.hycell": false,
    "ein.tags": "worksheet-0",
    "slideshow": {
     "slide_type": "-"
    }
   },
   "outputs": [
    {
     "data": {
      "text/html": [
       "<p style=\"text-align:center;\">$\\begin{bmatrix}-3&3&0\\\\1&-2&1\\\\-2&1&1\\end{bmatrix}$</p>"
      ],
      "text/plain": [
       "Matrix([Vector([-3, 1, -2]), Vector([3, -2, 1]), Vector([0, 1, 1])])"
      ]
     },
     "execution_count": 32,
     "metadata": {},
     "output_type": "execute_result"
    }
   ],
   "source": [
    "# y ahora multiplicamos por la izquierda por la correspondiente matriz elemental\n",
    "( I(A.m) &  T((2,1,3)) ) * Matrix(A) \n"
   ]
  },
  {
   "cell_type": "markdown",
   "metadata": {
    "ein.tags": "worksheet-0",
    "slideshow": {
     "slide_type": "-"
    }
   },
   "source": [
    "## Las transformaciones son asociativas respecto al producto de matrices\n",
    "\n",
    "Compruebe con ejemplos que en general\n",
    "$$\n",
    "{\\big(\\Mat{A}\\Mat{B}\\big)}_{\\mathbf{\\tau}}=\\Mat{A}\\big({\\Mat{B}}_{\\mathbf{\\tau}}\\big)\n",
    "$$\n",
    "\n",
    "Recuerde hacer actuar sobre una copia de las matrices originales para\n",
    "que no cambien dichas matrices originales al aplicar las\n",
    "transformaciones elementales"
   ]
  },
  {
   "cell_type": "code",
   "execution_count": 33,
   "metadata": {
    "autoscroll": false,
    "collapsed": false,
    "ein.hycell": false,
    "ein.tags": "worksheet-0",
    "slideshow": {
     "slide_type": "-"
    }
   },
   "outputs": [
    {
     "data": {
      "text/html": [
       "<p style=\"text-align:center;\">$\\begin{bmatrix}81&-15&9\\\\-153&30&-9\\\\72&-15&0\\end{bmatrix}$</p>"
      ],
      "text/plain": [
       "Matrix([Vector([81, -153, 72]), Vector([-15, 30, -15]), Vector([9, -9, 0])])"
      ]
     },
     "execution_count": 33,
     "metadata": {},
     "output_type": "execute_result"
    }
   ],
   "source": [
    "# primero el lado izquierdo de la igualdad\n",
    "Matrix( A*B ) & T((-5,2,1))"
   ]
  },
  {
   "cell_type": "code",
   "execution_count": 34,
   "metadata": {
    "autoscroll": false,
    "collapsed": false,
    "ein.hycell": false,
    "ein.tags": "worksheet-0",
    "slideshow": {
     "slide_type": "-"
    }
   },
   "outputs": [
    {
     "data": {
      "text/html": [
       "<p style=\"text-align:center;\">$\\begin{bmatrix}81&-15&9\\\\-153&30&-9\\\\72&-15&0\\end{bmatrix}$</p>"
      ],
      "text/plain": [
       "Matrix([Vector([81, -153, 72]), Vector([-15, 30, -15]), Vector([9, -9, 0])])"
      ]
     },
     "execution_count": 34,
     "metadata": {},
     "output_type": "execute_result"
    }
   ],
   "source": [
    "# ahora el lado derecho de la igualdad\n",
    "A * ( Matrix(B) & T((-5,2,1)))"
   ]
  },
  {
   "cell_type": "markdown",
   "metadata": {
    "ein.tags": "worksheet-0",
    "slideshow": {
     "slide_type": "-"
    }
   },
   "source": [
    "Esto es cierto incluso cuando se aplica una sucesión de\n",
    "transformaciones elementales (y tanto si se transforman las filas como\n",
    "las columnas).\n",
    "\n",
    "Veamos un ejemplo de trasformación de las columnas:"
   ]
  },
  {
   "cell_type": "code",
   "execution_count": 35,
   "metadata": {
    "autoscroll": false,
    "collapsed": false,
    "ein.hycell": false,
    "ein.tags": "worksheet-0",
    "slideshow": {
     "slide_type": "-"
    }
   },
   "outputs": [
    {
     "data": {
      "text/html": [
       "<p style=\"text-align:center;\">$\\underset{\\begin{subarray}{c} \\left[\\left(2\\right)\\mathbf{1}+\\mathbf{3} \\right]\\\\\\left[\\left(5\\right)\\mathbf{2}\\right]\\\\\\left[\\left(-5\\right)\\mathbf{3}+\\mathbf{1} \\right]\\\\\\left[\\left(2\\right)\\mathbf{1}+\\mathbf{2} \\right]\\\\\\left[\\mathbf{2}\\rightleftharpoons\\mathbf{3}\\right]\\end{subarray}}{\\mathbf{\\tau}}$</p>"
      ],
      "text/plain": [
       "T([(2, 1, 3), (5, 2), (-5, 3, 1), (2, 1, 2), {2, 3}])"
      ]
     },
     "execution_count": 35,
     "metadata": {},
     "output_type": "execute_result"
    }
   ],
   "source": [
    "# definimos una sucesión de transformaciones elmentales\n",
    "st = T([(2, 1, 3), (5, 2), (-5, 3, 1), (2, 1, 2), {2,3}])\n",
    "st "
   ]
  },
  {
   "cell_type": "code",
   "execution_count": 36,
   "metadata": {
    "autoscroll": false,
    "collapsed": false,
    "ein.hycell": false,
    "ein.tags": "worksheet-0",
    "slideshow": {
     "slide_type": "-"
    }
   },
   "outputs": [
    {
     "data": {
      "text/html": [
       "<p style=\"text-align:center;\">$\\begin{bmatrix}-99&21&-273\\\\72&-15&294\\\\27&-6&-21\\end{bmatrix}$</p>"
      ],
      "text/plain": [
       "Matrix([Vector([-99, 72, 27]), Vector([21, -15, -6]), Vector([-273, 294, -21])])"
      ]
     },
     "execution_count": 36,
     "metadata": {},
     "output_type": "execute_result"
    }
   ],
   "source": [
    "Matrix( A*B ) & st"
   ]
  },
  {
   "cell_type": "code",
   "execution_count": 37,
   "metadata": {
    "autoscroll": false,
    "collapsed": false,
    "ein.hycell": false,
    "ein.tags": "worksheet-0",
    "slideshow": {
     "slide_type": "-"
    }
   },
   "outputs": [
    {
     "data": {
      "text/html": [
       "<p style=\"text-align:center;\">$\\begin{bmatrix}-99&21&-273\\\\72&-15&294\\\\27&-6&-21\\end{bmatrix}$</p>"
      ],
      "text/plain": [
       "Matrix([Vector([-99, 72, 27]), Vector([21, -15, -6]), Vector([-273, 294, -21])])"
      ]
     },
     "execution_count": 37,
     "metadata": {},
     "output_type": "execute_result"
    }
   ],
   "source": [
    "A * ( Matrix(B) & st)"
   ]
  },
  {
   "cell_type": "markdown",
   "metadata": {
    "ein.tags": "worksheet-0",
    "slideshow": {
     "slide_type": "-"
    }
   },
   "source": [
    "y ahora uno con las filas"
   ]
  },
  {
   "cell_type": "code",
   "execution_count": 38,
   "metadata": {
    "autoscroll": false,
    "collapsed": false,
    "ein.hycell": false,
    "ein.tags": "worksheet-0",
    "slideshow": {
     "slide_type": "-"
    }
   },
   "outputs": [
    {
     "data": {
      "text/html": [
       "<p style=\"text-align:center;\">$\\begin{bmatrix}21&-165&54\\\\45&-225&90\\\\39&-300&99\\end{bmatrix}$</p>"
      ],
      "text/plain": [
       "Matrix([Vector([21, 45, 39]), Vector([-165, -225, -300]), Vector([54, 90, 99])])"
      ]
     },
     "execution_count": 38,
     "metadata": {},
     "output_type": "execute_result"
    }
   ],
   "source": [
    "st & Matrix( A*B ) "
   ]
  },
  {
   "cell_type": "code",
   "execution_count": 39,
   "metadata": {
    "autoscroll": false,
    "collapsed": false,
    "ein.hycell": false,
    "ein.tags": "worksheet-0",
    "slideshow": {
     "slide_type": "-"
    }
   },
   "outputs": [
    {
     "data": {
      "text/html": [
       "<p style=\"text-align:center;\">$\\begin{bmatrix}21&-165&54\\\\45&-225&90\\\\39&-300&99\\end{bmatrix}$</p>"
      ],
      "text/plain": [
       "Matrix([Vector([21, 45, 39]), Vector([-165, -225, -300]), Vector([54, 90, 99])])"
      ]
     },
     "execution_count": 39,
     "metadata": {},
     "output_type": "execute_result"
    }
   ],
   "source": [
    "( st & Matrix(A) ) * B"
   ]
  },
  {
   "cell_type": "markdown",
   "metadata": {
    "ein.tags": "worksheet-0",
    "slideshow": {
     "slide_type": "-"
    }
   },
   "source": [
    "# Las transformaciones elementales son operadores lineales\n",
    "\n",
    "## Propiedad asociativa\n",
    "\n",
    "Compruebe con ejemplos que en general\n",
    "$$\n",
    "{\\big(\\lambda\\Mat{B}\\big)}_{\\mathbf{\\tau}}=\\lambda\\big({\\Mat{B}}_{\\mathbf{\\tau}}\\big)\n",
    "$$\n",
    "\n",
    "Recuerde hacer actuar sobre una copia de las matrices originales para\n",
    "que no cambien dichas matrices originales al aplicar las\n",
    "transformaciones elementales"
   ]
  },
  {
   "cell_type": "code",
   "execution_count": 40,
   "metadata": {
    "autoscroll": false,
    "collapsed": false,
    "ein.hycell": false,
    "ein.tags": "worksheet-0",
    "slideshow": {
     "slide_type": "-"
    }
   },
   "outputs": [
    {
     "data": {
      "text/html": [
       "<p style=\"text-align:center;\">$\\begin{bmatrix}5&0&35\\\\-70&15&-190\\\\65&-15&155\\end{bmatrix}$</p>"
      ],
      "text/plain": [
       "Matrix([Vector([5, -70, 65]), Vector([0, 15, -15]), Vector([35, -190, 155])])"
      ]
     },
     "execution_count": 40,
     "metadata": {},
     "output_type": "execute_result"
    }
   ],
   "source": [
    "# primero el lado izquierdo de la igualdad\n",
    "5*( Matrix(A) & st )"
   ]
  },
  {
   "cell_type": "code",
   "execution_count": 41,
   "metadata": {
    "autoscroll": false,
    "collapsed": false,
    "ein.hycell": false,
    "ein.tags": "worksheet-0",
    "slideshow": {
     "slide_type": "-"
    }
   },
   "outputs": [
    {
     "data": {
      "text/html": [
       "<p style=\"text-align:center;\">$\\begin{bmatrix}5&0&35\\\\-70&15&-190\\\\65&-15&155\\end{bmatrix}$</p>"
      ],
      "text/plain": [
       "Matrix([Vector([5, -70, 65]), Vector([0, 15, -15]), Vector([35, -190, 155])])"
      ]
     },
     "execution_count": 41,
     "metadata": {},
     "output_type": "execute_result"
    }
   ],
   "source": [
    "# y luego el lado derecho\n",
    "( 5*Matrix(A) ) & st"
   ]
  },
  {
   "cell_type": "markdown",
   "metadata": {
    "ein.tags": "worksheet-0",
    "slideshow": {
     "slide_type": "-"
    }
   },
   "source": [
    "Compruebe que también es cierto cuando se transforman las filas"
   ]
  },
  {
   "cell_type": "code",
   "execution_count": null,
   "metadata": {
    "autoscroll": false,
    "collapsed": true,
    "ein.hycell": false,
    "ein.tags": "worksheet-0",
    "slideshow": {
     "slide_type": "-"
    }
   },
   "outputs": [],
   "source": []
  },
  {
   "cell_type": "code",
   "execution_count": null,
   "metadata": {
    "autoscroll": false,
    "collapsed": true,
    "ein.hycell": false,
    "ein.tags": "worksheet-0",
    "slideshow": {
     "slide_type": "-"
    }
   },
   "outputs": [],
   "source": []
  },
  {
   "cell_type": "markdown",
   "metadata": {
    "ein.tags": "worksheet-0",
    "slideshow": {
     "slide_type": "-"
    }
   },
   "source": [
    "## Propiedad distributiva\n",
    "\n",
    "Compruebe con ejemplos que en general\n",
    "$$\n",
    "{\\big(\\Mat{A}+\\Mat{B}\\big)}_{\\mathbf{\\tau}}={\\Mat{A}}_{\\mathbf{\\tau}} + {\\Mat{B}}_{\\mathbf{\\tau}}\n",
    "$$"
   ]
  },
  {
   "cell_type": "code",
   "execution_count": 42,
   "metadata": {
    "autoscroll": false,
    "collapsed": false,
    "ein.hycell": false,
    "ein.tags": "worksheet-0",
    "slideshow": {
     "slide_type": "-"
    }
   },
   "outputs": [
    {
     "data": {
      "text/html": [
       "<p style=\"text-align:center;\">$\\begin{bmatrix}-8&2&14\\\\-38&8&-136\\\\46&-10&122\\end{bmatrix}$</p>"
      ],
      "text/plain": [
       "Matrix([Vector([-8, -38, 46]), Vector([2, 8, -10]), Vector([14, -136, 122])])"
      ]
     },
     "execution_count": 42,
     "metadata": {},
     "output_type": "execute_result"
    }
   ],
   "source": [
    "# primero el lado izquierdo de la igualdad\n",
    "Matrix( A + B ) & st"
   ]
  },
  {
   "cell_type": "code",
   "execution_count": 43,
   "metadata": {
    "autoscroll": false,
    "collapsed": false,
    "ein.hycell": false,
    "ein.tags": "worksheet-0",
    "slideshow": {
     "slide_type": "-"
    }
   },
   "outputs": [
    {
     "data": {
      "text/html": [
       "<p style=\"text-align:center;\">$\\begin{bmatrix}-8&2&14\\\\-38&8&-136\\\\46&-10&122\\end{bmatrix}$</p>"
      ],
      "text/plain": [
       "Matrix([Vector([-8, -38, 46]), Vector([2, 8, -10]), Vector([14, -136, 122])])"
      ]
     },
     "execution_count": 43,
     "metadata": {},
     "output_type": "execute_result"
    }
   ],
   "source": [
    "# y luego el lado derecho de la igualdad\n",
    "( Matrix(A) & st ) + ( Matrix(B) & st )"
   ]
  },
  {
   "cell_type": "markdown",
   "metadata": {
    "ein.tags": "worksheet-0",
    "slideshow": {
     "slide_type": "-"
    }
   },
   "source": [
    "Esto también es cierto con las transformaciones de las filas"
   ]
  },
  {
   "cell_type": "code",
   "execution_count": 44,
   "metadata": {
    "autoscroll": false,
    "collapsed": false,
    "ein.hycell": false,
    "ein.tags": "worksheet-0",
    "slideshow": {
     "slide_type": "-"
    }
   },
   "outputs": [
    {
     "data": {
      "text/html": [
       "<p style=\"text-align:center;\">$\\begin{bmatrix}-8&66&-22\\\\0&90&-30\\\\-14&120&-40\\end{bmatrix}$</p>"
      ],
      "text/plain": [
       "Matrix([Vector([-8, 0, -14]), Vector([66, 90, 120]), Vector([-22, -30, -40])])"
      ]
     },
     "execution_count": 44,
     "metadata": {},
     "output_type": "execute_result"
    }
   ],
   "source": [
    "st & Matrix( A + B ) "
   ]
  },
  {
   "cell_type": "code",
   "execution_count": 45,
   "metadata": {
    "autoscroll": false,
    "collapsed": false,
    "ein.hycell": false,
    "ein.tags": "worksheet-0",
    "slideshow": {
     "slide_type": "-"
    }
   },
   "outputs": [
    {
     "data": {
      "text/html": [
       "<p style=\"text-align:center;\">$\\begin{bmatrix}-8&66&-22\\\\0&90&-30\\\\-14&120&-40\\end{bmatrix}$</p>"
      ],
      "text/plain": [
       "Matrix([Vector([-8, 0, -14]), Vector([66, 90, 120]), Vector([-22, -30, -40])])"
      ]
     },
     "execution_count": 45,
     "metadata": {},
     "output_type": "execute_result"
    }
   ],
   "source": [
    "( st & Matrix(A) ) + ( st & Matrix(B) )"
   ]
  },
  {
   "cell_type": "markdown",
   "metadata": {
    "ein.tags": "worksheet-0",
    "slideshow": {
     "slide_type": "-"
    }
   },
   "source": [
    "# Escalonando una matriz por el método de eliminación gaussiana\n"
   ]
  },
  {
   "cell_type": "markdown",
   "metadata": {
    "ein.tags": "worksheet-0",
    "slideshow": {
     "slide_type": "-"
    }
   },
   "source": [
    "La función `pivote` de nuestra librería devuelve la posición del\n",
    "primer componente no negativo de un vector (cuando el vector es el\n",
    "único argumento)."
   ]
  },
  {
   "cell_type": "code",
   "execution_count": 46,
   "metadata": {
    "autoscroll": false,
    "collapsed": false,
    "ein.hycell": false,
    "ein.tags": "worksheet-0",
    "slideshow": {
     "slide_type": "-"
    }
   },
   "outputs": [
    {
     "data": {
      "text/plain": [
       "2"
      ]
     },
     "execution_count": 46,
     "metadata": {},
     "output_type": "execute_result"
    }
   ],
   "source": [
    "pivote(Vector([0,1,0,0,1,0]))"
   ]
  },
  {
   "cell_type": "markdown",
   "metadata": {
    "ein.tags": "worksheet-0",
    "slideshow": {
     "slide_type": "-"
    }
   },
   "source": [
    "Si a la función se le da como segundo argumento una posición desde la\n",
    "que empezar a buscar, entonces devuelve la posición del primer\n",
    "componente no negativo a partir de la posición siguiente a la\n",
    "indicada."
   ]
  },
  {
   "cell_type": "code",
   "execution_count": 47,
   "metadata": {
    "autoscroll": false,
    "collapsed": false,
    "ein.hycell": false,
    "ein.tags": "worksheet-0",
    "slideshow": {
     "slide_type": "-"
    }
   },
   "outputs": [
    {
     "data": {
      "text/plain": [
       "5"
      ]
     },
     "execution_count": 47,
     "metadata": {},
     "output_type": "execute_result"
    }
   ],
   "source": [
    "pivote(Vector([0,1,0,0,1,0]), 2)"
   ]
  },
  {
   "cell_type": "markdown",
   "metadata": {
    "ein.tags": "worksheet-0",
    "slideshow": {
     "slide_type": "-"
    }
   },
   "source": [
    "Cuando la función `pivote` no encuentra un componente no negativo\n",
    "devuelve el valor cero"
   ]
  },
  {
   "cell_type": "code",
   "execution_count": 48,
   "metadata": {
    "autoscroll": false,
    "collapsed": false,
    "ein.hycell": false,
    "ein.tags": "worksheet-0",
    "slideshow": {
     "slide_type": "-"
    }
   },
   "outputs": [
    {
     "data": {
      "text/plain": [
       "0"
      ]
     },
     "execution_count": 48,
     "metadata": {},
     "output_type": "execute_result"
    }
   ],
   "source": [
    "pivote(Vector([0,1,0,0,0,0]), 2)"
   ]
  },
  {
   "cell_type": "markdown",
   "metadata": {
    "ein.tags": "worksheet-0",
    "slideshow": {
     "slide_type": "-"
    }
   },
   "source": [
    "Usando la función `pivote` y las transformaciones elementales vamos a escalonar la matriz `A`."
   ]
  },
  {
   "cell_type": "code",
   "execution_count": 49,
   "metadata": {
    "autoscroll": false,
    "collapsed": false,
    "ein.hycell": false,
    "ein.tags": "worksheet-0",
    "slideshow": {
     "slide_type": "-"
    }
   },
   "outputs": [
    {
     "data": {
      "text/html": [
       "<p style=\"text-align:center;\">$\\begin{bmatrix}1&0&0\\\\1&-3&0\\\\-2&3&0\\end{bmatrix}$</p>"
      ],
      "text/plain": [
       "Matrix([Vector([1, 1, -2]), Vector([Fraction(0, 1), Fraction(-3, 1), Fraction(3, 1)]), Vector([Fraction(0, 1), Fraction(0, 1), Fraction(0, 1)])])"
      ]
     },
     "execution_count": 49,
     "metadata": {},
     "output_type": "execute_result"
    }
   ],
   "source": [
    "M = Matrix(A)            # Hacemos una copia de A para no perder la matriz original\n",
    "r = 0                    # Contador de pivotes\n",
    "for i in range(1,M.m+1): # En cada una de las filas: \n",
    "    p = pivote((i|M),r)  #   buscamos el primer componente no nulo a la derecha de la columna r \n",
    "    if p > 0:            #   si hemos econtrado alguno (si la fila no está llena de ceros por la derecha)\n",
    "        r += 1           #   el contador añade un nuevo pivote a la cuenta\n",
    "        M & T( {p, r} )  #   intercambiamos la columna $r$-ésima con la columna donde encontramos el pivote \n",
    "        M & T( [(Fraction(-(i|M|j),(i|M|r)), r, j) for j in range(r+1,M.n+1)] ) # con el pivote anulamos\n",
    "                                                                                # todos los componentes a su derecha\n",
    "\n",
    "M  # por último mostramos el resultado (fíjese que M ya no es una copia de A)"
   ]
  },
  {
   "cell_type": "markdown",
   "metadata": {
    "ein.tags": "worksheet-0",
    "slideshow": {
     "slide_type": "-"
    }
   },
   "source": [
    "Los pasos dados por el algoritmo para la matriz\n",
    "$\n",
    "\\qquad\\begin{bmatrix}1&1&-2\\\\1&-2&1\\\\-2&1&1\\end{bmatrix}\\qquad\n",
    "$\n",
    "son:\n",
    "$$\n",
    "\\begin{bmatrix}1&1&-2\\\\1&-2&1\\\\-2&1&1\\end{bmatrix}\\xrightarrow{\\underset{\\begin{subarray}{c} \\left[\\left(-1\\right)\\mathbf{1}+\\mathbf{2} \\right]\\\\\\left[\\left(2\\right)\\mathbf{1}+\\mathbf{3} \\right]\\end{subarray}}{\\mathbf{\\tau}}}\\begin{bmatrix}1&0&0\\\\1&-3&3\\\\-2&3&-3\\end{bmatrix}\\xrightarrow{\\underset{\\begin{subarray}{c} \\left[\\left(1\\right)\\mathbf{2}+\\mathbf{3} \\right]\\end{subarray}}{\\mathbf{\\tau}}}\\begin{bmatrix}1&0&0\\\\1&-3&0\\\\-2&3&0\\end{bmatrix}\n",
    "$$\n",
    "(donde hemos excluido del esquema los intercambios `T({p,r})` cuando `p==r`, pues son inecesarios)."
   ]
  },
  {
   "cell_type": "markdown",
   "metadata": {
    "ein.tags": "worksheet-0",
    "slideshow": {
     "slide_type": "-"
    }
   },
   "source": [
    "El código de más arriba está implementado en nuestra librería en la\n",
    "función `GCL`, que vamos a usar con otra matriz"
   ]
  },
  {
   "cell_type": "code",
   "execution_count": 50,
   "metadata": {
    "autoscroll": false,
    "collapsed": false,
    "ein.hycell": false,
    "ein.tags": "worksheet-0",
    "slideshow": {
     "slide_type": "-"
    }
   },
   "outputs": [
    {
     "data": {
      "text/html": [
       "<p style=\"text-align:center;\">$\\begin{bmatrix}1&0&0&0&0\\\\0&-3&0&0&0\\\\1&2&1&0&0\\\\0&0&1&\\frac{25}{3}&0\\end{bmatrix}$</p>"
      ],
      "text/plain": [
       "Matrix([Vector([1, 0, 1, 0]), Vector([Fraction(0, 1), Fraction(-3, 1), Fraction(2, 1), Fraction(0, 1)]), Vector([Fraction(0, 1), Fraction(0, 1), Fraction(1, 1), Fraction(1, 1)]), Vector([Fraction(0, 1), Fraction(0, 1), Fraction(0, 1), Fraction(25, 3)]), Vector([Fraction(0, 1), Fraction(0, 1), Fraction(0, 1), Fraction(0, 1)])])"
      ]
     },
     "execution_count": 50,
     "metadata": {},
     "output_type": "execute_result"
    }
   ],
   "source": [
    "M=Matrix([[1,2,3,4,5],[0,0,-3,-5,7],[1,3,5,0,0],[0,1,0,1,0]])\n",
    "GCL(M)"
   ]
  },
  {
   "cell_type": "markdown",
   "metadata": {
    "ein.tags": "worksheet-0",
    "slideshow": {
     "slide_type": "-"
    }
   },
   "source": [
    "Los pasos dados por el algoritmo para la matriz\n",
    "$\n",
    "\\qquad\\begin{bmatrix}1&2&3&4&5\\\\0&0&-3&-5&7\\\\1&3&5&0&0\\\\0&1&0&1&0\\end{bmatrix}\\qquad\n",
    "$\n",
    "son\n",
    "$$\n",
    "\\begin{bmatrix}1&2&3&4&5\\\\0&0&-3&-5&7\\\\1&3&5&0&0\\\\0&1&0&1&0\\end{bmatrix}\\xrightarrow{\\underset{\\begin{subarray}{c} \\left[\\left(-2\\right)\\mathbf{1}+\\mathbf{2} \\right]\\\\\\left[\\left(-3\\right)\\mathbf{1}+\\mathbf{3} \\right]\\\\\\left[\\left(-4\\right)\\mathbf{1}+\\mathbf{4} \\right]\\\\\\left[\\left(-5\\right)\\mathbf{1}+\\mathbf{5} \\right]\\end{subarray}}{\\mathbf{\\tau}}}\\begin{bmatrix}1&0&0&0&0\\\\0&0&-3&-5&7\\\\1&1&2&-4&-5\\\\0&1&0&1&0\\end{bmatrix}\\xrightarrow{\\underset{\\left[\\mathbf{2}\\rightleftharpoons\\mathbf{3}\\right]}{\\mathbf{\\tau}}}\\begin{bmatrix}1&0&0&0&0\\\\0&-3&0&-5&7\\\\1&2&1&-4&-5\\\\0&0&1&1&0\\end{bmatrix}\\xrightarrow{\\underset{\\begin{subarray}{c} \\left[\\left(\\frac{-5}{3}\\right)\\mathbf{2}+\\mathbf{4} \\right]\\\\\\left[\\left(\\frac{7}{3}\\right)\\mathbf{2}+\\mathbf{5} \\right]\\end{subarray}}{\\mathbf{\\tau}}}\\begin{bmatrix}1&0&0&0&0\\\\0&-3&0&0&0\\\\1&2&1&\\frac{-22}{3}&\\frac{-1}{3}\\\\0&0&1&1&0\\end{bmatrix}\\xrightarrow{\\underset{\\begin{subarray}{c} \\left[\\left(\\frac{22}{3}\\right)\\mathbf{3}+\\mathbf{4} \\right]\\\\\\left[\\left(\\frac{1}{3}\\right)\\mathbf{3}+\\mathbf{5} \\right]\\end{subarray}}{\\mathbf{\\tau}}}\\begin{bmatrix}1&0&0&0&0\\\\0&-3&0&0&0\\\\1&2&1&0&0\\\\0&0&1&\\frac{25}{3}&\\frac{1}{3}\\end{bmatrix}\\xrightarrow{\\underset{\\begin{subarray}{c} \\left[\\left(\\frac{-1}{25}\\right)\\mathbf{4}+\\mathbf{5} \\right]\\end{subarray}}{\\mathbf{\\tau}}}\\begin{bmatrix}1&0&0&0&0\\\\0&-3&0&0&0\\\\1&2&1&0&0\\\\0&0&1&\\frac{25}{3}&0\\end{bmatrix}\n",
    "$$\n",
    "(donde hemos excluido del esquema no solo los intercambios\n",
    "inecesarios, sino también los inecesarios pasos que eliminan ceros a\n",
    "la derecha del pivote... fíjese que el algoritmo recorre la fila desde\n",
    "el pivote _hasta el final_, operando incluso cuando el componente\n",
    "`i,j` es un cero)."
   ]
  },
  {
   "cell_type": "markdown",
   "metadata": {
    "ein.tags": "worksheet-0",
    "slideshow": {
     "slide_type": "-"
    }
   },
   "source": [
    "## Otras formas de aplicar la eliminación gaussina\n",
    "\n",
    "Como se puede comprobar, el proceso de eliminación de más arriba\n",
    "emplea operaciones elementales sobre las columnas \"barriendo\" las\n",
    "filas de arriba a abajo y las columnas de izquierda a derecha.\n",
    "\n",
    "Pero podemos proceder de otros modos, por ejemplo de abajo a arriba y\n",
    "de dercha a izquierda. De manera que logramos una matriz triangular\n",
    "superior, y donde las columnas de ceros acaban a la izquierda:"
   ]
  },
  {
   "cell_type": "code",
   "execution_count": 61,
   "metadata": {
    "collapsed": true
   },
   "outputs": [],
   "source": [
    "M = Matrix([[1,2,3,4,5],[0,0,-3,-5,7],[1,3,5,0,0],[0,1,0,1,0]])"
   ]
  },
  {
   "cell_type": "code",
   "execution_count": 60,
   "metadata": {
    "autoscroll": false,
    "collapsed": false,
    "ein.hycell": false,
    "ein.tags": "worksheet-0",
    "slideshow": {
     "slide_type": "-"
    }
   },
   "outputs": [
    {
     "data": {
      "text/html": [
       "<p style=\"text-align:center;\">$\\begin{bmatrix}0&\\frac{-303}{35}&5&3&4\\\\0&0&7&-3&-5\\\\0&0&0&5&0\\\\0&0&0&0&1\\end{bmatrix}$</p>"
      ],
      "text/plain": [
       "Matrix([Vector([Fraction(0, 1), Fraction(0, 1), Fraction(0, 1), Fraction(0, 1)]), Vector([Fraction(-303, 35), Fraction(0, 1), Fraction(0, 1), Fraction(0, 1)]), Vector([Fraction(5, 1), Fraction(7, 1), Fraction(0, 1), Fraction(0, 1)]), Vector([Fraction(3, 1), Fraction(-3, 1), Fraction(5, 1), Fraction(0, 1)]), Vector([4, -5, 0, 1])])"
      ]
     },
     "execution_count": 60,
     "metadata": {},
     "output_type": "execute_result"
    }
   ],
   "source": [
    "r = 0                              # Contador de pivotes\n",
    "for i in reversed(range(1,M.m+1)): # En cada una de las filas (comenzando por la ultima): \n",
    "    p = pivote(reversed(i|M), r)   #  buscamos el primer componente no nulo a la izquierda de columna r \n",
    "    if p > 0:                      #  si la fila no está llena de ceros por la izquierda\n",
    "        r += 1                     #  el contador añade un nuevo pivote a la cuenta\n",
    "        M & T( {M.n-p+1, M.n-r+1} )#  intercambiamos las columnas\n",
    "        M & T( [ (Fraction(-(i|M|j),(i|M|(M.n-r+1))), M.n-r+1, j ) for j in reversed(range(1,M.n-r+1)) ] )\n",
    "                                   #  con el pivote anulamos todos los componentes a su izquierda\n",
    "                                                                            \n",
    "M  # por último mostramos el resultado (fíjese que M ya no es una copia de A)"
   ]
  },
  {
   "cell_type": "markdown",
   "metadata": {
    "ein.tags": "worksheet-0",
    "slideshow": {
     "slide_type": "-"
    }
   },
   "source": [
    "Los pasos dados en este caso han sido\n",
    "$$\n",
    "\\begin{bmatrix}1&2&3&4&5\\\\0&0&-3&-5&7\\\\1&3&5&0&0\\\\0&1&0&1&0\\end{bmatrix}\\xrightarrow{\\underset{\\begin{subarray}{c} \\left[\\mathbf{4}\\rightleftharpoons\\mathbf{5}\\right]\\end{subarray}}{\\mathbf{\\tau}}}\\begin{bmatrix}1&2&3&5&4\\\\0&0&-3&7&-5\\\\1&3&5&0&0\\\\0&1&0&0&1\\end{bmatrix}\\xrightarrow{\\underset{\\begin{subarray}{c} \\left[\\left(-1\\right)\\mathbf{5}+\\mathbf{2} \\right]\\end{subarray}}{\\mathbf{\\tau}}}\\begin{bmatrix}1&-2&3&5&4\\\\0&5&-3&7&-5\\\\1&3&5&0&0\\\\0&0&0&0&1\\end{bmatrix}\\xrightarrow{\\underset{\\begin{subarray}{c} \\left[\\mathbf{3}\\rightleftharpoons\\mathbf{4}\\right]\\end{subarray}}{\\mathbf{\\tau}}}\\begin{bmatrix}1&-2&5&3&4\\\\0&5&7&-3&-5\\\\1&3&0&5&0\\\\0&0&0&0&1\\end{bmatrix}\\xrightarrow{\\underset{\\begin{subarray}{c} \\left[\\left(\\frac{-3}{5}\\right)\\mathbf{4}+\\mathbf{2} \\right]\\\\\\left[\\left(\\frac{-1}{5}\\right)\\mathbf{4}+\\mathbf{1} \\right]\\end{subarray}}{\\mathbf{\\tau}}}\\begin{bmatrix}\\frac{2}{5}&\\frac{-19}{5}&5&3&4\\\\\\frac{3}{5}&\\frac{34}{5}&7&-3&-5\\\\0&0&0&5&0\\\\0&0&0&0&1\\end{bmatrix}\\xrightarrow{\\underset{\\begin{subarray}{c} \\left[\\left(\\frac{-34}{35}\\right)\\mathbf{3}+\\mathbf{2} \\right]\\\\\\left[\\left(\\frac{-3}{35}\\right)\\mathbf{3}+\\mathbf{1} \\right]\\end{subarray}}{\\mathbf{\\tau}}}\\begin{bmatrix}\\frac{-1}{35}&\\frac{-303}{35}&5&3&4\\\\0&0&7&-3&-5\\\\0&0&0&5&0\\\\0&0&0&0&1\\end{bmatrix}\\xrightarrow{\\underset{\\begin{subarray}{c} \\left[\\left(\\frac{-1}{303}\\right)\\mathbf{2}+\\mathbf{1} \\right]\\end{subarray}}{\\mathbf{\\tau}}}\\begin{bmatrix}0&\\frac{-303}{35}&5&3&4\\\\0&0&7&-3&-5\\\\0&0&0&5&0\\\\0&0&0&0&1\\end{bmatrix}\n",
    "$$"
   ]
  },
  {
   "cell_type": "markdown",
   "metadata": {
    "ein.tags": "worksheet-0",
    "slideshow": {
     "slide_type": "-"
    }
   },
   "source": [
    "_Puede intentar otras formas de escalonar una matriz, por ejemplo,\n",
    "evitando usar fracciones, o escalonando de derecha a izquierda, o con\n",
    "transformaciones de las filas de arriba a abajo (o de abajo a arriba),\n",
    "etc._"
   ]
  },
  {
   "cell_type": "markdown",
   "metadata": {
    "ein.tags": "worksheet-0",
    "slideshow": {
     "slide_type": "-"
    }
   },
   "source": [
    "\n",
    "---- FIN DE LA LECCIÓN -----\n",
    "\n",
    "\n",
    "\n",
    "Lo que sigue es sólo para crear un índice de contenidos de este notebook (y se muestra al principio de la página)"
   ]
  },
  {
   "cell_type": "code",
   "execution_count": 54,
   "metadata": {
    "autoscroll": false,
    "collapsed": false,
    "ein.hycell": false,
    "ein.tags": "worksheet-0",
    "slideshow": {
     "slide_type": "-"
    }
   },
   "outputs": [
    {
     "data": {
      "application/javascript": [
       "$.getScript('https://kmahelona.github.io/ipython_notebook_goodies/ipython_notebook_toc.js')\n",
       "$.getScript('https://kmahelona.github.io/ipython_notebook_goodies/ipython_notebook_toc.js')"
      ],
      "text/plain": [
       "<IPython.core.display.Javascript object>"
      ]
     },
     "metadata": {},
     "output_type": "display_data"
    }
   ],
   "source": [
    "%%javascript\n",
    "$.getScript('https://kmahelona.github.io/ipython_notebook_goodies/ipython_notebook_toc.js')\n",
    "$.getScript('https://kmahelona.github.io/ipython_notebook_goodies/ipython_notebook_toc.js')"
   ]
  }
 ],
 "metadata": {
  "kernelspec": {
   "display_name": "Python 3",
   "language": "python",
   "name": "python3"
  },
  "language_info": {
   "codemirror_mode": {
    "name": "ipython",
    "version": 3
   },
   "file_extension": ".py",
   "mimetype": "text/x-python",
   "name": "python",
   "nbconvert_exporter": "python",
   "pygments_lexer": "ipython3",
   "version": "3.5.3"
  },
  "name": "Leccion04.ipynb"
 },
 "nbformat": 4,
 "nbformat_minor": 2
}
