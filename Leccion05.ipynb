{
 "cells": [
  {
   "cell_type": "markdown",
   "metadata": {
    "ein.tags": "worksheet-0",
    "slideshow": {
     "slide_type": "-"
    }
   },
   "source": [
    "$\n",
    "\\renewcommand{\\R}[1][{}]{{\\mathbb{R}}^{#1}}\n",
    "\\renewcommand{\\Z}[1][{}]{{\\mathbb{Z}}^{#1}}\n",
    "%%%%%%%%%%%%%%%%%%%%%%%%%%%%%%%%%%%%%%%%%%%%%%%%%%%%%%%%%%%%%%%%%%%%%%%%%%%%\n",
    "\\renewcommand{\\getitemR}[1]{\\getItem{#1}}\n",
    "\\renewcommand{\\getItem}{\\pmb{\\mid}}\n",
    "\\renewcommand{\\elemR}[2]{{#1}^{\\phantom{\\T}}_{\\getitemR{#2}}} \n",
    "\\renewcommand{\\elemRP}[2]{{\\big(#1\\big)}^{\\phantom{\\T}}_{\\getitemR{#2}}} \n",
    "\\renewcommand{\\elemRPE}[2]{\\big({#1}^{\\phantom{\\T}}_{\\getitemR{#2}}\\big)}\n",
    "%%%%%%%%%%%%%%%%%%%%%%%%%%%%%%%%%%%%%%%%%%%%%%%%%%%%%%%%%%%%%%%%%%%%%%%%%%%%\n",
    "\\renewcommand{\\Vect}[2][{}]{{\\boldsymbol{#2}}_{#1}}\n",
    "\\renewcommand{\\eleVR}[2]  {\\elemR  {\\Vect{#1}}{#2}}\t % con subindices\n",
    "\\renewcommand{\\eleVRP}[2] {\\elemRP {\\Vect{#1}}{#2}}      % con subindices y paréntesis interior\n",
    "\\renewcommand{\\eleVRPE}[2]{\\elemRPE{\\Vect{#1}}{#2}}      % con subindices y paréntesis exterior\n",
    "%%%%%%%%%%%%%%%%%%%%%%%%%%%%%%%%%%%%%%%%%%%%%%%%%%%%%%%%%%%%%%%%%%%%%%%%%%%%\n",
    "\\renewcommand{\\VectC}[2][{}]  {\\elemR  {\\Mat{#2}}{#1}}   % con subindices\n",
    "\\renewcommand{\\VectCP}[2][{}] {\\elemRP {\\Mat{#2}}{#1}}   % con subindices y paréntesis\n",
    "\\renewcommand{\\VectCPE}[2][{}]{\\elemRPE{\\Mat{#2}}{#1}}   % con subindices y paréntesis exterior\n",
    "%%%%%%%%%%%%%%%%%%%%%%%%%%%%%%%%%%%%%%%%%%%%%%%%%%%%%%%%%%%%%%%%%%%%%%%%%%%%\n",
    "\\renewcommand{\\mat}[1]{\\mathbf{#1}}\n",
    "\\renewcommand{\\Mat} [2][{}]{{\\mat{#2}}_{#1}} \n",
    "\\renewcommand{\\T}{\\intercal}\n",
    "\\renewcommand{\\MatT}[2][{}]{{\\mat{#2}}^{\\T}_{#1}}\n",
    "\\renewcommand{\\VectC}[2][{}]    {\\elemR  {\\Mat{#2}}{#1}}   % con subindices\n",
    "\\renewcommand{\\VectCP}[2][{}]   {\\elemRP  {\\Mat{#2}}{#1}}   % con subindices y paréntesis\n",
    "\\renewcommand{\\VectCPE}[2][{}]  {\\elemRPE  {\\Mat{#2}}{#1}}   % con subindices y paréntesis exterior\n",
    "\\renewcommand{\\VectCC}[2][{}]   {\\elemRR {\\Mat{#2}}{#1}}   % con ()\n",
    "\\renewcommand{\\VectCCC}[2][{}]  {\\elemRRR{\\Mat{#2}}{#1}}   % con texto \"col\"\n",
    "%SELECCIÓNA de FILAS y COlUMNAS DE UNA MATRIZ TRANSPUESTA PARA GENERAR UN VECTOR DE Rn\n",
    "\\renewcommand{\\VectTC}[2][{}]   {\\elemR{\\MatT{#2}\\!}{#1}}  % con subindices\n",
    "\\renewcommand{\\VectTCC}[2][{}]  {\\elemRR{ \\MatT{#2}}{#1}}  % con ()\n",
    "\\renewcommand{\\VectTCCC}[2][{}] {\\elemRRR{\\MatT{#2}}{#1}}  % con texto \"col\"\n",
    "$"
   ]
  },
  {
   "cell_type": "markdown",
   "metadata": {
    "ein.tags": "worksheet-0",
    "slideshow": {
     "slide_type": "-"
    }
   },
   "source": [
    "${\\huge\\text{Jupyter notebook de la Lección 5}}$"
   ]
  },
  {
   "cell_type": "markdown",
   "metadata": {
    "ein.tags": "worksheet-0",
    "slideshow": {
     "slide_type": "-"
    }
   },
   "source": [
    "**Índice de contenidos de este notebook** (Requiere ejecutar todo el Notebook para que aparezca el índice)\n",
    "<div id=\"toc\"></div>"
   ]
  },
  {
   "cell_type": "markdown",
   "metadata": {
    "ein.tags": "worksheet-0",
    "slideshow": {
     "slide_type": "-"
    }
   },
   "source": [
    "# Matrices invertibles\n",
    "\n",
    "Consideraremos dos tipos de transformaciones elementales que\n",
    "denotaremos con tuplas. Para indicar que una tupla es una abreviatura\n",
    "de una transformación elemental, la escribiremos como argumento de la\n",
    "clase `T`.\n"
   ]
  },
  {
   "cell_type": "code",
   "execution_count": 1,
   "metadata": {
    "autoscroll": false,
    "collapsed": false,
    "ein.hycell": false,
    "ein.tags": "worksheet-0",
    "slideshow": {
     "slide_type": "-"
    }
   },
   "outputs": [],
   "source": [
    "from notacion import *\n",
    "from IPython.display import display, Math"
   ]
  },
  {
   "cell_type": "code",
   "execution_count": 2,
   "metadata": {
    "collapsed": false
   },
   "outputs": [],
   "source": [
    "M = Matrix([[3,2,3,4,5],[0,0,-3,-5,7],[1,3,5,0,0],[0,1,0,1,0]])\n",
    "M = Matrix([[2,-1,0],[-1,2,-1],[0,-1,2]])"
   ]
  },
  {
   "cell_type": "code",
   "execution_count": 3,
   "metadata": {
    "collapsed": false
   },
   "outputs": [
    {
     "data": {
      "text/latex": [
       "$$\\begin{bmatrix}2&-1&0\\\\-1&2&-1\\\\0&-1&2\\end{bmatrix}\\xrightarrow{\\underset{\\begin{subarray}{c} \\left[\\left(\\frac{1}{2}\\right)\\mathbf{1}+\\mathbf{2} \\right]\\end{subarray}}{\\mathbf{\\tau}}}\\begin{bmatrix}2&0&0\\\\-1&\\frac{3}{2}&-1\\\\0&-1&2\\end{bmatrix}\\xrightarrow{\\underset{\\begin{subarray}{c} \\left[\\left(\\frac{2}{3}\\right)\\mathbf{2}+\\mathbf{3} \\right]\\end{subarray}}{\\mathbf{\\tau}}}\\begin{bmatrix}2&0&0\\\\-1&\\frac{3}{2}&0\\\\0&-1&\\frac{4}{3}\\end{bmatrix}$$"
      ],
      "text/plain": [
       "<IPython.core.display.Math object>"
      ]
     },
     "metadata": {},
     "output_type": "display_data"
    },
    {
     "data": {
      "text/latex": [
       "$$\\begin{bmatrix}2&-1&0\\\\-1&2&-1\\\\0&-1&2\\end{bmatrix}\\xrightarrow{\\underset{\\begin{subarray}{c} \\left[\\left(\\frac{1}{2}\\right)\\mathbf{1}\\right]\\end{subarray}}{\\mathbf{\\tau}}}\\begin{bmatrix}1&-1&0\\\\\\frac{-1}{2}&2&-1\\\\0&-1&2\\end{bmatrix}\\xrightarrow{\\underset{\\begin{subarray}{c} \\left[\\left(1\\right)\\mathbf{1}+\\mathbf{2} \\right]\\end{subarray}}{\\mathbf{\\tau}}}\\begin{bmatrix}1&0&0\\\\\\frac{-1}{2}&\\frac{3}{2}&-1\\\\0&-1&2\\end{bmatrix}\\xrightarrow{\\underset{\\begin{subarray}{c} \\left[\\left(\\frac{2}{3}\\right)\\mathbf{2}\\right]\\end{subarray}}{\\mathbf{\\tau}}}\\begin{bmatrix}1&0&0\\\\\\frac{-1}{2}&1&-1\\\\0&\\frac{-2}{3}&2\\end{bmatrix}\\xrightarrow{\\underset{\\begin{subarray}{c} \\left[\\left(1\\right)\\mathbf{2}+\\mathbf{3} \\right]\\end{subarray}}{\\mathbf{\\tau}}}\\begin{bmatrix}1&0&0\\\\\\frac{-1}{2}&1&0\\\\0&\\frac{-2}{3}&\\frac{4}{3}\\end{bmatrix}\\xrightarrow{\\underset{\\begin{subarray}{c} \\left[\\left(\\frac{3}{4}\\right)\\mathbf{3}\\right]\\end{subarray}}{\\mathbf{\\tau}}}\\begin{bmatrix}1&0&0\\\\\\frac{-1}{2}&1&0\\\\0&\\frac{-2}{3}&1\\end{bmatrix}$$"
      ],
      "text/plain": [
       "<IPython.core.display.Math object>"
      ]
     },
     "metadata": {},
     "output_type": "display_data"
    },
    {
     "data": {
      "text/latex": [
       "$$\\begin{bmatrix}2&-1&0\\\\-1&2&-1\\\\0&-1&2\\end{bmatrix}\\xrightarrow{\\underset{\\begin{subarray}{c} \\left[\\left(2\\right)\\mathbf{2}\\right]\\\\\\left[\\left(1\\right)\\mathbf{1}+\\mathbf{2} \\right]\\end{subarray}}{\\mathbf{\\tau}}}\\begin{bmatrix}2&0&0\\\\-1&3&-1\\\\0&-2&2\\end{bmatrix}\\xrightarrow{\\underset{\\begin{subarray}{c} \\left[\\left(3\\right)\\mathbf{3}\\right]\\\\\\left[\\left(1\\right)\\mathbf{2}+\\mathbf{3} \\right]\\end{subarray}}{\\mathbf{\\tau}}}\\begin{bmatrix}2&0&0\\\\-1&3&0\\\\0&-2&4\\end{bmatrix}$$"
      ],
      "text/plain": [
       "<IPython.core.display.Math object>"
      ]
     },
     "metadata": {},
     "output_type": "display_data"
    }
   ],
   "source": [
    "L=GCL(M,1)    # primera variante\n",
    "L=GCLN(M,1)   # como la primera variante pero haciendo unos en la diagonal\n",
    "L=GCLsd(M,1)  # evitando divisiones\n",
    "#I(3) & T(L.pasos)\n",
    "#L.pasos"
   ]
  },
  {
   "cell_type": "code",
   "execution_count": 4,
   "metadata": {
    "collapsed": false
   },
   "outputs": [
    {
     "data": {
      "text/latex": [
       "$$\\begin{bmatrix}2&-1&0\\\\-1&2&-1\\\\0&-1&2\\end{bmatrix}\\xrightarrow{\\underset{\\begin{subarray}{c} \\left[\\left(\\frac{1}{2}\\right)\\mathbf{3}+\\mathbf{2} \\right]\\end{subarray}}{\\mathbf{\\tau}}}\\begin{bmatrix}2&-1&0\\\\-1&\\frac{3}{2}&-1\\\\0&0&2\\end{bmatrix}\\xrightarrow{\\underset{\\begin{subarray}{c} \\left[\\left(\\frac{2}{3}\\right)\\mathbf{2}+\\mathbf{1} \\right]\\end{subarray}}{\\mathbf{\\tau}}}\\begin{bmatrix}\\frac{4}{3}&-1&0\\\\0&\\frac{3}{2}&-1\\\\0&0&2\\end{bmatrix}$$"
      ],
      "text/plain": [
       "<IPython.core.display.Math object>"
      ]
     },
     "metadata": {},
     "output_type": "display_data"
    },
    {
     "data": {
      "text/latex": [
       "$$\\begin{bmatrix}2&-1&0\\\\-1&2&-1\\\\0&-1&2\\end{bmatrix}\\xrightarrow{\\underset{\\begin{subarray}{c} \\left[\\left(\\frac{1}{2}\\right)\\mathbf{3}\\right]\\end{subarray}}{\\mathbf{\\tau}}}\\begin{bmatrix}2&-1&0\\\\-1&2&\\frac{-1}{2}\\\\0&-1&1\\end{bmatrix}\\xrightarrow{\\underset{\\begin{subarray}{c} \\left[\\left(1\\right)\\mathbf{3}+\\mathbf{2} \\right]\\end{subarray}}{\\mathbf{\\tau}}}\\begin{bmatrix}2&-1&0\\\\-1&\\frac{3}{2}&\\frac{-1}{2}\\\\0&0&1\\end{bmatrix}\\xrightarrow{\\underset{\\begin{subarray}{c} \\left[\\left(\\frac{2}{3}\\right)\\mathbf{2}\\right]\\end{subarray}}{\\mathbf{\\tau}}}\\begin{bmatrix}2&\\frac{-2}{3}&0\\\\-1&1&\\frac{-1}{2}\\\\0&0&1\\end{bmatrix}\\xrightarrow{\\underset{\\begin{subarray}{c} \\left[\\left(1\\right)\\mathbf{2}+\\mathbf{1} \\right]\\end{subarray}}{\\mathbf{\\tau}}}\\begin{bmatrix}\\frac{4}{3}&\\frac{-2}{3}&0\\\\0&1&\\frac{-1}{2}\\\\0&0&1\\end{bmatrix}\\xrightarrow{\\underset{\\begin{subarray}{c} \\left[\\left(\\frac{3}{4}\\right)\\mathbf{1}\\right]\\end{subarray}}{\\mathbf{\\tau}}}\\begin{bmatrix}1&\\frac{-2}{3}&0\\\\0&1&\\frac{-1}{2}\\\\0&0&1\\end{bmatrix}$$"
      ],
      "text/plain": [
       "<IPython.core.display.Math object>"
      ]
     },
     "metadata": {},
     "output_type": "display_data"
    },
    {
     "data": {
      "text/latex": [
       "$$\\begin{bmatrix}2&-1&0\\\\-1&2&-1\\\\0&-1&2\\end{bmatrix}\\xrightarrow{\\underset{\\begin{subarray}{c} \\left[\\left(2\\right)\\mathbf{2}\\right]\\\\\\left[\\left(1\\right)\\mathbf{3}+\\mathbf{2} \\right]\\end{subarray}}{\\mathbf{\\tau}}}\\begin{bmatrix}2&-2&0\\\\-1&3&-1\\\\0&0&2\\end{bmatrix}\\xrightarrow{\\underset{\\begin{subarray}{c} \\left[\\left(3\\right)\\mathbf{1}\\right]\\\\\\left[\\left(1\\right)\\mathbf{2}+\\mathbf{1} \\right]\\end{subarray}}{\\mathbf{\\tau}}}\\begin{bmatrix}4&-2&0\\\\0&3&-1\\\\0&0&2\\end{bmatrix}$$"
      ],
      "text/plain": [
       "<IPython.core.display.Math object>"
      ]
     },
     "metadata": {},
     "output_type": "display_data"
    }
   ],
   "source": [
    "U=GCU(M,1)     # primera variante\n",
    "U=GCUN(M,1)    # como la primera variante pero haciendo unos en la diagonal\n",
    "U=GCUsd(M,1)   # evitando divisiones\n",
    "#I(3) & T(U.pasos)\n",
    "#U.pasos"
   ]
  },
  {
   "cell_type": "code",
   "execution_count": 5,
   "metadata": {
    "collapsed": false
   },
   "outputs": [
    {
     "data": {
      "text/latex": [
       "$$\\begin{bmatrix}2&-1&0\\\\-1&2&-1\\\\0&-1&2\\end{bmatrix}\\xrightarrow{\\underset{\\begin{subarray}{c} \\left[\\left(\\frac{1}{2}\\right)\\mathbf{3}+\\mathbf{2} \\right]\\end{subarray}}{\\mathbf{\\tau}}}\\begin{bmatrix}2&-1&0\\\\-1&\\frac{3}{2}&-1\\\\0&0&2\\end{bmatrix}\\xrightarrow{\\underset{\\begin{subarray}{c} \\left[\\left(\\frac{2}{3}\\right)\\mathbf{2}+\\mathbf{1} \\right]\\end{subarray}}{\\mathbf{\\tau}}}\\begin{bmatrix}\\frac{4}{3}&-1&0\\\\0&\\frac{3}{2}&-1\\\\0&0&2\\end{bmatrix}\\xrightarrow{\\underset{\\begin{subarray}{c} \\left[\\left(\\frac{3}{4}\\right)\\mathbf{1}\\right]\\end{subarray}}{\\mathbf{\\tau}}}\\begin{bmatrix}1&-1&0\\\\0&\\frac{3}{2}&-1\\\\0&0&2\\end{bmatrix}\\xrightarrow{\\underset{\\begin{subarray}{c} \\left[\\left(1\\right)\\mathbf{1}+\\mathbf{2} \\right]\\end{subarray}}{\\mathbf{\\tau}}}\\begin{bmatrix}1&0&0\\\\0&\\frac{3}{2}&-1\\\\0&0&2\\end{bmatrix}\\xrightarrow{\\underset{\\begin{subarray}{c} \\left[\\left(\\frac{2}{3}\\right)\\mathbf{2}\\right]\\end{subarray}}{\\mathbf{\\tau}}}\\begin{bmatrix}1&0&0\\\\0&1&-1\\\\0&0&2\\end{bmatrix}\\xrightarrow{\\underset{\\begin{subarray}{c} \\left[\\left(1\\right)\\mathbf{2}+\\mathbf{3} \\right]\\end{subarray}}{\\mathbf{\\tau}}}\\begin{bmatrix}1&0&0\\\\0&1&0\\\\0&0&2\\end{bmatrix}\\xrightarrow{\\underset{\\begin{subarray}{c} \\left[\\left(\\frac{1}{2}\\right)\\mathbf{3}\\right]\\end{subarray}}{\\mathbf{\\tau}}}\\begin{bmatrix}1&0&0\\\\0&1&0\\\\0&0&1\\end{bmatrix}$$"
      ],
      "text/plain": [
       "<IPython.core.display.Math object>"
      ]
     },
     "metadata": {},
     "output_type": "display_data"
    },
    {
     "data": {
      "text/html": [
       "<p style=\"text-align:center;\">$\\begin{bmatrix}1&0&0\\\\0&1&0\\\\0&0&1\\end{bmatrix}$</p>"
      ],
      "text/plain": [
       "Matrix([Vector([Fraction(1, 1), Fraction(0, 1), Fraction(0, 1)]), Vector([Fraction(0, 1), Fraction(1, 1), Fraction(0, 1)]), Vector([Fraction(0, 1), Fraction(0, 1), Fraction(1, 1)])])"
      ]
     },
     "execution_count": 5,
     "metadata": {},
     "output_type": "execute_result"
    }
   ],
   "source": [
    "GCLN(GCU(M),1)"
   ]
  },
  {
   "cell_type": "code",
   "execution_count": 6,
   "metadata": {
    "collapsed": false
   },
   "outputs": [
    {
     "data": {
      "text/html": [
       "<p style=\"text-align:center;\">$\\begin{bmatrix}2&0&0\\\\-1&\\frac{3}{2}&0\\\\0&-1&\\frac{4}{3}\\end{bmatrix}$</p>"
      ],
      "text/plain": [
       "Matrix([Vector([2, -1, 0]), Vector([Fraction(0, 1), Fraction(3, 2), Fraction(-1, 1)]), Vector([Fraction(0, 1), Fraction(0, 1), Fraction(4, 3)])])"
      ]
     },
     "execution_count": 6,
     "metadata": {},
     "output_type": "execute_result"
    }
   ],
   "source": [
    "GaussCL(M)"
   ]
  },
  {
   "cell_type": "code",
   "execution_count": 7,
   "metadata": {
    "collapsed": false
   },
   "outputs": [
    {
     "data": {
      "text/html": [
       "<p style=\"text-align:center;\">$\\begin{bmatrix}2&0&0\\\\-1&3&0\\\\0&-2&4\\end{bmatrix}$</p>"
      ],
      "text/plain": [
       "Matrix([Vector([2, -1, 0]), Vector([0, 3, -2]), Vector([0, 0, 4])])"
      ]
     },
     "execution_count": 7,
     "metadata": {},
     "output_type": "execute_result"
    }
   ],
   "source": [
    "GaussCLsd(M)"
   ]
  },
  {
   "cell_type": "code",
   "execution_count": 8,
   "metadata": {
    "collapsed": false
   },
   "outputs": [
    {
     "data": {
      "text/html": [
       "<p style=\"text-align:center;\">$\\begin{bmatrix}\\frac{4}{3}&-1&0\\\\0&\\frac{3}{2}&-1\\\\0&0&2\\end{bmatrix}$</p>"
      ],
      "text/plain": [
       "Matrix([Vector([Fraction(4, 3), Fraction(0, 1), Fraction(0, 1)]), Vector([Fraction(-1, 1), Fraction(3, 2), Fraction(0, 1)]), Vector([0, -1, 2])])"
      ]
     },
     "execution_count": 8,
     "metadata": {},
     "output_type": "execute_result"
    }
   ],
   "source": [
    "GaussCU(M)"
   ]
  },
  {
   "cell_type": "code",
   "execution_count": 9,
   "metadata": {
    "collapsed": false
   },
   "outputs": [
    {
     "data": {
      "text/html": [
       "<p style=\"text-align:center;\">$\\begin{bmatrix}2&-1&0\\\\0&\\frac{3}{2}&-1\\\\0&0&\\frac{4}{3}\\end{bmatrix}$</p>"
      ],
      "text/plain": [
       "Matrix([Vector([2, Fraction(0, 1), Fraction(0, 1)]), Vector([-1, Fraction(3, 2), Fraction(0, 1)]), Vector([0, Fraction(-1, 1), Fraction(4, 3)])])"
      ]
     },
     "execution_count": 9,
     "metadata": {},
     "output_type": "execute_result"
    }
   ],
   "source": [
    "GaussFU(M)"
   ]
  },
  {
   "cell_type": "code",
   "execution_count": 10,
   "metadata": {
    "collapsed": false
   },
   "outputs": [
    {
     "data": {
      "text/latex": [
       "$$\\left[\\begin{array}{ccc}2&-1&0\\\\-1&2&-1\\\\0&-1&2\\\\ \\hline 1&0&0\\\\0&1&0\\\\0&0&1\\\\\\end{array}\\right]\\xrightarrow{\\underset{\\begin{subarray}{c} \\left[\\left(\\frac{1}{2}\\right)\\mathbf{3}+\\mathbf{2} \\right]\\end{subarray}}{\\mathbf{\\tau}}}\\left[\\begin{array}{ccc}2&-1&0\\\\-1&\\frac{3}{2}&-1\\\\0&0&2\\\\ \\hline 1&0&0\\\\0&1&0\\\\0&\\frac{1}{2}&1\\\\\\end{array}\\right]\\xrightarrow{\\underset{\\begin{subarray}{c} \\left[\\left(\\frac{2}{3}\\right)\\mathbf{2}+\\mathbf{1} \\right]\\end{subarray}}{\\mathbf{\\tau}}}\\left[\\begin{array}{ccc}\\frac{4}{3}&-1&0\\\\0&\\frac{3}{2}&-1\\\\0&0&2\\\\ \\hline 1&0&0\\\\\\frac{2}{3}&1&0\\\\\\frac{1}{3}&\\frac{1}{2}&1\\\\\\end{array}\\right]\\xrightarrow{\\underset{\\begin{subarray}{c} \\left[\\left(\\frac{3}{4}\\right)\\mathbf{1}+\\mathbf{2} \\right]\\end{subarray}}{\\mathbf{\\tau}}}\\left[\\begin{array}{ccc}\\frac{4}{3}&0&0\\\\0&\\frac{3}{2}&-1\\\\0&0&2\\\\ \\hline 1&\\frac{3}{4}&0\\\\\\frac{2}{3}&\\frac{3}{2}&0\\\\\\frac{1}{3}&\\frac{3}{4}&1\\\\\\end{array}\\right]\\xrightarrow{\\underset{\\begin{subarray}{c} \\left[\\left(\\frac{2}{3}\\right)\\mathbf{2}+\\mathbf{3} \\right]\\end{subarray}}{\\mathbf{\\tau}}}\\left[\\begin{array}{ccc}\\frac{4}{3}&0&0\\\\0&\\frac{3}{2}&0\\\\0&0&2\\\\ \\hline 1&\\frac{3}{4}&\\frac{1}{2}\\\\\\frac{2}{3}&\\frac{3}{2}&1\\\\\\frac{1}{3}&\\frac{3}{4}&\\frac{3}{2}\\\\\\end{array}\\right]\\xrightarrow{\\underset{\\begin{subarray}{c} \\left[\\left(\\frac{3}{4}\\right)\\mathbf{1}\\right]\\\\\\left[\\left(\\frac{2}{3}\\right)\\mathbf{2}\\right]\\\\\\left[\\left(\\frac{1}{2}\\right)\\mathbf{3}\\right]\\end{subarray}}{\\mathbf{\\tau}}}\\left[\\begin{array}{ccc}1&0&0\\\\0&1&0\\\\0&0&1\\\\ \\hline \\frac{3}{4}&\\frac{1}{2}&\\frac{1}{4}\\\\\\frac{1}{2}&1&\\frac{1}{2}\\\\\\frac{1}{4}&\\frac{1}{2}&\\frac{3}{4}\\\\\\end{array}\\right]$$"
      ],
      "text/plain": [
       "<IPython.core.display.Math object>"
      ]
     },
     "metadata": {},
     "output_type": "display_data"
    }
   ],
   "source": [
    "Minv=Inversa(M,1)"
   ]
  },
  {
   "cell_type": "markdown",
   "metadata": {
    "ein.tags": "worksheet-0",
    "slideshow": {
     "slide_type": "-"
    }
   },
   "source": [
    "\n",
    "---- FIN DE LA LECCIÓN -----\n",
    "\n",
    "\n",
    "\n",
    "Lo que sigue es sólo para crear un índice de contenidos de este notebook (y se muestra al principio de la página)"
   ]
  },
  {
   "cell_type": "code",
   "execution_count": 11,
   "metadata": {
    "autoscroll": false,
    "collapsed": false,
    "ein.hycell": false,
    "ein.tags": "worksheet-0",
    "slideshow": {
     "slide_type": "-"
    }
   },
   "outputs": [
    {
     "data": {
      "application/javascript": [
       "$.getScript('https://kmahelona.github.io/ipython_notebook_goodies/ipython_notebook_toc.js')\n",
       "$.getScript('https://kmahelona.github.io/ipython_notebook_goodies/ipython_notebook_toc.js')"
      ],
      "text/plain": [
       "<IPython.core.display.Javascript object>"
      ]
     },
     "metadata": {},
     "output_type": "display_data"
    }
   ],
   "source": [
    "%%javascript\n",
    "$.getScript('https://kmahelona.github.io/ipython_notebook_goodies/ipython_notebook_toc.js')\n",
    "$.getScript('https://kmahelona.github.io/ipython_notebook_goodies/ipython_notebook_toc.js')"
   ]
  }
 ],
 "metadata": {
  "kernelspec": {
   "display_name": "Python 3",
   "language": "python",
   "name": "python3"
  },
  "language_info": {
   "codemirror_mode": {
    "name": "ipython",
    "version": 3
   },
   "file_extension": ".py",
   "mimetype": "text/x-python",
   "name": "python",
   "nbconvert_exporter": "python",
   "pygments_lexer": "ipython3",
   "version": "3.5.3"
  },
  "name": "Leccion05.ipynb"
 },
 "nbformat": 4,
 "nbformat_minor": 2
}
