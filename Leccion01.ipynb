{
 "cells": [
  {
   "cell_type": "markdown",
   "metadata": {
    "ein.tags": "worksheet-0",
    "slideshow": {
     "slide_type": "-"
    }
   },
   "source": [
    "$\n",
    "\\renewcommand{\\R}[1][{}]{{\\mathbb{R}}^{#1}}\n",
    "\\renewcommand{\\Z}[1][{}]{{\\mathbb{Z}}^{#1}}\n",
    "%%%%%%%%%%%%%%%%%%%%%%%%%%%%%%%%%%%%%%%%%%%%%%%%%%%%%%%%%%%%%%%%%%%%%%%%%%%%\n",
    "\\renewcommand{\\getitemR}[1]{\\getItem{#1}}\n",
    "\\renewcommand{\\getItem}{\\pmb{\\mid}}\n",
    "\\renewcommand{\\elemR}[2]{{#1}^{\\phantom{\\T}}_{\\getitemR{#2}}} \n",
    "\\renewcommand{\\elemRP}[2]{{\\big(#1\\big)}^{\\phantom{\\T}}_{\\getitemR{#2}}} \n",
    "\\renewcommand{\\elemRPE}[2]{\\big({#1}^{\\phantom{\\T}}_{\\getitemR{#2}}\\big)}\n",
    "%%%%%%%%%%%%%%%%%%%%%%%%%%%%%%%%%%%%%%%%%%%%%%%%%%%%%%%%%%%%%%%%%%%%%%%%%%%%\n",
    "\\renewcommand{\\Vect}[2][{}]{{\\boldsymbol{#2}}_{#1}}\n",
    "\\renewcommand{\\eleVR}[2]  {\\elemR  {\\Vect{#1}}{#2}}\t % con subindices\n",
    "\\renewcommand{\\eleVRP}[2] {\\elemRP {\\Vect{#1}}{#2}}      % con subindices y paréntesis interior\n",
    "\\renewcommand{\\eleVRPE}[2]{\\elemRPE{\\Vect{#1}}{#2}}      % con subindices y paréntesis exterior\n",
    "%%%%%%%%%%%%%%%%%%%%%%%%%%%%%%%%%%%%%%%%%%%%%%%%%%%%%%%%%%%%%%%%%%%%%%%%%%%%\n",
    "\\renewcommand{\\VectC}[2][{}]  {\\elemR  {\\Mat{#2}}{#1}}   % con subindices\n",
    "\\renewcommand{\\VectCP}[2][{}] {\\elemRP {\\Mat{#2}}{#1}}   % con subindices y paréntesis\n",
    "\\renewcommand{\\VectCPE}[2][{}]{\\elemRPE{\\Mat{#2}}{#1}}   % con subindices y paréntesis exterior\n",
    "%%%%%%%%%%%%%%%%%%%%%%%%%%%%%%%%%%%%%%%%%%%%%%%%%%%%%%%%%%%%%%%%%%%%%%%%%%%%\n",
    "\\renewcommand{\\mat}[1]{\\mathbf{#1}}\n",
    "\\renewcommand{\\Mat} [2][{}]{{\\mat{#2}}_{#1}} \n",
    "\\renewcommand{\\T}{\\intercal}\n",
    "\\renewcommand{\\MatT}[2][{}]{{\\mat{#2}}^{\\T}_{#1}}\n",
    "\\renewcommand{\\VectC}[2][{}]    {\\elemR  {\\Mat{#2}}{#1}}   % con subindices\n",
    "\\renewcommand{\\VectCP}[2][{}]   {\\elemRP  {\\Mat{#2}}{#1}}   % con subindices y paréntesis\n",
    "\\renewcommand{\\VectCPE}[2][{}]  {\\elemRPE  {\\Mat{#2}}{#1}}   % con subindices y paréntesis exterior\n",
    "\\renewcommand{\\VectCC}[2][{}]   {\\elemRR {\\Mat{#2}}{#1}}   % con ()\n",
    "\\renewcommand{\\VectCCC}[2][{}]  {\\elemRRR{\\Mat{#2}}{#1}}   % con texto \"col\"\n",
    "%SELECCIÓNA de FILAS y COlUMNAS DE UNA MATRIZ TRANSPUESTA PARA GENERAR UN VECTOR DE Rn\n",
    "\\renewcommand{\\VectTC}[2][{}]   {\\elemR{\\MatT{#2}\\!}{#1}}  % con subindices\n",
    "\\renewcommand{\\VectTCC}[2][{}]  {\\elemRR{ \\MatT{#2}}{#1}}  % con ()\n",
    "\\renewcommand{\\VectTCCC}[2][{}] {\\elemRRR{\\MatT{#2}}{#1}}  % con texto \"col\"\n",
    "$"
   ]
  },
  {
   "cell_type": "code",
   "execution_count": 1,
   "metadata": {
    "autoscroll": false,
    "collapsed": false,
    "ein.hycell": false,
    "ein.tags": "worksheet-0",
    "slideshow": {
     "slide_type": "-"
    }
   },
   "outputs": [],
   "source": [
    "from notacion import *"
   ]
  },
  {
   "cell_type": "markdown",
   "metadata": {
    "ein.tags": "worksheet-0",
    "slideshow": {
     "slide_type": "-"
    }
   },
   "source": [
    "# Lección 1\n",
    "\n",
    "## Vectores de $\\R[n]$\n",
    "\n",
    "En las notas de clase se dice que encerrando entre paréntesis una\n",
    "lista de números se \"crea\" un vector. Aquí hemos implementado dicha\n",
    "operación poniendo una lista o tupla de números como argumento de la\n",
    "clase `Vector()`.\n",
    "\n",
    "Así, en las notas, encerrando la lista de números 20, 10, 15, 5 entre\n",
    "paréntesis se genera un vector de $\\R[4]$\n",
    "\n",
    "$$\\begin{pmatrix}20\\\\10\\\\15\\\\5\\end{pmatrix}$$\n",
    "\n",
    "Aquí hacemos lo mismo poniendo la lista `[20, 10, 15, 5]` dentro de `Vector( )`"
   ]
  },
  {
   "cell_type": "code",
   "execution_count": 2,
   "metadata": {
    "autoscroll": false,
    "collapsed": false,
    "ein.hycell": false,
    "ein.tags": "worksheet-0",
    "slideshow": {
     "slide_type": "-"
    }
   },
   "outputs": [
    {
     "data": {
      "text/html": [
       "<p style=\"text-align:center;\">$\\begin{pmatrix}20\\\\10\\\\15\\\\5\\end{pmatrix}$</p>"
      ],
      "text/plain": [
       "Vector([20, 10, 15, 5])"
      ]
     },
     "execution_count": 2,
     "metadata": {},
     "output_type": "execute_result"
    }
   ],
   "source": [
    "Vector( [20, 10, 15, 5] )"
   ]
  },
  {
   "cell_type": "markdown",
   "metadata": {
    "ein.tags": "worksheet-0",
    "slideshow": {
     "slide_type": "-"
    }
   },
   "source": [
    "Obtenemos idéntico resultado poniendo la tupla `(20, 10, 15, 5)` dentro de `Vector( )`"
   ]
  },
  {
   "cell_type": "code",
   "execution_count": 3,
   "metadata": {
    "autoscroll": false,
    "collapsed": false,
    "ein.hycell": false,
    "ein.tags": "worksheet-0",
    "slideshow": {
     "slide_type": "-"
    }
   },
   "outputs": [
    {
     "data": {
      "text/html": [
       "<p style=\"text-align:center;\">$\\begin{pmatrix}5\\\\20\\\\15\\\\10\\end{pmatrix}$</p>"
      ],
      "text/plain": [
       "Vector([5, 20, 15, 10])"
      ]
     },
     "execution_count": 3,
     "metadata": {},
     "output_type": "execute_result"
    }
   ],
   "source": [
    "a = (5, 20, 15, 10)\n",
    "Vector( a )"
   ]
  },
  {
   "cell_type": "markdown",
   "metadata": {
    "ein.tags": "worksheet-0",
    "slideshow": {
     "slide_type": "-"
    }
   },
   "source": [
    "Podemos indicar a Python que pinte el vector como una fila (asignando\n",
    "el valor 'fila' al atributo rpr). *Tenga en cuenta que ésto solo\n",
    "afecta a la representación del vector en el entorno Jupyter (en un un\n",
    "terminal de texto la representación siempre sería: `Vector([5, 20, 15, 10])`).*"
   ]
  },
  {
   "cell_type": "code",
   "execution_count": 4,
   "metadata": {
    "autoscroll": false,
    "collapsed": false,
    "ein.hycell": false,
    "ein.tags": "worksheet-0",
    "slideshow": {
     "slide_type": "-"
    }
   },
   "outputs": [
    {
     "data": {
      "text/html": [
       "<p style=\"text-align:center;\">$\\begin{pmatrix}5,&20,&15,&10\\end{pmatrix}$</p>"
      ],
      "text/plain": [
       "Vector([5, 20, 15, 10])"
      ]
     },
     "execution_count": 4,
     "metadata": {},
     "output_type": "execute_result"
    }
   ],
   "source": [
    "x = Vector( a, rpr='fila' )\n",
    "x"
   ]
  },
  {
   "cell_type": "markdown",
   "metadata": {
    "ein.tags": "worksheet-0",
    "slideshow": {
     "slide_type": "-"
    }
   },
   "source": [
    "Se puede cambiar la representación de un vector. Por ejemplo $\\Vect{x}$ tiene representación en columna"
   ]
  },
  {
   "cell_type": "code",
   "execution_count": 5,
   "metadata": {
    "autoscroll": false,
    "collapsed": false,
    "ein.hycell": false,
    "ein.tags": "worksheet-0",
    "slideshow": {
     "slide_type": "-"
    }
   },
   "outputs": [
    {
     "name": "stdout",
     "output_type": "stream",
     "text": [
      "fila\n"
     ]
    }
   ],
   "source": [
    "print(x.rpr)"
   ]
  },
  {
   "cell_type": "markdown",
   "metadata": {
    "ein.tags": "worksheet-0",
    "slideshow": {
     "slide_type": "-"
    }
   },
   "source": [
    "pero podemos cambiar la representación cambiando el valor del atributo `rpr`."
   ]
  },
  {
   "cell_type": "code",
   "execution_count": 6,
   "metadata": {
    "autoscroll": false,
    "collapsed": false,
    "ein.hycell": false,
    "ein.tags": "worksheet-0",
    "slideshow": {
     "slide_type": "-"
    }
   },
   "outputs": [
    {
     "name": "stdout",
     "output_type": "stream",
     "text": [
      "columna\n"
     ]
    },
    {
     "data": {
      "text/html": [
       "<p style=\"text-align:center;\">$\\begin{pmatrix}5\\\\20\\\\15\\\\10\\end{pmatrix}$</p>"
      ],
      "text/plain": [
       "Vector([5, 20, 15, 10])"
      ]
     },
     "execution_count": 6,
     "metadata": {},
     "output_type": "execute_result"
    }
   ],
   "source": [
    "x.rpr = 'columna'\n",
    "print(x.rpr)\n",
    "x"
   ]
  },
  {
   "cell_type": "markdown",
   "metadata": {
    "ein.tags": "worksheet-0",
    "slideshow": {
     "slide_type": "-"
    }
   },
   "source": [
    "El atributo `n` nos indica el número de elementos del `Vector` "
   ]
  },
  {
   "cell_type": "code",
   "execution_count": 7,
   "metadata": {
    "autoscroll": false,
    "collapsed": false,
    "ein.hycell": false,
    "ein.tags": "worksheet-0",
    "slideshow": {
     "slide_type": "-"
    }
   },
   "outputs": [
    {
     "data": {
      "text/plain": [
       "3"
      ]
     },
     "execution_count": 7,
     "metadata": {},
     "output_type": "execute_result"
    }
   ],
   "source": [
    "v = Vector( (2, 4, 6) )\n",
    "v.n"
   ]
  },
  {
   "cell_type": "markdown",
   "metadata": {
    "ein.tags": "worksheet-0",
    "slideshow": {
     "slide_type": "-"
    }
   },
   "source": [
    "### Igualdad de vectores\n",
    "\n",
    "Dos vectores son iguales si lo son los correspondientes sistemas\n",
    "(listas ordenadas de componentes), independientemente de si son\n",
    "representados como una fila o una columna."
   ]
  },
  {
   "cell_type": "code",
   "execution_count": 8,
   "metadata": {
    "autoscroll": false,
    "collapsed": false,
    "ein.hycell": false,
    "ein.tags": "worksheet-0",
    "slideshow": {
     "slide_type": "-"
    }
   },
   "outputs": [
    {
     "data": {
      "text/plain": [
       "True"
      ]
     },
     "execution_count": 8,
     "metadata": {},
     "output_type": "execute_result"
    }
   ],
   "source": [
    "v = Vector( a )\n",
    "w = Vector( a, rpr='fila' )\n",
    "\n",
    "v == w"
   ]
  },
  {
   "cell_type": "markdown",
   "metadata": {
    "ein.tags": "worksheet-0",
    "slideshow": {
     "slide_type": "-"
    }
   },
   "source": [
    "## Seleccionando componentes\n",
    "\n",
    "Seleccionaremos los componentes con el operador *barra vertical* (como\n",
    "en las notas de clase).\n",
    "\n",
    "Por ejemplo, selecionamos la tercera componente de $\\Vect{a}:\\quad \\eleVR{a}{3}$"
   ]
  },
  {
   "cell_type": "code",
   "execution_count": 9,
   "metadata": {
    "autoscroll": false,
    "collapsed": false,
    "ein.hycell": false,
    "ein.tags": "worksheet-0",
    "slideshow": {
     "slide_type": "-"
    }
   },
   "outputs": [
    {
     "data": {
      "text/plain": [
       "30"
      ]
     },
     "execution_count": 9,
     "metadata": {},
     "output_type": "execute_result"
    }
   ],
   "source": [
    "a = Vector( [10, 20, 30, 40, 50] )\n",
    "a|3"
   ]
  },
  {
   "cell_type": "markdown",
   "metadata": {
    "ein.tags": "worksheet-0",
    "slideshow": {
     "slide_type": "-"
    }
   },
   "source": [
    "y ahora escribimos la quinta componente  $\\Vect{a}:\\quad \\eleVR{a}{5}$"
   ]
  },
  {
   "cell_type": "code",
   "execution_count": 10,
   "metadata": {
    "autoscroll": false,
    "collapsed": false,
    "ein.hycell": false,
    "ein.tags": "worksheet-0",
    "slideshow": {
     "slide_type": "-"
    }
   },
   "outputs": [
    {
     "name": "stdout",
     "output_type": "stream",
     "text": [
      "50\n"
     ]
    }
   ],
   "source": [
    "print( a|5 )"
   ]
  },
  {
   "cell_type": "markdown",
   "metadata": {
    "ein.tags": "worksheet-0",
    "slideshow": {
     "slide_type": "-"
    }
   },
   "source": [
    "Al igual que lo descrito en las notas de clase, la barra vertical funciona por ambos lados"
   ]
  },
  {
   "cell_type": "code",
   "execution_count": 11,
   "metadata": {
    "autoscroll": false,
    "collapsed": false,
    "ein.hycell": false,
    "ein.tags": "worksheet-0",
    "slideshow": {
     "slide_type": "-"
    }
   },
   "outputs": [
    {
     "data": {
      "text/plain": [
       "30"
      ]
     },
     "execution_count": 11,
     "metadata": {},
     "output_type": "execute_result"
    }
   ],
   "source": [
    "3|a"
   ]
  },
  {
   "cell_type": "markdown",
   "metadata": {
    "ein.tags": "worksheet-0",
    "slideshow": {
     "slide_type": "-"
    }
   },
   "source": [
    "Cuando seleccionamos un único elemento de un vector obtenemos un número (en el ejemplo un número entero: `int`)"
   ]
  },
  {
   "cell_type": "code",
   "execution_count": 12,
   "metadata": {
    "autoscroll": false,
    "collapsed": false,
    "ein.hycell": false,
    "ein.tags": "worksheet-0",
    "slideshow": {
     "slide_type": "-"
    }
   },
   "outputs": [
    {
     "data": {
      "text/plain": [
       "int"
      ]
     },
     "execution_count": 12,
     "metadata": {},
     "output_type": "execute_result"
    }
   ],
   "source": [
    "type( a|2 )"
   ]
  },
  {
   "cell_type": "markdown",
   "metadata": {
    "ein.tags": "worksheet-0",
    "slideshow": {
     "slide_type": "-"
    }
   },
   "source": [
    "## Vector nulo\n",
    "\n",
    "El vector nulo $\\Vect{0}$ de $\\R[3]$ se genera del siguiente modo:"
   ]
  },
  {
   "cell_type": "code",
   "execution_count": 13,
   "metadata": {
    "autoscroll": false,
    "collapsed": false,
    "ein.hycell": false,
    "ein.tags": "worksheet-0",
    "slideshow": {
     "slide_type": "-"
    }
   },
   "outputs": [
    {
     "data": {
      "text/html": [
       "<p style=\"text-align:center;\">$\\begin{pmatrix}0\\\\0\\\\0\\end{pmatrix}$</p>"
      ],
      "text/plain": [
       "Vector([0, 0, 0])"
      ]
     },
     "execution_count": 13,
     "metadata": {},
     "output_type": "execute_result"
    }
   ],
   "source": [
    "V0(3)"
   ]
  },
  {
   "cell_type": "markdown",
   "metadata": {
    "ein.tags": "worksheet-0",
    "slideshow": {
     "slide_type": "-"
    }
   },
   "source": [
    "Generemos el vector nulo de $\\R[5]$ para ser representado como una\n",
    "fila:"
   ]
  },
  {
   "cell_type": "code",
   "execution_count": 14,
   "metadata": {
    "autoscroll": false,
    "collapsed": false,
    "ein.hycell": false,
    "ein.tags": "worksheet-0",
    "slideshow": {
     "slide_type": "-"
    }
   },
   "outputs": [
    {
     "data": {
      "text/html": [
       "<p style=\"text-align:center;\">$\\begin{pmatrix}0,&0,&0,&0,&0\\end{pmatrix}$</p>"
      ],
      "text/plain": [
       "Vector([0, 0, 0, 0, 0])"
      ]
     },
     "execution_count": 14,
     "metadata": {},
     "output_type": "execute_result"
    }
   ],
   "source": [
    "V0( 5, rpr='fila' )"
   ]
  },
  {
   "cell_type": "markdown",
   "metadata": {
    "ein.tags": "worksheet-0",
    "slideshow": {
     "slide_type": "-"
    }
   },
   "source": [
    "## Suma, producto por escalares y producto escalar\n",
    "\n",
    "### Suma de vectores\n",
    "\n",
    "Genere dos vectores:\n",
    "- el vector $\\Vect{a}$ está formado por el sistema de números: 1,4,9,2\n",
    "- el vector $\\Vect{b}$ está formado por el sistema de números: 1,2,1,0\n",
    "\n",
    "Obtenga la tercera componente de la suma de ambos vectores: $\\elemR{(\\Vect{a}+\\Vect{b})}{3}$"
   ]
  },
  {
   "cell_type": "code",
   "execution_count": 15,
   "metadata": {
    "autoscroll": false,
    "collapsed": false,
    "ein.hycell": false,
    "ein.tags": "worksheet-0",
    "slideshow": {
     "slide_type": "-"
    }
   },
   "outputs": [
    {
     "data": {
      "text/plain": [
       "10"
      ]
     },
     "execution_count": 15,
     "metadata": {},
     "output_type": "execute_result"
    }
   ],
   "source": [
    "a = Vector( [1,4,9,2] )\n",
    "b = Vector( [1,2,1,0] )\n",
    "(a+b)|3"
   ]
  },
  {
   "cell_type": "markdown",
   "metadata": {
    "ein.tags": "worksheet-0",
    "slideshow": {
     "slide_type": "-"
    }
   },
   "source": [
    "y ahora sume la tercera componente de $\\Vect{a}$ más la tercera componente de\n",
    "$\\Vect{b}:\\qquad\\eleVRPE{a}{3}+\\eleVRPE{b}{3}$\n",
    "\n",
    "Compruebe que obtiene el mismo resultado que el obtenido en la celda\n",
    "anterior. ¿Cómo se llama esta propiedad?"
   ]
  },
  {
   "cell_type": "code",
   "execution_count": 16,
   "metadata": {
    "autoscroll": false,
    "collapsed": false,
    "ein.hycell": false,
    "ein.tags": "worksheet-0",
    "slideshow": {
     "slide_type": "-"
    }
   },
   "outputs": [
    {
     "data": {
      "text/plain": [
       "10"
      ]
     },
     "execution_count": 16,
     "metadata": {},
     "output_type": "execute_result"
    }
   ],
   "source": [
    "(a|3) + (b|3)"
   ]
  },
  {
   "cell_type": "markdown",
   "metadata": {
    "ein.tags": "worksheet-0",
    "slideshow": {
     "slide_type": "-"
    }
   },
   "source": [
    "#### El orden de ejecución de las operaciones y la necesidad de poner paréntesis.\n",
    "\n",
    "Ahora pruebe a quitar los paréntesis de la expresión anterior y\n",
    "ejecutar el código, verá que Python nos da un error. Se debe a que\n",
    "Python aplica las operaciones consecutivamente de izquierda a derecha:\n",
    "Python secciona la tercera componente de $\\Vect{a}$ (que es el número\n",
    "`9`) y a continuación trata de sumar a dicho número el vector\n",
    "$\\Vect{b}$... pero resulta que no está definido qué significa sumar a\n",
    "un número un vector. Tan solo está definida la suma entre números, o\n",
    "la suma entre vectores (pero números más vectores no tiene sentido).\n",
    "\n",
    "Cuando nosotros leemos en las notas de clase la expresión:\n",
    "$\\;\\eleVR{a}{3}+\\eleVR{b}{3},\\;$ realmente interpretamos que lo que\n",
    "pone es $\\;\\eleVRPE{a}{3}+\\eleVRPE{b}{3};\\;$ es decir, ponemos\n",
    "mentalmente los paréntesis. Sin embargo Python necesita que le digamos\n",
    "cuál es el orden correcto para operar. El uso de los paréntesis\n",
    "resuelve ese problema. Primero se calcula lo que hay dentro de los\n",
    "paréntesis y luego se realiza la suma.\n",
    "\n",
    "Tenga en cuenta que cuando las expresiones son complicadas, !incluso\n",
    "nosotros necesitamos los paréntesis interpretar correctamente!\n",
    "Siempre que escriba en un papel una expresión matemática y dude si\n",
    "poner, o no, los paréntesis, decida ponerlos... es lo correcto. Los\n",
    "paréntesis se omiten solo cuando nos resulta muy evidente el orden de\n",
    "las operaciones.\n",
    "\n",
    "*Recuerde que Python siempre ejecuta consecutivamente las operaciones\n",
    "de izquierda a derecha. No olvide la necesidad de poner paréntesis.*\n",
    "\n",
    "### Producto de un vector por un escalar\n",
    "\n",
    "Con el producto nos ocurre algo parecido. Nosotros comprendemos la\n",
    "expresión $$2\\Vect{a}$$ porque realmente interpretamos\n",
    "$$2\\cdot\\Vect{a}.$$ (fíjese en el punto que indica \"producto\"). Esa extrapolación no la puede realizar un\n",
    "ordenador. Si usted teclea"
   ]
  },
  {
   "cell_type": "raw",
   "metadata": {
    "ein.tags": "worksheet-0",
    "slideshow": {
     "slide_type": "-"
    }
   },
   "source": [
    "2a"
   ]
  },
  {
   "cell_type": "markdown",
   "metadata": {
    "ein.tags": "worksheet-0",
    "slideshow": {
     "slide_type": "-"
    }
   },
   "source": [
    "Python le mostrará un error. Compruebeló en la siguiente celda"
   ]
  },
  {
   "cell_type": "code",
   "execution_count": null,
   "metadata": {
    "autoscroll": false,
    "collapsed": false,
    "ein.hycell": false,
    "ein.tags": "worksheet-0",
    "slideshow": {
     "slide_type": "-"
    }
   },
   "outputs": [],
   "source": []
  },
  {
   "cell_type": "markdown",
   "metadata": {
    "ein.tags": "worksheet-0",
    "slideshow": {
     "slide_type": "-"
    }
   },
   "source": [
    "Python necesita que se le indique explícitamente el operador producto (*)."
   ]
  },
  {
   "cell_type": "code",
   "execution_count": 17,
   "metadata": {
    "autoscroll": false,
    "collapsed": false,
    "ein.hycell": false,
    "ein.tags": "worksheet-0",
    "slideshow": {
     "slide_type": "-"
    }
   },
   "outputs": [
    {
     "data": {
      "text/html": [
       "<p style=\"text-align:center;\">$\\begin{pmatrix}2\\\\8\\\\18\\\\4\\end{pmatrix}$</p>"
      ],
      "text/plain": [
       "Vector([2, 8, 18, 4])"
      ]
     },
     "execution_count": 17,
     "metadata": {},
     "output_type": "execute_result"
    }
   ],
   "source": [
    "2*a"
   ]
  },
  {
   "cell_type": "markdown",
   "metadata": {
    "ein.tags": "worksheet-0",
    "slideshow": {
     "slide_type": "-"
    }
   },
   "source": [
    "*Observación*: Tal como se ha programado la librería para el curso de\n",
    "Matemáticas 2, es aceptable multiplicar por ambos lados... algo que\n",
    "también aceptamos \"excepcionalmente\" en las notas de clase (para\n",
    "mantener la asociatividad por la izquierda de la notación\n",
    "empleada). Pero tenga en cuenta que una expresión como \"$\\Vect{x}2$\"\n",
    "nunca aparece en los textos; el modo correcto de escribir dicho\n",
    "producto es \"$2\\Vect{x}$\", es decir, \"el coeficiente primero\").\n"
   ]
  },
  {
   "cell_type": "code",
   "execution_count": 18,
   "metadata": {
    "autoscroll": false,
    "collapsed": false,
    "ein.hycell": false,
    "ein.tags": "worksheet-0",
    "slideshow": {
     "slide_type": "-"
    }
   },
   "outputs": [
    {
     "data": {
      "text/html": [
       "<p style=\"text-align:center;\">$\\begin{pmatrix}2\\\\8\\\\18\\\\4\\end{pmatrix}$</p>"
      ],
      "text/plain": [
       "Vector([2, 8, 18, 4])"
      ]
     },
     "execution_count": 18,
     "metadata": {},
     "output_type": "execute_result"
    }
   ],
   "source": [
    "a*2"
   ]
  },
  {
   "cell_type": "markdown",
   "metadata": {
    "ein.tags": "worksheet-0",
    "slideshow": {
     "slide_type": "-"
    }
   },
   "source": [
    "Escriba en la siguiente celda el código que obtiene la tercera\n",
    "componente del doble del vector $\\Vect{a}:\\quad \\elemRP{2\\Vect{a}}{3}$"
   ]
  },
  {
   "cell_type": "code",
   "execution_count": null,
   "metadata": {
    "autoscroll": false,
    "collapsed": false,
    "ein.hycell": false,
    "ein.tags": "worksheet-0",
    "slideshow": {
     "slide_type": "-"
    }
   },
   "outputs": [],
   "source": []
  },
  {
   "cell_type": "markdown",
   "metadata": {
    "ein.tags": "worksheet-0",
    "slideshow": {
     "slide_type": "-"
    }
   },
   "source": [
    "y ahora obtenga la tercera componente de $\\Vect{a}$ y multiplíquela\n",
    "por 2: $\\quad 2\\elemRPE{\\Vect{a}}{3}$."
   ]
  },
  {
   "cell_type": "code",
   "execution_count": null,
   "metadata": {
    "autoscroll": false,
    "collapsed": false,
    "ein.hycell": false,
    "ein.tags": "worksheet-0",
    "slideshow": {
     "slide_type": "-"
    }
   },
   "outputs": [],
   "source": []
  },
  {
   "cell_type": "markdown",
   "metadata": {
    "ein.tags": "worksheet-0",
    "slideshow": {
     "slide_type": "-"
    }
   },
   "source": [
    "Observe que obtine el mismo resultado que antes. ¿Cómo se llama esta\n",
    "propiedad?\n",
    "\n",
    "Así pues, el operador selector tiene dos importantes propiedades que\n",
    "lo convierten en un operador lin....¿?\n",
    "\n",
    "## Matrices de $\\R[m\\times n]$\n",
    "\n",
    "En las notas de clase se dice que encerrando entre corchetes una lista\n",
    "de vectores se \"crea\" una matriz. Aquí hemos implementado dicha\n",
    "operación poniendo una lista o tupla de vectores como argumento de la\n",
    "clase `Matrix()`.\n",
    "\n",
    "Así, en las notas se dice que encerrando la lista de vectores (1, 2),\n",
    "(1, 0), y (9, 2) entre corchetes se genera la matriz de $\\R[2\\times\n",
    "3]$\n",
    "\n",
    "$$\\begin{bmatrix}1&1&9\\\\2&0&2\\end{bmatrix}$$\n",
    "\n",
    "Aquí hacemos lo mismo poniendo la lista de vectores como argumento de\n",
    "la clase `Matrix( )`"
   ]
  },
  {
   "cell_type": "code",
   "execution_count": 19,
   "metadata": {
    "autoscroll": false,
    "collapsed": false,
    "ein.hycell": false,
    "ein.tags": "worksheet-0",
    "slideshow": {
     "slide_type": "-"
    }
   },
   "outputs": [
    {
     "name": "stdout",
     "output_type": "stream",
     "text": [
      "Matrix([Vector([1, 2]), Vector([1, 0]), Vector([9, 2])])\n"
     ]
    },
    {
     "data": {
      "text/html": [
       "<p style=\"text-align:center;\">$\\begin{bmatrix}1&1&9\\\\2&0&2\\end{bmatrix}$</p>"
      ],
      "text/plain": [
       "Matrix([Vector([1, 2]), Vector([1, 0]), Vector([9, 2])])"
      ]
     },
     "execution_count": 19,
     "metadata": {},
     "output_type": "execute_result"
    }
   ],
   "source": [
    "a = Vector( [1,2] )\n",
    "b = Vector( [1,0] )\n",
    "c = Vector( [9,2] )\n",
    "\n",
    "A = Matrix( [a,b,c] )\n",
    "print(A)              # representación de la matriz en consola\n",
    "A                     # representa a A con LaTeX"
   ]
  },
  {
   "cell_type": "markdown",
   "metadata": {
    "ein.tags": "worksheet-0",
    "slideshow": {
     "slide_type": "-"
    }
   },
   "source": [
    "Nuestra librería de Python almacena las matrices como listas de vectores\n",
    "(donde cada vector corresponde a una columna)"
   ]
  },
  {
   "cell_type": "code",
   "execution_count": 20,
   "metadata": {
    "autoscroll": false,
    "collapsed": false,
    "ein.hycell": false,
    "ein.tags": "worksheet-0",
    "slideshow": {
     "slide_type": "-"
    }
   },
   "outputs": [
    {
     "data": {
      "text/plain": [
       "[Vector([1, 2]), Vector([1, 0]), Vector([9, 2])]"
      ]
     },
     "execution_count": 20,
     "metadata": {},
     "output_type": "execute_result"
    }
   ],
   "source": [
    "A.lista"
   ]
  },
  {
   "cell_type": "markdown",
   "metadata": {
    "ein.tags": "worksheet-0",
    "slideshow": {
     "slide_type": "-"
    }
   },
   "source": [
    "Ademas de instanciar las matrices mediante una lista (o tupla) de\n",
    "vectores, también podemos instanciar una matriz mediante una lista (o\n",
    "tupla) de listas o tuplas. En este caso, estaremos describiendo la\n",
    "matriz fila a fila:"
   ]
  },
  {
   "cell_type": "code",
   "execution_count": 21,
   "metadata": {
    "autoscroll": false,
    "collapsed": false,
    "ein.hycell": false,
    "ein.tags": "worksheet-0",
    "slideshow": {
     "slide_type": "-"
    }
   },
   "outputs": [
    {
     "data": {
      "text/html": [
       "<p style=\"text-align:center;\">$\\begin{bmatrix}1&1&1\\\\1&2&3\\\\1&4&6\\end{bmatrix}$</p>"
      ],
      "text/plain": [
       "Matrix([Vector([1, 1, 1]), Vector([1, 2, 4]), Vector([1, 3, 6])])"
      ]
     },
     "execution_count": 21,
     "metadata": {},
     "output_type": "execute_result"
    }
   ],
   "source": [
    "Matrix( ([1,1,1], [1,2,3], [1,4,6]) )"
   ]
  },
  {
   "cell_type": "markdown",
   "metadata": {
    "ein.tags": "worksheet-0",
    "slideshow": {
     "slide_type": "-"
    }
   },
   "source": [
    "Esta forma de construir matrices (fila a fila) nos puede resultar\n",
    "cómoda en la práctica, pero no es necesaria (y de hecho en las notas\n",
    "de clase no se usa).\n",
    "\n",
    "#### Orden de la matriz\n",
    "\n",
    "El atributo `m` nos indica el número de filas de `Matrix` y el\n",
    "atributo `n` el numero de columnas. Así, el orden de $\\Mat{A}$ es"
   ]
  },
  {
   "cell_type": "code",
   "execution_count": 22,
   "metadata": {
    "autoscroll": false,
    "collapsed": false,
    "ein.hycell": false,
    "ein.tags": "worksheet-0",
    "slideshow": {
     "slide_type": "-"
    }
   },
   "outputs": [
    {
     "data": {
      "text/plain": [
       "(2, 3)"
      ]
     },
     "execution_count": 22,
     "metadata": {},
     "output_type": "execute_result"
    }
   ],
   "source": [
    "A.m, A.n"
   ]
  },
  {
   "cell_type": "markdown",
   "metadata": {
    "ein.tags": "worksheet-0",
    "slideshow": {
     "slide_type": "-"
    }
   },
   "source": [
    "### Selecionando filas, columnas y componentes.\n",
    "\n",
    "Obtenemos el vector correspondiente a la j-ésima columna de $\\Mat{A}$ (donde j=2) con\n"
   ]
  },
  {
   "cell_type": "code",
   "execution_count": 23,
   "metadata": {
    "autoscroll": false,
    "collapsed": false,
    "ein.hycell": false,
    "ein.tags": "worksheet-0",
    "slideshow": {
     "slide_type": "-"
    }
   },
   "outputs": [
    {
     "data": {
      "text/html": [
       "<p style=\"text-align:center;\">$\\begin{pmatrix}1\\\\0\\end{pmatrix}$</p>"
      ],
      "text/plain": [
       "Vector([1, 0])"
      ]
     },
     "execution_count": 23,
     "metadata": {},
     "output_type": "execute_result"
    }
   ],
   "source": [
    "A|2"
   ]
  },
  {
   "cell_type": "markdown",
   "metadata": {
    "ein.tags": "worksheet-0",
    "slideshow": {
     "slide_type": "-"
    }
   },
   "source": [
    "y el vector correspondiente a la i-ésima fila de $\\Mat{A}$ (donde i=1) con"
   ]
  },
  {
   "cell_type": "code",
   "execution_count": 24,
   "metadata": {
    "autoscroll": false,
    "collapsed": false,
    "ein.hycell": false,
    "ein.tags": "worksheet-0",
    "slideshow": {
     "slide_type": "-"
    }
   },
   "outputs": [
    {
     "data": {
      "text/html": [
       "<p style=\"text-align:center;\">$\\begin{pmatrix}1,&1,&9\\end{pmatrix}$</p>"
      ],
      "text/plain": [
       "Vector([1, 1, 9])"
      ]
     },
     "execution_count": 24,
     "metadata": {},
     "output_type": "execute_result"
    }
   ],
   "source": [
    "1|A"
   ]
  },
  {
   "cell_type": "markdown",
   "metadata": {
    "ein.tags": "worksheet-0",
    "slideshow": {
     "slide_type": "-"
    }
   },
   "source": [
    "Podemos seleccionar la componente situada en la segunda fila y tercera\n",
    "columna de $\\Mat{A}$ del siguiente modo:"
   ]
  },
  {
   "cell_type": "code",
   "execution_count": 25,
   "metadata": {
    "autoscroll": false,
    "collapsed": false,
    "ein.hycell": false,
    "ein.tags": "worksheet-0",
    "slideshow": {
     "slide_type": "-"
    }
   },
   "outputs": [
    {
     "data": {
      "text/plain": [
       "2"
      ]
     },
     "execution_count": 25,
     "metadata": {},
     "output_type": "execute_result"
    }
   ],
   "source": [
    "2|A|3"
   ]
  },
  {
   "cell_type": "markdown",
   "metadata": {
    "ein.tags": "worksheet-0",
    "slideshow": {
     "slide_type": "-"
    }
   },
   "source": [
    "Cuando seleccionamos una fila o una columna de una matriz obtenemos un `Vector`"
   ]
  },
  {
   "cell_type": "code",
   "execution_count": 26,
   "metadata": {
    "autoscroll": false,
    "collapsed": false,
    "ein.hycell": false,
    "ein.tags": "worksheet-0",
    "slideshow": {
     "slide_type": "-"
    }
   },
   "outputs": [
    {
     "data": {
      "text/plain": [
       "(notacion.Vector, notacion.Vector)"
      ]
     },
     "execution_count": 26,
     "metadata": {},
     "output_type": "execute_result"
    }
   ],
   "source": [
    "type(A|1), type(2|A)"
   ]
  },
  {
   "cell_type": "markdown",
   "metadata": {
    "ein.tags": "worksheet-0",
    "slideshow": {
     "slide_type": "-"
    }
   },
   "source": [
    "Como consecuencia de lo anterior, resulta que tenemos varias formas de\n",
    "seleccionar un elemento de una `Matrix`.\n",
    "\n",
    "Por ejemplo, para obtener la componente situada en la segunda fila y\n",
    "tercera columna de $\\Mat{A}$ podemos seguir estas tres vías:"
   ]
  },
  {
   "cell_type": "code",
   "execution_count": 27,
   "metadata": {
    "autoscroll": false,
    "collapsed": false,
    "ein.hycell": false,
    "ein.tags": "worksheet-0",
    "slideshow": {
     "slide_type": "-"
    }
   },
   "outputs": [
    {
     "data": {
      "text/plain": [
       "2"
      ]
     },
     "execution_count": 27,
     "metadata": {},
     "output_type": "execute_result"
    }
   ],
   "source": [
    "2|A|3"
   ]
  },
  {
   "cell_type": "code",
   "execution_count": 28,
   "metadata": {
    "autoscroll": false,
    "collapsed": false,
    "ein.hycell": false,
    "ein.tags": "worksheet-0",
    "slideshow": {
     "slide_type": "-"
    }
   },
   "outputs": [
    {
     "data": {
      "text/plain": [
       "2"
      ]
     },
     "execution_count": 28,
     "metadata": {},
     "output_type": "execute_result"
    }
   ],
   "source": [
    "(A|3)|2"
   ]
  },
  {
   "cell_type": "code",
   "execution_count": 29,
   "metadata": {
    "autoscroll": false,
    "collapsed": false,
    "ein.hycell": false,
    "ein.tags": "worksheet-0",
    "slideshow": {
     "slide_type": "-"
    }
   },
   "outputs": [
    {
     "data": {
      "text/plain": [
       "2"
      ]
     },
     "execution_count": 29,
     "metadata": {},
     "output_type": "execute_result"
    }
   ],
   "source": [
    "3|(2|A)"
   ]
  },
  {
   "cell_type": "markdown",
   "metadata": {
    "ein.tags": "worksheet-0",
    "slideshow": {
     "slide_type": "-"
    }
   },
   "source": [
    "#### El orden de ejecución de las operaciones y la necesidad de poner paréntesis.\n",
    "\n",
    "En Python, la [operación\n",
    "boleana](https://docs.python.org/3/reference/expressions.html#boolean-operations)\n",
    "3|2 da como resultado 3. Sabiendo que Python va ejecutando operaciones\n",
    "de izquierda a derecha ¿Cuál de las dos últimas alternativas no\n",
    "funcionaría bien si quitamos los paréntesis?"
   ]
  },
  {
   "cell_type": "markdown",
   "metadata": {
    "ein.tags": "worksheet-0",
    "slideshow": {
     "slide_type": "-"
    }
   },
   "source": [
    "### La transpuesta\n",
    "\n",
    "Usando las herramientas descritas más arriba disponemos de una forma\n",
    "de transponer $\\Mat{A}$: introducir como argumento de `Matrix` la\n",
    "lista de las listas correspondientes a sus columnas. Si la matriz es:\n",
    "$$\\Mat{A}=\\begin{bmatrix}1&1&9\\\\2&0&2\\end{bmatrix}$$ entonces su\n",
    "transpuesta es:"
   ]
  },
  {
   "cell_type": "code",
   "execution_count": 30,
   "metadata": {
    "autoscroll": false,
    "collapsed": false,
    "ein.hycell": false,
    "ein.tags": "worksheet-0",
    "slideshow": {
     "slide_type": "-"
    }
   },
   "outputs": [
    {
     "data": {
      "text/html": [
       "<p style=\"text-align:center;\">$\\begin{bmatrix}1&2\\\\1&0\\\\9&2\\end{bmatrix}$</p>"
      ],
      "text/plain": [
       "Matrix([Vector([1, 1, 9]), Vector([2, 0, 2])])"
      ]
     },
     "execution_count": 30,
     "metadata": {},
     "output_type": "execute_result"
    }
   ],
   "source": [
    "Matrix( [ (A|1).lista, (A|2).lista, (A|3).lista ] )"
   ]
  },
  {
   "cell_type": "markdown",
   "metadata": {
    "ein.tags": "worksheet-0",
    "slideshow": {
     "slide_type": "-"
    }
   },
   "source": [
    "Esto mismo lo podemos hacer mediante un bucle que recorra las filas\n",
    "de la matriz:"
   ]
  },
  {
   "cell_type": "code",
   "execution_count": 31,
   "metadata": {
    "autoscroll": false,
    "collapsed": false,
    "ein.hycell": false,
    "ein.tags": "worksheet-0",
    "slideshow": {
     "slide_type": "-"
    }
   },
   "outputs": [
    {
     "data": {
      "text/html": [
       "<p style=\"text-align:center;\">$\\begin{bmatrix}1&1&9\\\\2&0&2\\end{bmatrix}$</p>"
      ],
      "text/plain": [
       "Matrix([Vector([1, 2]), Vector([1, 0]), Vector([9, 2])])"
      ]
     },
     "execution_count": 31,
     "metadata": {},
     "output_type": "execute_result"
    }
   ],
   "source": [
    "B = Matrix ( [ A|j for j in range(1,A.n+1) ] )\n",
    "B"
   ]
  },
  {
   "cell_type": "markdown",
   "metadata": {
    "ein.tags": "worksheet-0",
    "slideshow": {
     "slide_type": "-"
    }
   },
   "source": [
    "La librería programada para el curso permite trasponer una matriz (y\n",
    "si estudia el código de dicha librería verá que transposición está\n",
    "programada usando precisamente el método de la celda de más\n",
    "arriba). Pero como desgraciadamente Python tiene una fuerte limitación\n",
    "en cuanto a la disponibilidad de símbolos, nos vemos obligados a\n",
    "emplear el símbolo \"or\" (~) para la transposición (en lugar del\n",
    "símbolo $\\T$); y además ha de situarse delante de la matriz que se\n",
    "quiere transponer. Así, la transpuesta $\\MatT{A}$ es `~A`:"
   ]
  },
  {
   "cell_type": "code",
   "execution_count": 32,
   "metadata": {
    "autoscroll": false,
    "collapsed": false,
    "ein.hycell": false,
    "ein.tags": "worksheet-0",
    "slideshow": {
     "slide_type": "-"
    }
   },
   "outputs": [
    {
     "data": {
      "text/html": [
       "<p style=\"text-align:center;\">$\\begin{bmatrix}1&2\\\\1&0\\\\9&2\\end{bmatrix}$</p>"
      ],
      "text/plain": [
       "Matrix([Vector([1, 1, 9]), Vector([2, 0, 2])])"
      ]
     },
     "execution_count": 32,
     "metadata": {},
     "output_type": "execute_result"
    }
   ],
   "source": [
    "~A"
   ]
  },
  {
   "cell_type": "markdown",
   "metadata": {
    "ein.tags": "worksheet-0",
    "slideshow": {
     "slide_type": "-"
    }
   },
   "source": [
    "#### Ahora podemos jugar con la librería.\n",
    "\n",
    "Por ejemplo:\n",
    "\n",
    "*la primera fila de $\\Mat{A}$ es la primera columna de su transpuesta*"
   ]
  },
  {
   "cell_type": "code",
   "execution_count": 33,
   "metadata": {
    "autoscroll": false,
    "collapsed": false,
    "ein.hycell": false,
    "ein.tags": "worksheet-0",
    "slideshow": {
     "slide_type": "-"
    }
   },
   "outputs": [
    {
     "data": {
      "text/html": [
       "<p style=\"text-align:center;\">$\\begin{pmatrix}1\\\\1\\\\9\\end{pmatrix}$</p>"
      ],
      "text/plain": [
       "Vector([1, 1, 9])"
      ]
     },
     "execution_count": 33,
     "metadata": {},
     "output_type": "execute_result"
    }
   ],
   "source": [
    "(~A)|1"
   ]
  },
  {
   "cell_type": "markdown",
   "metadata": {
    "ein.tags": "worksheet-0",
    "slideshow": {
     "slide_type": "-"
    }
   },
   "source": [
    "Si además queremos que la representación de la primera fila sea en\n",
    "forma de fila, podemos hacerlo del siguiente modo:"
   ]
  },
  {
   "cell_type": "code",
   "execution_count": 34,
   "metadata": {
    "autoscroll": false,
    "collapsed": false,
    "ein.hycell": false,
    "ein.tags": "worksheet-0",
    "slideshow": {
     "slide_type": "-"
    }
   },
   "outputs": [
    {
     "data": {
      "text/html": [
       "<p style=\"text-align:center;\">$\\begin{pmatrix}1,&1,&9\\end{pmatrix}$</p>"
      ],
      "text/plain": [
       "Vector([1, 1, 9])"
      ]
     },
     "execution_count": 34,
     "metadata": {},
     "output_type": "execute_result"
    }
   ],
   "source": [
    "Vector((~A)|1, rpr='fila')"
   ]
  },
  {
   "cell_type": "markdown",
   "metadata": {
    "ein.tags": "worksheet-0",
    "slideshow": {
     "slide_type": "-"
    }
   },
   "source": [
    "Siguiendo el método de las notas, definamos una matriz cuya única fila es la primera fila de $\\Mat{A}$:"
   ]
  },
  {
   "cell_type": "code",
   "execution_count": 35,
   "metadata": {
    "autoscroll": false,
    "collapsed": false,
    "ein.hycell": false,
    "ein.tags": "worksheet-0",
    "slideshow": {
     "slide_type": "-"
    }
   },
   "outputs": [
    {
     "data": {
      "text/html": [
       "<p style=\"text-align:center;\">$\\begin{bmatrix}1&1&9\\end{bmatrix}$</p>"
      ],
      "text/plain": [
       "Matrix([Vector([1]), Vector([1]), Vector([9])])"
      ]
     },
     "execution_count": 35,
     "metadata": {},
     "output_type": "execute_result"
    }
   ],
   "source": [
    "~Matrix([1|A])"
   ]
  },
  {
   "cell_type": "markdown",
   "metadata": {
    "ein.tags": "worksheet-0",
    "slideshow": {
     "slide_type": "-"
    }
   },
   "source": [
    "El elemento que está en la primera fila y tercera columna es:"
   ]
  },
  {
   "cell_type": "code",
   "execution_count": 36,
   "metadata": {
    "autoscroll": false,
    "collapsed": false,
    "ein.hycell": false,
    "ein.tags": "worksheet-0",
    "slideshow": {
     "slide_type": "-"
    }
   },
   "outputs": [
    {
     "data": {
      "text/plain": [
       "9"
      ]
     },
     "execution_count": 36,
     "metadata": {},
     "output_type": "execute_result"
    }
   ],
   "source": [
    "1|A|3"
   ]
  },
  {
   "cell_type": "markdown",
   "metadata": {
    "ein.tags": "worksheet-0",
    "slideshow": {
     "slide_type": "-"
    }
   },
   "source": [
    "Pero si transponemos la matriz, hay que intercambiar los índices de\n",
    "dicho componente:"
   ]
  },
  {
   "cell_type": "code",
   "execution_count": 37,
   "metadata": {
    "autoscroll": false,
    "collapsed": false,
    "ein.hycell": false,
    "ein.tags": "worksheet-0",
    "slideshow": {
     "slide_type": "-"
    }
   },
   "outputs": [
    {
     "data": {
      "text/plain": [
       "9"
      ]
     },
     "execution_count": 37,
     "metadata": {},
     "output_type": "execute_result"
    }
   ],
   "source": [
    "3|(~A)|1"
   ]
  },
  {
   "cell_type": "markdown",
   "metadata": {
    "ein.tags": "worksheet-0",
    "slideshow": {
     "slide_type": "-"
    }
   },
   "source": [
    "Y si transponemos dos veces obtenemos la matriz original:"
   ]
  },
  {
   "cell_type": "code",
   "execution_count": 38,
   "metadata": {
    "autoscroll": false,
    "collapsed": false,
    "ein.hycell": false,
    "ein.tags": "worksheet-0",
    "slideshow": {
     "slide_type": "-"
    }
   },
   "outputs": [
    {
     "data": {
      "text/html": [
       "<p style=\"text-align:center;\">$\\begin{bmatrix}1&1&9\\\\2&0&2\\end{bmatrix}$</p>"
      ],
      "text/plain": [
       "Matrix([Vector([1, 2]), Vector([1, 0]), Vector([9, 2])])"
      ]
     },
     "execution_count": 38,
     "metadata": {},
     "output_type": "execute_result"
    }
   ],
   "source": [
    "~~A"
   ]
  },
  {
   "cell_type": "markdown",
   "metadata": {
    "ein.tags": "worksheet-0",
    "slideshow": {
     "slide_type": "-"
    }
   },
   "source": [
    "La tercera columna de $\\Mat{A}$ es la tercera fila de su transpuesta:"
   ]
  },
  {
   "cell_type": "code",
   "execution_count": 39,
   "metadata": {
    "autoscroll": false,
    "collapsed": false,
    "ein.hycell": false,
    "ein.tags": "worksheet-0",
    "slideshow": {
     "slide_type": "-"
    }
   },
   "outputs": [
    {
     "data": {
      "text/plain": [
       "(Vector([9, 2]), Vector([9, 2]))"
      ]
     },
     "execution_count": 39,
     "metadata": {},
     "output_type": "execute_result"
    }
   ],
   "source": [
    "A|3, 3|(~A)"
   ]
  },
  {
   "cell_type": "markdown",
   "metadata": {
    "ein.tags": "worksheet-0",
    "slideshow": {
     "slide_type": "-"
    }
   },
   "source": [
    "### Matriz nula\n",
    "\n",
    "La matriz nula $\\Mat{0}$ de $\\R[2\\times 3]$ se genera del siguiente modo:"
   ]
  },
  {
   "cell_type": "code",
   "execution_count": 40,
   "metadata": {
    "autoscroll": false,
    "collapsed": false,
    "ein.hycell": false,
    "ein.tags": "worksheet-0",
    "slideshow": {
     "slide_type": "-"
    }
   },
   "outputs": [
    {
     "data": {
      "text/html": [
       "<p style=\"text-align:center;\">$\\begin{bmatrix}0&0&0\\\\0&0&0\\end{bmatrix}$</p>"
      ],
      "text/plain": [
       "Matrix([Vector([0, 0]), Vector([0, 0]), Vector([0, 0])])"
      ]
     },
     "execution_count": 40,
     "metadata": {},
     "output_type": "execute_result"
    }
   ],
   "source": [
    "M0(2,3)"
   ]
  },
  {
   "cell_type": "markdown",
   "metadata": {
    "ein.tags": "worksheet-0",
    "slideshow": {
     "slide_type": "-"
    }
   },
   "source": [
    "### Matriz identidad\n",
    "\n",
    "La matriz identidad $\\Mat{I}$ de orden $2$ se genera del siguiente modo:"
   ]
  },
  {
   "cell_type": "code",
   "execution_count": 41,
   "metadata": {
    "autoscroll": false,
    "collapsed": false,
    "ein.hycell": false,
    "ein.tags": "worksheet-0",
    "slideshow": {
     "slide_type": "-"
    }
   },
   "outputs": [
    {
     "data": {
      "text/html": [
       "<p style=\"text-align:center;\">$\\begin{bmatrix}1&0\\\\0&1\\end{bmatrix}$</p>"
      ],
      "text/plain": [
       "Matrix([Vector([1, 0]), Vector([0, 1])])"
      ]
     },
     "execution_count": 41,
     "metadata": {},
     "output_type": "execute_result"
    }
   ],
   "source": [
    "I(2)"
   ]
  },
  {
   "cell_type": "markdown",
   "metadata": {
    "ein.tags": "worksheet-0",
    "slideshow": {
     "slide_type": "-"
    }
   },
   "source": [
    "## Suma de matrices y producto por un escalar\n",
    "\n",
    "El comportamiento de la suma de matrices y el producto de una matriz\n",
    "por un escalar es similar al caso de los vectores."
   ]
  },
  {
   "cell_type": "code",
   "execution_count": 42,
   "metadata": {
    "autoscroll": false,
    "collapsed": false,
    "ein.hycell": false,
    "ein.tags": "worksheet-0",
    "slideshow": {
     "slide_type": "-"
    }
   },
   "outputs": [
    {
     "data": {
      "text/html": [
       "<p style=\"text-align:center;\">$\\begin{bmatrix}9&-5\\\\-5&9\\end{bmatrix}$</p>"
      ],
      "text/plain": [
       "Matrix([Vector([9, -5]), Vector([-5, 9])])"
      ]
     },
     "execution_count": 42,
     "metadata": {},
     "output_type": "execute_result"
    }
   ],
   "source": [
    "-1*Matrix([[1,5],[5,1]]) + I(2)*10"
   ]
  },
  {
   "cell_type": "markdown",
   "metadata": {
    "ein.tags": "worksheet-0",
    "slideshow": {
     "slide_type": "-"
    }
   },
   "source": [
    "Verifique con algun ejemplo que el operador selector es lineal."
   ]
  },
  {
   "cell_type": "markdown",
   "metadata": {
    "ein.tags": "worksheet-0",
    "slideshow": {
     "slide_type": "-"
    }
   },
   "source": [
    "### Igualdad de matrices\n",
    "\n",
    "Dos matrices son iguales si lo son los correspondientes sistemas."
   ]
  },
  {
   "cell_type": "code",
   "execution_count": 43,
   "metadata": {
    "autoscroll": false,
    "collapsed": false,
    "ein.hycell": false,
    "ein.tags": "worksheet-0",
    "slideshow": {
     "slide_type": "-"
    }
   },
   "outputs": [
    {
     "data": {
      "text/plain": [
       "True"
      ]
     },
     "execution_count": 43,
     "metadata": {},
     "output_type": "execute_result"
    }
   ],
   "source": [
    "A = Matrix( [a,b,c] )\n",
    "B = Matrix( [a,b,c] )\n",
    "A == B"
   ]
  },
  {
   "cell_type": "markdown",
   "metadata": {
    "ein.tags": "worksheet-0",
    "slideshow": {
     "slide_type": "skip"
    }
   },
   "source": [
    "### Extensión notacion"
   ]
  },
  {
   "cell_type": "markdown",
   "metadata": {
    "ein.tags": "worksheet-0",
    "slideshow": {
     "slide_type": "-"
    }
   },
   "source": [
    "Esto debe venir en una lección posterior"
   ]
  },
  {
   "cell_type": "code",
   "execution_count": 44,
   "metadata": {
    "autoscroll": false,
    "collapsed": false,
    "ein.hycell": false,
    "ein.tags": "worksheet-0",
    "slideshow": {
     "slide_type": "-"
    }
   },
   "outputs": [
    {
     "data": {
      "text/html": [
       "<p style=\"text-align:center;\">$\\begin{bmatrix}1\\\\2\\end{bmatrix}$</p>"
      ],
      "text/plain": [
       "Matrix([Vector([1, 2])])"
      ]
     },
     "execution_count": 44,
     "metadata": {},
     "output_type": "execute_result"
    }
   ],
   "source": [
    "Matrix([A|1])"
   ]
  },
  {
   "cell_type": "code",
   "execution_count": 45,
   "metadata": {
    "autoscroll": false,
    "collapsed": false,
    "ein.hycell": false,
    "ein.tags": "worksheet-0",
    "slideshow": {
     "slide_type": "-"
    }
   },
   "outputs": [
    {
     "data": {
      "text/html": [
       "<p style=\"text-align:center;\">$\\begin{bmatrix}1\\\\2\\end{bmatrix}$</p>"
      ],
      "text/plain": [
       "Matrix([Vector([1, 2])])"
      ]
     },
     "execution_count": 45,
     "metadata": {},
     "output_type": "execute_result"
    }
   ],
   "source": [
    "A|[1]"
   ]
  },
  {
   "cell_type": "code",
   "execution_count": 46,
   "metadata": {
    "autoscroll": false,
    "collapsed": false,
    "ein.hycell": false,
    "ein.tags": "worksheet-0",
    "slideshow": {
     "slide_type": "-"
    }
   },
   "outputs": [
    {
     "data": {
      "text/html": [
       "<p style=\"text-align:center;\">$\\begin{bmatrix}1&1&9\\end{bmatrix}$</p>"
      ],
      "text/plain": [
       "Matrix([Vector([1]), Vector([1]), Vector([9])])"
      ]
     },
     "execution_count": 46,
     "metadata": {},
     "output_type": "execute_result"
    }
   ],
   "source": [
    "[1]|A"
   ]
  }
 ],
 "metadata": {
  "kernelspec": {
   "display_name": "Python 3",
   "language": "python",
   "name": "python3"
  },
  "language_info": {
   "codemirror_mode": {
    "name": "ipython",
    "version": 3
   },
   "file_extension": ".py",
   "mimetype": "text/x-python",
   "name": "python",
   "nbconvert_exporter": "python",
   "pygments_lexer": "ipython3",
   "version": "3.5.3"
  },
  "name": "Leccion01.ipynb"
 },
 "nbformat": 4,
 "nbformat_minor": 2
}
